{
 "cells": [
  {
   "cell_type": "markdown",
   "metadata": {},
   "source": [
    "### 函数"
   ]
  },
  {
   "cell_type": "markdown",
   "metadata": {},
   "source": [
    "#### 函数定义\n",
    "\n",
    "函数定义的格式：\n",
    "\n",
    "def 函数名():\n",
    "\n",
    "        代码      "
   ]
  },
  {
   "cell_type": "code",
   "execution_count": 2,
   "metadata": {
    "ExecuteTime": {
     "end_time": "2019-05-07T10:26:54.820718Z",
     "start_time": "2019-05-07T10:26:54.815936Z"
    }
   },
   "outputs": [],
   "source": [
    "\n",
    "#案例：\n",
    "    # 定义一个函数，能够完成打印信息的功能\n",
    "def printInfo():\n",
    "    print('------------------------------------')\n",
    "    print('         人生苦短，我用Python')\n",
    "    print('------------------------------------')"
   ]
  },
  {
   "cell_type": "markdown",
   "metadata": {},
   "source": [
    "#### 函数调用\n",
    "\n",
    "定义了函数之后，就相当于有了一个具有某些功能的代码，想要让这些代码能够执行，需要调用它\n",
    "\n",
    "调用函数很简单的，通过 函数名() 即可完成调用"
   ]
  },
  {
   "cell_type": "code",
   "execution_count": 3,
   "metadata": {
    "ExecuteTime": {
     "end_time": "2019-05-07T10:27:41.266210Z",
     "start_time": "2019-05-07T10:27:41.261596Z"
    },
    "collapsed": true,
    "jupyter": {
     "outputs_hidden": true
    }
   },
   "outputs": [
    {
     "name": "stdout",
     "output_type": "stream",
     "text": [
      "------------------------------------\n",
      "         人生苦短，我用Python\n",
      "------------------------------------\n"
     ]
    }
   ],
   "source": [
    "# 定义完函数后，函数是不会自动执行的，需要调用它才可以\n",
    "printInfo()"
   ]
  },
  {
   "cell_type": "markdown",
   "metadata": {},
   "source": [
    "#### 函数参数\n",
    "概述：\n",
    "   思考一个问题，如下：\n",
    "\n",
    "    现在需要定义一个函数，这个函数能够完成2个数的加法运算，并且把结果打印出来，该怎样设计？下面的代码可以吗？有什么缺陷吗？"
   ]
  },
  {
   "cell_type": "markdown",
   "metadata": {},
   "source": [
    "##### 定义带有参数函数"
   ]
  },
  {
   "cell_type": "markdown",
   "metadata": {},
   "source": [
    "##### 调用带有参数的函数"
   ]
  },
  {
   "cell_type": "markdown",
   "metadata": {},
   "source": [
    "##### 总结\n",
    "- 定义时小括号中的参数，用来接收参数用的，称为 “形参”\n",
    "- 调用时小括号中的参数，用来传递给函数用的，称为 “实参”\n"
   ]
  },
  {
   "cell_type": "markdown",
   "metadata": {},
   "source": [
    "#### 函数的返回值\n",
    "\n",
    "返回值：就是程序中函数完成一件事情后，最后给调用者的结果\n",
    "    \n",
    "注意：在python中return默认值为空--》None"
   ]
  },
  {
   "cell_type": "markdown",
   "metadata": {},
   "source": [
    "#### 函数的参数\n",
    "函数根据有没有参数，有没有返回值，可以相互组合，一共有4种\n",
    "\n",
    "无参数，无返回值（此类函数，不能接收参数，也没有返回值，一般情况下，打印提示灯类似的功能，使用这类的函数）\n",
    "\n",
    "无参数，有返回值（此类函数，不能接收参数，但是可以返回某个数据，一般情况下，像采集数据，用此类函数）\n",
    "\n",
    "有参数，无返回值（此类函数，能接收参数，但不可以返回数据，一般情况下，对某些变量设置数据而不需结果时，用此类函数）\n",
    "\n",
    "有参数，有返回值（此类函数，不仅能接收参数，还可以返回某个数据，一般情况下，像数据处理并需要结果的应用，用此类函数）\n",
    "\n",
    "总结：\n",
    "函数根据有没有参数，有没有返回值可以相互组合\n",
    "\n",
    "定义函数时，是根据实际的功能需求来设计的，所以不同开发人员编写的函数类型各不相同"
   ]
  },
  {
   "cell_type": "markdown",
   "metadata": {},
   "source": [
    "#### 函数嵌套调用\n",
    "\n",
    "一个函数里面又调用了另外一个函数，这就是所谓的函数嵌套调用"
   ]
  },
  {
   "cell_type": "code",
   "execution_count": 12,
   "metadata": {
    "ExecuteTime": {
     "end_time": "2019-05-07T10:50:51.651055Z",
     "start_time": "2019-05-07T10:50:51.646077Z"
    },
    "collapsed": true,
    "jupyter": {
     "outputs_hidden": true
    }
   },
   "outputs": [
    {
     "name": "stdout",
     "output_type": "stream",
     "text": [
      "---- testA start----\n",
      "---- testB start----\n",
      "这里是testB函数执行的代码...(省略)...\n",
      "---- testB end----\n",
      "---- testA end----\n"
     ]
    }
   ],
   "source": [
    "def testB():\n",
    "    print('---- testB start----')\n",
    "    print('这里是testB函数执行的代码...(省略)...')\n",
    "    print('---- testB end----')\n",
    "\n",
    "def testA():\n",
    "    print('---- testA start----')\n",
    "    testB()\n",
    "    print('---- testA end----')\n",
    "\n",
    "testA()"
   ]
  },
  {
   "cell_type": "markdown",
   "metadata": {},
   "source": [
    "#### 关键字参数\n",
    "定义：\n",
    "    允许函数调用时参数的顺序与定义时不一致"
   ]
  },
  {
   "cell_type": "markdown",
   "metadata": {},
   "source": [
    "#### 默认参数（缺省参数）\n",
    "\n",
    "概述：\n",
    "   python为了简化函数的调用，提供了默认参数机制\n",
    "   调用函数时，缺省参数的值如果没有传入，则被认为是默认值"
   ]
  },
  {
   "cell_type": "markdown",
   "metadata": {},
   "source": [
    "#### 不定长参数\n",
    "\n",
    "概述：\n",
    "\n",
    "  有时可能需要一个函数能处理比当初声明时更多的参数。这些参数叫做不定长参数，声明时不会命名。\n",
    "  \n",
    " 基本语法如下：\n",
    "\n",
    "def functionname([formal_args,] *args, **kwargs):\n",
    "\n",
    "    \"函数_文档字符串\"\n",
    "    function_suite \n",
    "    return [expression]\n",
    "\n",
    "加了星号（*）的变量args会存放所有未命名的变量参数，args为元组；\n",
    "\n",
    "而加**的变量kwargs会存放命名参数，即形如key=value的参数， \n",
    "\n",
    "kwargs为字典。"
   ]
  },
  {
   "cell_type": "markdown",
   "metadata": {},
   "source": [
    "#### 匿名函数\n",
    "\n",
    "定义：\n",
    "      不使用def这样的语句定义函数，使用lambda来创建匿名函数\n",
    "      \n",
    "用lambda关键词能创建小型匿名函数。这种函数得名于省略了用def声明函数的标准步骤。\n",
    "\n",
    "lambda函数的语法只包含一个语句，如下：\n",
    "\n",
    "lambda [arg1 [,arg2,.....argn]]:expression\n",
    "\n",
    "或者：\n",
    "\n",
    "lambda 参数1,参数2,……,参数n:expression"
   ]
  },
  {
   "cell_type": "markdown",
   "metadata": {
    "ExecuteTime": {
     "end_time": "2019-05-08T10:48:53.951003Z",
     "start_time": "2019-05-08T10:48:53.938027Z"
    }
   },
   "source": [
    "\n",
    "- 特点：\n",
    "    1. lambda只是一个表达式，函数体比def简单\n",
    "    2. lambda的主体是一个表达式，而不是代码块，仅仅只能在lambda表达式中封装简单的逻辑\n",
    "    3. lambda函数有自己的命名空间,且不能访问自由参数列表之外的或全局命名空间的参数\n",
    "    4. 虽然lambda是一个表达式且看起来只能写一行，与C和C++内联函数不同。\n",
    "\n",
    "\n",
    "- 注意：\n",
    "    - Lambda函数能接收任何数量的参数但只能返回一个表达式的值\n",
    "    - 匿名函数不能直接调用print，因为lambda需要一个表达式"
   ]
  },
  {
   "cell_type": "markdown",
   "metadata": {},
   "source": [
    "#### global关键字\n",
    "##### 1、变量作用域"
   ]
  },
  {
   "cell_type": "markdown",
   "metadata": {},
   "source": [
    "先要明确作用域的概念，定义在函数内部的变量拥有一个局部作用域，而定义在函数外的拥有全局作用域。"
   ]
  },
  {
   "cell_type": "code",
   "execution_count": 18,
   "metadata": {
    "ExecuteTime": {
     "end_time": "2020-09-15T08:28:54.253853Z",
     "start_time": "2020-09-15T08:28:54.248729Z"
    }
   },
   "outputs": [
    {
     "name": "stdout",
     "output_type": "stream",
     "text": [
      "函数内是局部变量 :  1\n",
      "函数外是全局变量 :  5\n"
     ]
    }
   ],
   "source": [
    "a = 5  # 这是一个全局变量\n",
    "\n",
    "def hello():\n",
    "    a = 1  # a在这里是局部变量.\n",
    "    print(\"函数内是局部变量 : \", a)\n",
    "    return a\n",
    "\n",
    "hello()\n",
    "print(\"函数外是全局变量 : \", a)"
   ]
  },
  {
   "cell_type": "markdown",
   "metadata": {},
   "source": [
    "##### 2、global关键字"
   ]
  },
  {
   "cell_type": "markdown",
   "metadata": {},
   "source": [
    "如果想要在函数内部用模块定义的变量的话，就需要用到global关键字"
   ]
  },
  {
   "cell_type": "code",
   "execution_count": 19,
   "metadata": {
    "ExecuteTime": {
     "end_time": "2020-09-15T08:29:30.434054Z",
     "start_time": "2020-09-15T08:29:30.429461Z"
    }
   },
   "outputs": [
    {
     "name": "stdout",
     "output_type": "stream",
     "text": [
      "In test func: a = 1\n",
      "Global a = 1\n"
     ]
    }
   ],
   "source": [
    "a = 5\n",
    "\n",
    "def hello():\n",
    "    global a\n",
    "    # 声明告诉执行引擎用的是全局变量a\n",
    "    a = 1\n",
    "    print('In test func: a = %d' % a)\n",
    "\n",
    "hello()\n",
    "print('Global a = %d' % a)"
   ]
  },
  {
   "cell_type": "markdown",
   "metadata": {},
   "source": [
    "可以看到函数里成功修改了全局变量a"
   ]
  },
  {
   "cell_type": "markdown",
   "metadata": {},
   "source": [
    "### 面向对象"
   ]
  },
  {
   "cell_type": "markdown",
   "metadata": {},
   "source": [
    "\n",
    "\n",
    "活在当下的程序员应该都听过“面向对象编程”一词，也经常有人问能不能用一句话解释下什么是“面向对象编程”，我们先来看看比较正式的说法。\n",
    "\n",
    "“把一组数据结构和处理它们的方法组成对象（object），把相同行为的对象归纳为类（class），通过类的封装（encapsulation）隐藏内部细节，通过继承（inheritance）实现类的特化（specialization）和泛化（generalization），通过多态（polymorphism）实现基于对象类型的动态分派。”\n",
    "\n",
    "这样一说是不是更不明白了。所以我们还是看看更通俗易懂的说法，下面这段内容来自于知乎。\n",
    "\n",
    "> 一句话说明什么是面向对象？你个土鳖，你们全家都是土鳖！好像有人说过这样的话，当头棒喝的方式虽然情感上不易接受，但记忆效果十分显著。好吧，如果你觉得“土鳖”实在难听也不能准确定位你的档次，你可以自行将其替换为“土豪”，whatever。\n",
    "\n",
    "> 面向对象思想有三大要素：封装、继承和多态。封装：不管你是土鳖还是土豪，不管你中午吃的是窝头还是鲍鱼，你的下水都在你肚皮里，别人看不到你中午吃了啥，除非你自己说给他们听（或者画给他们看，whatever）；继承：刚说了，你个土鳖/豪，你们全家都是土鳖/豪。冰冻三尺非一日之寒，你有今天，必定可以从你爸爸爷爷那里追根溯源。正所谓虎父无犬子，正恩同学那么狠，他爹正日就不是什么善茬，更甭说他爷爷日成，明白了吗？多态：哲学家说过，世上不会有两个一模一样的双胞胎。即使你从你父亲那里继承来的土鳖/豪气质，也不可能完全是从一个模子里刻出来的，总会有些差别。比如你爸喜欢蹲在门前吃面，你喜欢骑在村口的歪脖子树上吃，或者反过来。当然，也可能令尊爱吃龙虾鲍鱼时旁边有几个艺校小女生喝酒唱歌助兴，你可能更喜欢弄个街舞乐队来吹拉弹唱。"
   ]
  },
  {
   "cell_type": "markdown",
   "metadata": {},
   "source": [
    "#### 面向对象思想\n",
    "\n",
    "- 面向过程：根据业务逻辑从上到下写代码\n",
    "\n",
    "- 面向对象：将数据与函数绑定到一起，进行封装，这样能够更快速的开发程序，减少了重复代码的重写过程\n",
    "\n",
    "面向过程编程最易被初学者接受，其往往用一长段代码来实现指定功能，开发过程的思路是将数据与函数按照执行的逻辑顺序组织在一起，数据与函数分开考虑。\n",
    "\n",
    "- 定义：\n",
    "\n",
    "面向对象(object-oriented ;简称: OO) 至今还没有统一的概念 我这里把它定义为: 按人们 认识客观世界的系统思维方式,采用基于对象(实体) 的概念建立模型,模拟客观世界分析、设计、实现软件的办法。\n",
    "\n",
    "面向对象编程(Object Oriented Programming-OOP) 是一种解决软件复用的设计和编程方法。 这种方法把软件系统中相近相似的操作逻辑和操作 应用数据、状态,以类的型式描述出来,以对象实例的形式在软件系统中复用,以达到提高软件开发效率的作用。            "
   ]
  },
  {
   "cell_type": "markdown",
   "metadata": {},
   "source": [
    "#### 类和对象\n",
    "\n",
    "面向对象编程的2个非常重要的概念：类和对象\n",
    "\n",
    "对象是面向对象编程的核心，在使用对象的过程中，为了将具有共同特征和行为的一组对象抽象定义，提出了另外一个新的概念——类\n",
    "\n",
    "类就相当于制造飞机时的图纸，用它来进行创建的飞机就相当于对象"
   ]
  },
  {
   "cell_type": "markdown",
   "metadata": {},
   "source": [
    "##### 类\n",
    "\n",
    "- 具有相似内部状态和运动规律的实体的集合(或统称为抽象)。 \n",
    "\n",
    "- 具有相同属性和行为事物的统称\n",
    "\n",
    "定义：\n",
    "\n",
    "类是抽象的,在使用的时候通常会找到这个类的一个具体的存在,使用这个具体的存在。一个类可以找到多个对象"
   ]
  },
  {
   "cell_type": "markdown",
   "metadata": {},
   "source": [
    "##### 对象\n",
    "\n",
    "概述：\n",
    "\n",
    "- 某一个具体事物的存在 ,在现实世界中可以是看得见摸得着的。\n",
    "\n",
    "- 可以是直接使用的\n",
    "\n",
    "总结：\n",
    "\n",
    "   - 类和对象之间的关系：\n",
    "   - 就像利用玩具的模型来创建多种不同的玩具\n",
    "   - 类就是创建对象的模板"
   ]
  },
  {
   "cell_type": "markdown",
   "metadata": {},
   "source": [
    "##### 区分类和对象\n",
    "\n",
    "奔驰汽车 类\n",
    "\n",
    "奔驰smart 类 \n",
    "\n",
    "张三的那辆奔驰smart 对象\n",
    "\n",
    "狗 类\n",
    "\n",
    "大黄狗 类 \n",
    "\n",
    "李四家那只大黄狗 对象 "
   ]
  },
  {
   "cell_type": "markdown",
   "metadata": {},
   "source": [
    "#### 类的设计\n",
    "\n",
    "类(Class) 由3个部分构成\n",
    "\n",
    "    类的名称:类名\n",
    "    类的属性:一组数据\n",
    "    类的方法:允许对进行操作的方法 (行为)\n",
    "\n",
    "<1> 举例：\n",
    "\n",
    "1）人类设计,只关心3样东西:\n",
    "\n",
    "    事物名称(类名):人(Person)\n",
    "    属性:身高(height)、年龄(age)\n",
    "    方法(行为/功能):跑(run)、打架(fight)\n",
    "\n",
    "2）狗类的设计\n",
    "\n",
    "    类名:狗(Dog)\n",
    "    属性:品种 、毛色、性别、名字、 腿儿的数量\n",
    "    方法(行为/功能):叫 、跑、咬人、吃、摇尾巴\n",
    "\n"
   ]
  },
  {
   "cell_type": "markdown",
   "metadata": {},
   "source": [
    "#### 定义类"
   ]
  },
  {
   "cell_type": "code",
   "execution_count": 15,
   "metadata": {
    "ExecuteTime": {
     "end_time": "2019-05-08T02:56:12.805717Z",
     "start_time": "2019-05-08T02:56:12.780006Z"
    }
   },
   "outputs": [
    {
     "data": {
      "text/plain": [
       "'\\n说明：\\n\\n    定义类时有2种：新式类和经典类，上面的Car为经典类，如果是Car(object)则为新式类\\n    类名 的命名规则按照\"大驼峰\"\\n '"
      ]
     },
     "execution_count": 15,
     "metadata": {},
     "output_type": "execute_result"
    }
   ],
   "source": [
    "# 定义类\n",
    "class Car:\n",
    "    # 方法\n",
    "    def getCarInfo(self):\n",
    "        print('车轮子个数:%d, 颜色%s'%(self.wheelNum, self.color))\n",
    "\n",
    "    def move(self):\n",
    "        print(\"车正在移动...\")\n",
    "\"\"\"\n",
    "说明：\n",
    "\n",
    "    定义类时有2种：新式类和经典类，上面的Car为经典类，如果是Car(object)则为新式类\n",
    "    类名 的命名规则按照\"大驼峰\"\n",
    " \"\"\"   "
   ]
  },
  {
   "cell_type": "markdown",
   "metadata": {},
   "source": [
    "在Python中可以使用class关键字定义类，然后在类中通过之前学习过的函数来定义方法，这样就可以将对象的动态特征描述出来，代码如下所示。"
   ]
  },
  {
   "cell_type": "code",
   "execution_count": 90,
   "metadata": {
    "ExecuteTime": {
     "end_time": "2020-09-14T07:35:02.914950Z",
     "start_time": "2020-09-14T07:35:02.909235Z"
    }
   },
   "outputs": [],
   "source": [
    "class Student(object):\n",
    "\n",
    "    # __init__是一个特殊方法用于在创建对象时进行初始化操作\n",
    "    # 通过这个方法我们可以为学生对象绑定name和age两个属性\n",
    "    def __init__(self, name, age):\n",
    "        self.name = name\n",
    "        self.age = age\n",
    "\n",
    "    def study(self, course_name):\n",
    "        print('%s正在学习%s.' % (self.name, course_name))\n",
    "\n",
    "    # PEP 8要求标识符的名字用全小写多个单词用下划线连接\n",
    "    # 但是部分程序员和公司更倾向于使用驼峰命名法(驼峰标识)\n",
    "    def watch_movie(self):\n",
    "        if self.age < 18:\n",
    "            print('%s只能观看《熊出没》.' % self.name)\n",
    "        else:\n",
    "            print('%s正在观看岛国爱情大电影.' % self.name)"
   ]
  },
  {
   "cell_type": "markdown",
   "metadata": {},
   "source": [
    "写在类中的函数，我们通常称之为（对象的）方法，这些方法就是对象可以接收的消息。\n"
   ]
  },
  {
   "cell_type": "markdown",
   "metadata": {},
   "source": [
    "#### 创建和使用对象\n",
    "当我们定义好一个类之后，可以通过下面的方式来创建对象并给对象发消息。"
   ]
  },
  {
   "cell_type": "code",
   "execution_count": 91,
   "metadata": {
    "ExecuteTime": {
     "end_time": "2020-09-14T07:36:36.728128Z",
     "start_time": "2020-09-14T07:36:36.722780Z"
    }
   },
   "outputs": [
    {
     "name": "stdout",
     "output_type": "stream",
     "text": [
      "zhangsan正在学习Python程序设计.\n",
      "zhangsan正在观看岛国爱情大电影.\n",
      "王大锤正在学习思想品德.\n",
      "王大锤只能观看《熊出没》.\n"
     ]
    }
   ],
   "source": [
    "def main():\n",
    "    # 创建学生对象并指定姓名和年龄\n",
    "    stu1 = Student('zhangsan', 38)\n",
    "    # 给对象发study消息\n",
    "    stu1.study('Python程序设计')\n",
    "    # 给对象发watch_av消息\n",
    "    stu1.watch_movie()\n",
    "    stu2 = Student('王大锤', 15)\n",
    "    stu2.study('思想品德')\n",
    "    stu2.watch_movie()\n",
    "\n",
    "\n",
    "if __name__ == '__main__':\n",
    "    main()"
   ]
  },
  {
   "cell_type": "markdown",
   "metadata": {},
   "source": [
    "#### 对象创建\n",
    "\n",
    "python中，可以根据已经定义的类去创建出一个个对象\n",
    "\n",
    "创建对象的格式为:\n",
    "\n",
    "对象名 = 类名()"
   ]
  },
  {
   "cell_type": "markdown",
   "metadata": {},
   "source": [
    "#### __init__（）\n",
    "想一想:\n",
    "\n",
    "    在上一小节的demo中，我们已经给BMW这个对象添加了2个属性，wheelNum（车的轮胎数量）以及color（车的颜色），试想如果再次创建一个对象的话，肯定也需要进行添加属性，显然这样做很费事，那么有没有办法能够在创建对象的时候，就顺便把车这个对象的属性给设置呢？\n",
    "\n",
    "答:\n",
    "    __init__()方法\n",
    "    \n",
    " 使用方式：\n",
    " \n",
    " def 类名:\n",
    " \n",
    "    #初始化函数，用来完成一些默认的设定\n",
    "    \n",
    "    def __init__():\n",
    "    \n",
    "        pass"
   ]
  },
  {
   "cell_type": "markdown",
   "metadata": {},
   "source": [
    "#### 访问可见性问题\n",
    "\n",
    "对于上面的代码，有C++、Java、C#等编程经验的程序员可能会问，我们给Student对象绑定的name和age属性到底具有怎样的访问权限（也称为可见性）。因为在很多面向对象编程语言中，我们通常会将对象的属性设置为私有的（private）或受保护的（protected），简单的说就是不允许外界访问，而对象的方法通常都是公开的（public），因为公开的方法就是对象能够接受的消息。在Python中，属性和方法的访问权限只有两种，也就是公开的和私有的，如果希望属性是私有的，在给属性命名时可以用两个下划线作为开头，下面的代码可以验证这一点。\n"
   ]
  },
  {
   "cell_type": "code",
   "execution_count": 96,
   "metadata": {
    "ExecuteTime": {
     "end_time": "2020-09-14T07:39:12.845012Z",
     "start_time": "2020-09-14T07:39:12.833342Z"
    }
   },
   "outputs": [
    {
     "ename": "AttributeError",
     "evalue": "'Test' object has no attribute '__bar'",
     "output_type": "error",
     "traceback": [
      "\u001b[0;31m---------------------------------------------------------------------------\u001b[0m",
      "\u001b[0;31mAttributeError\u001b[0m                            Traceback (most recent call last)",
      "\u001b[0;32m<ipython-input-96-cb4dcd82545a>\u001b[0m in \u001b[0;36m<module>\u001b[0;34m\u001b[0m\n\u001b[1;32m     16\u001b[0m \u001b[0;34m\u001b[0m\u001b[0m\n\u001b[1;32m     17\u001b[0m \u001b[0;32mif\u001b[0m \u001b[0m__name__\u001b[0m \u001b[0;34m==\u001b[0m \u001b[0;34m\"__main__\"\u001b[0m\u001b[0;34m:\u001b[0m\u001b[0;34m\u001b[0m\u001b[0;34m\u001b[0m\u001b[0m\n\u001b[0;32m---> 18\u001b[0;31m     \u001b[0mmain\u001b[0m\u001b[0;34m(\u001b[0m\u001b[0;34m)\u001b[0m\u001b[0;34m\u001b[0m\u001b[0;34m\u001b[0m\u001b[0m\n\u001b[0m",
      "\u001b[0;32m<ipython-input-96-cb4dcd82545a>\u001b[0m in \u001b[0;36mmain\u001b[0;34m()\u001b[0m\n\u001b[1;32m     11\u001b[0m \u001b[0;32mdef\u001b[0m \u001b[0mmain\u001b[0m\u001b[0;34m(\u001b[0m\u001b[0;34m)\u001b[0m\u001b[0;34m:\u001b[0m\u001b[0;34m\u001b[0m\u001b[0;34m\u001b[0m\u001b[0m\n\u001b[1;32m     12\u001b[0m     \u001b[0mtest\u001b[0m \u001b[0;34m=\u001b[0m \u001b[0mTest\u001b[0m\u001b[0;34m(\u001b[0m\u001b[0;34m'hello'\u001b[0m\u001b[0;34m)\u001b[0m\u001b[0;34m\u001b[0m\u001b[0;34m\u001b[0m\u001b[0m\n\u001b[0;32m---> 13\u001b[0;31m     \u001b[0mtest\u001b[0m\u001b[0;34m.\u001b[0m\u001b[0m__bar\u001b[0m\u001b[0;34m(\u001b[0m\u001b[0;34m)\u001b[0m\u001b[0;34m\u001b[0m\u001b[0;34m\u001b[0m\u001b[0m\n\u001b[0m\u001b[1;32m     14\u001b[0m     \u001b[0mprint\u001b[0m\u001b[0;34m(\u001b[0m\u001b[0mtest\u001b[0m\u001b[0;34m.\u001b[0m\u001b[0m__foo\u001b[0m\u001b[0;34m)\u001b[0m\u001b[0;34m\u001b[0m\u001b[0;34m\u001b[0m\u001b[0m\n\u001b[1;32m     15\u001b[0m \u001b[0;34m\u001b[0m\u001b[0m\n",
      "\u001b[0;31mAttributeError\u001b[0m: 'Test' object has no attribute '__bar'"
     ]
    }
   ],
   "source": [
    "class Test:\n",
    "\n",
    "    def __init__(self, foo):\n",
    "        self.__foo = foo\n",
    "\n",
    "    def __bar(self):\n",
    "        print(self.__foo)\n",
    "        print('__bar')\n",
    "\n",
    "\n",
    "def main():\n",
    "    test = Test('hello')\n",
    "    test.__bar()\n",
    "    print(test.__foo)\n",
    "\n",
    "\n",
    "if __name__ == \"__main__\":\n",
    "    main()"
   ]
  },
  {
   "cell_type": "markdown",
   "metadata": {},
   "source": [
    "但是，Python并没有从语法上严格保证私有属性或方法的私密性，它只是给私有的属性和方法换了一个名字来“妨碍”对它们的访问，\n",
    "\n",
    "事实上如果你知道更换名字的规则仍然可以访问到它们，下面的代码就可以验证这一点。\n",
    "\n",
    "之所以这样设定，可以用这样一句名言加以解释，就是“We are all consenting adults here”。\n",
    "\n",
    "因为绝大多数程序员都认为开放比封闭要好，而且程序员要自己为自己的行为负责。"
   ]
  },
  {
   "cell_type": "code",
   "execution_count": 2,
   "metadata": {
    "ExecuteTime": {
     "end_time": "2020-09-15T06:55:01.702796Z",
     "start_time": "2020-09-15T06:55:01.693824Z"
    }
   },
   "outputs": [
    {
     "name": "stdout",
     "output_type": "stream",
     "text": [
      "hello\n",
      "__bar\n",
      "hello\n"
     ]
    }
   ],
   "source": [
    "class Test:\n",
    "\n",
    "    def __init__(self, foo):\n",
    "        self.__foo = foo\n",
    "\n",
    "    def __bar(self):\n",
    "        print(self.__foo)\n",
    "        print('__bar')\n",
    "\n",
    "\n",
    "def main():\n",
    "    test = Test('hello')\n",
    "    test._Test__bar()\n",
    "    print(test._Test__foo)\n",
    "\n",
    "\n",
    "if __name__ == \"__main__\":\n",
    "    main()"
   ]
  },
  {
   "cell_type": "markdown",
   "metadata": {},
   "source": [
    "在实际开发中，我们并不建议将属性设置为私有的，因为这会导致子类无法访问（后面会讲到）。\n",
    "\n",
    "所以大多数Python程序员会遵循一种命名惯例就是让属性名以单下划线开头来表示属性是受保护的，本类之外的代码在访问这样的属性时应该要保持慎重。\n",
    "\n",
    "这种做法并不是语法上的规则，单下划线开头的属性和方法外界仍然是可以访问的，所以更多的时候它是一种暗示或隐喻"
   ]
  },
  {
   "cell_type": "markdown",
   "metadata": {},
   "source": [
    "总结：\n",
    "\n",
    "1、`_xxx` 不能用于`from module import *` 以单下划线开头的表示的是protected类型的变量。\n",
    "\n",
    "即保护类型只能允许其本身与子类进行访问。\n",
    "\n",
    "2、`__xxx` 双下划线的表示的是私有类型的变量。只能是允许这个类本身进行访问了。连子类也\n",
    "\n",
    "不可以\n",
    "\n",
    "3、`__xxx__` 定义的是特列方法。像`__init__`之类的"
   ]
  },
  {
   "cell_type": "markdown",
   "metadata": {},
   "source": [
    "#### 调用父类方法\n",
    "\n",
    "为了调用父类(超类)的一个方法，可以使用 super() 函数，比如"
   ]
  },
  {
   "cell_type": "code",
   "execution_count": null,
   "metadata": {},
   "outputs": [],
   "source": [
    "class A:\n",
    "    def spam(self):\n",
    "        print('A.spam')\n",
    "\n",
    "class B(A):\n",
    "    def spam(self):\n",
    "        print('B.spam')\n",
    "        super().spam()  # Call parent spam()"
   ]
  },
  {
   "cell_type": "markdown",
   "metadata": {},
   "source": [
    "super() 函数的一个常见用法是在 __init__() 方法中确保父类被正确的初始化了："
   ]
  },
  {
   "cell_type": "code",
   "execution_count": null,
   "metadata": {},
   "outputs": [],
   "source": [
    "class A:\n",
    "    def __init__(self):\n",
    "        self.x = 0\n",
    "\n",
    "class B(A):\n",
    "    def __init__(self):\n",
    "        super().__init__()\n",
    "        self.y = 1"
   ]
  },
  {
   "cell_type": "markdown",
   "metadata": {},
   "source": [
    "Python3.x 和 Python2.x 的一个区别是: Python 3 可以使用直接使用 super().xxx 代替 super(Class, self).xxx"
   ]
  },
  {
   "cell_type": "markdown",
   "metadata": {},
   "source": [
    "#### 练习\n",
    "\n",
    "##### 练习1：定义一个类描述数字时钟\n",
    "```Python\n",
    "from time import sleep\n",
    "\n",
    "\n",
    "class Clock(object):\n",
    "    \"\"\"数字时钟\"\"\"\n",
    "\n",
    "    def __init__(self, hour=0, minute=0, second=0):\n",
    "        \"\"\"初始化方法\n",
    "\n",
    "        :param hour: 时\n",
    "        :param minute: 分\n",
    "        :param second: 秒\n",
    "        \"\"\"\n",
    "        self._hour = hour\n",
    "        self._minute = minute\n",
    "        self._second = second\n",
    "\n",
    "    def run(self):\n",
    "        \"\"\"走字\"\"\"\n",
    "        self._second += 1\n",
    "        if self._second == 60:\n",
    "            self._second = 0\n",
    "            self._minute += 1\n",
    "            if self._minute == 60:\n",
    "                self._minute = 0\n",
    "                self._hour += 1\n",
    "                if self._hour == 24:\n",
    "                    self._hour = 0\n",
    "\n",
    "    def show(self):\n",
    "        \"\"\"显示时间\"\"\"\n",
    "        return '%02d:%02d:%02d' % \\\n",
    "               (self._hour, self._minute, self._second)\n",
    "\n",
    "\n",
    "def main():\n",
    "    clock = Clock(23, 59, 58)\n",
    "    while True:\n",
    "        print(clock.show())\n",
    "        sleep(1)\n",
    "        clock.run()\n",
    "\n",
    "\n",
    "if __name__ == '__main__':\n",
    "    main()\n",
    "```\n",
    "##### 练习2：定义一个类描述平面上的点并提供移动点和计算到另一个点距离的方法。\n",
    "```Python\n",
    "from math import sqrt\n",
    "\n",
    "\n",
    "class Point(object):\n",
    "\n",
    "    def __init__(self, x=0, y=0):\n",
    "        \"\"\"初始化方法\n",
    "        \n",
    "        :param x: 横坐标\n",
    "        :param y: 纵坐标\n",
    "        \"\"\"\n",
    "        self.x = x\n",
    "        self.y = y\n",
    "\n",
    "    def move_to(self, x, y):\n",
    "        \"\"\"移动到指定位置\n",
    "        \n",
    "        :param x: 新的横坐标\n",
    "        \"param y: 新的纵坐标\n",
    "        \"\"\"\n",
    "        self.x = x\n",
    "        self.y = y\n",
    "\n",
    "    def move_by(self, dx, dy):\n",
    "        \"\"\"移动指定的增量\n",
    "        \n",
    "        :param dx: 横坐标的增量\n",
    "        \"param dy: 纵坐标的增量\n",
    "        \"\"\"\n",
    "        self.x += dx\n",
    "        self.y += dy\n",
    "\n",
    "    def distance_to(self, other):\n",
    "        \"\"\"计算与另一个点的距离\n",
    "        \n",
    "        :param other: 另一个点\n",
    "        \"\"\"\n",
    "        dx = self.x - other.x\n",
    "        dy = self.y - other.y\n",
    "        return sqrt(dx ** 2 + dy ** 2)\n",
    "\n",
    "    def __str__(self):\n",
    "        return '(%s, %s)' % (str(self.x), str(self.y))\n",
    "\n",
    "\n",
    "def main():\n",
    "    p1 = Point(3, 5)\n",
    "    p2 = Point()\n",
    "    print(p1)\n",
    "    print(p2)\n",
    "    p2.move_by(-1, 2)\n",
    "    print(p2)\n",
    "    print(p1.distance_to(p2))\n",
    "\n",
    "\n",
    "if __name__ == '__main__':\n",
    "    main()\n",
    "    \n",
    "```"
   ]
  },
  {
   "cell_type": "markdown",
   "metadata": {},
   "source": [
    "### 面向对象进阶"
   ]
  },
  {
   "cell_type": "markdown",
   "metadata": {},
   "source": [
    "#### @property装饰器\n",
    "\n",
    "之前我们讨论过Python中属性和方法访问权限的问题，虽然我们不建议将属性设置为私有的，但是如果直接将属性暴露给外界也是有问题的，比如我们没有办法检查赋给属性的值是否有效。我们之前的建议是将属性命名以单下划线开头，通过这种方式来暗示属性是受保护的，不建议外界直接访问，那么如果想访问属性可以通过属性的getter（访问器）和setter（修改器）方法进行对应的操作。如果要做到这点，就可以考虑使用@property包装器来包装getter和setter方法，使得对属性的访问既安全又方便，代码如下所示。\n"
   ]
  },
  {
   "cell_type": "code",
   "execution_count": null,
   "metadata": {},
   "outputs": [],
   "source": [
    "class Person(object):\n",
    "\n",
    "    def __init__(self, name, age):\n",
    "        self._name = name\n",
    "        self._age = age\n",
    "\n",
    "    # 访问器 - getter方法\n",
    "    @property\n",
    "    def name(self):\n",
    "        return self._name\n",
    "\n",
    "    # 访问器 - getter方法\n",
    "    @property\n",
    "    def age(self):\n",
    "        return self._age\n",
    "\n",
    "    # 修改器 - setter方法\n",
    "    @age.setter\n",
    "    def age(self, age):\n",
    "        self._age = age\n",
    "\n",
    "    def play(self):\n",
    "        if self._age <= 16:\n",
    "            print('%s正在玩飞行棋.' % self._name)\n",
    "        else:\n",
    "            print('%s正在玩斗地主.' % self._name)\n",
    "\n",
    "\n",
    "def main():\n",
    "    person = Person('王大锤', 12)\n",
    "    person.play()\n",
    "    person.age = 22\n",
    "    person.play()\n",
    "    # person.name = '白元芳'  # AttributeError: can't set attribute\n",
    "\n",
    "\n",
    "if __name__ == '__main__':\n",
    "    main()"
   ]
  },
  {
   "cell_type": "markdown",
   "metadata": {},
   "source": [
    "#### \\_\\_slots\\_\\_魔法\n",
    "\n",
    "我们讲到这里，不知道大家是否已经意识到，Python是一门[动态语言](https://zh.wikipedia.org/wiki/%E5%8A%A8%E6%80%81%E8%AF%AD%E8%A8%80)。通常，动态语言允许我们在程序运行时给对象绑定新的属性或方法，当然也可以对已经绑定的属性和方法进行解绑定。但是如果我们需要限定自定义类型的对象只能绑定某些属性，可以通过在类中定义\\_\\_slots\\_\\_变量来进行限定。需要注意的是\\_\\_slots\\_\\_的限定只对当前类的对象生效，对子类并不起任何作用。\n"
   ]
  },
  {
   "cell_type": "code",
   "execution_count": null,
   "metadata": {},
   "outputs": [],
   "source": [
    "class Person(object):\n",
    "\n",
    "    # 限定Person对象只能绑定_name, _age和_gender属性\n",
    "    __slots__ = ('_name', '_age', '_gender')\n",
    "\n",
    "    def __init__(self, name, age):\n",
    "        self._name = name\n",
    "        self._age = age\n",
    "\n",
    "    @property\n",
    "    def name(self):\n",
    "        return self._name\n",
    "\n",
    "    @property\n",
    "    def age(self):\n",
    "        return self._age\n",
    "\n",
    "    @age.setter\n",
    "    def age(self, age):\n",
    "        self._age = age\n",
    "\n",
    "    def play(self):\n",
    "        if self._age <= 16:\n",
    "            print('%s正在玩飞行棋.' % self._name)\n",
    "        else:\n",
    "            print('%s正在玩斗地主.' % self._name)\n",
    "\n",
    "\n",
    "def main():\n",
    "    person = Person('王大锤', 22)\n",
    "    person.play()\n",
    "    person._gender = '男'\n",
    "    # AttributeError: 'Person' object has no attribute '_is_gay'\n",
    "    # person._is_gay = True"
   ]
  },
  {
   "cell_type": "markdown",
   "metadata": {},
   "source": [
    "尽管slots看上去是一个很有用的特性，很多时候你还是得减少对它的使用冲动。 Python的很多特性都依赖于普通的基于字典的实现。 另外，定义了slots后的类不再支持一些普通类特性了，比如多继承。 大多数情况下，你应该只在那些经常被使用到的用作数据结构的类上定义slots (比如在程序中需要创建某个类的几百万个实例对象)。\n",
    "\n",
    "关于 `__slots__` 的一个常见误区是它可以作为一个封装工具来防止用户给实例增加新的属性。 尽管使用slots可以达到这样的目的，但是这个并不是它的初衷。 `__slots__` 更多的是用来作为一个内存优化工具。\n"
   ]
  },
  {
   "cell_type": "markdown",
   "metadata": {
    "ExecuteTime": {
     "end_time": "2020-09-14T07:59:44.802852Z",
     "start_time": "2020-09-14T07:59:44.798468Z"
    }
   },
   "source": [
    "#### 静态方法和类方法\n",
    "\n",
    "之前，我们在类中定义的方法都是对象方法，也就是说这些方法都是发送给对象的消息。实际上，我们写在类中的方法并不需要都是对象方法，例如我们定义一个“三角形”类，通过传入三条边长来构造三角形，并提供计算周长和面积的方法，但是传入的三条边长未必能构造出三角形对象，因此我们可以先写一个方法来验证三条边长是否可以构成三角形，这个方法很显然就不是对象方法，因为在调用这个方法时三角形对象尚未创建出来（因为都不知道三条边能不能构成三角形），所以这个方法是属于三角形类而并不属于三角形对象的。我们可以使用静态方法来解决这类问题，代码如下所示。\n",
    "\n"
   ]
  },
  {
   "cell_type": "code",
   "execution_count": null,
   "metadata": {},
   "outputs": [],
   "source": [
    "from math import sqrt\n",
    "\n",
    "\n",
    "class Triangle(object):\n",
    "\n",
    "    def __init__(self, a, b, c):\n",
    "        self._a = a\n",
    "        self._b = b\n",
    "        self._c = c\n",
    "\n",
    "    @staticmethod\n",
    "    def is_valid(a, b, c):\n",
    "        return a + b > c and b + c > a and a + c > b\n",
    "\n",
    "    def perimeter(self):\n",
    "        return self._a + self._b + self._c\n",
    "\n",
    "    def area(self):\n",
    "        half = self.perimeter() / 2\n",
    "        return sqrt(half * (half - self._a) *\n",
    "                    (half - self._b) * (half - self._c))\n",
    "\n",
    "\n",
    "def main():\n",
    "    a, b, c = 3, 4, 5\n",
    "    # 静态方法和类方法都是通过给类发消息来调用的\n",
    "    if Triangle.is_valid(a, b, c):\n",
    "        t = Triangle(a, b, c)\n",
    "        print(t.perimeter())\n",
    "        # 也可以通过给类发消息来调用对象方法但是要传入接收消息的对象作为参数\n",
    "        # print(Triangle.perimeter(t))\n",
    "        print(t.area())\n",
    "        # print(Triangle.area(t))\n",
    "    else:\n",
    "        print('无法构成三角形.')\n",
    "\n",
    "\n",
    "if __name__ == '__main__':\n",
    "    main()"
   ]
  },
  {
   "cell_type": "markdown",
   "metadata": {},
   "source": [
    "和静态方法比较类似，Python还可以在类中定义类方法，类方法的第一个参数约定名为cls，它代表的是当前类相关的信息的对象（类本身也是一个对象，有的地方也称之为类的元数据对象），通过这个参数我们可以获取和类相关的信息并且可以创建出类的对象，代码如下所示。\n"
   ]
  },
  {
   "cell_type": "code",
   "execution_count": null,
   "metadata": {},
   "outputs": [],
   "source": [
    "from time import time, localtime, sleep\n",
    "\n",
    "\n",
    "class Clock(object):\n",
    "    \"\"\"数字时钟\"\"\"\n",
    "\n",
    "    def __init__(self, hour=0, minute=0, second=0):\n",
    "        self._hour = hour\n",
    "        self._minute = minute\n",
    "        self._second = second\n",
    "\n",
    "    @classmethod\n",
    "    def now(cls):\n",
    "        ctime = localtime(time())\n",
    "        return cls(ctime.tm_hour, ctime.tm_min, ctime.tm_sec)\n",
    "\n",
    "    def run(self):\n",
    "        \"\"\"走字\"\"\"\n",
    "        self._second += 1\n",
    "        if self._second == 60:\n",
    "            self._second = 0\n",
    "            self._minute += 1\n",
    "            if self._minute == 60:\n",
    "                self._minute = 0\n",
    "                self._hour += 1\n",
    "                if self._hour == 24:\n",
    "                    self._hour = 0\n",
    "\n",
    "    def show(self):\n",
    "        \"\"\"显示时间\"\"\"\n",
    "        return '%02d:%02d:%02d' % \\\n",
    "               (self._hour, self._minute, self._second)\n",
    "\n",
    "\n",
    "def main():\n",
    "    # 通过类方法创建对象并获取系统时间\n",
    "    clock = Clock.now()\n",
    "    while True:\n",
    "        print(clock.show())\n",
    "        sleep(1)\n",
    "        clock.run()\n",
    "\n",
    "\n",
    "if __name__ == '__main__':\n",
    "    main()"
   ]
  },
  {
   "cell_type": "markdown",
   "metadata": {},
   "source": [
    "#### 封装：\n",
    "\n",
    "- 数据封装\n",
    "\n",
    "封装数据的主要原因是：保护隐私-私有属性\n",
    "\n",
    "- 方法封装\n",
    "\n",
    "封装方法的主要原因是：隔离复杂度--函数封装"
   ]
  },
  {
   "cell_type": "markdown",
   "metadata": {},
   "source": [
    "#### 继承\n",
    "\n",
    "继承的概念\n",
    "\n",
    "在现实生活中，继承一般指的是子女继承父辈的财产\n",
    "\n",
    "在程序中，继承描述的是事物之间的所属关系，例如猫和狗都属于动物，程序中便可以描述为猫和狗继承自动物；\n",
    "\n",
    "同理，波斯猫和巴厘猫都继承自猫，而沙皮狗和斑点狗都继承足够，如下如所示：\n",
    "\n",
    "格式：\n",
    "\n",
    "  子类在继承的时候，在定义类时，小括号()中为父类的名字\n",
    "  \n",
    "  父类的属性、方法，会被继承给子类"
   ]
  },
  {
   "cell_type": "markdown",
   "metadata": {},
   "source": [
    "##### 单继承"
   ]
  },
  {
   "cell_type": "code",
   "execution_count": 73,
   "metadata": {
    "ExecuteTime": {
     "end_time": "2019-05-08T10:59:11.886147Z",
     "start_time": "2019-05-08T10:59:11.878011Z"
    }
   },
   "outputs": [
    {
     "name": "stdout",
     "output_type": "stream",
     "text": [
      "bs的名字为:印度猫\n",
      "bs的颜色为:白色\n",
      "印度猫--在吃\n",
      "波斯--在跑\n"
     ]
    }
   ],
   "source": [
    "#单继承\n",
    "# 定义一个父类，如下:\n",
    "class Cat(object):\n",
    "    def __init__(self, name, color=\"白色\"):\n",
    "        self.name = name\n",
    "        self.color = color\n",
    "    def run(self):\n",
    "        print(\"%s--在跑\"%self.name)\n",
    "        \n",
    "# 定义一个子类，继承Cat类如下:\n",
    "class Bosi(Cat):\n",
    "    def setNewName(self, newName):\n",
    "        self.name = newName\n",
    "\n",
    "    def eat(self):\n",
    "        print(\"%s--在吃\"%self.name)\n",
    "\n",
    "\n",
    "bs = Bosi(\"印度猫\")\n",
    "print('bs的名字为:%s'%bs.name)\n",
    "print('bs的颜色为:%s'%bs.color)\n",
    "bs.eat()\n",
    "bs.setNewName('波斯')\n",
    "bs.run()"
   ]
  },
  {
   "cell_type": "code",
   "execution_count": 74,
   "metadata": {
    "ExecuteTime": {
     "end_time": "2019-05-08T11:00:04.661491Z",
     "start_time": "2019-05-08T11:00:04.648273Z"
    },
    "collapsed": true,
    "jupyter": {
     "outputs_hidden": true
    }
   },
   "outputs": [
    {
     "name": "stdout",
     "output_type": "stream",
     "text": [
      "白色\n",
      "动物\n",
      "白色\n",
      "------分割线-----\n",
      "黄色\n",
      "小花狗\n",
      "黄色\n"
     ]
    },
    {
     "data": {
      "text/plain": [
       "'\\n总结：\\n    私有的属性，不能通过对象直接访问，但是可以通过方法访问\\n    私有的方法，不能通过对象直接访问\\n    私有的属性、方法，不会被子类继承，也不能被访问\\n    一般情况下，私有的属性、方法都是不对外公布的，往往用来做内部的事情，起到安全的作用\\n'"
      ]
     },
     "execution_count": 74,
     "metadata": {},
     "output_type": "execute_result"
    }
   ],
   "source": [
    "#注意点：设置私有属性\n",
    "class Animal(object):\n",
    "\n",
    "    def __init__(self, name='动物', color='白色'):\n",
    "        self.__name = name\n",
    "        self.color = color\n",
    "\n",
    "    def __test(self):\n",
    "        print(self.__name)\n",
    "        print(self.color)\n",
    "\n",
    "    def test(self):\n",
    "        print(self.__name)\n",
    "        print(self.color)\n",
    "\n",
    "class Dog(Animal):\n",
    "    def dogTest1(self):\n",
    "        #print(self.__name) #不能访问到父类的私有属性\n",
    "        print(self.color)\n",
    "\n",
    "\n",
    "    def dogTest2(self):\n",
    "        #self.__test() #不能访问父类中的私有方法\n",
    "        self.test()\n",
    "\n",
    "A = Animal()\n",
    "#print(A.__name) #程序出现异常，不能访问私有属性\n",
    "print(A.color)\n",
    "#A.__test() #程序出现异常，不能访问私有方法\n",
    "A.test()\n",
    "\n",
    "print(\"------分割线-----\")\n",
    "\n",
    "D = Dog(name = \"小花狗\", color = \"黄色\")\n",
    "D.dogTest1()\n",
    "D.dogTest2()\n",
    "\"\"\"\n",
    "总结：\n",
    "    私有的属性，不能通过对象直接访问，但是可以通过方法访问\n",
    "    私有的方法，不能通过对象直接访问\n",
    "    私有的属性、方法，不会被子类继承，也不能被访问\n",
    "    一般情况下，私有的属性、方法都是不对外公布的，往往用来做内部的事情，起到安全的作用\n",
    "\"\"\"    "
   ]
  },
  {
   "cell_type": "markdown",
   "metadata": {},
   "source": [
    "##### 多继承"
   ]
  },
  {
   "cell_type": "code",
   "execution_count": 75,
   "metadata": {
    "ExecuteTime": {
     "end_time": "2019-05-08T11:00:27.403303Z",
     "start_time": "2019-05-08T11:00:27.397236Z"
    },
    "collapsed": true,
    "jupyter": {
     "outputs_hidden": true
    }
   },
   "outputs": [
    {
     "name": "stdout",
     "output_type": "stream",
     "text": [
      "----A----\n",
      "----B----\n"
     ]
    }
   ],
   "source": [
    "\"\"\"\n",
    "理解：\n",
    "  骡子是马和驴的杂交品种\n",
    "所谓多继承，即子类有多个父类，并且具有它们的特征  \n",
    "\"\"\"\n",
    "#Python中多继承的格式如下:\n",
    "# 定义一个父类\n",
    "class A:\n",
    "    def printA(self):\n",
    "        print('----A----')\n",
    "\n",
    "# 定义一个父类\n",
    "class B:\n",
    "    def printB(self):\n",
    "        print('----B----')\n",
    "\n",
    "# 定义一个子类，继承自A、B\n",
    "class C(A,B):\n",
    "    def printC(self):\n",
    "        print('----C----')\n",
    "\n",
    "obj_C = C()\n",
    "obj_C.printA()\n",
    "obj_C.printB()"
   ]
  },
  {
   "cell_type": "markdown",
   "metadata": {},
   "source": [
    "#### 多态\n",
    "\n",
    "多态的概念是应用于Java和C#这一类强类型语言中，而Python崇尚“鸭子类型”。\n",
    "\n",
    "所谓多态：定义时的类型和运行时的类型不一样，此时就成为多态\n",
    "\n",
    "Python伪代码实现Java或C#的多态\n",
    "\n",
    "一个父类有多个子类"
   ]
  },
  {
   "cell_type": "markdown",
   "metadata": {},
   "source": [
    "#### 继承和多态\n",
    "\n",
    "刚才我们提到了，可以在已有类的基础上创建新类，这其中的一种做法就是让一个类从另一个类那里将属性和方法直接继承下来，从而减少重复代码的编写。提供继承信息的我们称之为父类，也叫超类或基类；得到继承信息的我们称之为子类，也叫派生类或衍生类。子类除了继承父类提供的属性和方法，还可以定义自己特有的属性和方法，所以子类比父类拥有的更多的能力，在实际开发中，我们经常会用子类对象去替换掉一个父类对象，这是面向对象编程中一个常见的行为，对应的原则称之为[里氏替换原则](https://zh.wikipedia.org/wiki/%E9%87%8C%E6%B0%8F%E6%9B%BF%E6%8D%A2%E5%8E%9F%E5%88%99)。下面我们先看一个继承的例子。\n",
    "\n",
    "```Python\n",
    "class Person(object):\n",
    "    \"\"\"人\"\"\"\n",
    "\n",
    "    def __init__(self, name, age):\n",
    "        self._name = name\n",
    "        self._age = age\n",
    "\n",
    "    @property\n",
    "    def name(self):\n",
    "        return self._name\n",
    "\n",
    "    @property\n",
    "    def age(self):\n",
    "        return self._age\n",
    "\n",
    "    @age.setter\n",
    "    def age(self, age):\n",
    "        self._age = age\n",
    "\n",
    "    def play(self):\n",
    "        print('%s正在愉快的玩耍.' % self._name)\n",
    "\n",
    "    def watch_av(self):\n",
    "        if self._age >= 18:\n",
    "            print('%s正在观看爱情动作片.' % self._name)\n",
    "        else:\n",
    "            print('%s只能观看《熊出没》.' % self._name)\n",
    "\n",
    "\n",
    "class Student(Person):\n",
    "    \"\"\"学生\"\"\"\n",
    "\n",
    "    def __init__(self, name, age, grade):\n",
    "        super().__init__(name, age)\n",
    "        self._grade = grade\n",
    "\n",
    "    @property\n",
    "    def grade(self):\n",
    "        return self._grade\n",
    "\n",
    "    @grade.setter\n",
    "    def grade(self, grade):\n",
    "        self._grade = grade\n",
    "\n",
    "    def study(self, course):\n",
    "        print('%s的%s正在学习%s.' % (self._grade, self._name, course))\n",
    "\n",
    "\n",
    "class Teacher(Person):\n",
    "    \"\"\"老师\"\"\"\n",
    "\n",
    "    def __init__(self, name, age, title):\n",
    "        super().__init__(name, age)\n",
    "        self._title = title\n",
    "\n",
    "    @property\n",
    "    def title(self):\n",
    "        return self._title\n",
    "\n",
    "    @title.setter\n",
    "    def title(self, title):\n",
    "        self._title = title\n",
    "\n",
    "    def teach(self, course):\n",
    "        print('%s%s正在讲%s.' % (self._name, self._title, course))\n",
    "\n",
    "\n",
    "def main():\n",
    "    stu = Student('王大锤', 15, '初三')\n",
    "    stu.study('数学')\n",
    "    stu.watch_av()\n",
    "    t = Teacher('骆昊', 38, '砖家')\n",
    "    t.teach('Python程序设计')\n",
    "    t.watch_av()\n",
    "\n",
    "\n",
    "if __name__ == '__main__':\n",
    "    main()\n",
    "```\n",
    "\n",
    "子类在继承了父类的方法后，可以对父类已有的方法给出新的实现版本，这个动作称之为方法重写（override）。通过方法重写我们可以让父类的同一个行为在子类中拥有不同的实现版本，当我们调用这个经过子类重写的方法时，不同的子类对象会表现出不同的行为，这个就是多态（poly-morphism）。\n",
    "\n",
    "```Python\n",
    "from abc import ABCMeta, abstractmethod\n",
    "\n",
    "\n",
    "class Pet(object, metaclass=ABCMeta):\n",
    "    \"\"\"宠物\"\"\"\n",
    "\n",
    "    def __init__(self, nickname):\n",
    "        self._nickname = nickname\n",
    "\n",
    "    @abstractmethod\n",
    "    def make_voice(self):\n",
    "        \"\"\"发出声音\"\"\"\n",
    "        pass\n",
    "\n",
    "\n",
    "class Dog(Pet):\n",
    "    \"\"\"狗\"\"\"\n",
    "\n",
    "    def make_voice(self):\n",
    "        print('%s: 汪汪汪...' % self._nickname)\n",
    "\n",
    "\n",
    "class Cat(Pet):\n",
    "    \"\"\"猫\"\"\"\n",
    "\n",
    "    def make_voice(self):\n",
    "        print('%s: 喵...喵...' % self._nickname)\n",
    "\n",
    "\n",
    "def main():\n",
    "    pets = [Dog('旺财'), Cat('凯蒂'), Dog('大黄')]\n",
    "    for pet in pets:\n",
    "        pet.make_voice()\n",
    "\n",
    "\n",
    "if __name__ == '__main__':\n",
    "    main()\n",
    "```\n",
    "\n",
    "在上面的代码中，我们将`Pet`类处理成了一个抽象类，所谓抽象类就是不能够创建对象的类，这种类的存在就是专门为了让其他类去继承它。Python从语法层面并没有像Java或C#那样提供对抽象类的支持，但是我们可以通过`abc`模块的`ABCMeta`元类和`abstractmethod`包装器来达到抽象类的效果，如果一个类中存在抽象方法那么这个类就不能够实例化（创建对象）。上面的代码中，`Dog`和`Cat`两个子类分别对`Pet`类中的`make_voice`抽象方法进行了重写并给出了不同的实现版本，当我们在`main`函数中调用该方法时，这个方法就表现出了多态行为（同样的方法做了不同的事情）。\n",
    "\n"
   ]
  },
  {
   "cell_type": "markdown",
   "metadata": {},
   "source": [
    "#### 类属性和实例属性\n",
    "\n",
    "类属性就是类对象所拥有的属性，它被所有类对象的实例对象所共有，\n",
    "\n",
    "在内存中只存在一个副本，这个和C++中类的静态成员变量有点类似。对于公有的类属性，\n",
    "\n",
    "在类外可以通过类对象和实例对象访问"
   ]
  },
  {
   "cell_type": "markdown",
   "metadata": {},
   "source": [
    "#### 总结\n",
    "##### 一、类的结构"
   ]
  },
  {
   "cell_type": "markdown",
   "metadata": {},
   "source": [
    "###### 1. 实例\n",
    "\n",
    "1. 使用面向对象开发，第 1 步 是设计 类\n",
    "2. 使用 类名() 创建对象，创建对象 的动作有两步：\n",
    "\n",
    "    - 在内存中为对象 分配空间\n",
    "    - 调用初始化方法 init 为 对象初始化\n",
    "    \n",
    "**对象创建后，内存 中就有了一个对象的 实实在在 的存在 —— 实例**"
   ]
  },
  {
   "cell_type": "markdown",
   "metadata": {},
   "source": [
    "- 创建出来的 对象 叫做 类 的 实例\n",
    "- 创建对象的 动作 叫做 实例化\n",
    "- 对象的属性 叫做 实例属性\n",
    "- 对象调用的方法 叫做 实例方法\n",
    "\n",
    "在程序执行时：\n",
    "\n",
    "- 对象各自拥有自己的 实例属性\n",
    "- 调用对象方法，可以通过 self.\n",
    "- 访问自己的属性\n",
    "- 调用自己的方法\n",
    "\n",
    "结论\n",
    "\n",
    "- 每一个对象 都有自己 独立的内存空间，保存各自不同的属性\n",
    "- 多个对象的方法，在内存中只有一份，在调用方法时，需要把对象的引用 传递到方法内部"
   ]
  },
  {
   "cell_type": "markdown",
   "metadata": {},
   "source": [
    "###### 2. 类是一个特殊的对象\n",
    "\n",
    "- Python 中 一切皆对象：\n",
    "    - class AAA: 定义的类属于 类对象\n",
    "    - obj1 = AAA() 属于 实例对象\n",
    "    - 在程序运行时，类 同样 会被加载到内存\n",
    "- 在 Python 中，类 是一个特殊的对象 —— 类对象\n",
    "    - 在程序运行时，类对象 在内存中 只有一份，使用 一个类 可以创建出 很多个对象实例\n",
    "    - 除了封装 实例 的 属性 和 方法外，类对象 还可以拥有自己的 属性 和 方法\n",
    "        - 类属性\n",
    "        - 类方法\n",
    "- 通过 类名. 的方式可以 访问类的属性 或者 调用类的方法"
   ]
  },
  {
   "cell_type": "markdown",
   "metadata": {},
   "source": [
    "##### 二、类属性和实例属性\n",
    "###### 1. 概念和使用"
   ]
  },
  {
   "cell_type": "markdown",
   "metadata": {},
   "source": [
    "- 类属性 就是给 类对象 中定义的 属性\n",
    "    - 通常用来记录 与这个类相关 的特征\n",
    "    - 类属性 不会用于记录 具体对象的特征\n",
    "\n",
    "- 示例需求：\n",
    "    - 定义一个 工具类\n",
    "    - 每件工具都有自己的 name\n",
    "    - 需求 —— 知道使用这个类，创建了多少个工具对象？"
   ]
  },
  {
   "cell_type": "code",
   "execution_count": 99,
   "metadata": {
    "ExecuteTime": {
     "end_time": "2020-09-14T09:50:58.666190Z",
     "start_time": "2020-09-14T09:50:58.661049Z"
    }
   },
   "outputs": [
    {
     "name": "stdout",
     "output_type": "stream",
     "text": [
      "现在创建了 3 个工具\n"
     ]
    }
   ],
   "source": [
    "class Tool(object):\n",
    "\n",
    "    # 使用赋值语句，定义类属性，记录创建工具对象的总数\n",
    "    count = 0\n",
    "\n",
    "    def __init__(self, name):\n",
    "        self.name = name\n",
    "\n",
    "        # 针对类属性做一个计数+1\n",
    "        Tool.count += 1\n",
    "\n",
    "\n",
    "# 创建工具对象\n",
    "tool1 = Tool(\"斧头\")\n",
    "tool2 = Tool(\"榔头\")\n",
    "tool3 = Tool(\"铁锹\")\n",
    "\n",
    "# 知道使用 Tool 类到底创建了多少个对象?\n",
    "print(\"现在创建了 %d 个工具\" % Tool.count)"
   ]
  },
  {
   "cell_type": "markdown",
   "metadata": {},
   "source": [
    "###### 2. 属性的获取机制\n",
    "在 Python 中 属性的获取 存在一个 向上查找机制\n",
    "- 因此，要访问类属性有两种方式：\n",
    "    - 类名.类属性\n",
    "    - 对象.类属性 （不推荐）\n",
    "\n",
    "- 注意\n",
    "    - 如果使用 对象.类属性 = 值 赋值语句，只会 给对象添加一个属性，而不会影响到 类属性的值"
   ]
  },
  {
   "cell_type": "markdown",
   "metadata": {},
   "source": [
    "##### 三、类方法和静态方法\n",
    "###### 1. 类方法\n",
    "- 类属性 就是针对 类对象 定义的属性\n",
    "    - 使用 赋值语句 在 class 关键字下方可以定义 类属性\n",
    "    - 类属性 用于记录 与这个类相关 的特征\n",
    "- 类方法 就是针对 类对象 定义的方法\n",
    "    - 在 类方法 内部可以直接访问 类属性 或者调用其他的 类方法\n",
    "语法如下\n",
    "```Python\n",
    "@classmethod\n",
    "def 类方法名(cls):\n",
    "    pass\n",
    "```"
   ]
  },
  {
   "cell_type": "markdown",
   "metadata": {},
   "source": [
    "- 类方法需要用 修饰器 @classmethod 来标识，告诉解释器这是一个类方法\n",
    "- 类方法的 第一个参数 应该是 cls\n",
    "    - 由 哪一个类 调用的方法，方法内的 cls 就是 哪一个类的引用\n",
    "    - 这个参数和 实例方法 的第一个参数是 self 类似\n",
    "    - 提示 使用其他名称也可以，不过习惯使用 cls\n",
    "- 通过 类名. 调用 类方法，调用方法时，不需要传递 cls 参数\n",
    "- 在方法内部\n",
    "    - 可以通过 cls. 访问类的属性\n",
    "    - 也可以通过 cls. 调用其他的类方法"
   ]
  },
  {
   "cell_type": "markdown",
   "metadata": {},
   "source": [
    "###### 2. 静态方法\n",
    "- 在开发时，如果需要在 类 中封装一个方法，这个方法：\n",
    "    - 既 不需要 访问 实例属性 或者调用 实例方法\n",
    "    - 也 不需要 访问 类属性 或者调用 类方法\n",
    "这个时候，可以把这个方法封装成一个 静态方法\n",
    "\n",
    "语法如下\n",
    "```Python\n",
    "@staticmethod\n",
    "def 静态方法名():\n",
    "    pass\n",
    "```\n",
    "- 静态方法 需要用 修饰器 @staticmethod 来标识，告诉解释器这是一个静态方法\n",
    "- 通过 类名. 调用 静态方法"
   ]
  },
  {
   "cell_type": "code",
   "execution_count": 100,
   "metadata": {
    "ExecuteTime": {
     "end_time": "2020-09-14T09:56:53.505320Z",
     "start_time": "2020-09-14T09:56:53.501167Z"
    }
   },
   "outputs": [],
   "source": [
    "class Dog(object):\n",
    "\n",
    "    # 狗对象计数\n",
    "    dog_count = 0\n",
    "\n",
    "    @staticmethod\n",
    "    def run():\n",
    "\n",
    "        # 不需要访问实例属性也不需要访问类属性的方法\n",
    "        print(\"狗在跑...\")\n",
    "\n",
    "    def __init__(self, name):\n",
    "        self.name = name"
   ]
  },
  {
   "cell_type": "markdown",
   "metadata": {},
   "source": [
    "##### 四、小练习\n",
    "- 需求\n",
    "    - 设计一个 Game 类\n",
    "- 属性：\n",
    "    - 定义一个 类属性 top_score 记录游戏的 历史最高分\n",
    "    - 定义一个 实例属性 player_name 记录 当前游戏的玩家姓名\n",
    "- 方法：\n",
    "    - 静态方法 show_help 显示游戏帮助信息\n",
    "    - 类方法 show_top_score 显示历史最高分\n",
    "    - 实例方法 start_game 开始当前玩家的游戏\n",
    "- 主程序步骤\n",
    "    - 查看帮助信息\n",
    "    - 查看历史最高分\n",
    "    - 创建游戏对象，开始游戏"
   ]
  },
  {
   "cell_type": "code",
   "execution_count": null,
   "metadata": {},
   "outputs": [],
   "source": [
    "class Game(object):\n",
    "\n",
    "    # 游戏最高分，类属性\n",
    "    top_score = 0\n",
    "\n",
    "    @staticmethod\n",
    "    def show_help():\n",
    "        print(\"帮助信息：让僵尸走进房间\")\n",
    "\n",
    "    @classmethod\n",
    "    def show_top_score(cls):\n",
    "        print(\"游戏最高分是 %d\" % cls.top_score)\n",
    "\n",
    "    def __init__(self, player_name):\n",
    "        self.player_name = player_name\n",
    "\n",
    "    def start_game(self):\n",
    "        print(\"[%s] 开始游戏...\" % self.player_name)\n",
    "\n",
    "        # 使用类名.修改历史最高分\n",
    "        Game.top_score = 999\n",
    "\n",
    "\n",
    "# 1. 查看游戏帮助\n",
    "Game.show_help()\n",
    "\n",
    "# 2. 查看游戏最高分\n",
    "Game.show_top_score()\n",
    "\n",
    "# 3. 创建游戏对象，开始游戏\n",
    "game = Game(\"小明\")\n",
    "\n",
    "game.start_game()\n",
    "\n",
    "# 4. 游戏结束，查看游戏最高分\n",
    "Game.show_top_score()"
   ]
  },
  {
   "cell_type": "markdown",
   "metadata": {},
   "source": [
    "- 案例小结：\n",
    "    - 实例方法 —— 方法内部需要访问 实例属性\n",
    "    - 实例方法 内部可以使用 类名. 访问类属性\n",
    "    - 类方法 —— 方法内部 只 需要访问 类属性\n",
    "    - 静态方法 —— 方法内部，不需要访问 实例属性 和 类属性\n",
    "- 提问\n",
    "    - 如果方法内部 即需要访问 实例属性，又需要访问 类属性，应该定义成什么方法？\n",
    "\n",
    "- 答案：应该定义 实例方法\n",
    "    - 因为，类只有一个，在 实例方法 内部可以使用 类名. 访问类属性"
   ]
  },
  {
   "cell_type": "markdown",
   "metadata": {},
   "source": [
    "![image.png](img/object.jpg)"
   ]
  },
  {
   "cell_type": "markdown",
   "metadata": {},
   "source": [
    "### 综合案例\n",
    "\n",
    "#### 案例1：奥特曼打小怪兽\n",
    "\n",
    "```Python\n",
    "from abc import ABCMeta, abstractmethod\n",
    "from random import randint, randrange\n",
    "\n",
    "\n",
    "class Fighter(object, metaclass=ABCMeta):\n",
    "    \"\"\"战斗者\"\"\"\n",
    "\n",
    "    # 通过__slots__魔法限定对象可以绑定的成员变量\n",
    "    __slots__ = ('_name', '_hp')\n",
    "\n",
    "    def __init__(self, name, hp):\n",
    "        \"\"\"初始化方法\n",
    "\n",
    "        :param name: 名字\n",
    "        :param hp: 生命值\n",
    "        \"\"\"\n",
    "        self._name = name\n",
    "        self._hp = hp\n",
    "\n",
    "    @property\n",
    "    def name(self):\n",
    "        return self._name\n",
    "\n",
    "    @property\n",
    "    def hp(self):\n",
    "        return self._hp\n",
    "\n",
    "    @hp.setter\n",
    "    def hp(self, hp):\n",
    "        self._hp = hp if hp >= 0 else 0\n",
    "\n",
    "    @property\n",
    "    def alive(self):\n",
    "        return self._hp > 0\n",
    "\n",
    "    @abstractmethod\n",
    "    def attack(self, other):\n",
    "        \"\"\"攻击\n",
    "\n",
    "        :param other: 被攻击的对象\n",
    "        \"\"\"\n",
    "        pass\n",
    "\n",
    "\n",
    "class Ultraman(Fighter):\n",
    "    \"\"\"奥特曼\"\"\"\n",
    "\n",
    "    __slots__ = ('_name', '_hp', '_mp')\n",
    "\n",
    "    def __init__(self, name, hp, mp):\n",
    "        \"\"\"初始化方法\n",
    "\n",
    "        :param name: 名字\n",
    "        :param hp: 生命值\n",
    "        :param mp: 魔法值\n",
    "        \"\"\"\n",
    "        super().__init__(name, hp)\n",
    "        self._mp = mp\n",
    "\n",
    "    def attack(self, other):\n",
    "        other.hp -= randint(15, 25)\n",
    "\n",
    "    def huge_attack(self, other):\n",
    "        \"\"\"究极必杀技(打掉对方至少50点或四分之三的血)\n",
    "\n",
    "        :param other: 被攻击的对象\n",
    "\n",
    "        :return: 使用成功返回True否则返回False\n",
    "        \"\"\"\n",
    "        if self._mp >= 50:\n",
    "            self._mp -= 50\n",
    "            injury = other.hp * 3 // 4\n",
    "            injury = injury if injury >= 50 else 50\n",
    "            other.hp -= injury\n",
    "            return True\n",
    "        else:\n",
    "            self.attack(other)\n",
    "            return False\n",
    "\n",
    "    def magic_attack(self, others):\n",
    "        \"\"\"魔法攻击\n",
    "\n",
    "        :param others: 被攻击的群体\n",
    "\n",
    "        :return: 使用魔法成功返回True否则返回False\n",
    "        \"\"\"\n",
    "        if self._mp >= 20:\n",
    "            self._mp -= 20\n",
    "            for temp in others:\n",
    "                if temp.alive:\n",
    "                    temp.hp -= randint(10, 15)\n",
    "            return True\n",
    "        else:\n",
    "            return False\n",
    "\n",
    "    def resume(self):\n",
    "        \"\"\"恢复魔法值\"\"\"\n",
    "        incr_point = randint(1, 10)\n",
    "        self._mp += incr_point\n",
    "        return incr_point\n",
    "\n",
    "    def __str__(self):\n",
    "        return '~~~%s奥特曼~~~\\n' % self._name + \\\n",
    "            '生命值: %d\\n' % self._hp + \\\n",
    "            '魔法值: %d\\n' % self._mp\n",
    "\n",
    "\n",
    "class Monster(Fighter):\n",
    "    \"\"\"小怪兽\"\"\"\n",
    "\n",
    "    __slots__ = ('_name', '_hp')\n",
    "\n",
    "    def attack(self, other):\n",
    "        other.hp -= randint(10, 20)\n",
    "\n",
    "    def __str__(self):\n",
    "        return '~~~%s小怪兽~~~\\n' % self._name + \\\n",
    "            '生命值: %d\\n' % self._hp\n",
    "\n",
    "\n",
    "def is_any_alive(monsters):\n",
    "    \"\"\"判断有没有小怪兽是活着的\"\"\"\n",
    "    for monster in monsters:\n",
    "        if monster.alive > 0:\n",
    "            return True\n",
    "    return False\n",
    "\n",
    "\n",
    "def select_alive_one(monsters):\n",
    "    \"\"\"选中一只活着的小怪兽\"\"\"\n",
    "    monsters_len = len(monsters)\n",
    "    while True:\n",
    "        index = randrange(monsters_len)\n",
    "        monster = monsters[index]\n",
    "        if monster.alive > 0:\n",
    "            return monster\n",
    "\n",
    "\n",
    "def display_info(ultraman, monsters):\n",
    "    \"\"\"显示奥特曼和小怪兽的信息\"\"\"\n",
    "    print(ultraman)\n",
    "    for monster in monsters:\n",
    "        print(monster, end='')\n",
    "\n",
    "\n",
    "def main():\n",
    "    u = Ultraman('骆昊', 1000, 120)\n",
    "    m1 = Monster('狄仁杰', 250)\n",
    "    m2 = Monster('白元芳', 500)\n",
    "    m3 = Monster('王大锤', 750)\n",
    "    ms = [m1, m2, m3]\n",
    "    fight_round = 1\n",
    "    while u.alive and is_any_alive(ms):\n",
    "        print('========第%02d回合========' % fight_round)\n",
    "        m = select_alive_one(ms)  # 选中一只小怪兽\n",
    "        skill = randint(1, 10)   # 通过随机数选择使用哪种技能\n",
    "        if skill <= 6:  # 60%的概率使用普通攻击\n",
    "            print('%s使用普通攻击打了%s.' % (u.name, m.name))\n",
    "            u.attack(m)\n",
    "            print('%s的魔法值恢复了%d点.' % (u.name, u.resume()))\n",
    "        elif skill <= 9:  # 30%的概率使用魔法攻击(可能因魔法值不足而失败)\n",
    "            if u.magic_attack(ms):\n",
    "                print('%s使用了魔法攻击.' % u.name)\n",
    "            else:\n",
    "                print('%s使用魔法失败.' % u.name)\n",
    "        else:  # 10%的概率使用究极必杀技(如果魔法值不足则使用普通攻击)\n",
    "            if u.huge_attack(m):\n",
    "                print('%s使用究极必杀技虐了%s.' % (u.name, m.name))\n",
    "            else:\n",
    "                print('%s使用普通攻击打了%s.' % (u.name, m.name))\n",
    "                print('%s的魔法值恢复了%d点.' % (u.name, u.resume()))\n",
    "        if m.alive > 0:  # 如果选中的小怪兽没有死就回击奥特曼\n",
    "            print('%s回击了%s.' % (m.name, u.name))\n",
    "            m.attack(u)\n",
    "        display_info(u, ms)  # 每个回合结束后显示奥特曼和小怪兽的信息\n",
    "        fight_round += 1\n",
    "    print('\\n========战斗结束!========\\n')\n",
    "    if u.alive > 0:\n",
    "        print('%s奥特曼胜利!' % u.name)\n",
    "    else:\n",
    "        print('小怪兽胜利!')\n",
    "\n",
    "\n",
    "if __name__ == '__main__':\n",
    "    main()\n",
    "```\n",
    "\n",
    "#### 案例2：扑克游戏\n",
    "\n",
    "```Python\n",
    "import random\n",
    "\n",
    "\n",
    "class Card(object):\n",
    "    \"\"\"一张牌\"\"\"\n",
    "\n",
    "    def __init__(self, suite, face):\n",
    "        self._suite = suite\n",
    "        self._face = face\n",
    "\n",
    "    @property\n",
    "    def face(self):\n",
    "        return self._face\n",
    "\n",
    "    @property\n",
    "    def suite(self):\n",
    "        return self._suite\n",
    "\n",
    "    def __str__(self):\n",
    "        if self._face == 1:\n",
    "            face_str = 'A'\n",
    "        elif self._face == 11:\n",
    "            face_str = 'J'\n",
    "        elif self._face == 12:\n",
    "            face_str = 'Q'\n",
    "        elif self._face == 13:\n",
    "            face_str = 'K'\n",
    "        else:\n",
    "            face_str = str(self._face)\n",
    "        return '%s%s' % (self._suite, face_str)\n",
    "    \n",
    "    def __repr__(self):\n",
    "        return self.__str__()\n",
    "\n",
    "\n",
    "class Poker(object):\n",
    "    \"\"\"一副牌\"\"\"\n",
    "\n",
    "    def __init__(self):\n",
    "        self._cards = [Card(suite, face) \n",
    "                       for suite in '♠♥♣♦'\n",
    "                       for face in range(1, 14)]\n",
    "        self._current = 0\n",
    "\n",
    "    @property\n",
    "    def cards(self):\n",
    "        return self._cards\n",
    "\n",
    "    def shuffle(self):\n",
    "        \"\"\"洗牌(随机乱序)\"\"\"\n",
    "        self._current = 0\n",
    "        random.shuffle(self._cards)\n",
    "\n",
    "    @property\n",
    "    def next(self):\n",
    "        \"\"\"发牌\"\"\"\n",
    "        card = self._cards[self._current]\n",
    "        self._current += 1\n",
    "        return card\n",
    "\n",
    "    @property\n",
    "    def has_next(self):\n",
    "        \"\"\"还有没有牌\"\"\"\n",
    "        return self._current < len(self._cards)\n",
    "\n",
    "\n",
    "class Player(object):\n",
    "    \"\"\"玩家\"\"\"\n",
    "\n",
    "    def __init__(self, name):\n",
    "        self._name = name\n",
    "        self._cards_on_hand = []\n",
    "\n",
    "    @property\n",
    "    def name(self):\n",
    "        return self._name\n",
    "\n",
    "    @property\n",
    "    def cards_on_hand(self):\n",
    "        return self._cards_on_hand\n",
    "\n",
    "    def get(self, card):\n",
    "        \"\"\"摸牌\"\"\"\n",
    "        self._cards_on_hand.append(card)\n",
    "\n",
    "    def arrange(self, card_key):\n",
    "        \"\"\"玩家整理手上的牌\"\"\"\n",
    "        self._cards_on_hand.sort(key=card_key)\n",
    "\n",
    "\n",
    "# 排序规则-先根据花色再根据点数排序\n",
    "def get_key(card):\n",
    "    return (card.suite, card.face)\n",
    "\n",
    "\n",
    "def main():\n",
    "    p = Poker()\n",
    "    p.shuffle()\n",
    "    players = [Player('东邪'), Player('西毒'), Player('南帝'), Player('北丐')]\n",
    "    for _ in range(13):\n",
    "        for player in players:\n",
    "            player.get(p.next)\n",
    "    for player in players:\n",
    "        print(player.name + ':', end=' ')\n",
    "        player.arrange(get_key)\n",
    "        print(player.cards_on_hand)\n",
    "\n",
    "\n",
    "if __name__ == '__main__':\n",
    "    main()\n",
    "```\n",
    "\n",
    ">**说明：** 大家可以自己尝试在上面代码的基础上写一个简单的扑克游戏，例如21点(Black Jack)，游戏的规则可以自己在网上找一找。\n",
    "\n",
    "#### 案例3：工资结算系统\n",
    "\n",
    "```Python\n",
    "\"\"\"\n",
    "某公司有三种类型的员工 分别是部门经理、程序员和销售员\n",
    "需要设计一个工资结算系统 根据提供的员工信息来计算月薪\n",
    "部门经理的月薪是每月固定15000元\n",
    "程序员的月薪按本月工作时间计算 每小时150元\n",
    "销售员的月薪是1200元的底薪加上销售额5%的提成\n",
    "\"\"\"\n",
    "from abc import ABCMeta, abstractmethod\n",
    "\n",
    "\n",
    "class Employee(object, metaclass=ABCMeta):\n",
    "    \"\"\"员工\"\"\"\n",
    "\n",
    "    def __init__(self, name):\n",
    "        \"\"\"\n",
    "        初始化方法\n",
    "\n",
    "        :param name: 姓名\n",
    "        \"\"\"\n",
    "        self._name = name\n",
    "\n",
    "    @property\n",
    "    def name(self):\n",
    "        return self._name\n",
    "\n",
    "    @abstractmethod\n",
    "    def get_salary(self):\n",
    "        \"\"\"\n",
    "        获得月薪\n",
    "\n",
    "        :return: 月薪\n",
    "        \"\"\"\n",
    "        pass\n",
    "\n",
    "\n",
    "class Manager(Employee):\n",
    "    \"\"\"部门经理\"\"\"\n",
    "\n",
    "    def get_salary(self):\n",
    "        return 15000.0\n",
    "\n",
    "\n",
    "class Programmer(Employee):\n",
    "    \"\"\"程序员\"\"\"\n",
    "\n",
    "    def __init__(self, name, working_hour=0):\n",
    "        super().__init__(name)\n",
    "        self._working_hour = working_hour\n",
    "\n",
    "    @property\n",
    "    def working_hour(self):\n",
    "        return self._working_hour\n",
    "\n",
    "    @working_hour.setter\n",
    "    def working_hour(self, working_hour):\n",
    "        self._working_hour = working_hour if working_hour > 0 else 0\n",
    "\n",
    "    def get_salary(self):\n",
    "        return 150.0 * self._working_hour\n",
    "\n",
    "\n",
    "class Salesman(Employee):\n",
    "    \"\"\"销售员\"\"\"\n",
    "\n",
    "    def __init__(self, name, sales=0):\n",
    "        super().__init__(name)\n",
    "        self._sales = sales\n",
    "\n",
    "    @property\n",
    "    def sales(self):\n",
    "        return self._sales\n",
    "\n",
    "    @sales.setter\n",
    "    def sales(self, sales):\n",
    "        self._sales = sales if sales > 0 else 0\n",
    "\n",
    "    def get_salary(self):\n",
    "        return 1200.0 + self._sales * 0.05\n",
    "\n",
    "\n",
    "def main():\n",
    "    emps = [\n",
    "        Manager('刘备'), Programmer('诸葛亮'),\n",
    "        Manager('曹操'), Salesman('荀彧'),\n",
    "        Salesman('吕布'), Programmer('张辽'),\n",
    "        Programmer('赵云')\n",
    "    ]\n",
    "    for emp in emps:\n",
    "        if isinstance(emp, Programmer):\n",
    "            emp.working_hour = int(input('请输入%s本月工作时间: ' % emp.name))\n",
    "        elif isinstance(emp, Salesman):\n",
    "            emp.sales = float(input('请输入%s本月销售额: ' % emp.name))\n",
    "        # 同样是接收get_salary这个消息但是不同的员工表现出了不同的行为(多态)\n",
    "        print('%s本月工资为: ￥%s元' %\n",
    "              (emp.name, emp.get_salary()))\n",
    "\n",
    "\n",
    "if __name__ == '__main__':\n",
    "    main()\n",
    "```\n"
   ]
  },
  {
   "cell_type": "markdown",
   "metadata": {},
   "source": [
    "### 模块\n",
    "\n",
    "目前代码比较少，写在一个文件中还体现不出什么缺点，但是随着代码量越来越多，代码就越来越难以维护。\n",
    "\n",
    "为了解决难以维护的问题，我们把很多相似功能的函数分组，分别放到不同的文件中取。\n",
    "\n",
    "这样每个文件所包含的内容相对较少，而且对于每一个文件的大致功能可用用文件名来体现。\n",
    "\n",
    "很多编程语言都是这么来组织代码结构。一个.py文件就是一个模块\n",
    "\n",
    "在Python中有一个概念叫做模块（module），这个和C语言中的头文件以及Java中的包很类似，\n",
    "\n",
    "比如在Python中要调用sin函数，必须用import关键字引入math这个模块，下面就来了解一下Python中的模块。\n",
    "\n",
    "说的通俗点：模块就好比是工具包，要想使用这个工具包中的工具(就好比函数)，就需要导入这个模块\n",
    "\n",
    "\n",
    "优点：\n",
    "\n",
    "- 提高代码的可维护性\n",
    "- 提高了代码的复用度，当一个模块完毕，可以被多个地方引用\n",
    "- 引用其他的模块(内置模块和三方模块和自定义模块)\n",
    "- 避免函数名和变量名的冲突"
   ]
  },
  {
   "cell_type": "code",
   "execution_count": 66,
   "metadata": {
    "ExecuteTime": {
     "end_time": "2019-05-08T09:00:15.660949Z",
     "start_time": "2019-05-08T09:00:15.657490Z"
    }
   },
   "outputs": [],
   "source": [
    "#常见的几种格式\n",
    "import numpy\n",
    "from numpy import abs\n",
    "from numpy import *\n",
    "from random import randrange as rr"
   ]
  }
 ],
 "metadata": {
  "kernelspec": {
   "display_name": "Python 3",
   "language": "python",
   "name": "python3"
  },
  "language_info": {
   "codemirror_mode": {
    "name": "ipython",
    "version": 3
   },
   "file_extension": ".py",
   "mimetype": "text/x-python",
   "name": "python",
   "nbconvert_exporter": "python",
   "pygments_lexer": "ipython3",
   "version": "3.7.4"
  }
 },
 "nbformat": 4,
 "nbformat_minor": 4
}
