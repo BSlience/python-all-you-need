{
 "cells": [
  {
   "cell_type": "markdown",
   "metadata": {
    "collapsed": true
   },
   "source": [
    "# 异步编程"
   ]
  },
  {
   "cell_type": "markdown",
   "metadata": {},
   "source": [
    "## 并行和并发"
   ]
  },
  {
   "cell_type": "markdown",
   "metadata": {},
   "source": [
    "### 并行\n",
    "即有多个程序在同时执行，这里的程序指的是操作系统的线程。每个 cpu 核心，只能在同一个时刻运行一组指令，意味着同一时刻，一个核心上只有一个线程在执行。当 cpu 有四个核心时，他只可以并行执行4个线程。\n",
    "![](../asset/parallel.jpg)"
   ]
  },
  {
   "cell_type": "markdown",
   "metadata": {},
   "source": [
    "### 并发\n",
    "想要了解并发，就需要知道阻塞和异步。\n",
    "\n",
    "#### 同步阻塞\n",
    "当程序中的一个 I/O 操作，会占据比较长的时间，这时候，程序没有被挂起，且一直在等待网络数据传输，无法进行其他操作，这时候就是同步阻塞。\n",
    "![](../asset/sync-block.jpg)\n",
    "同步的一个概念就是，网络传输完成后也无法告知主程序操作完成，这就导致了主程序：\n",
    "- 要么只能进行等待 I/O 完成\n",
    "- 要么轮询去查看是否传输是否已经完成\n",
    "当然，轮询时候可以进行其他的操作，这时候，就是非阻塞的状态，即 同步非阻塞。\n",
    "#### 同步非阻塞\n",
    "非阻塞的概念即主程序可以进行其他的操作。\n",
    "![](../asset/sync-nonblock.jpg)\n",
    "#### 异步阻塞\n",
    "有同步，就有异步。\n",
    "而异步阻塞与同步阻塞相同，主程序啥也不干，就等着 I/O 操作完成。\n",
    "![](../asset/async-block.jpg)\n",
    "#### 异步非阻塞\n",
    "有同步，就有异步。\n",
    "而异步阻塞与同步阻塞相同，主程序啥也不干，就等着 I/O 操作完成。\n",
    "![](../asset/async-nonblock.jpg)\n",
    "#### 并发\n",
    "而并发就是异步非阻塞 状态下的一种形式，当程序执行操作 a 时，使 a 的 I/O 异步操作，这时程序去执行操作 b, 在外部看来，a 和 b 时同时被执行的，然而他们只运行在在一个线程当中。\n",
    "与线程、进程不同的是，协程并不是操作系统物理层面存在的一种程序。\n",
    "协程是程序级别的，由程序编写者自己操控整个协程的生命周期。这样就实现了类似操作系统操作多线程一样的效果，但是省下了现成的切换中造成的资源消耗。\n",
    "而通过程序来操纵协程，就造成了cpu 一直在运行，并且是多个协程一直在运行的假象，也就变成了并发。"
   ]
  },
  {
   "cell_type": "markdown",
   "metadata": {},
   "source": [
    "## 协程\n",
    "![](../asset/sync-async.png)\n",
    "## concurrent.futures模块 - 线程池和进程池的异步使用\n",
    "![](../asset/pooling-management.png)"
   ]
  },
  {
   "cell_type": "code",
   "execution_count": null,
   "metadata": {},
   "outputs": [],
   "source": [
    "# %load concurrent-pool.py\n",
    "import concurrent.futures\n",
    "import time\n",
    "number_list = [1, 2, 3, 4, 5, 6, 7, 8, 9, 10]\n",
    "\n",
    "def evaluate_item(x):\n",
    "        # 计算总和，这里只是为了消耗时间\n",
    "        result_item = count(x)\n",
    "        # 打印输入和输出结果\n",
    "        return result_item\n",
    "\n",
    "def  count(number) :\n",
    "        for i in range(0, 10000000):\n",
    "                i=i+1\n",
    "        return i * number\n",
    "\n",
    "if __name__ == \"__main__\":\n",
    "        # 顺序执行\n",
    "        start_time = time.time()\n",
    "        for item in number_list:\n",
    "                print(evaluate_item(item))\n",
    "        print(\"Sequential execution in \" + str(time.time() - start_time), \"seconds\")\n",
    "        # 线程池执行\n",
    "        start_time_1 = time.time()\n",
    "        with concurrent.futures.ThreadPoolExecutor(max_workers=5) as executor:\n",
    "                futures = [executor.submit(evaluate_item, item) for item in number_list]\n",
    "                for future in concurrent.futures.as_completed(futures):\n",
    "                        print(future.result())\n",
    "        print (\"Thread pool execution in \" + str(time.time() - start_time_1), \"seconds\")\n",
    "        # 进程池\n",
    "        start_time_2 = time.time()\n",
    "        with concurrent.futures.ProcessPoolExecutor(max_workers=5) as executor:\n",
    "                futures = [executor.submit(evaluate_item, item) for item in number_list]\n",
    "                for future in concurrent.futures.as_completed(futures):\n",
    "                        print(future.result())\n",
    "        print (\"Process pool execution in \" + str(time.time() - start_time_2), \"seconds\")"
   ]
  },
  {
   "cell_type": "code",
   "execution_count": 2,
   "metadata": {},
   "outputs": [
    {
     "name": "stdout",
     "output_type": "stream",
     "text": [
      "10000000\n",
      "20000000\n",
      "30000000\n",
      "40000000\n",
      "50000000\n",
      "60000000\n",
      "70000000\n",
      "80000000\n",
      "90000000\n",
      "100000000\n",
      "Sequential execution in 4.841911792755127 seconds\n",
      "10000000\n",
      "20000000\n",
      "40000000\n",
      "50000000\n",
      "30000000\n",
      "100000000\n",
      "80000000\n",
      "70000000\n",
      "60000000\n",
      "90000000\n",
      "Thread pool execution in 4.392979145050049 seconds\n",
      "10000000\n",
      "40000000\n",
      "30000000\n",
      "50000000\n",
      "20000000\n",
      "60000000\n",
      "70000000\n",
      "90000000\n",
      "80000000\n",
      "100000000\n",
      "Process pool execution in 1.3073639869689941 seconds\n"
     ]
    }
   ],
   "source": [
    "!python src/concurrent-pool.py"
   ]
  },
  {
   "cell_type": "markdown",
   "metadata": {},
   "source": [
    "## Asyncio模块"
   ]
  },
  {
   "cell_type": "markdown",
   "metadata": {},
   "source": [
    "### 使用Asyncio管理事件循环\n",
    "![](../asset/task-execution.png)"
   ]
  },
  {
   "cell_type": "code",
   "execution_count": null,
   "metadata": {},
   "outputs": [],
   "source": [
    "# %load src/asyncio-event-loop.py\n",
    "import asyncio\n",
    "import datetime\n",
    "import time\n",
    "\n",
    "\n",
    "def function_1(end_time, loop):\n",
    "    print(\"function_1 called\")\n",
    "    if (loop.time() + 1.0) < end_time:\n",
    "        loop.call_later(1, function_2, end_time, loop)\n",
    "    else:\n",
    "        loop.stop()\n",
    "\n",
    "\n",
    "def function_2(end_time, loop):\n",
    "    print(\"function_2 called \")\n",
    "    if (loop.time() + 1.0) < end_time:\n",
    "        loop.call_later(1, function_3, end_time, loop)\n",
    "    else:\n",
    "        loop.stop()\n",
    "\n",
    "\n",
    "def function_3(end_time, loop):\n",
    "    print(\"function_3 called\")\n",
    "    if (loop.time() + 1.0) < end_time:\n",
    "        loop.call_later(1, function_1, end_time, loop)\n",
    "    else:\n",
    "        loop.stop()\n",
    "\n",
    "\n",
    "def function_4(end_time, loop):\n",
    "    print(\"function_4 called\")\n",
    "    if (loop.time() + 1.0) < end_time:\n",
    "        loop.call_later(1, function_4, end_time, loop)\n",
    "    else:\n",
    "        loop.stop()\n",
    "\n",
    "\n",
    "loop = asyncio.get_event_loop()\n",
    "\n",
    "end_loop = loop.time() + 9.0\n",
    "loop.call_soon(function_1, end_loop, loop)\n",
    "loop.call_soon(function_4, end_loop, loop)\n",
    "loop.run_forever()\n",
    "loop.close()\n"
   ]
  },
  {
   "cell_type": "code",
   "execution_count": 4,
   "metadata": {},
   "outputs": [
    {
     "name": "stdout",
     "output_type": "stream",
     "text": [
      "function_1 called\n",
      "function_4 called\n",
      "function_2 called \n",
      "function_4 called\n",
      "function_3 called\n",
      "function_4 called\n",
      "function_1 called\n",
      "function_4 called\n",
      "function_2 called \n",
      "function_4 called\n",
      "function_3 called\n",
      "function_4 called\n",
      "function_1 called\n",
      "function_4 called\n",
      "function_2 called \n",
      "function_4 called\n",
      "function_3 called\n",
      "function_4 called\n"
     ]
    }
   ],
   "source": [
    "!python src/asyncio-event-loop.py"
   ]
  },
  {
   "cell_type": "markdown",
   "metadata": {},
   "source": [
    "- 事件循环: 在Asyncio模块中，每一个进程都有一个事件循环。\n",
    "- 协程: 这是子程序的泛化概念。协程可以在执行期间暂停，这样就可以等待外部的处理（例如IO）完成之后，从之前暂停的地方恢复执行。\n",
    "- Futures: 定义了 Future 对象，和 concurrent.futures 模块一样，表示尚未完成的计算。\n",
    "- Tasks: 这是Asyncio的子类，用于封装和管理并行模式下的协程。"
   ]
  },
  {
   "cell_type": "code",
   "execution_count": null,
   "metadata": {},
   "outputs": [],
   "source": [
    "while (1) {\n",
    "    events = getEvents();\n",
    "    for (e in events)\n",
    "        processEvent(e);\n",
    "}"
   ]
  },
  {
   "cell_type": "markdown",
   "metadata": {},
   "source": [
    "### 使用Asyncio管理协程"
   ]
  },
  {
   "cell_type": "code",
   "execution_count": null,
   "metadata": {},
   "outputs": [],
   "source": [
    "# %load src/asyncio-hello.py\n",
    "import asyncio\n",
    "\n",
    "\n",
    "async def main():\n",
    "    print('Hello ...')\n",
    "    await asyncio.sleep(2)\n",
    "    print('... World!')\n",
    "\n",
    "\n",
    "# Python 3.7+\n",
    "asyncio.run(main())"
   ]
  },
  {
   "cell_type": "code",
   "execution_count": 12,
   "metadata": {
    "pycharm": {
     "name": "#%%\n"
    }
   },
   "outputs": [
    {
     "name": "stdout",
     "output_type": "stream",
     "text": [
      "Hello ...\n",
      "... World!\n"
     ]
    }
   ],
   "source": [
    "!python src/asyncio-hello.py"
   ]
  },
  {
   "cell_type": "markdown",
   "metadata": {},
   "source": [
    "### 使用Asyncio控制任务"
   ]
  },
  {
   "cell_type": "code",
   "execution_count": null,
   "metadata": {},
   "outputs": [],
   "source": [
    "# %load src/asyncio-task.py\n",
    "import asyncio\n",
    "\n",
    "\n",
    "async def factorial(number):\n",
    "    f = 1\n",
    "    for i in range(2, number + 1):\n",
    "        print(\"Asyncio.Task: Compute factorial(%s)\" % (i))\n",
    "        await asyncio.sleep(1)\n",
    "        f *= i\n",
    "    print(\"Asyncio.Task - factorial(%s) = %s\" % (number, f))\n",
    "\n",
    "\n",
    "async def fibonacci(number):\n",
    "    a, b = 0, 1\n",
    "    for i in range(number):\n",
    "        print(\"Asyncio.Task: Compute fibonacci (%s)\" % (i))\n",
    "        await asyncio.sleep(1)\n",
    "        a, b = b, a + b\n",
    "    print(\"Asyncio.Task - fibonacci(%s) = %s\" % (number, a))\n",
    "\n",
    "\n",
    "async def binomialCoeff(n, k):\n",
    "    result = 1\n",
    "    for i in range(1, k + 1):\n",
    "        result = result * (n - i + 1) / i\n",
    "        print(\"Asyncio.Task: Compute binomialCoeff (%s)\" % (i))\n",
    "        await asyncio.sleep(1)\n",
    "    print(\"Asyncio.Task - binomialCoeff(%s , %s) = %s\" % (n, k, result))\n",
    "\n",
    "\n",
    "if __name__ == \"__main__\":\n",
    "    tasks = [asyncio.Task(factorial(10)),\n",
    "             asyncio.Task(fibonacci(10)),\n",
    "             asyncio.Task(binomialCoeff(20, 10))]\n",
    "    loop = asyncio.get_event_loop()\n",
    "    loop.run_until_complete(asyncio.wait(tasks))\n",
    "    loop.close()\n"
   ]
  },
  {
   "cell_type": "code",
   "execution_count": 14,
   "metadata": {},
   "outputs": [
    {
     "name": "stdout",
     "output_type": "stream",
     "text": [
      "Asyncio.Task: Compute factorial(2)\n",
      "Asyncio.Task: Compute fibonacci (0)\n",
      "Asyncio.Task: Compute binomialCoeff (1)\n",
      "Asyncio.Task: Compute factorial(3)\n",
      "Asyncio.Task: Compute fibonacci (1)\n",
      "Asyncio.Task: Compute binomialCoeff (2)\n",
      "Asyncio.Task: Compute factorial(4)\n",
      "Asyncio.Task: Compute fibonacci (2)\n",
      "Asyncio.Task: Compute binomialCoeff (3)\n",
      "Asyncio.Task: Compute factorial(5)\n",
      "Asyncio.Task: Compute fibonacci (3)\n",
      "Asyncio.Task: Compute binomialCoeff (4)\n",
      "Asyncio.Task: Compute factorial(6)\n",
      "Asyncio.Task: Compute fibonacci (4)\n",
      "Asyncio.Task: Compute binomialCoeff (5)\n",
      "Asyncio.Task: Compute factorial(7)\n",
      "Asyncio.Task: Compute fibonacci (5)\n",
      "Asyncio.Task: Compute binomialCoeff (6)\n",
      "Asyncio.Task: Compute factorial(8)\n",
      "Asyncio.Task: Compute fibonacci (6)\n",
      "Asyncio.Task: Compute binomialCoeff (7)\n",
      "Asyncio.Task: Compute factorial(9)\n",
      "Asyncio.Task: Compute fibonacci (7)\n",
      "Asyncio.Task: Compute binomialCoeff (8)\n",
      "Asyncio.Task: Compute factorial(10)\n",
      "Asyncio.Task: Compute fibonacci (8)\n",
      "Asyncio.Task: Compute binomialCoeff (9)\n",
      "Asyncio.Task - factorial(10) = 3628800\n",
      "Asyncio.Task: Compute fibonacci (9)\n",
      "Asyncio.Task: Compute binomialCoeff (10)\n",
      "Asyncio.Task - fibonacci(10) = 55\n",
      "Asyncio.Task - binomialCoeff(20 , 10) = 184756.0\n"
     ]
    }
   ],
   "source": [
    "!python src/asyncio-task.py"
   ]
  },
  {
   "cell_type": "markdown",
   "metadata": {},
   "source": [
    "## 协程的面试题"
   ]
  },
  {
   "cell_type": "markdown",
   "metadata": {},
   "source": [
    "### 协程的优缺点\n",
    "**协程的优点**\n",
    "\n",
    "（1）无需线程上下文切换的开销，协程避免了无意义的调度，由此可以提高性能（但也因此，程序员必须自己承担调度的责任，同时，协程也失去了标准线程使用多CPU的能力）\n",
    "\n",
    "（2）无需原子操作锁定及同步的开销\n",
    "\n",
    "（3）方便切换控制流，简化编程模型\n",
    "\n",
    "（4）高并发+高扩展性+低成本：一个CPU支持上万的协程都不是问题。所以很适合用于高并发处理。\n",
    "\n",
    "**协程的缺点**\n",
    "\n",
    "（1）无法利用多核资源：协程的本质是个单线程,它不能同时将 单个CPU 的多个核用上,协程需要和进程配合才能运行在多CPU上.当然我们日常所编写的绝大部分应用都没有这个必要，除非是cpu密集型应用。\n",
    "\n",
    "（2）进行阻塞（Blocking）操作（如计算任务时）会阻塞掉整个程序"
   ]
  },
  {
   "cell_type": "markdown",
   "metadata": {},
   "source": [
    "### 为什么使用协程的时候大部分都使用但线程，而不是多线程？\n",
    "\n",
    "**多核环境下 CPU 缓存的亲和性**\n",
    "CPU 本身配有⾼效的多级缓存，虽然 CPU 多级缓存容量较内存⼩的多，但其访问效率却远⾼于内存，在单线程调度⽅式下，可以⽅便编译器有效地进⾏ CPU 缓存使⽤优化，使运⾏指令和共享数据尽可能放置在 CPU 缓存中，⽽如果采⽤多线程调度⽅式，多个线程间共享的数据就可能使 CPU 缓存失效，容易造成调度线程越多，协程的运⾏效率越低的问题；\n",
    "\n",
    "**多线程分配任务时的同步问题**\n",
    "当多个线程需要从公共协程任务资源中获取协程任务时，需要增加『锁』保护机制，⼀旦产⽣⼤量的『锁』冲突，则势必会造成运⾏性能的严重损耗；"
   ]
  },
  {
   "cell_type": "markdown",
   "metadata": {},
   "source": [
    "### 协程的设计问题\n",
    "[关于协程的设计问题](https://www.chainnews.com/articles/453644660771.htm)\n",
    "\n",
    "\n",
    "[第一版协程的源码](https://swtch.com/libtask/)"
   ]
  },
  {
   "cell_type": "code",
   "execution_count": null,
   "metadata": {},
   "outputs": [],
   "source": []
  }
 ],
 "metadata": {
  "kernelspec": {
   "display_name": "Python 3",
   "language": "python",
   "name": "python3"
  },
  "language_info": {
   "codemirror_mode": {
    "name": "ipython",
    "version": 3
   },
   "file_extension": ".py",
   "mimetype": "text/x-python",
   "name": "python",
   "nbconvert_exporter": "python",
   "pygments_lexer": "ipython3",
   "version": "3.7.6"
  },
  "toc": {
   "base_numbering": 1,
   "nav_menu": {},
   "number_sections": true,
   "sideBar": true,
   "skip_h1_title": false,
   "title_cell": "Table of Contents",
   "title_sidebar": "Contents",
   "toc_cell": false,
   "toc_position": {},
   "toc_section_display": true,
   "toc_window_display": false
  }
 },
 "nbformat": 4,
 "nbformat_minor": 1
}
