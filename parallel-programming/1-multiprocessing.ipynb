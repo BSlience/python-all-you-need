{
 "cells": [
  {
   "cell_type": "markdown",
   "metadata": {},
   "source": [
    "# 并行编程 - 多进程篇"
   ]
  },
  {
   "cell_type": "markdown",
   "metadata": {},
   "source": [
    "## 为什么要使用并行编程？\n",
    "**提高性能，最大限度的压榨硬件的性能**\n",
    "\n",
    "并行的分类\n",
    "- 单机并行\n",
    "    - 多进程\n",
    "    - 多线程\n",
    "    - 协程\n",
    "    - GPU\n",
    "- 多机并行\n",
    "    - 分布式\n",
    "\n",
    "\n",
    "- 大型互联网\n",
    "- 数据分析\n",
    "- 大规模算法计算"
   ]
  },
  {
   "cell_type": "markdown",
   "metadata": {},
   "source": [
    "## 芯片结构历史\n",
    "![](../asset/cpu-history.jpg)\n",
    "CPU演进的两个方向\n",
    "- 提高单时钟周期内的处理速度；\n",
    "    - 提高时钟周期的处理速度，会增加散热，降低每瓦特的性能\n",
    "    - 甚至会需要特殊的冷却设备，增加成本\n",
    "- 提高芯片的核心数 ✨"
   ]
  },
  {
   "cell_type": "markdown",
   "metadata": {},
   "source": [
    "## 什么是进程、线程，以及它们的关系\n",
    "![](../asset/factory.jpg)\n",
    "\n",
    "- CPU\n",
    "    + 相当于一个工厂，这个工厂是一个流水线的作业，在同一时间内只能做一道生产工序\n",
    "- 进程\n",
    "    + 就相当于在生产过程中的每一道生产工序，这些工序之间都是互相独立的，也由于这是一个流水线的作业，所以工厂在同一时刻只能做一道生产工序\n",
    "- 线程\n",
    "    + 相当于工厂中的工人，在每一道生产工序中可能包含很多的工人，每个进程中可以有多个线程\n",
    "- 共享内存\n",
    "    + 车间（进程）的空间对于多个工人来讲都是共享的，里面的所有数据/资源大家都是可以访问的\n",
    "- 资源竞争\n",
    "    + 有些车间的空间很小，比如说卫生间。里面有人的时候，其他人就不能进去了。这代表一个线程使用某些共享内存时，其他线程必须等它结束，才能使用这一块内存。\n",
    "- 锁\n",
    "    + 一个防止他人进入的简单方法，就是门口加一把锁。先到的人锁上门，后到的人看到上锁，就在门口排队，等锁打开再进去。这就叫\"互斥锁\"（Mutual exclusion，缩写 Mutex），防止多个线程同时读写某一块内存区域。\n",
    "- 信号量\n",
    "    + 还有些房间，可以同时容纳n个人，比如厨房。也就是说，如果人数大于n，多出来的人只能在外面等着。这好比某些内存区域，只能供给固定数目的线程使用。这时的解决方法，就是在门口挂n把钥匙。进去的人就取一把钥匙，出来时再把钥匙挂回原处。后到的人发现钥匙架空了，就知道必须在门口排队等着了。这种做法叫做\"信号量\"（Semaphore），用来保证多个线程不会互相冲突。不难看出，mutex是semaphore的一种特殊情况（n=1时）。也就是说，完全可以用后者替代前者。但是，因为mutex较为简单，且效率高，所以在必须保证资源独占的情况下，还是采用这种设计。\n",
    "    \n",
    "       \n",
    "**总结操作系统的设计，可以归结为三点**\n",
    "\n",
    "（1）多进程：允许多个任务同时运行；\n",
    "\n",
    "（2）多线程：允许单个任务分成不同的部分运行；\n",
    "\n",
    "（3）协调机制：一方面防止进程之间和线程之间产生冲突，另一方面允许进程之间和线程之间共享资源。\n",
    "\n",
    "![](../asset/process-thread.jpeg)"
   ]
  },
  {
   "cell_type": "markdown",
   "metadata": {},
   "source": [
    "## 单进程任务"
   ]
  },
  {
   "cell_type": "code",
   "execution_count": 16,
   "metadata": {},
   "outputs": [
    {
     "name": "stdout",
     "output_type": "stream",
     "text": [
      "cost time: 16.5727s\n"
     ]
    }
   ],
   "source": [
    "import time\n",
    "import math\n",
    "\n",
    "\n",
    "def task():\n",
    "    # 计算任务\n",
    "    for _ in range(6):\n",
    "        for _ in range(int(1e7)):\n",
    "            math.sin(40) + math.cos(40)\n",
    "    return\n",
    "        \n",
    "    \n",
    "start_time = time.time()    \n",
    "task()\n",
    "print(\"cost time: {:.4f}s\".format(time.time() - start_time))"
   ]
  },
  {
   "cell_type": "markdown",
   "metadata": {},
   "source": [
    "## 改造成多进程处理"
   ]
  },
  {
   "cell_type": "code",
   "execution_count": 21,
   "metadata": {},
   "outputs": [
    {
     "name": "stdout",
     "output_type": "stream",
     "text": [
      "cost time: 3.4562s\n"
     ]
    }
   ],
   "source": [
    "# %load src/multiprocess-reconstruct.py\n",
    "import multiprocessing\n",
    "import time\n",
    "import math\n",
    "\n",
    "\n",
    "def task():\n",
    "    \"\"\"一些耗时比较长的计算任务\"\"\"\n",
    "    for _ in range(int(1e7)):\n",
    "        math.sin(40) + math.cos(40)\n",
    "    return\n",
    "\n",
    "\n",
    "if __name__ == '__main__':\n",
    "    start_time = time.time()\n",
    "    processes = []\n",
    "    for _ in range(2):\n",
    "        p = multiprocessing.Process(target=task)\n",
    "        processes.append(p)\n",
    "        p.start()\n",
    "\n",
    "    for p in processes:\n",
    "        p.join()\n",
    "        \n",
    "    print(\"cost time: {:.4f}s\".format(time.time() - start_time))"
   ]
  },
  {
   "cell_type": "code",
   "execution_count": 20,
   "metadata": {},
   "outputs": [
    {
     "name": "stdout",
     "output_type": "stream",
     "text": [
      "cost time: 3.0708s\r\n"
     ]
    }
   ],
   "source": [
    "!python src/multiprocess-reconstruct.py"
   ]
  },
  {
   "cell_type": "markdown",
   "metadata": {},
   "source": [
    "## 改造成进程池处理"
   ]
  },
  {
   "cell_type": "markdown",
   "metadata": {},
   "source": [
    "![](../asset/process-pool.png)"
   ]
  },
  {
   "cell_type": "code",
   "execution_count": null,
   "metadata": {},
   "outputs": [],
   "source": [
    "# %load src/multiprocess-reconstruct-pool.py\n",
    "from multiprocessing import Pool\n",
    "import time\n",
    "import math\n",
    "\n",
    "\n",
    "def task(a):\n",
    "    # 计算密集型\n",
    "    for _ in range(int(1e7)):\n",
    "        math.sin(40) + math.cos(40)\n",
    "    return\n",
    "\n",
    "\n",
    "if __name__ == '__main__':\n",
    "    start_time = time.time()\n",
    "\n",
    "    with Pool(processes=8) as p:\n",
    "        res = p.map(task, list(range(6)))\n",
    "    print(\"cost time: {:.4f}s\".format(time.time() - start_time))\n"
   ]
  },
  {
   "cell_type": "code",
   "execution_count": null,
   "metadata": {
    "scrolled": true
   },
   "outputs": [],
   "source": [
    "!python src/multiprocess-reconstruct.py"
   ]
  },
  {
   "cell_type": "code",
   "execution_count": 24,
   "metadata": {},
   "outputs": [
    {
     "name": "stdout",
     "output_type": "stream",
     "text": [
      "1\n",
      "2\n",
      "3\n"
     ]
    },
    {
     "data": {
      "text/plain": [
       "[None, None, None]"
      ]
     },
     "execution_count": 24,
     "metadata": {},
     "output_type": "execute_result"
    }
   ],
   "source": [
    "l = [1, 2, 3]\n",
    "\n",
    "def printI(i):\n",
    "    print(i)\n",
    "    \n",
    "list(map(printI, l))"
   ]
  },
  {
   "cell_type": "markdown",
   "metadata": {},
   "source": [
    "**进程池的好处**\n",
    "- 可以节省初始化进程的时间\n",
    "- 可以有效控制进程个数，最大化整体性能"
   ]
  },
  {
   "cell_type": "markdown",
   "metadata": {},
   "source": [
    "**进程池最常使用的形式**"
   ]
  },
  {
   "cell_type": "code",
   "execution_count": 25,
   "metadata": {},
   "outputs": [
    {
     "name": "stdout",
     "output_type": "stream",
     "text": [
      "64\n"
     ]
    },
    {
     "data": {
      "text/plain": [
       "<multiprocessing.pool.Pool at 0x7f2823f6ead0>"
      ]
     },
     "execution_count": 25,
     "metadata": {},
     "output_type": "execute_result"
    }
   ],
   "source": [
    "import multiprocessing\n",
    "cpu = multiprocessing.cpu_count()\n",
    "\n",
    "print(cpu)\n",
    "pool = multiprocessing.Pool(cpu)"
   ]
  },
  {
   "cell_type": "markdown",
   "metadata": {},
   "source": [
    "## 进程的更多种用法\n",
    "https://docs.python.org/3/library/multiprocessing.html?highlight=multiprocess#module-multiprocessing\n",
    "### 常规多进程的写法"
   ]
  },
  {
   "cell_type": "code",
   "execution_count": null,
   "metadata": {},
   "outputs": [],
   "source": [
    "# %load src/multiprocessing-case1.py\n",
    "import multiprocessing\n",
    "\n",
    "\n",
    "def foo(i):\n",
    "    print('called function in process: %s' % i)\n",
    "    return\n",
    "\n",
    "\n",
    "if __name__ == '__main__':\n",
    "    process_jobs = []\n",
    "    for i in range(5):\n",
    "        p = multiprocessing.Process(target=foo, args=(i,))\n",
    "        process_jobs.append(p)\n",
    "        p.start()\n",
    "        p.join()"
   ]
  },
  {
   "cell_type": "code",
   "execution_count": 73,
   "metadata": {},
   "outputs": [
    {
     "name": "stdout",
     "output_type": "stream",
     "text": [
      "called function in process: 0\n",
      "called function in process: 1\n",
      "called function in process: 2\n",
      "called function in process: 3\n",
      "called function in process: 4\n"
     ]
    }
   ],
   "source": [
    "!python src/multiprocessing-case1.py"
   ]
  },
  {
   "cell_type": "markdown",
   "metadata": {},
   "source": [
    "### 进程池"
   ]
  },
  {
   "cell_type": "code",
   "execution_count": 2,
   "metadata": {},
   "outputs": [
    {
     "name": "stdout",
     "output_type": "stream",
     "text": [
      "CPU times: user 5 µs, sys: 0 ns, total: 5 µs\n",
      "Wall time: 12.2 µs\n"
     ]
    }
   ],
   "source": [
    "%time\n",
    "# 创建进程的时间消耗\n",
    "import multiprocessing\n",
    "\n",
    "\n",
    "p = multiprocessing.Process()"
   ]
  },
  {
   "cell_type": "code",
   "execution_count": null,
   "metadata": {},
   "outputs": [],
   "source": [
    "# %load src/multiprocessing-pool.py\n",
    "import multiprocessing\n",
    "\n",
    "\n",
    "def function_square(data):\n",
    "    result = data * data\n",
    "    return result\n",
    "\n",
    "\n",
    "if __name__ == '__main__':\n",
    "    inputs = list(range(100))\n",
    "    pool = multiprocessing.Pool(processes=4)\n",
    "    pool_outputs = pool.map(function_square, inputs)\n",
    "    pool.close()\n",
    "    pool.join()\n",
    "    print('Pool    :', pool_outputs)"
   ]
  },
  {
   "cell_type": "code",
   "execution_count": 6,
   "metadata": {
    "scrolled": false
   },
   "outputs": [
    {
     "name": "stdout",
     "output_type": "stream",
     "text": [
      "Pool    : [0, 1, 4, 9, 16, 25, 36, 49, 64, 81, 100, 121, 144, 169, 196, 225, 256, 289, 324, 361, 400, 441, 484, 529, 576, 625, 676, 729, 784, 841, 900, 961, 1024, 1089, 1156, 1225, 1296, 1369, 1444, 1521, 1600, 1681, 1764, 1849, 1936, 2025, 2116, 2209, 2304, 2401, 2500, 2601, 2704, 2809, 2916, 3025, 3136, 3249, 3364, 3481, 3600, 3721, 3844, 3969, 4096, 4225, 4356, 4489, 4624, 4761, 4900, 5041, 5184, 5329, 5476, 5625, 5776, 5929, 6084, 6241, 6400, 6561, 6724, 6889, 7056, 7225, 7396, 7569, 7744, 7921, 8100, 8281, 8464, 8649, 8836, 9025, 9216, 9409, 9604, 9801]\r\n"
     ]
    }
   ],
   "source": [
    "!python src/multiprocessing-pool.py"
   ]
  },
  {
   "cell_type": "markdown",
   "metadata": {},
   "source": [
    "### 守护进程"
   ]
  },
  {
   "cell_type": "code",
   "execution_count": null,
   "metadata": {},
   "outputs": [],
   "source": [
    "# %load multiprocessing-case2.py\n",
    "import multiprocessing\n",
    "import time\n",
    "\n",
    "\n",
    "def foo():\n",
    "    name = multiprocessing.current_process().name\n",
    "    print(\"Starting %s \" % name)\n",
    "    time.sleep(3)\n",
    "    print(\"Exiting %s \" % name)\n",
    "\n",
    "\n",
    "if __name__ == '__main__':\n",
    "    background_process = multiprocessing.Process(name='background_process', target=foo)\n",
    "    background_process.daemon = True\n",
    "    NO_background_process = multiprocessing.Process(name='NO_background_process', target=foo)\n",
    "    NO_background_process.daemon = False\n",
    "    background_process.start()\n",
    "    NO_background_process.start()"
   ]
  },
  {
   "cell_type": "code",
   "execution_count": 10,
   "metadata": {
    "scrolled": true
   },
   "outputs": [
    {
     "name": "stdout",
     "output_type": "stream",
     "text": [
      "Starting NO_background_process \n",
      "Exiting NO_background_process \n"
     ]
    }
   ],
   "source": [
    "!python src/multiprocessing-case2.py"
   ]
  },
  {
   "cell_type": "markdown",
   "metadata": {},
   "source": [
    "### 杀死进程"
   ]
  },
  {
   "cell_type": "code",
   "execution_count": 26,
   "metadata": {},
   "outputs": [
    {
     "name": "stdout",
     "output_type": "stream",
     "text": [
      "Process before execution: <Process(Process-154, initial)> False\n",
      "Process running: <Process(Process-154, started)> True\n",
      "Process terminated: <Process(Process-154, started)> True\n",
      "Process joined: <Process(Process-154, stopped[SIGTERM])> False\n",
      "Process exit code: -15\n"
     ]
    }
   ],
   "source": [
    "# %load multiprocessing-case3.py\n",
    "import multiprocessing\n",
    "import time\n",
    "\n",
    "\n",
    "def foo():\n",
    "    print('Starting function')\n",
    "    time.sleep(0.1)\n",
    "    print('Finished function')\n",
    "\n",
    "\n",
    "if __name__ == '__main__':\n",
    "    p = multiprocessing.Process(target=foo)\n",
    "    print('Process before execution:', p, p.is_alive())\n",
    "    p.start()\n",
    "    print('Process running:', p, p.is_alive())\n",
    "    p.terminate()\n",
    "    print('Process terminated:', p, p.is_alive())\n",
    "    p.join()\n",
    "    print('Process joined:', p, p.is_alive())\n",
    "    print('Process exit code:', p.exitcode)\n"
   ]
  },
  {
   "cell_type": "code",
   "execution_count": 12,
   "metadata": {
    "scrolled": true
   },
   "outputs": [
    {
     "name": "stdout",
     "output_type": "stream",
     "text": [
      "Process before execution: <Process name='Process-1' parent=44966 initial> False\r\n",
      "Process running: <Process name='Process-1' pid=44968 parent=44966 started> True\r\n",
      "Process terminated: <Process name='Process-1' pid=44968 parent=44966 started> True\r\n",
      "Process joined: <Process name='Process-1' pid=44968 parent=44966 stopped exitcode=-SIGTERM> False\r\n",
      "Process exit code: -15\r\n"
     ]
    }
   ],
   "source": [
    "!python src/multiprocessing-case3.py"
   ]
  },
  {
   "cell_type": "markdown",
   "metadata": {},
   "source": [
    "### 自定义进程类"
   ]
  },
  {
   "cell_type": "code",
   "execution_count": 27,
   "metadata": {},
   "outputs": [
    {
     "name": "stdout",
     "output_type": "stream",
     "text": [
      "called run method in process: MyProcess-155\n",
      "called run method in process: MyProcess-156\n",
      "called run method in process: MyProcess-157\n",
      "called run method in process: MyProcess-158\n",
      "called run method in process: MyProcess-159\n"
     ]
    }
   ],
   "source": [
    "# %load multiprocessing-case4.py\n",
    "import multiprocessing\n",
    "\n",
    "\n",
    "class MyProcess(multiprocessing.Process):\n",
    "    def run(self):\n",
    "        print('called run method in process: %s' % self.name)\n",
    "        return\n",
    "\n",
    "\n",
    "if __name__ == '__main__':\n",
    "    jobs = []\n",
    "    for i in range(5):\n",
    "        p = MyProcess()\n",
    "        jobs.append(p)\n",
    "        p.start()\n",
    "        p.join()\n"
   ]
  },
  {
   "cell_type": "code",
   "execution_count": 15,
   "metadata": {
    "scrolled": true
   },
   "outputs": [
    {
     "name": "stdout",
     "output_type": "stream",
     "text": [
      "called run method in process: MyProcess-1\n",
      "called run method in process: MyProcess-2\n",
      "called run method in process: MyProcess-3\n",
      "called run method in process: MyProcess-4\n",
      "called run method in process: MyProcess-5\n"
     ]
    }
   ],
   "source": [
    "!python src/multiprocessing-case4.py"
   ]
  },
  {
   "cell_type": "markdown",
   "metadata": {},
   "source": [
    "## 进程间的数据交换\n",
    "### 使用Queue进行数据交换\n",
    "![](../asset/Data_Queue.svg)\n",
    "![](../asset/communication-channel.png)"
   ]
  },
  {
   "cell_type": "code",
   "execution_count": null,
   "metadata": {},
   "outputs": [],
   "source": [
    "# %load src/multiprocessing-case5.py\n",
    "import multiprocessing\n",
    "import random\n",
    "import time\n",
    "\n",
    "\n",
    "class Producer(multiprocessing.Process):\n",
    "    def __init__(self, queue):\n",
    "        multiprocessing.Process.__init__(self)\n",
    "        self.queue = queue\n",
    "\n",
    "    def run(self):\n",
    "        for i in range(10):\n",
    "            item = random.randint(0, 256)\n",
    "            self.queue.put(item)\n",
    "            print(\"Process Producer : item %d appended to queue %s\" % (item, self.name))\n",
    "            time.sleep(1)\n",
    "            print(\"The size of queue is %s\" % self.queue.qsize())\n",
    "\n",
    "\n",
    "class Consumer(multiprocessing.Process):\n",
    "    def __init__(self, queue):\n",
    "        multiprocessing.Process.__init__(self)\n",
    "        self.queue = queue\n",
    "\n",
    "    def run(self):\n",
    "        while True:\n",
    "            if self.queue.empty():\n",
    "                print(\"the queue is empty\")\n",
    "                break\n",
    "            else:\n",
    "                time.sleep(2)\n",
    "                item = self.queue.get()\n",
    "                print('Process Consumer : item %d popped from by %s \\n' % (item, self.name))\n",
    "                time.sleep(1)\n",
    "\n",
    "\n",
    "if __name__ == '__main__':\n",
    "    queue = multiprocessing.Queue()\n",
    "    process_producer = Producer(queue)\n",
    "    process_consumer = Consumer(queue)\n",
    "    process_producer.start()\n",
    "    process_consumer.start()\n",
    "    process_producer.join()\n",
    "    process_consumer.join()\n"
   ]
  },
  {
   "cell_type": "markdown",
   "metadata": {},
   "source": [
    "一个在OSX平台上的Bug"
   ]
  },
  {
   "cell_type": "code",
   "execution_count": 28,
   "metadata": {
    "scrolled": true
   },
   "outputs": [
    {
     "name": "stdout",
     "output_type": "stream",
     "text": [
      "Process Producer : item 39 appended to queue Producer-1\n",
      "The size of queue is 1\n",
      "Process Producer : item 89 appended to queue Producer-1\n",
      "The size of queue is 2\n",
      "Process Producer : item 3 appended to queue Producer-1\n",
      "Process Consumer : item 39 popped from by Consumer-2 \n",
      "\n",
      "The size of queue is 2\n",
      "Process Producer : item 143 appended to queue Producer-1\n",
      "The size of queue is 3\n",
      "Process Producer : item 239 appended to queue Producer-1\n",
      "The size of queue is 4\n",
      "Process Producer : item 104 appended to queue Producer-1\n",
      "Process Consumer : item 89 popped from by Consumer-2 \n",
      "\n",
      "The size of queue is 4\n",
      "Process Producer : item 58 appended to queue Producer-1\n",
      "The size of queue is 5\n",
      "Process Producer : item 129 appended to queue Producer-1\n",
      "Process Consumer : item 3 popped from by Consumer-2 \n",
      "\n",
      "The size of queue is 5\n",
      "Process Producer : item 34 appended to queue Producer-1\n",
      "The size of queue is 6\n",
      "Process Producer : item 114 appended to queue Producer-1\n",
      "The size of queue is 7\n",
      "Process Consumer : item 143 popped from by Consumer-2 \n",
      "\n",
      "Process Consumer : item 239 popped from by Consumer-2 \n",
      "\n",
      "Process Consumer : item 104 popped from by Consumer-2 \n",
      "\n",
      "Process Consumer : item 58 popped from by Consumer-2 \n",
      "\n",
      "Process Consumer : item 129 popped from by Consumer-2 \n",
      "\n",
      "Process Consumer : item 34 popped from by Consumer-2 \n",
      "\n",
      "Process Consumer : item 114 popped from by Consumer-2 \n",
      "\n",
      "the queue is empty\n"
     ]
    }
   ],
   "source": [
    "!python src/multiprocessing-case5.py"
   ]
  },
  {
   "cell_type": "markdown",
   "metadata": {},
   "source": [
    "### 使用管道交换数据\n",
    "![](../asset/pipeline.jpg)"
   ]
  },
  {
   "cell_type": "code",
   "execution_count": 29,
   "metadata": {},
   "outputs": [
    {
     "name": "stdout",
     "output_type": "stream",
     "text": [
      "(<multiprocessing.connection.Connection object at 0x7f2838486b10>, <multiprocessing.connection.Connection object at 0x7f2838486b50>)\n",
      "0\n",
      "1\n",
      "4\n",
      "9\n",
      "16\n",
      "25\n",
      "36\n",
      "49\n",
      "64\n",
      "81\n",
      "End\n"
     ]
    }
   ],
   "source": [
    "# %load src/multiprocessing-case6.py\n",
    "import multiprocessing\n",
    "\n",
    "\n",
    "def create_items(pipe):\n",
    "    output_pipe, _ = pipe\n",
    "    for item in range(10):\n",
    "        output_pipe.send(item)\n",
    "    output_pipe.close()\n",
    "\n",
    "\n",
    "def multiply_items(pipe_1, pipe_2):\n",
    "    close, input_pipe = pipe_1\n",
    "    close.close()\n",
    "    output_pipe, _ = pipe_2\n",
    "    try:\n",
    "        while True:\n",
    "            item = input_pipe.recv()\n",
    "            output_pipe.send(item * item)\n",
    "    except EOFError:\n",
    "        output_pipe.close()\n",
    "\n",
    "\n",
    "if __name__ == '__main__':\n",
    "    # 第一个进程管道发出数字\n",
    "    pipe_1 = multiprocessing.Pipe(True)\n",
    "    process_pipe_1 = multiprocessing.Process(target=create_items, args=(pipe_1,))\n",
    "    process_pipe_1.start()\n",
    "    # 第二个进程管道接收数字并计算\n",
    "    pipe_2 = multiprocessing.Pipe(True)\n",
    "    process_pipe_2 = multiprocessing.Process(target=multiply_items, args=(pipe_1, pipe_2,))\n",
    "    process_pipe_2.start()\n",
    "    pipe_1[0].close()\n",
    "    pipe_2[0].close()\n",
    "    try:\n",
    "        while True:\n",
    "            print(pipe_2[1].recv())\n",
    "    except EOFError:\n",
    "        print(\"End\")"
   ]
  },
  {
   "cell_type": "code",
   "execution_count": 30,
   "metadata": {},
   "outputs": [
    {
     "name": "stdout",
     "output_type": "stream",
     "text": [
      "0\r\n",
      "1\r\n",
      "4\r\n",
      "9\r\n",
      "16\r\n",
      "25\r\n",
      "36\r\n",
      "49\r\n",
      "64\r\n",
      "81\r\n",
      "End\r\n"
     ]
    }
   ],
   "source": [
    "!python src/multiprocessing-case6.py"
   ]
  },
  {
   "cell_type": "markdown",
   "metadata": {},
   "source": [
    "### 共享内存"
   ]
  },
  {
   "cell_type": "code",
   "execution_count": null,
   "metadata": {},
   "outputs": [],
   "source": [
    "# %load multiprocessing-state-manager.py\n",
    "import multiprocessing\n",
    "\n",
    "\n",
    "def worker(dictionary, key, item):\n",
    "    dictionary[key] = item\n",
    "    print(\"key = %d value = %d\" % (key, item))\n",
    "\n",
    "\n",
    "if __name__ == '__main__':\n",
    "    mgr = multiprocessing.Manager()\n",
    "    dictionary = mgr.dict()\n",
    "    jobs = [multiprocessing.Process(target=worker, args=(dictionary, i, i * 2)) for i in range(10)]\n",
    "    for j in jobs:\n",
    "        j.start()\n",
    "    for j in jobs:\n",
    "        j.join()\n",
    "    print('Results:', dictionary)"
   ]
  },
  {
   "cell_type": "code",
   "execution_count": 32,
   "metadata": {
    "scrolled": true
   },
   "outputs": [
    {
     "name": "stdout",
     "output_type": "stream",
     "text": [
      "key = 0 value = 0\n",
      "key = 1 value = 2\n",
      "key = 2 value = 4\n",
      "key = 3 value = 6\n",
      "key = 5 value = 10\n",
      "key = 4 value = 8\n",
      "key = 6 value = 12\n",
      "key = 7 value = 14\n",
      "key = 8 value = 16\n",
      "key = 9 value = 18\n",
      "Results: {0: 0, 1: 2, 2: 4, 3: 6, 5: 10, 4: 8, 6: 12, 7: 14, 8: 16, 9: 18}\n"
     ]
    }
   ],
   "source": [
    "!python src/multiprocessing-state-manager.py"
   ]
  },
  {
   "cell_type": "markdown",
   "metadata": {},
   "source": [
    "在3.8之前，并非是真正的共享内存，通过内存pickle成文件来间接实现的，但是效率比较真实的共享内存差很多\n",
    "[Python3.8+后的共享内存](https://www.osgeo.cn/cpython/library/multiprocessing.shared_memory.html)\n",
    "\n",
    "![](../asset/shared-memory.png)"
   ]
  },
  {
   "cell_type": "markdown",
   "metadata": {},
   "source": [
    "### 它们之间的差别是什么？"
   ]
  },
  {
   "cell_type": "markdown",
   "metadata": {},
   "source": [
    "- 共享内存 性能最高，但是同步处理最麻烦。\n",
    "- Pipe() 只能有一个生产者和一个消费者。\n",
    "- Queue() 可以有多个生产者和消费者。\n",
    "\n",
    "\n",
    "**如果需要多个节点通信，使用Queue；如果需要绝对的性能，Pipe比Queue要快出很多，在底层上Queue的实现是使用Pipe。**"
   ]
  },
  {
   "cell_type": "code",
   "execution_count": null,
   "metadata": {},
   "outputs": [],
   "source": [
    "# %load src/multiprocessing-pipe.py\n",
    "from multiprocessing import Process, Pipe\n",
    "import time\n",
    "\n",
    "\n",
    "def reader_proc(pipe):\n",
    "    ## Read from the pipe; this will be spawned as a separate Process\n",
    "    p_output, p_input = pipe\n",
    "    p_input.close()  # We are only reading\n",
    "    while True:\n",
    "        msg = p_output.recv()  # Read from the output pipe and do nothing\n",
    "        if msg == 'DONE':\n",
    "            break\n",
    "\n",
    "\n",
    "def writer(count, p_input):\n",
    "    for ii in range(0, count):\n",
    "        p_input.send(ii)  # Write 'count' numbers into the input pipe\n",
    "    p_input.send('DONE')\n",
    "\n",
    "\n",
    "if __name__ == '__main__':\n",
    "    for count in [10 ** 4, 10 ** 5, 10 ** 6]:\n",
    "        # Pipes are unidirectional with two endpoints:  p_input ------> p_output\n",
    "        p_output, p_input = Pipe()  # writer() writes to p_input from _this_ process\n",
    "        reader_p = Process(target=reader_proc, args=((p_output, p_input),))\n",
    "        reader_p.daemon = True\n",
    "        reader_p.start()  # Launch the reader process\n",
    "\n",
    "        p_output.close()  # We no longer need this part of the Pipe()\n",
    "        _start = time.time()\n",
    "        writer(count, p_input)  # Send a lot of stuff to reader_proc()\n",
    "        p_input.close()\n",
    "        reader_p.join()\n",
    "        print(\"Sending {0} numbers to Pipe() took {1} seconds\".format(count,\n",
    "                                                                      (time.time() - _start)))\n"
   ]
  },
  {
   "cell_type": "code",
   "execution_count": 20,
   "metadata": {},
   "outputs": [
    {
     "name": "stdout",
     "output_type": "stream",
     "text": [
      "Sending 10000 numbers to Pipe() took 0.10325503349304199 seconds\n",
      "Sending 100000 numbers to Pipe() took 0.5739719867706299 seconds\n",
      "Sending 1000000 numbers to Pipe() took 4.997359037399292 seconds\n"
     ]
    }
   ],
   "source": [
    "!python src/multiprocessing-pipe.py"
   ]
  },
  {
   "cell_type": "code",
   "execution_count": null,
   "metadata": {},
   "outputs": [],
   "source": [
    "# %load src/multiprocessing-queue.py\n",
    "from multiprocessing import Process, Queue\n",
    "import time\n",
    "import sys\n",
    "\n",
    "\n",
    "def reader_proc(queue):\n",
    "    ## Read from the queue; this will be spawned as a separate Process\n",
    "    while True:\n",
    "        msg = queue.get()  # Read from the queue and do nothing\n",
    "        if (msg == 'DONE'):\n",
    "            break\n",
    "\n",
    "\n",
    "def writer(count, queue):\n",
    "    ## Write to the queue\n",
    "    for ii in range(0, count):\n",
    "        queue.put(ii)  # Write 'count' numbers into the queue\n",
    "    queue.put('DONE')\n",
    "\n",
    "\n",
    "if __name__ == '__main__':\n",
    "    pqueue = Queue()  # writer() writes to pqueue from _this_ process\n",
    "    for count in [10 ** 4, 10 ** 5, 10 ** 6]:\n",
    "        ### reader_proc() reads from pqueue as a separate process\n",
    "        reader_p = Process(target=reader_proc, args=((pqueue),))\n",
    "        reader_p.daemon = True\n",
    "        reader_p.start()  # Launch reader_proc() as a separate python process\n",
    "\n",
    "        _start = time.time()\n",
    "        writer(count, pqueue)  # Send a lot of stuff to reader()\n",
    "        reader_p.join()  # Wait for the reader to finish\n",
    "        print(\"Sending {0} numbers to Queue() took {1} seconds\".format(count,\n",
    "                                                                       (time.time() - _start)))\n"
   ]
  },
  {
   "cell_type": "code",
   "execution_count": 1,
   "metadata": {},
   "outputs": [
    {
     "name": "stdout",
     "output_type": "stream",
     "text": [
      "Sending 10000 numbers to Queue() took 0.08758997917175293 seconds\n",
      "Sending 100000 numbers to Queue() took 0.824897050857544 seconds\n",
      "Sending 1000000 numbers to Queue() took 7.996196269989014 seconds\n"
     ]
    }
   ],
   "source": [
    "!python src/multiprocessing-queue.py"
   ]
  },
  {
   "cell_type": "code",
   "execution_count": null,
   "metadata": {},
   "outputs": [],
   "source": [
    "# %load src/multiprocessing-joinablequeue.py\n",
    "from multiprocessing import Process, JoinableQueue\n",
    "import time\n",
    "\n",
    "\n",
    "def reader_proc(queue):\n",
    "    ## Read from the queue; this will be spawned as a separate Process\n",
    "    while True:\n",
    "        msg = queue.get()  # Read from the queue and do nothing\n",
    "        queue.task_done()\n",
    "\n",
    "\n",
    "def writer(count, queue):\n",
    "    for ii in range(0, count):\n",
    "        queue.put(ii)  # Write 'count' numbers into the queue\n",
    "\n",
    "\n",
    "if __name__ == '__main__':\n",
    "    for count in [10 ** 4, 10 ** 5, 10 ** 6]:\n",
    "        jqueue = JoinableQueue()  # writer() writes to jqueue from _this_ process\n",
    "        # reader_proc() reads from jqueue as a different process...\n",
    "        reader_p = Process(target=reader_proc, args=((jqueue),))\n",
    "        reader_p.daemon = True\n",
    "        reader_p.start()  # Launch the reader process\n",
    "        _start = time.time()\n",
    "        writer(count, jqueue)  # Send a lot of stuff to reader_proc() (in different process)\n",
    "        jqueue.join()  # Wait for the reader to finish\n",
    "        print(\"Sending {0} numbers to JoinableQueue() took {1} seconds\".format(count,\n",
    "                                                                               (time.time() - _start)))"
   ]
  },
  {
   "cell_type": "code",
   "execution_count": 24,
   "metadata": {},
   "outputs": [
    {
     "name": "stdout",
     "output_type": "stream",
     "text": [
      "Sending 10000 numbers to JoinableQueue() took 0.17133736610412598 seconds\n",
      "Sending 100000 numbers to JoinableQueue() took 2.081264019012451 seconds\n",
      "Sending 1000000 numbers to JoinableQueue() took 21.84877896308899 seconds\n"
     ]
    }
   ],
   "source": [
    "!python src/multiprocessing-joinablequeue.py"
   ]
  },
  {
   "cell_type": "markdown",
   "metadata": {},
   "source": [
    "## 如何进行进程同步\n",
    "- Lock: 这个对象可以有两种状态：锁住的（locked）和没锁住的（unlocked）。一个Lock对象有两个方法， acquire() 和 release() ，来控制共享数据的读写权限。\n",
    "- Event: 实现了进程间的简单通讯，一个进程发事件的信号，另一个进程等待事件的信号。 Event 对象有两个方法， set() 和 clear() ，来管理自己内部的变量。\n",
    "- Condition: 此对象用来同步部分工作流程，在并行的进程中，有两个基本的方法： wait() 用来等待进程， notify_all() 用来通知所有等待此条件的进程。\n",
    "- Semaphore: 用来共享资源，例如，支持固定数量的共享连接。\n",
    "- Rlock: 递归锁对象。其用途和方法同 Threading 模块一样。\n",
    "- Barrier: 将程序分成几个阶段，适用于有些进程必须在某些特定进程之后执行。处于障碍（Barrier）之后的代码不能同处于障碍之前的代码并行。"
   ]
  },
  {
   "cell_type": "markdown",
   "metadata": {},
   "source": [
    "### Lock\n",
    "![](../asset/lock.png)"
   ]
  },
  {
   "cell_type": "code",
   "execution_count": null,
   "metadata": {},
   "outputs": [],
   "source": [
    "# %load src/multiprocessing-unlock.py\n",
    "from multiprocessing import Process\n",
    "import os, time\n",
    "\n",
    "\n",
    "def work():\n",
    "    print('%s is running' % os.getpid())\n",
    "    time.sleep(2)\n",
    "    print('%s is done' % os.getpid())\n",
    "\n",
    "\n",
    "if __name__ == '__main__':\n",
    "    for i in range(3):\n",
    "        p = Process(target=work)\n",
    "        p.start()"
   ]
  },
  {
   "cell_type": "code",
   "execution_count": 34,
   "metadata": {
    "scrolled": true
   },
   "outputs": [
    {
     "name": "stdout",
     "output_type": "stream",
     "text": [
      "91364 is running\n",
      "91365 is running\n",
      "91366 is running\n",
      "91364 is done\n",
      "91365 is done\n",
      "91366 is done\n"
     ]
    }
   ],
   "source": [
    "!python src/multiprocessing-unlock.py"
   ]
  },
  {
   "cell_type": "code",
   "execution_count": 33,
   "metadata": {},
   "outputs": [
    {
     "name": "stdout",
     "output_type": "stream",
     "text": [
      "53367 is running\n",
      "53367 is done\n",
      "53370 is running\n",
      "53370 is done\n",
      "53371 is running\n",
      "53371 is done\n"
     ]
    }
   ],
   "source": [
    "# %load src/multiprocessing-lock.py\n",
    "import multiprocessing\n",
    "from multiprocessing import Process, Lock\n",
    "import os, time\n",
    "\n",
    "\n",
    "def work(lock):\n",
    "    lock.acquire()\n",
    "    print('%s is running' % os.getpid())\n",
    "    time.sleep(2)\n",
    "    print('%s is done' % os.getpid())\n",
    "    lock.release()\n",
    "\n",
    "\n",
    "if __name__ == '__main__':\n",
    "    # python3.8在OSX中存在的一个问题\n",
    "    # https://docs.python.org/zh-cn/3/library/multiprocessing.html\n",
    "    multiprocessing.set_start_method('fork')\n",
    "    lock = Lock()\n",
    "    for i in range(3):\n",
    "        p = Process(target=work, args=(lock,))\n",
    "        p.start()\n"
   ]
  },
  {
   "cell_type": "code",
   "execution_count": 40,
   "metadata": {
    "scrolled": true
   },
   "outputs": [
    {
     "name": "stdout",
     "output_type": "stream",
     "text": [
      "92142 is running\n",
      "92142 is done\n",
      "92143 is running\n",
      "92143 is done\n",
      "92144 is running\n",
      "92144 is done\n"
     ]
    }
   ],
   "source": [
    "!python src/multiprocessing-lock.py"
   ]
  },
  {
   "cell_type": "markdown",
   "metadata": {},
   "source": [
    "### Condition\n",
    "条件同步机制是指：一个进程等待特定条件，而另一个线程发出特定条件满足的信号。 解释条件同步机制的一个很好的例子就是生产者/消费者（producer/consumer）模型。生产者随机的往列表中“生产”一个随机整数，而消费者从列表中“消费”整数。"
   ]
  },
  {
   "cell_type": "code",
   "execution_count": null,
   "metadata": {},
   "outputs": [],
   "source": [
    "# %load src/multiprocessing-condition.py\n",
    "import time\n",
    "import random\n",
    "import multiprocessing\n",
    "\n",
    "\n",
    "class Producer(multiprocessing.Process):\n",
    "    def __init__(self, productList, condition):\n",
    "        multiprocessing.Process.__init__(self)\n",
    "        self.productList = productList  # type: List\n",
    "        self.condition = condition  # type: multiprocess.Condition\n",
    "\n",
    "    def run(self):\n",
    "        while True:\n",
    "            product = random.randint(0, 100)\n",
    "            with self.condition:\n",
    "                print(\"条件锁：被 生产者 获取\")\n",
    "                self.productList.append(product)\n",
    "                print(f\"生产者：产生了 {product}。\")\n",
    "                print(\"生产者：唤醒消费者线程\")\n",
    "                self.condition.notify()\n",
    "                print(\"条件锁：被 生产者 释放\")\n",
    "            time.sleep(1)\n",
    "\n",
    "\n",
    "class Customer(multiprocessing.Process):\n",
    "\n",
    "    def __init__(self, productList, condition):\n",
    "        multiprocessing.Process.__init__(self)\n",
    "        self.productList = productList  # type: List\n",
    "        self.condition = condition  # type: multiprocess.Condition\n",
    "\n",
    "    def run(self):\n",
    "        while True:\n",
    "            with self.condition:\n",
    "                print(\"条件锁：被 消费者 获取\")\n",
    "                while True:\n",
    "                    if self.productList:\n",
    "                        product = self.productList.pop()\n",
    "                        print(f\"消费者：消费了 {product}\")\n",
    "                        break\n",
    "                    print(\"消费者：等待生产者\")\n",
    "                    self.condition.wait()\n",
    "                print(\"条件锁：被 消费者 释放\")\n",
    "\n",
    "\n",
    "def main():\n",
    "    manager = multiprocessing.Manager()\n",
    "    productList = manager.list()\n",
    "    condition = multiprocessing.Condition()\n",
    "    process_producer = Producer(productList, condition)\n",
    "    process_customer = Customer(productList, condition)\n",
    "    process_producer.start()\n",
    "    process_customer.start()\n",
    "    process_producer.join()\n",
    "    process_customer.join()\n",
    "\n",
    "\n",
    "if __name__ == '__main__':\n",
    "    main()\n"
   ]
  },
  {
   "cell_type": "code",
   "execution_count": 44,
   "metadata": {},
   "outputs": [
    {
     "name": "stdout",
     "output_type": "stream",
     "text": [
      "条件锁：被 消费者 获取\n",
      "消费者：等待生产者\n",
      "条件锁：被 生产者 获取\n",
      "生产者：产生了 30。\n",
      "生产者：唤醒消费者线程\n",
      "条件锁：被 生产者 释放\n",
      "消费者：消费了 30\n",
      "条件锁：被 消费者 释放\n",
      "条件锁：被 消费者 获取\n",
      "消费者：等待生产者\n",
      "条件锁：被 生产者 获取\n",
      "生产者：产生了 8。\n",
      "生产者：唤醒消费者线程\n",
      "条件锁：被 生产者 释放\n",
      "消费者：消费了 8\n",
      "条件锁：被 消费者 释放\n",
      "条件锁：被 消费者 获取\n",
      "消费者：等待生产者\n",
      "条件锁：被 生产者 获取\n",
      "生产者：产生了 65。\n",
      "生产者：唤醒消费者线程\n",
      "条件锁：被 生产者 释放\n",
      "消费者：消费了 65\n",
      "条件锁：被 消费者 释放\n",
      "条件锁：被 消费者 获取\n",
      "消费者：等待生产者\n",
      "条件锁：被 生产者 获取\n",
      "生产者：产生了 39。\n",
      "生产者：唤醒消费者线程\n",
      "条件锁：被 生产者 释放\n",
      "消费者：消费了 39\n",
      "条件锁：被 消费者 释放\n",
      "条件锁：被 消费者 获取\n",
      "消费者：等待生产者\n",
      "条件锁：被 生产者 获取\n",
      "生产者：产生了 44。\n",
      "生产者：唤醒消费者线程\n",
      "条件锁：被 生产者 释放\n",
      "消费者：消费了 44\n",
      "条件锁：被 消费者 释放\n",
      "条件锁：被 消费者 获取\n",
      "消费者：等待生产者\n",
      "^C\n",
      "Traceback (most recent call last):\n",
      "  File \"src/multiprocessing-condition.py\", line 59, in <module>\n",
      "    main()\n",
      "  File \"src/multiprocessing-condition.py\", line 54, in main\n",
      "    process_producer.join()\n",
      "  File \"/Users/zhangchunyang/opt/anaconda3/lib/python3.8/multiprocessing/process.py\", line 149, in join\n",
      "    res = self._popen.wait(timeout)\n",
      "  File \"/Users/zhangchunyang/opt/anaconda3/lib/python3.8/multiprocessing/popen_fork.py\", line 47, in wait\n",
      "Process Customer-3:\n",
      "Process Producer-2:\n",
      "    return self.poll(os.WNOHANG if timeout == 0.0 else 0)\n",
      "  File \"/Users/zhangchunyang/opt/anaconda3/lib/python3.8/multiprocessing/popen_fork.py\", line 27, in poll\n",
      "Traceback (most recent call last):\n",
      "  File \"/Users/zhangchunyang/opt/anaconda3/lib/python3.8/multiprocessing/process.py\", line 315, in _bootstrap\n",
      "    self.run()\n",
      "  File \"/Users/zhangchunyang/PycharmProjects/python-tutorial/parallel-programming/src/multiprocessing-condition.py\", line 22, in run\n",
      "    time.sleep(1)\n",
      "KeyboardInterrupt\n",
      "    pid, sts = os.waitpid(self.pid, flag)\n",
      "KeyboardInterrupt\n",
      "Traceback (most recent call last):\n",
      "  File \"/Users/zhangchunyang/opt/anaconda3/lib/python3.8/multiprocessing/process.py\", line 315, in _bootstrap\n",
      "    self.run()\n",
      "  File \"/Users/zhangchunyang/PycharmProjects/python-tutorial/parallel-programming/src/multiprocessing-condition.py\", line 42, in run\n",
      "    self.condition.wait()\n",
      "  File \"/Users/zhangchunyang/opt/anaconda3/lib/python3.8/multiprocessing/synchronize.py\", line 261, in wait\n",
      "    return self._wait_semaphore.acquire(True, timeout)\n",
      "KeyboardInterrupt\n"
     ]
    }
   ],
   "source": [
    "!python src/multiprocessing-condition.py"
   ]
  },
  {
   "cell_type": "markdown",
   "metadata": {},
   "source": [
    "### Semaphore"
   ]
  },
  {
   "cell_type": "code",
   "execution_count": null,
   "metadata": {},
   "outputs": [],
   "source": [
    "# %load src/multiprocessing-semaphore.py\n",
    "import multiprocessing\n",
    "from multiprocessing import Process, current_process, Semaphore\n",
    "import time\n",
    "\n",
    "\n",
    "def worker(s, i):\n",
    "    s.acquire()\n",
    "    print(current_process().name + \"acquire\");\n",
    "    time.sleep(i)\n",
    "    print(current_process().name + \"release\\n\");\n",
    "    s.release()\n",
    "\n",
    "\n",
    "if __name__ == \"__main__\":\n",
    "    multiprocessing.set_start_method('fork')\n",
    "    s = Semaphore(2)\n",
    "    for i in range(5):\n",
    "        p = Process(target=worker, args=(s, i * 2))\n",
    "        p.start()"
   ]
  },
  {
   "cell_type": "code",
   "execution_count": 48,
   "metadata": {},
   "outputs": [
    {
     "name": "stdout",
     "output_type": "stream",
     "text": [
      "Process-1acquire\n",
      "Process-1release\n",
      "\n",
      "Process-2acquire\n",
      "Process-3acquire\n",
      "Process-2release\n",
      "\n",
      "Process-4acquire\n",
      "Process-3release\n",
      "\n",
      "Process-5acquire\n",
      "Process-4release\n",
      "\n",
      "Process-5release\n",
      "\n"
     ]
    }
   ],
   "source": [
    "!python src/multiprocessing-semaphore.py"
   ]
  },
  {
   "cell_type": "markdown",
   "metadata": {},
   "source": [
    "### Event\n",
    "Event 是同步通信的方式，有些类似于条件锁。由于是它是同步的，而且不能传递数据。"
   ]
  },
  {
   "cell_type": "code",
   "execution_count": null,
   "metadata": {},
   "outputs": [],
   "source": [
    "# %load src/multiprocessing-event.py\n",
    "import multiprocessing\n",
    "import time\n",
    "\n",
    "\n",
    "def wait_for_event(e):\n",
    "    print(\"wait_for_event: starting\")\n",
    "    e.wait()\n",
    "    print(\"wairt_for_event: e.is_set()->\" + str(e.is_set()))\n",
    "\n",
    "\n",
    "def wait_for_event_timeout(e, t):\n",
    "    print(\"wait_for_event_timeout:starting\")\n",
    "    e.wait(t)\n",
    "    print(\"wait_for_event_timeout:e.is_set->\" + str(e.is_set()))\n",
    "\n",
    "\n",
    "if __name__ == \"__main__\":\n",
    "    e = multiprocessing.Event()\n",
    "    w1 = multiprocessing.Process(target=wait_for_event, args=(e,))\n",
    "    w2 = multiprocessing.Process(target=wait_for_event_timeout, args=(e, 6))\n",
    "    w1.start()\n",
    "    w2.start()\n",
    "    time.sleep(10)\n",
    "    print(\"main: event setting\")\n",
    "    e.set()\n",
    "    print(\"main: event is set\")\n"
   ]
  },
  {
   "cell_type": "code",
   "execution_count": 51,
   "metadata": {},
   "outputs": [
    {
     "name": "stdout",
     "output_type": "stream",
     "text": [
      "wait_for_event: starting\n",
      "wait_for_event_timeout:starting\n",
      "wait_for_event_timeout:e.is_set->False\n",
      "main: event setting\n",
      "main: event is set\n",
      "wairt_for_event: e.is_set()->True\n"
     ]
    }
   ],
   "source": [
    "!python src/multiprocessing-event.py"
   ]
  },
  {
   "cell_type": "markdown",
   "metadata": {},
   "source": [
    "### Barrier"
   ]
  },
  {
   "cell_type": "markdown",
   "metadata": {},
   "source": [
    "![](../asset/barrier.png)"
   ]
  },
  {
   "cell_type": "code",
   "execution_count": null,
   "metadata": {},
   "outputs": [],
   "source": [
    "# %load src/multiprocessing-barrier.py\n",
    "import multiprocessing\n",
    "from multiprocessing import Barrier, Lock, Process\n",
    "from time import time\n",
    "from datetime import datetime\n",
    "\n",
    "\n",
    "def test_with_barrier(synchronizer, serializer):\n",
    "    name = multiprocessing.current_process().name\n",
    "    synchronizer.wait()\n",
    "    now = time()\n",
    "    # lock\n",
    "    with serializer:\n",
    "        print(\"process %s ----> %s\" % (name, datetime.fromtimestamp(now)))\n",
    "\n",
    "\n",
    "def test_without_barrier():\n",
    "    name = multiprocessing.current_process().name\n",
    "    now = time()\n",
    "    print(\"process %s ----> %s\" % (name, datetime.fromtimestamp(now)))\n",
    "\n",
    "\n",
    "if __name__ == '__main__':\n",
    "    # python3.8在OSX中存在的一个问题\n",
    "    # https://docs.python.org/zh-cn/3/library/multiprocessing.html\n",
    "    multiprocessing.set_start_method('fork')\n",
    "    synchronizer = Barrier(2)\n",
    "    serializer = Lock()\n",
    "    Process(name='p1 - test_with_barrier', target=test_with_barrier, args=(synchronizer, serializer)).start()\n",
    "    Process(name='p2 - test_with_barrier', target=test_with_barrier, args=(synchronizer, serializer)).start()\n",
    "    Process(name='p3 - test_without_barrier', target=test_without_barrier).start()\n",
    "    Process(name='p4 - test_without_barrier', target=test_without_barrier).start()\n"
   ]
  },
  {
   "cell_type": "code",
   "execution_count": 34,
   "metadata": {},
   "outputs": [
    {
     "name": "stdout",
     "output_type": "stream",
     "text": [
      "process p2 - test_with_barrier ----> 2020-09-17 13:25:21.759643\r\n",
      "process p1 - test_with_barrier ----> 2020-09-17 13:25:21.759702\r\n",
      "process p3 - test_without_barrier ----> 2020-09-17 13:25:21.761097\r\n",
      "process p4 - test_without_barrier ----> 2020-09-17 13:25:21.762514\r\n"
     ]
    }
   ],
   "source": [
    "!python src/multiprocessing-barrier.py"
   ]
  },
  {
   "cell_type": "markdown",
   "metadata": {},
   "source": [
    "### RLock（可重入锁）\n",
    "**一个进程获取这个可重入锁后，这个进程可以无阻塞的再次获取它，并且每次获取后必须进行释放；对于不同的进程，它就相当于一把普通的互斥锁**\n",
    "\n",
    "Lock和Python中的Rlock之间的一个区别是，常规锁可以由不同的进程/线程释放，而重入锁必须由获取它的同一个进程/线程释放，同时要求解锁次数应与加锁次数相同，才能用于另一个进程/线程。另外，需要注意的是一定要避免在多个线程之间拆分锁定操作，如果一个线程试图释放一个尚未获取的锁，Python将引发错误并导致程序崩溃。"
   ]
  },
  {
   "cell_type": "markdown",
   "metadata": {},
   "source": [
    "## 误区\n",
    "- 单核在同一时间内只能使用CPU处理一个操作，没有所谓的“并行”\n",
    "- 并不是进程越多处理的就越快"
   ]
  },
  {
   "cell_type": "markdown",
   "metadata": {},
   "source": [
    "## 多进程面试题"
   ]
  },
  {
   "cell_type": "markdown",
   "metadata": {},
   "source": [
    "### 进程之间的通信方式以及优缺点？\n",
    "\n",
    "**1)管道**\n",
    "管道分为有名管道和无名管道\n",
    "\n",
    "无名管道：优点：简单方便高效；缺点：1）局限于单向通信2）只能创建在它的进程以及其有亲缘关系的进程之间;3）缓冲区有限；\n",
    "\n",
    "有名管道：优点：可以实现任意关系的进程间的通信；缺点：1）长期存于系统中，使用不当容易出错；2）缓冲区有限\n",
    "\n",
    "\n",
    "**2)消息队列**\n",
    "\n",
    "优点：可以实现任意进程间的通信，并通过系统调用函数来实现消息发送和接收之间的同步，无需考虑同步问题，方便；缺点：信息的复制需要额外消耗CPU的时间，不适宜于信息量大或操作频繁的场合\n",
    "\n",
    "\n",
    "**3)共享内存**\n",
    "\n",
    "优点：无须复制，快捷，信息量大；\n",
    "\n",
    "缺点：1）处理同步问题容易出现问题，编程难度大；2)利用内存缓冲区直接交换信息，内存的实体存在于计算机中，只能同一个计算机系统中的诸多进程共享，不方便网络通信；3）容灾性差\n",
    "\n",
    "\n",
    "**4)套接字：可用于不同及其间的进程通信**\n",
    "\n",
    "优点：1）传输数据为字节级，传输数据可自定义，数据量小效率高；2）传输数据时间短，性能高；3) 适合于客户端和服务器端之间信息实时交互；4) 可以加密,数据安全性强\n",
    "\n",
    "缺点：1) 需对传输的数据进行解析，转化成应用级的数据。"
   ]
  },
  {
   "cell_type": "code",
   "execution_count": null,
   "metadata": {},
   "outputs": [],
   "source": []
  }
 ],
 "metadata": {
  "kernelspec": {
   "display_name": "Python 3",
   "language": "python",
   "name": "python3"
  },
  "language_info": {
   "codemirror_mode": {
    "name": "ipython",
    "version": 3
   },
   "file_extension": ".py",
   "mimetype": "text/x-python",
   "name": "python",
   "nbconvert_exporter": "python",
   "pygments_lexer": "ipython3",
   "version": "3.7.6"
  },
  "toc": {
   "base_numbering": 1,
   "nav_menu": {},
   "number_sections": true,
   "sideBar": true,
   "skip_h1_title": false,
   "title_cell": "Table of Contents",
   "title_sidebar": "Contents",
   "toc_cell": false,
   "toc_position": {
    "height": "calc(100% - 180px)",
    "left": "10px",
    "top": "150px",
    "width": "288px"
   },
   "toc_section_display": true,
   "toc_window_display": true
  }
 },
 "nbformat": 4,
 "nbformat_minor": 4
}
