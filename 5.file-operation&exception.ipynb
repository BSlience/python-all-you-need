{
 "cells": [
  {
   "cell_type": "markdown",
   "metadata": {},
   "source": [
    "### 文件操作\n",
    "\n",
    "概述：\n",
    "\n",
    "  常见的txt/avi/html/zip/word等都称之为文件   \n",
    "  \n",
    "文件作用：\n",
    "\n",
    "   存储数据"
   ]
  },
  {
   "cell_type": "markdown",
   "metadata": {},
   "source": [
    "#### 文件打开\n",
    "在python，使用open函数，可以打开一个已经存在的文件，或者创建一个新文件\n",
    "\n",
    "open(文件名，访问模式)\n",
    "\n",
    "示例如下：\n",
    "\n",
    "    f = open('test.txt', 'w')\n",
    "\n",
    "说明:\n",
    "访问模式 \t说明\n",
    "r \t以只读方式打开文件。文件的指针将会放在文件的开头。这是默认模式。\n",
    "\n",
    "w \t打开一个文件只用于写入。如果该文件已存在则将其覆盖。如果该文件不存在，创建新文件。\n",
    "\n",
    "a \t打开一个文件用于追加。如果该文件已存在，文件指针将会放在文件的结尾。也就是说，新的内容将会被写入到\n",
    "\n",
    "已有内容之后。如果该文件不存在，创建新文件进行写入。\n",
    "\n",
    "rb \t以二进制格式打开一个文件用于只读。文件指针将会放在文件的开头。这是默认模式。\n",
    "\n",
    "wb \t以二进制格式打开一个文件只用于写入。如果该文件已存在则将其覆盖。如果该文件不存在，创建新文件。\n",
    "\n",
    "ab \t以二进制格式打开一个文件用于追加。如果该文件已存在，文件指针将会放在文件的结尾。也就是说，\n",
    "\n",
    "新的内容将会被写入到已有内容之后。如果该文件不存在，创建新文件进行写入。\n",
    "\n",
    "r+ \t打开一个文件用于读写。文件指针将会放在文件的开头。\n",
    "\n",
    "w+ \t打开一个文件用于读写。如果该文件已存在则将其覆盖。如果该文件不存在，创建新文件。\n",
    "\n",
    "a+ \t打开一个文件用于读写。如果该文件已存在，文件指针将会放在文件的结尾。文件打开时会是追加模式。\n",
    "\n",
    "如果该文件不存在，创建新文件用于读写。\n",
    "\n",
    "rb+ \t以二进制格式打开一个文件用于读写。文件指针将会放在文件的开头。\n",
    "\n",
    "wb+ \t以二进制格式打开一个文件用于读写。如果该文件已存在则将其覆盖。如果该文件不存在，创建新文件。\n",
    "\n",
    "ab+ \t以二进制格式打开一个文件用于追加。如果该文件已存在，文件指针将会放在文件的结尾。\n",
    "\n",
    "如果该文件不存在，创建新文件用于读写。"
   ]
  },
  {
   "cell_type": "markdown",
   "metadata": {},
   "source": [
    "#### 文件关闭\n",
    "使用函数：\n",
    " close( )"
   ]
  },
  {
   "cell_type": "code",
   "execution_count": 40,
   "metadata": {
    "ExecuteTime": {
     "end_time": "2019-05-08T07:14:23.966039Z",
     "start_time": "2019-05-08T07:14:23.960303Z"
    }
   },
   "outputs": [],
   "source": [
    "#示例如下：\n",
    "# 新建一个文件，文件名为:test.txt\n",
    "f = open('test.txt', 'w')\n",
    "    # 关闭这个文件\n",
    "f.close()"
   ]
  },
  {
   "cell_type": "markdown",
   "metadata": {},
   "source": [
    "#### 文件读写"
   ]
  },
  {
   "cell_type": "code",
   "execution_count": 41,
   "metadata": {
    "ExecuteTime": {
     "end_time": "2019-05-08T07:17:15.081725Z",
     "start_time": "2019-05-08T07:17:15.074243Z"
    },
    "collapsed": true,
    "jupyter": {
     "outputs_hidden": true
    }
   },
   "outputs": [
    {
     "data": {
      "text/plain": [
       "'\\n注意：\\n    如果文件不存在那么创建，如果存在那么就先清空，然后写入数据\\n'"
      ]
     },
     "execution_count": 41,
     "metadata": {},
     "output_type": "execute_result"
    }
   ],
   "source": [
    "#写\n",
    "#使用write()可以完成向文件写入数据\n",
    "f = open('test.txt', 'w')\n",
    "f.write('hello world, i am here!')\n",
    "f.close()\n",
    "\"\"\"\n",
    "注意：\n",
    "    如果文件不存在那么创建，如果存在那么就先清空，然后写入数据\n",
    "\"\"\"    "
   ]
  },
  {
   "cell_type": "markdown",
   "metadata": {},
   "source": [
    "#### open（）函数和with open（）的异同点\n",
    "- with 语句在不再需要访问文件后将其关闭。让python自己判断什么时候该关闭，并自己去关闭。\n",
    "- 直接使用open()方法打开文件，要自己调用close()方法关闭文件。如果程序存在bug，导致close()语句未执行，文件将不会关闭。这看似微不足道，但未妥善地关闭文件可能会导致数据丢失或受损。如果在程序中过早地调用close(),我们会发现需要使用文件时它已关闭(无法访问)，这会导致更多的错误。并非任何情况下都能轻松地确定关闭文件的恰当时机。\n",
    "- open()后是一个对象，这个对象有read()方法与write()方法。"
   ]
  },
  {
   "cell_type": "markdown",
   "metadata": {
    "ExecuteTime": {
     "end_time": "2019-05-08T11:16:29.596550Z",
     "start_time": "2019-05-08T11:16:29.590924Z"
    }
   },
   "source": [
    "- 读取内容\n",
    "    1. read()\n",
    "        - read([size])方法：从文件当前位置起读取size个字节，若无参数size，则表示读取至文件结束为止，它返回为字符串对象.\n",
    "    2. readlines()\n",
    "        - readlines()方法：读取整个文件所有行，保存在一个列表(list)变量中，该列表可以由Python的for  in 结果进行处理，每行作为一个元素，但读取大文件会比较占内存。\n",
    "    3. readline()\n",
    "        - readline()方法：从字面意思可以看出，该方法每次读出一行内容，所以，读取时占用内存小，比较适合大文件，该方法返回一个字符串对象。"
   ]
  },
  {
   "cell_type": "markdown",
   "metadata": {},
   "source": [
    "- 文件的写入\n",
    "    - 写模式w特点：\n",
    "        1. 只能写，不能读；\n",
    "        2. 写的时候会把原来文件的内容清空；\n",
    "        3. 当文件不存在时，会创建新文件。\n",
    "    - 写读模式w+特点：\n",
    "        1. 可以写，也可以读；\n",
    "        2. 写的时候会把原来文件的内容清空；\n",
    "        3. 当文件不存在时，会创建新文件。\n",
    "    - 追加模式a特点：\n",
    "        1. 不能读；\n",
    "        2. 可以写，是追加写，即在原内容末尾添加新内容；\n",
    "        3. 当文件不存在时，创建新文件。\n",
    "    - 追加读a+模式特点：\n",
    "        1. 可读可写；\n",
    "        2. 写的时候是追加写，即在原内容末尾添加新内容；\n",
    "        3. 当文件不存在时，创建新文件"
   ]
  },
  {
   "cell_type": "markdown",
   "metadata": {},
   "source": [
    "**文件读写常用模式**\n",
    "\n",
    "| 操作模式 | 具体含义                         |\n",
    "| :--- | :--- |\n",
    "|  `'r'`  |\t只能读|\n",
    "|  `'r+'`  |\t可读可写，不会创建不存在的文件，从顶部开始写，会覆盖之前此位置的内容|\n",
    "|  `'w'`  |\t只能写，覆盖整个原有文件（不要乱用），不存在则创建|\n",
    "|  `'w+'`  |\t可读可写，如果文件存在，则覆盖整个文件，不存在则创建|\n",
    "|  `'a'`  |\t只能写，从文件底部添加内容 不存在则创建|\n",
    "|  `'a+'`  |\t可读可写 从文件顶部读取内容 从文件底部添加内容 不存在则创建|"
   ]
  },
  {
   "cell_type": "markdown",
   "metadata": {},
   "source": [
    "#### 文件定位读写\n",
    "\n",
    "什么是定位？\n",
    "\n",
    "通俗的讲就是找到一个合适的位置\n",
    "\n",
    "在软件开发中文件的读写定为该如何实现？\n",
    "\n",
    "##### 获取当前读写的位置\n",
    "\n",
    "#在读写文件的过程中，如果想知道当前的位置，\n",
    "\n",
    "#可以使用tell()来获取,这里是光标开始的位置\n",
    "\n",
    "##### 定位到某个位置\n",
    "\n",
    "如果在读写文件的过程中，需要从另外一个位置进行操作的话，可以使用seek()"
   ]
  },
  {
   "cell_type": "markdown",
   "metadata": {},
   "source": []
  },
  {
   "cell_type": "markdown",
   "metadata": {},
   "source": [
    "#### 文件重命名\n",
    "\n",
    "os模块中的rename()可以完成对文件的重命名操作\n",
    "\n",
    " 格式： \n",
    " \n",
    " rename(需要修改的文件名, 新的文件名)"
   ]
  },
  {
   "cell_type": "markdown",
   "metadata": {},
   "source": [
    "#### 文件删除\n",
    "\n",
    "概述：os模块中的remove()可以完成对文件的删除操作\n",
    "   \n",
    "格式：\n",
    "\n",
    "remove(待删除的文件名)"
   ]
  },
  {
   "cell_type": "markdown",
   "metadata": {},
   "source": [
    "### 文件夹操作"
   ]
  },
  {
   "cell_type": "markdown",
   "metadata": {},
   "source": [
    "#### 创建文件夹\n",
    "\n",
    "使用os模块中的mkdir()函数\n",
    "\n",
    "格式：\n",
    "\n",
    "   mkdir(str)"
   ]
  },
  {
   "cell_type": "markdown",
   "metadata": {},
   "source": [
    "#### 获取当前目录\n",
    "\n",
    "使用os模块中的getcwd()函数\n",
    "\n",
    "格式：\n",
    "   getcwd()"
   ]
  },
  {
   "cell_type": "markdown",
   "metadata": {},
   "source": [
    "#### 获取目录列表\n",
    "\n",
    "使用os模块中的listdir()函数\n",
    "\n",
    "格式：\n",
    "   listdir()"
   ]
  },
  {
   "cell_type": "markdown",
   "metadata": {},
   "source": [
    "#### 删除文件夹\n",
    "\n",
    "使用os模块中的rmdir()函数\n",
    "  \n",
    "rmdir(str)--->str:表示需要删除的文件夹名称"
   ]
  },
  {
   "cell_type": "markdown",
   "metadata": {},
   "source": [
    "### 异常\n"
   ]
  },
  {
   "cell_type": "markdown",
   "metadata": {},
   "source": [
    "#### 异常的处理\n",
    "\n",
    "当出现异常情况时改如何处理？\n",
    "\n",
    "   捕获异常\n",
    "   \n",
    "捕获异常的基本格式：\n",
    "\n",
    "   try...except..."
   ]
  },
  {
   "cell_type": "markdown",
   "metadata": {},
   "source": [
    "#### else\n",
    "\n",
    "咱们应该对else并不陌生，在if中，它的作用是当条件不满足时执行的实行；\n",
    "\n",
    "同样在try...except...中也是如此，即如果没有捕获到异常，那么就执行else中的事情\n",
    "\n",
    "\n"
   ]
  },
  {
   "cell_type": "markdown",
   "metadata": {},
   "source": [
    "#### try...finally...\n",
    "\n",
    "try...finally...语句用来表达这样的情况：\n",
    "\n",
    "在程序中，如果一个段代码必须要执行，即无论异常是否产生都要执行，那么此时就需要使用finally。\n",
    "\n",
    "比如文件关闭，释放锁，把数据库连接返还给连接池等"
   ]
  },
  {
   "cell_type": "markdown",
   "metadata": {},
   "source": [
    "#### 自定义异常\n",
    "\n",
    "你可以用raise语句来引发一个异常"
   ]
  },
  {
   "cell_type": "markdown",
   "metadata": {},
   "source": [
    "### 文件和异常综合：\n",
    "#### 读写文本文件\n",
    "\n",
    "读取文本文件时，需要在使用`open`函数时指定好带路径的文件名（可以使用相对路径或绝对路径）并将文件模式设置为`'r'`（如果不指定，默认值也是`'r'`），然后通过`encoding`参数指定编码（如果不指定，默认值是None，那么在读取文件时使用的是操作系统默认的编码），如果不能保证保存文件时使用的编码方式与encoding参数指定的编码方式是一致的，那么就可能因无法解码字符而导致读取失败。下面的例子演示了如何读取一个纯文本文件。\n",
    "\n",
    "```Python\n",
    "def main():\n",
    "    f = open('致橡树.txt', 'r', encoding='utf-8')\n",
    "    print(f.read())\n",
    "    f.close()\n",
    "\n",
    "\n",
    "if __name__ == '__main__':\n",
    "    main()\n",
    "```\n",
    "\n",
    "请注意上面的代码，如果`open`函数指定的文件并不存在或者无法打开，那么将引发异常状况导致程序崩溃。为了让代码有一定的健壮性和容错性，我们可以使用Python的异常机制对可能在运行时发生状况的代码进行适当的处理，如下所示。\n",
    "\n",
    "```Python\n",
    "def main():\n",
    "    f = None\n",
    "    try:\n",
    "        f = open('致橡树.txt', 'r', encoding='utf-8')\n",
    "        print(f.read())\n",
    "    except FileNotFoundError:\n",
    "        print('无法打开指定的文件!')\n",
    "    except LookupError:\n",
    "        print('指定了未知的编码!')\n",
    "    except UnicodeDecodeError:\n",
    "        print('读取文件时解码错误!')\n",
    "    finally:\n",
    "        if f:\n",
    "            f.close()\n",
    "\n",
    "\n",
    "if __name__ == '__main__':\n",
    "    main()\n",
    "```\n",
    "\n",
    "在Python中，我们可以将那些在运行时可能会出现状况的代码放在`try`代码块中，在`try`代码块的后面可以跟上一个或多个`except`来捕获可能出现的异常状况。例如在上面读取文件的过程中，文件找不到会引发`FileNotFoundError`，指定了未知的编码会引发`LookupError`，而如果读取文件时无法按指定方式解码会引发`UnicodeDecodeError`，我们在`try`后面跟上了三个`except`分别处理这三种不同的异常状况。最后我们使用`finally`代码块来关闭打开的文件，释放掉程序中获取的外部资源，由于`finally`块的代码不论程序正常还是异常都会执行到（甚至是调用了`sys`模块的`exit`函数退出Python环境，`finally`块都会被执行，因为`exit`函数实质上是引发了`SystemExit`异常），因此我们通常把`finally`块称为“总是执行代码块”，它最适合用来做释放外部资源的操作。如果不愿意在`finally`代码块中关闭文件对象释放资源，也可以使用上下文语法，通过`with`关键字指定文件对象的上下文环境并在离开上下文环境时自动释放文件资源，代码如下所示。\n",
    "\n",
    "```Python\n",
    "def main():\n",
    "    try:\n",
    "        with open('致橡树.txt', 'r', encoding='utf-8') as f:\n",
    "            print(f.read())\n",
    "    except FileNotFoundError:\n",
    "        print('无法打开指定的文件!')\n",
    "    except LookupError:\n",
    "        print('指定了未知的编码!')\n",
    "    except UnicodeDecodeError:\n",
    "        print('读取文件时解码错误!')\n",
    "\n",
    "\n",
    "if __name__ == '__main__':\n",
    "    main()\n",
    "```\n",
    "\n",
    "除了使用文件对象的`read`方法读取文件之外，还可以使用`for-in`循环逐行读取或者用`readlines`方法将文件按行读取到一个列表容器中，代码如下所示。\n",
    "\n",
    "```Python\n",
    "import time\n",
    "\n",
    "\n",
    "def main():\n",
    "    # 一次性读取整个文件内容\n",
    "    with open('致橡树.txt', 'r', encoding='utf-8') as f:\n",
    "        print(f.read())\n",
    "\n",
    "    # 通过for-in循环逐行读取\n",
    "    with open('致橡树.txt', mode='r') as f:\n",
    "        for line in f:\n",
    "            print(line, end='')\n",
    "            time.sleep(0.5)\n",
    "    print()\n",
    "\n",
    "    # 读取文件按行读取到列表中\n",
    "    with open('致橡树.txt') as f:\n",
    "        lines = f.readlines()\n",
    "    print(lines)\n",
    "    \n",
    "\n",
    "if __name__ == '__main__':\n",
    "    main()\n",
    "```\n",
    "\n",
    "要将文本信息写入文件文件也非常简单，在使用`open`函数时指定好文件名并将文件模式设置为`'w'`即可。注意如果需要对文件内容进行追加式写入，应该将模式设置为`'a'`。如果要写入的文件不存在会自动创建文件而不是引发异常。下面的例子演示了如何将1-9999之间的素数分别写入三个文件中（1-99之间的素数保存在a.txt中，100-999之间的素数保存在b.txt中，1000-9999之间的素数保存在c.txt中）。\n",
    "\n",
    "```Python\n",
    "from math import sqrt\n",
    "\n",
    "\n",
    "def is_prime(n):\n",
    "    \"\"\"判断素数的函数\"\"\"\n",
    "    assert n > 0\n",
    "    for factor in range(2, int(sqrt(n)) + 1):\n",
    "        if n % factor == 0:\n",
    "            return False\n",
    "    return True if n != 1 else False\n",
    "\n",
    "\n",
    "def main():\n",
    "    filenames = ('a.txt', 'b.txt', 'c.txt')\n",
    "    fs_list = []\n",
    "    try:\n",
    "        for filename in filenames:\n",
    "            fs_list.append(open(filename, 'w', encoding='utf-8'))\n",
    "        for number in range(1, 10000):\n",
    "            if is_prime(number):\n",
    "                if number < 100:\n",
    "                    fs_list[0].write(str(number) + '\\n')\n",
    "                elif number < 1000:\n",
    "                    fs_list[1].write(str(number) + '\\n')\n",
    "                else:\n",
    "                    fs_list[2].write(str(number) + '\\n')\n",
    "    except IOError as ex:\n",
    "        print(ex)\n",
    "        print('写文件时发生错误!')\n",
    "    finally:\n",
    "        for fs in fs_list:\n",
    "            fs.close()\n",
    "    print('操作完成!')\n",
    "\n",
    "\n",
    "if __name__ == '__main__':\n",
    "    main()\n",
    "```"
   ]
  },
  {
   "cell_type": "markdown",
   "metadata": {},
   "source": [
    "#### 读写二进制文件\n",
    "\n",
    "知道了如何读写文本文件要读写二进制文件也就很简单了，下面的代码实现了复制图片文件的功能。\n",
    "\n",
    "```Python\n",
    "def main():\n",
    "    try:\n",
    "        with open('guido.jpg', 'rb') as fs1:\n",
    "            data = fs1.read()\n",
    "            print(type(data))  # <class 'bytes'>\n",
    "        with open('吉多.jpg', 'wb') as fs2:\n",
    "            fs2.write(data)\n",
    "    except FileNotFoundError as e:\n",
    "        print('指定的文件无法打开.')\n",
    "    except IOError as e:\n",
    "        print('读写文件时出现错误.')\n",
    "    print('程序执行结束.')\n",
    "\n",
    "\n",
    "if __name__ == '__main__':\n",
    "    main()\n",
    "```\n",
    "\n",
    "#### 读写JSON文件\n",
    "\n",
    "通过上面的讲解，我们已经知道如何将文本数据和二进制数据保存到文件中，那么这里还有一个问题，如果希望把一个列表或者一个字典中的数据保存到文件中又该怎么做呢？答案是将数据以JSON格式进行保存。JSON是“JavaScript Object Notation”的缩写，它本来是JavaScript语言中创建对象的一种字面量语法，现在已经被广泛的应用于跨平台跨语言的数据交换，原因很简单，因为JSON也是纯文本，任何系统任何编程语言处理纯文本都是没有问题的。目前JSON基本上已经取代了XML作为异构系统间交换数据的事实标准。关于JSON的知识，更多的可以参考[JSON的官方网站](http://json.org)，从这个网站也可以了解到每种语言处理JSON数据格式可以使用的工具或三方库，下面是一个JSON的简单例子。\n",
    "\n",
    "```JSON\n",
    "{\n",
    "    \"name\": \"张三\",\n",
    "    \"age\": 36,\n",
    "    \"qq\": 957658,\n",
    "    \"friends\": [\"王大锤\", \"白元芳\"],\n",
    "    \"cars\": [\n",
    "        {\"brand\": \"BYD\", \"max_speed\": 180},\n",
    "        {\"brand\": \"Audi\", \"max_speed\": 280},\n",
    "        {\"brand\": \"Benz\", \"max_speed\": 320}\n",
    "    ]\n",
    "}\n",
    "```\n",
    "\n",
    "可能大家已经注意到了，上面的JSON跟Python中的字典其实是一样一样的，事实上JSON的数据类型和Python的数据类型是很容易找到对应关系的，如下面两张表所示。\n",
    "\n",
    "| JSON                | Python       |\n",
    "| :------------------- | :------------ |\n",
    "| object              | dict         |\n",
    "| array               | list         |\n",
    "| string              | str          |\n",
    "| number (int / real) | int / float  |\n",
    "| true / false        | True / False |\n",
    "| null                | None         |\n",
    "\n",
    "| Python                                 | JSON         |\n",
    "| :-------------------------------------- | :------------ |\n",
    "| dict                                   | object       |\n",
    "| list, tuple                            | array        |\n",
    "| str                                    | string       |\n",
    "| int, float, int- & float-derived Enums | number       |\n",
    "| True / False                           | true / false |\n",
    "| None                                   | null         |\n",
    "\n",
    "我们使用Python中的json模块就可以将字典或列表以JSON格式保存到文件中，代码如下所示。\n",
    "\n",
    "```Python\n",
    "import json\n",
    "\n",
    "\n",
    "def main():\n",
    "    mydict = {\n",
    "        'name': '张三',\n",
    "        'age': 36,\n",
    "        'qq': 957658,\n",
    "        'friends': ['王大锤', '白元芳'],\n",
    "        'cars': [\n",
    "            {'brand': 'BYD', 'max_speed': 180},\n",
    "            {'brand': 'Audi', 'max_speed': 280},\n",
    "            {'brand': 'Benz', 'max_speed': 320}\n",
    "        ]\n",
    "    }\n",
    "    try:\n",
    "        with open('data.json', 'w', encoding='utf-8') as fs:\n",
    "            json.dump(mydict, fs)\n",
    "    except IOError as e:\n",
    "        print(e)\n",
    "    print('保存数据完成!')\n",
    "\n",
    "\n",
    "if __name__ == '__main__':\n",
    "    main()\n",
    "```\n",
    "\n",
    "json模块主要有四个比较重要的函数，分别是：\n",
    "\n",
    "- `dump` - 将Python对象按照JSON格式序列化到文件中\n",
    "- `dumps` - 将Python对象处理成JSON格式的字符串\n",
    "- `load` - 将文件中的JSON数据反序列化成对象\n",
    "- `loads` - 将字符串的内容反序列化成Python对象\n",
    "\n",
    "这里出现了两个概念，一个叫序列化，一个叫反序列化。自由的百科全书[维基百科](https://zh.wikipedia.org/)上对这两个概念是这样解释的：“序列化（serialization）在计算机科学的数据处理中，是指将数据结构或对象状态转换为可以存储或传输的形式，这样在需要的时候能够恢复到原先的状态，而且通过序列化的数据重新获取字节时，可以利用这些字节来产生原始对象的副本（拷贝）。与这个过程相反的动作，即从一系列字节中提取数据结构的操作，就是反序列化（deserialization）”。"
   ]
  }
 ],
 "metadata": {
  "kernelspec": {
   "display_name": "Python 3",
   "language": "python",
   "name": "python3"
  },
  "language_info": {
   "codemirror_mode": {
    "name": "ipython",
    "version": 3
   },
   "file_extension": ".py",
   "mimetype": "text/x-python",
   "name": "python",
   "nbconvert_exporter": "python",
   "pygments_lexer": "ipython3",
   "version": "3.7.4"
  }
 },
 "nbformat": 4,
 "nbformat_minor": 4
}
