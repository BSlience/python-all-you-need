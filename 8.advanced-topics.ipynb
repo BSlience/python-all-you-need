{
 "cells": [
  {
   "cell_type": "markdown",
   "metadata": {},
   "source": [
    "# Python的引用"
   ]
  },
  {
   "cell_type": "markdown",
   "metadata": {},
   "source": [
    "## python 的赋值是引用"
   ]
  },
  {
   "cell_type": "markdown",
   "metadata": {},
   "source": [
    "python 的 一切都是对象\n",
    "\n",
    "python 是 高度面向对象特性，所以实际上Python里面的任何元素都是一种对象。考虑一下如下代码："
   ]
  },
  {
   "cell_type": "code",
   "execution_count": 69,
   "metadata": {
    "ExecuteTime": {
     "end_time": "2020-09-10T07:42:06.963367Z",
     "start_time": "2020-09-10T07:42:06.959942Z"
    }
   },
   "outputs": [
    {
     "name": "stdout",
     "output_type": "stream",
     "text": [
      "300\n"
     ]
    }
   ],
   "source": [
    "print(300)"
   ]
  },
  {
   "cell_type": "markdown",
   "metadata": {},
   "source": [
    "这个代码会做三件事情\n",
    "\n",
    "1. 生成一个int对象\n",
    "\n",
    "2. 把300的值赋给int对象\n",
    "\n",
    "3. 在console里面打印300\n",
    "\n",
    "可以从如下代码里面看出300为int的实例"
   ]
  },
  {
   "cell_type": "code",
   "execution_count": 71,
   "metadata": {
    "ExecuteTime": {
     "end_time": "2020-09-10T07:50:50.582048Z",
     "start_time": "2020-09-10T07:50:50.577973Z"
    }
   },
   "outputs": [
    {
     "data": {
      "text/plain": [
       "int"
      ]
     },
     "execution_count": 71,
     "metadata": {},
     "output_type": "execute_result"
    }
   ],
   "source": [
    "type(300)"
   ]
  },
  {
   "cell_type": "markdown",
   "metadata": {},
   "source": [
    "python的变量是一个符号，是实例的引用"
   ]
  },
  {
   "cell_type": "markdown",
   "metadata": {},
   "source": [
    "变量赋值给变量，也是传引用"
   ]
  },
  {
   "cell_type": "markdown",
   "metadata": {},
   "source": [
    "如果重新给m赋值，那么m会把自己的指针指向新实例\n",
    "\n",
    "如果n再重新赋值，那么会没有变量指向实例300"
   ]
  },
  {
   "cell_type": "markdown",
   "metadata": {},
   "source": [
    "1. python不允许程序员选择采用传值还是传引用。Python参数传递采用的肯定是“传对象引用”的方式。实际上，这种方式相当于传值和传引用的一种综合。如果函数收到的是一个可变对象（比如字典或者列表）的引用，就能修改对象的原始值——相当于通过“传引用”来传递对象。如果函数收到的是一个不可变对象（比如数字、字符或者元组）的引用，就不能直接修改原始对象——相当于通过“传值'来传递对象。\n",
    "\n",
    "2. 当人们复制列表或字典时，就复制了对象列表的引用同，如果改变引用的值，则修改了原始的参数。\n",
    "\n",
    "3. 为了简化内存管理，Python通过引用计数机制实现自动垃圾回收功能，Python中的每个对象都有一个引用计数，用来计数该对象在不同场所分别被引用了多少次。每当引用一次Python对象，相应的引用计数就增1，每当消毁一次Python对象，则相应的引用就减1，只有当引用计数为零时，才真正从内存中删除Python对象。"
   ]
  },
  {
   "cell_type": "markdown",
   "metadata": {},
   "source": [
    "## Python中的值类型与引用类型"
   ]
  },
  {
   "cell_type": "markdown",
   "metadata": {},
   "source": [
    "其实各个标准资料中没有说明Python有值类型和引用类型的分类，这个分类一般是C++和Java中的。但是语言是相通的，所以Python肯定也有类似的。实际上Python 的变量是没有类型的，这与以往看到的大部分语言都不一样（JS等弱类型的也是这样）。但 Python 却是区分类型的，那类型在哪里呢？事实是，类型是跟着内存中的对象走的。类型属于对象，变量是没有类型的。一般也分实参和形参。"
   ]
  },
  {
   "cell_type": "markdown",
   "metadata": {},
   "source": [
    "### 变量\n",
    "Python中的变量都是指针，这确实和之前学过的强类型语言是有不同的。因为变量是指针，所以所有的变量无类型限制，可以指向任意对象。指针的内存空间大小是与类型无关的，其内存空间只是保存了所指向数据的内存地址。\n",
    "\n",
    "Python 的所有变量其实都是指向内存中的对象的一个指针，所有的变量都是！此外，对象还分两类：一类是可修改的，一类是不可修改的。我的理解是把可修改(mutable)的类型叫做值类型，不可修改(immutable)类型叫做引用类型。\n",
    "\n",
    "### 对象\n",
    "对象=确定内存空间+存储在这块内存空间中的值。\n",
    "\n",
    "Java中，对象是分配在堆上的，存储真正的数据，而引用是在栈中开辟的内存空间用于引用某一个对象（值类型的变量也是存储到栈上）。\n",
    "\n",
    "### 值类型\n",
    "在Python中，数值（整型，浮点型），布尔型，字符串，元组属于值类型，本身不允许被修改（不可变类型），数值的修改实际上是让变量指向了一个新的对象（新创建的对象），所以不会发生共享内存问题。 这种方式同Java的不可变对象（String）实现方式相同。原始对象被Python的GC回收。"
   ]
  },
  {
   "cell_type": "code",
   "execution_count": null,
   "metadata": {},
   "outputs": [],
   "source": [
    "a = 1\n",
    "b = a\n",
    "a = 2\n",
    "print(b)  #输出的结果是1"
   ]
  },
  {
   "cell_type": "markdown",
   "metadata": {},
   "source": [
    "修改值类型的值，只是让它指向一个新的内存地址，并不会改变变量b的值"
   ]
  },
  {
   "cell_type": "code",
   "execution_count": 61,
   "metadata": {
    "ExecuteTime": {
     "end_time": "2020-09-10T06:08:25.471639Z",
     "start_time": "2020-09-10T06:08:25.465822Z"
    }
   },
   "outputs": [
    {
     "name": "stdout",
     "output_type": "stream",
     "text": [
      "94877546771200\n",
      "94877546771200\n",
      "94877546771232 94877546771232\n",
      "94877546771232 94877546771232\n",
      "94877546771296\n"
     ]
    }
   ],
   "source": [
    "x = 1\n",
    "print(id(x))\n",
    "y = 1\n",
    "print(id(y))\n",
    "x = 2\n",
    "y = 2\n",
    "print(id(x), id(y))\n",
    "z = y\n",
    "print(id(y), id(z))\n",
    "x += 2\n",
    "print(id(x))"
   ]
  },
  {
   "cell_type": "markdown",
   "metadata": {},
   "source": [
    "- 类似于Java的字符串常量池。\n",
    "\n",
    "    1. Python在底层做了一定的优化，对于使用过小整数以及短字符串都会被缓存起来。所以上述b引用的应该是被缓存过的3\n",
    "    2. 之所以采用这种优化的方式，是因为python中数字和字符串一经创建都是不可修改的。所以不会出现，因使用了缓存的对象值造成“脏读”的问题"
   ]
  },
  {
   "cell_type": "markdown",
   "metadata": {},
   "source": [
    "### 引用类型\n",
    "在Python中，列表，集合，字典是引用类型，本身允许修改（可变类型）。\n"
   ]
  },
  {
   "cell_type": "code",
   "execution_count": 63,
   "metadata": {
    "ExecuteTime": {
     "end_time": "2020-09-10T06:10:49.810337Z",
     "start_time": "2020-09-10T06:10:49.805749Z"
    }
   },
   "outputs": [
    {
     "name": "stdout",
     "output_type": "stream",
     "text": [
      "140708389416464 140708389416464\n",
      "[3, 2]\n"
     ]
    }
   ],
   "source": [
    "list_a = [1,2]\n",
    "list_b = list_a\n",
    "print(id(list_a), id(list_b))\n",
    "list_a[0] = 3\n",
    "print(list_b)  #此时的输出结果是[3,2]"
   ]
  },
  {
   "cell_type": "markdown",
   "metadata": {},
   "source": [
    "修改引用类型的值，因为list_b的地址和list_a的一致，所以也会被修改\n",
    "\n",
    "一般只为了复制值，可以使用分片操作。还可以使用拷贝操作"
   ]
  },
  {
   "cell_type": "code",
   "execution_count": 65,
   "metadata": {
    "ExecuteTime": {
     "end_time": "2020-09-10T06:12:49.264802Z",
     "start_time": "2020-09-10T06:12:49.259492Z"
    }
   },
   "outputs": [
    {
     "name": "stdout",
     "output_type": "stream",
     "text": [
      "140708430177056\n",
      "140708581065184\n",
      "140708581065184\n",
      "140708581065184\n",
      "[1, 2, 3, 4, 2]\n"
     ]
    }
   ],
   "source": [
    "a = [1, 2, 3]\n",
    "print(id(a))\n",
    "a = [1, 2, 3]\n",
    "print(id(a))\n",
    "a.append(4)\n",
    "print(id(a))\n",
    "a += [2]\n",
    "print(id(a))\n",
    "print(a)"
   ]
  },
  {
   "cell_type": "markdown",
   "metadata": {},
   "source": [
    "从上面的程序中可以看出，进行两次a = [1, 2, 3]操作，两次a引用的地址值是不同的，也就是说其实创建了两个不同的对象，这一点明显不同于不可变数据类型，所以对于可变数据类型来说，具有同样值的对象是不同的对象，即在内存中保存了多个同样值的对象，地址值不同。接着来看后面的操作，我们对列表进行添加操作，分别a.append(4)和a += [2]，发现这两个操作使得a引用的对象值变成了上面的最终结果，但是a引用的地址依旧是41575088，也就是说对a进行的操作不会改变a引用的地址值，只是在地址后面又扩充了新的地址，改变了地址里面存放的值，所以可变数据类型的意思就是说对一个变量进行操作时，其值是可变的，值的变化并不会引起新建对象，即地址是不会变的，只是地址中的内容变化了或者地址得到了扩充。"
   ]
  },
  {
   "cell_type": "markdown",
   "metadata": {},
   "source": [
    "可变数据类型是允许同一对象的内容，即值可以变化，但是地址是不会变化的。但是需要注意一点，对可变数据类型的操作不能是直接进行新的赋值操作，比如说a = [1, 2, 3, 4, 5, 6, 7]，这样的操作就不是改变值了，而是新建了一个新的对象，这里的可变只是对于类似于append、+=等这种操作。"
   ]
  },
  {
   "cell_type": "markdown",
   "metadata": {},
   "source": [
    "python中的不可变数据类型，不允许变量的值发生变化，如果改变了变量的值，相当于是新建了一个对象，而对于相同的值的对象，在内存中则只有一个对象，内部会有一个引用计数来记录有多少个变量引用这个对象；可变数据类型，允许变量的值发生变化，即如果对变量进行append、+=等这种操作后，只是改变了变量的值，而不会新建一个对象，变量引用的对象的地址也不会变化，不过对于相同的值的不同对象，在内存中则会存在不同的对象，即每个对象都有自己的地址，相当于内存中对于同值的对象保存了多份，这里不存在引用计数，是实实在在的对象。"
   ]
  },
  {
   "cell_type": "markdown",
   "metadata": {},
   "source": [
    "### 可变类型导致的性能问题"
   ]
  },
  {
   "cell_type": "code",
   "execution_count": null,
   "metadata": {},
   "outputs": [],
   "source": [
    "# 拼接字符串问题\n",
    "\n",
    "string_build = \"\"\n",
    "for data in container:\n",
    "    string_build += str(data)"
   ]
  },
  {
   "cell_type": "markdown",
   "metadata": {},
   "source": [
    "实际上，这段代码效率是非常低下的，字符串是不可变对象类型，当拼接两个字符串的时候，会创建第三个字符串，迭代次数过多或者数据量很大的字符串合并，就会在创建第三个字符串的时候浪费掉很多的内存空间，不仅如此，在迭代最后一次，为最后的结果还会开辟更大的空间来存储，实在是太浪费。因为str是不可变类型。"
   ]
  },
  {
   "cell_type": "code",
   "execution_count": null,
   "metadata": {},
   "outputs": [],
   "source": [
    "builder_list = []\n",
    "for data in container:\n",
    "    builder_list.append(str(data))\n",
    "\"\".join(builder_list)\n",
    " \n",
    "### 另一种使用list实现的方法\n",
    "\"\".join([str(data) for data in container])\n",
    " \n",
    "### 或者使用map函数\n",
    "\"\".join(map(str, container))"
   ]
  },
  {
   "cell_type": "markdown",
   "metadata": {},
   "source": [
    "上面的代码，就充分利用了可变对象特点，当数据要更新的时候，不开辟新的空间，而是在原先的空间上增加，大大减少了空间的使用，提高了代码执行的效率。"
   ]
  },
  {
   "cell_type": "markdown",
   "metadata": {},
   "source": [
    "### 引用和拷贝（references and copies）\n",
    "当程序中使用=赋值操作符时，例如a=b，\n",
    "\n",
    "对于不可变的对象，a作为b的一个拷贝被创建，a和b将指向不同的内存地址，a和b相互独立。"
   ]
  },
  {
   "cell_type": "code",
   "execution_count": null,
   "metadata": {},
   "outputs": [],
   "source": [
    "def TestCopy():\n",
    "    a = 10\n",
    "    b = a\n",
    "    a =20\n",
    "    print (b) #b still is 10"
   ]
  },
  {
   "cell_type": "markdown",
   "metadata": {},
   "source": [
    "但是对于可变的对象，a作为b的一个引用被创建，a和b的元素公用相同的内存地址，a和b的元素共享。"
   ]
  },
  {
   "cell_type": "code",
   "execution_count": null,
   "metadata": {},
   "outputs": [],
   "source": [
    "def TestRef():\n",
    "    a=[1,2,3,4]\n",
    "    b=a   #b is a reference to a\n",
    "    print (b is a) # True\n",
    "    b[2] = -100 #change an element in b\n",
    "    print (a) # a also changed to [1,2,-100,4]"
   ]
  },
  {
   "cell_type": "markdown",
   "metadata": {},
   "source": [
    "### 深拷贝和浅拷贝（shallow copy and deep copy）\n",
    "http://www.pythontutor.com/live.html#mode=edit\n",
    "\n",
    "为了避免可变对象指向同一个对象，必须创建一个新的拷贝，而不是引用。\n",
    "\n",
    "在python中可以对容器对象（例如lists和dictionaries）使用两种拷贝：浅拷贝和深拷贝。\n",
    " \n",
    "浅拷贝创建一个新的对象，但是使用原来对象的元素的引用（如果是不变类型，相当于是拷贝）来填充新对象。可以使用copy.copy()来实现浅拷贝。"
   ]
  },
  {
   "cell_type": "code",
   "execution_count": null,
   "metadata": {},
   "outputs": [],
   "source": [
    "import copy\n",
    "a = [1, [2, 2], 3]\n",
    "c = copy.deepcopy(a)\n",
    "print(id(a))\n",
    "print(id(c))\n",
    "print(id(a) == id(c))\n",
    "c[1][0] = 1\n",
    "print(a, c)"
   ]
  },
  {
   "cell_type": "code",
   "execution_count": null,
   "metadata": {},
   "outputs": [],
   "source": [
    "def TestShallowCopy():\n",
    "    a = [ 1, 2, [3,4] ]\n",
    "    b = list(a) # create a shallow copy of a\n",
    "    print (b is a) #False\n",
    "    b.append(100) #append element to b\n",
    "    print (b)\n",
    "    print (a) # a is unchanged\n",
    "    b[2][0] = -100 # modify an element inside b\n",
    "    print (b)\n",
    "    print (a)  # a is changed"
   ]
  },
  {
   "cell_type": "markdown",
   "metadata": {},
   "source": [
    "在这个例子中，a和b共享相同的可变元素。所以修改其中一个list对象中的元素，另一个list对象也会被修改。\n",
    "\n",
    "深拷贝创建一个新的对象，同时递归地拷贝对象所包含的所有的元素。可以使用copy.deepcopy()来实现深拷贝。"
   ]
  },
  {
   "cell_type": "code",
   "execution_count": null,
   "metadata": {},
   "outputs": [],
   "source": [
    "def TestDeepCopy():\n",
    "    import copy\n",
    "    a = [1, 2, [3, 4]]\n",
    "    b = copy.deepcopy(a)\n",
    "    b[2][0] = -100\n",
    "    print (b)  # b is changed\n",
    "    print (a)  # a is unchanged"
   ]
  },
  {
   "cell_type": "markdown",
   "metadata": {},
   "source": [
    "在这个例子中，a和b是对立的list对象，且他们的元素也相互独立。"
   ]
  },
  {
   "cell_type": "markdown",
   "metadata": {},
   "source": [
    "### 引用计数和垃圾回收\n",
    "\n",
    "python中的所有的对象都是引用计数的，一个对象赋值或加入容器时，它的引用计数就会自增，当使用del时或变量赋值为其他值时，引用计数就会自减，当引用计数为0时，python的垃圾回收器就会回收该变量。"
   ]
  },
  {
   "cell_type": "code",
   "execution_count": 66,
   "metadata": {
    "ExecuteTime": {
     "end_time": "2020-09-10T07:37:15.986290Z",
     "start_time": "2020-09-10T07:37:15.979471Z"
    }
   },
   "outputs": [
    {
     "name": "stdout",
     "output_type": "stream",
     "text": [
      "1602\n",
      "1603\n",
      "1604\n",
      "1605\n",
      "1604\n",
      "1603\n",
      "1602\n"
     ]
    }
   ],
   "source": [
    "def TestGarbageCollection():\n",
    "    import sys\n",
    "    print(sys.getrefcount(37))\n",
    "    a = 37 # Creates an object with value 37\n",
    "    print(sys.getrefcount(37))\n",
    "    b = a # Increases reference count on 37\n",
    "    print(sys.getrefcount(37))\n",
    "    c = []\n",
    "    c.append(b) # Increases reference count on 37\n",
    "    print(sys.getrefcount(37))\n",
    "    del a # Decrease reference count of 37\n",
    "    print(sys.getrefcount(37))\n",
    "    b = 42 # Decrease reference count of 37\n",
    "    print(sys.getrefcount(37))\n",
    "    c[0] = 2.0 # Decrease reference count of 37\n",
    "    print(sys.getrefcount(37))\n",
    "\n",
    "TestGarbageCollection()"
   ]
  },
  {
   "cell_type": "code",
   "execution_count": null,
   "metadata": {},
   "outputs": [],
   "source": [
    "from turtle import *\n",
    "\n",
    "\n",
    "def nose(x,y):\n",
    "    \"\"\"画鼻子\"\"\"\n",
    "    penup()\n",
    "    # 将海龟移动到指定的坐标\n",
    "    goto(x,y)\n",
    "    pendown()\n",
    "    # 设置海龟的方向（0-东、90-北、180-西、270-南）\n",
    "    setheading(-30)\n",
    "    begin_fill()\n",
    "    a = 0.4\n",
    "    for i in range(120):\n",
    "        if 0 <= i < 30 or 60 <= i <90:\n",
    "            a = a + 0.08\n",
    "            # 向左转3度\n",
    "            left(3)\n",
    "            # 向前走\n",
    "            forward(a)\n",
    "        else:\n",
    "            a = a - 0.08\n",
    "            left(3)\n",
    "            forward(a)\n",
    "    end_fill()\n",
    "    penup()\n",
    "    setheading(90)\n",
    "    forward(25)\n",
    "    setheading(0)\n",
    "    forward(10)\n",
    "    pendown()\n",
    "    # 设置画笔的颜色(红, 绿, 蓝)\n",
    "    pencolor(255, 155, 192)\n",
    "    setheading(10)\n",
    "    begin_fill()\n",
    "    circle(5)\n",
    "    color(160, 82, 45)\n",
    "    end_fill()\n",
    "    penup()\n",
    "    setheading(0)\n",
    "    forward(20)\n",
    "    pendown()\n",
    "    pencolor(255, 155, 192)\n",
    "    setheading(10)\n",
    "    begin_fill()\n",
    "    circle(5)\n",
    "    color(160, 82, 45)\n",
    "    end_fill()\n",
    "\n",
    "\n",
    "def head(x, y):\n",
    "    \"\"\"画头\"\"\"\n",
    "    color((255, 155, 192), \"pink\")\n",
    "    penup()\n",
    "    goto(x,y)\n",
    "    setheading(0)\n",
    "    pendown()\n",
    "    begin_fill()\n",
    "    setheading(180)\n",
    "    circle(300, -30)\n",
    "    circle(100, -60)\n",
    "    circle(80, -100)\n",
    "    circle(150, -20)\n",
    "    circle(60, -95)\n",
    "    setheading(161)\n",
    "    circle(-300, 15)\n",
    "    penup()\n",
    "    goto(-100, 100)\n",
    "    pendown()\n",
    "    setheading(-30)\n",
    "    a = 0.4\n",
    "    for i in range(60):\n",
    "        if 0<= i < 30 or 60 <= i < 90:\n",
    "            a = a + 0.08\n",
    "            lt(3) #向左转3度\n",
    "            fd(a) #向前走a的步长\n",
    "        else:\n",
    "            a = a - 0.08\n",
    "            lt(3)\n",
    "            fd(a)\n",
    "    end_fill()\n",
    "\n",
    "\n",
    "def ears(x,y):\n",
    "    \"\"\"画耳朵\"\"\"\n",
    "    color((255, 155, 192), \"pink\")\n",
    "    penup()\n",
    "    goto(x, y)\n",
    "    pendown()\n",
    "    begin_fill()\n",
    "    setheading(100)\n",
    "    circle(-50, 50)\n",
    "    circle(-10, 120)\n",
    "    circle(-50, 54)\n",
    "    end_fill()\n",
    "    penup()\n",
    "    setheading(90)\n",
    "    forward(-12)\n",
    "    setheading(0)\n",
    "    forward(30)\n",
    "    pendown()\n",
    "    begin_fill()\n",
    "    setheading(100)\n",
    "    circle(-50, 50)\n",
    "    circle(-10, 120)\n",
    "    circle(-50, 56)\n",
    "    end_fill()\n",
    "\n",
    "\n",
    "def eyes(x,y):\n",
    "    \"\"\"画眼睛\"\"\"\n",
    "    color((255, 155, 192), \"white\")\n",
    "    penup()\n",
    "    setheading(90)\n",
    "    forward(-20)\n",
    "    setheading(0)\n",
    "    forward(-95)\n",
    "    pendown()\n",
    "    begin_fill()\n",
    "    circle(15)\n",
    "    end_fill()\n",
    "    color(\"black\")\n",
    "    penup()\n",
    "    setheading(90)\n",
    "    forward(12)\n",
    "    setheading(0)\n",
    "    forward(-3)\n",
    "    pendown()\n",
    "    begin_fill()\n",
    "    circle(3)\n",
    "    end_fill()\n",
    "    color((255, 155, 192), \"white\")\n",
    "    penup()\n",
    "    seth(90)\n",
    "    forward(-25)\n",
    "    seth(0)\n",
    "    forward(40)\n",
    "    pendown()\n",
    "    begin_fill()\n",
    "    circle(15)\n",
    "    end_fill()\n",
    "    color(\"black\")\n",
    "    penup()\n",
    "    setheading(90)\n",
    "    forward(12)\n",
    "    setheading(0)\n",
    "    forward(-3)\n",
    "    pendown()\n",
    "    begin_fill()\n",
    "    circle(3)\n",
    "    end_fill()\n",
    "\n",
    "\n",
    "def cheek(x,y):\n",
    "    \"\"\"画脸颊\"\"\"\n",
    "    color((255, 155, 192))\n",
    "    penup()\n",
    "    goto(x,y)\n",
    "    pendown()\n",
    "    setheading(0)\n",
    "    begin_fill()\n",
    "    circle(30)\n",
    "    end_fill()\n",
    "\n",
    "\n",
    "def mouth(x,y):\n",
    "    \"\"\"画嘴巴\"\"\"\n",
    "    color(239, 69, 19)\n",
    "    penup()\n",
    "    goto(x, y)\n",
    "    pendown()\n",
    "    setheading(-80)\n",
    "    circle(30, 40)\n",
    "    circle(40, 80)\n",
    "\n",
    "\n",
    "def setting():\n",
    "    \"\"\"设置参数\"\"\"\n",
    "    pensize(4)\n",
    "    # 隐藏海龟\n",
    "    hideturtle()\n",
    "    colormode(255)\n",
    "    color((255, 155, 192), \"pink\")\n",
    "    setup(840, 500)\n",
    "    speed(10)\n",
    "\n",
    "\n",
    "def main():\n",
    "    \"\"\"主函数\"\"\"\n",
    "    setting() \n",
    "    nose(-100, 100)\n",
    "    head(-69, 167)\n",
    "    ears(0, 160)\n",
    "    eyes(0, 140)\n",
    "    cheek(80, 10)\n",
    "    mouth(-20, 30)\n",
    "    done()\n",
    "\n",
    "\n",
    "if __name__ == '__main__':\n",
    "    main()"
   ]
  },
  {
   "cell_type": "code",
   "execution_count": 79,
   "metadata": {
    "ExecuteTime": {
     "end_time": "2020-09-10T10:45:00.557431Z",
     "start_time": "2020-09-10T10:45:00.528912Z"
    }
   },
   "outputs": [
    {
     "ename": "ModuleNotFoundError",
     "evalue": "No module named 'pygame'",
     "output_type": "error",
     "traceback": [
      "\u001b[0;31m---------------------------------------------------------------------------\u001b[0m",
      "\u001b[0;31mModuleNotFoundError\u001b[0m                       Traceback (most recent call last)",
      "\u001b[0;32m<ipython-input-79-d3464dde5262>\u001b[0m in \u001b[0;36m<module>\u001b[0;34m\u001b[0m\n\u001b[0;32m----> 1\u001b[0;31m \u001b[0;32mimport\u001b[0m \u001b[0mpygame\u001b[0m\u001b[0;34m,\u001b[0m\u001b[0msys\u001b[0m\u001b[0;34m,\u001b[0m\u001b[0mtime\u001b[0m\u001b[0;34m,\u001b[0m\u001b[0mrandom\u001b[0m\u001b[0;34m\u001b[0m\u001b[0;34m\u001b[0m\u001b[0m\n\u001b[0m\u001b[1;32m      2\u001b[0m \u001b[0;32mfrom\u001b[0m \u001b[0mpygame\u001b[0m\u001b[0;34m.\u001b[0m\u001b[0mlocals\u001b[0m \u001b[0;32mimport\u001b[0m \u001b[0;34m*\u001b[0m\u001b[0;34m\u001b[0m\u001b[0;34m\u001b[0m\u001b[0m\n\u001b[1;32m      3\u001b[0m \u001b[0;31m# 定义颜色变量\u001b[0m\u001b[0;34m\u001b[0m\u001b[0;34m\u001b[0m\u001b[0;34m\u001b[0m\u001b[0m\n\u001b[1;32m      4\u001b[0m \u001b[0mredColour\u001b[0m \u001b[0;34m=\u001b[0m \u001b[0mpygame\u001b[0m\u001b[0;34m.\u001b[0m\u001b[0mColor\u001b[0m\u001b[0;34m(\u001b[0m\u001b[0;36m255\u001b[0m\u001b[0;34m,\u001b[0m\u001b[0;36m0\u001b[0m\u001b[0;34m,\u001b[0m\u001b[0;36m0\u001b[0m\u001b[0;34m)\u001b[0m\u001b[0;34m\u001b[0m\u001b[0;34m\u001b[0m\u001b[0m\n\u001b[1;32m      5\u001b[0m \u001b[0mblackColour\u001b[0m \u001b[0;34m=\u001b[0m \u001b[0mpygame\u001b[0m\u001b[0;34m.\u001b[0m\u001b[0mColor\u001b[0m\u001b[0;34m(\u001b[0m\u001b[0;36m0\u001b[0m\u001b[0;34m,\u001b[0m\u001b[0;36m0\u001b[0m\u001b[0;34m,\u001b[0m\u001b[0;36m0\u001b[0m\u001b[0;34m)\u001b[0m\u001b[0;34m\u001b[0m\u001b[0;34m\u001b[0m\u001b[0m\n",
      "\u001b[0;31mModuleNotFoundError\u001b[0m: No module named 'pygame'"
     ]
    }
   ],
   "source": [
    "import pygame,sys,time,random\n",
    "from pygame.locals import *\n",
    "# 定义颜色变量\n",
    "redColour = pygame.Color(255,0,0)\n",
    "blackColour = pygame.Color(0,0,0)\n",
    "whiteColour = pygame.Color(255,255,255)\n",
    "greyColour = pygame.Color(150,150,150)\n",
    "\n",
    "# 定义gameOver函数\n",
    "def gameOver(playSurface):\n",
    "    gameOverFont = pygame.font.Font('arial.ttf',72)\n",
    "    gameOverSurf = gameOverFont.render('Game Over', True, greyColour)\n",
    "    gameOverRect = gameOverSurf.get_rect()\n",
    "    gameOverRect.midtop = (320, 10)\n",
    "    playSurface.blit(gameOverSurf, gameOverRect)\n",
    "    pygame.display.flip()\n",
    "    time.sleep(5)\n",
    "    pygame.quit()\n",
    "    sys.exit()\n",
    "\n",
    "# 定义main函数\n",
    "def main():\n",
    "    # 初始化pygame\n",
    "    pygame.init()\n",
    "    fpsClock = pygame.time.Clock()\n",
    "    # 创建pygame显示层\n",
    "    playSurface = pygame.display.set_mode((640,480))\n",
    "    pygame.display.set_caption('Raspberry Snake')\n",
    "\n",
    "    # 初始化变量\n",
    "    snakePosition = [100,100]\n",
    "    snakeSegments = [[100,100],[80,100],[60,100]]\n",
    "    raspberryPosition = [300,300]\n",
    "    raspberrySpawned = 1\n",
    "    direction = 'right'\n",
    "    changeDirection = direction\n",
    "    while True:\n",
    "        # 检测例如按键等pygame事件\n",
    "        for event in pygame.event.get():\n",
    "            if event.type == QUIT:\n",
    "                pygame.quit()\n",
    "                sys.exit()\n",
    "            elif event.type == KEYDOWN:\n",
    "                # 判断键盘事件\n",
    "                if event.key == K_RIGHT or event.key == ord('d'):\n",
    "                    changeDirection = 'right'\n",
    "                if event.key == K_LEFT or event.key == ord('a'):\n",
    "                    changeDirection = 'left'\n",
    "                if event.key == K_UP or event.key == ord('w'):\n",
    "                    changeDirection = 'up'\n",
    "                if event.key == K_DOWN or event.key == ord('s'):\n",
    "                    changeDirection = 'down'\n",
    "                if event.key == K_ESCAPE:\n",
    "                    pygame.event.post(pygame.event.Event(QUIT))\n",
    "        # 判断是否输入了反方向\n",
    "        if changeDirection == 'right' and not direction == 'left':\n",
    "            direction = changeDirection\n",
    "        if changeDirection == 'left' and not direction == 'right':\n",
    "            direction = changeDirection\n",
    "        if changeDirection == 'up' and not direction == 'down':\n",
    "            direction = changeDirection\n",
    "        if changeDirection == 'down' and not direction == 'up':\n",
    "            direction = changeDirection\n",
    "        # 根据方向移动蛇头的坐标\n",
    "        if direction == 'right':\n",
    "            snakePosition[0] += 20\n",
    "        if direction == 'left':\n",
    "            snakePosition[0] -= 20\n",
    "        if direction == 'up':\n",
    "            snakePosition[1] -= 20\n",
    "        if direction == 'down':\n",
    "            snakePosition[1] += 20\n",
    "        # 增加蛇的长度\n",
    "        snakeSegments.insert(0,list(snakePosition))\n",
    "        # 判断是否吃掉了树莓\n",
    "        if snakePosition[0] == raspberryPosition[0] and snakePosition[1] == raspberryPosition[1]:\n",
    "            raspberrySpawned = 0\n",
    "        else:\n",
    "            snakeSegments.pop()\n",
    "        # 如果吃掉树莓，则重新生成树莓\n",
    "        if raspberrySpawned == 0:\n",
    "            x = random.randrange(1,32)\n",
    "            y = random.randrange(1,24)\n",
    "            raspberryPosition = [int(x*20),int(y*20)]\n",
    "            raspberrySpawned = 1\n",
    "        # 绘制pygame显示层\n",
    "        playSurface.fill(blackColour)\n",
    "        for position in snakeSegments:\n",
    "            pygame.draw.rect(playSurface,whiteColour,Rect(position[0],position[1],20,20))\n",
    "            pygame.draw.rect(playSurface,redColour,Rect(raspberryPosition[0], raspberryPosition[1],20,20))\n",
    "\n",
    "        # 刷新pygame显示层\n",
    "        pygame.display.flip()\n",
    "        # 判断是否死亡\n",
    "        if snakePosition[0] > 620 or snakePosition[0] < 0:\n",
    "            gameOver(playSurface)\n",
    "        if snakePosition[1] > 460 or snakePosition[1] < 0:\n",
    "            for snakeBody in snakeSegments[1:]:\n",
    "                if snakePosition[0] == snakeBody[0] and snakePosition[1] == snakeBody[1]:\n",
    "                    gameOver(playSurface)\n",
    "        # 控制游戏速度\n",
    "        fpsClock.tick(5)\n",
    "\n",
    "if __name__ == \"__main__\":\n",
    "    main()"
   ]
  },
  {
   "cell_type": "markdown",
   "metadata": {},
   "source": [
    "### python 引用\n",
    "http://www.pythontutor.com/visualize.html"
   ]
  },
  {
   "cell_type": "markdown",
   "metadata": {},
   "source": [
    "python 的 一切都是对象\n",
    "\n",
    "python 是 高度面向对象特性，所以实际上Python里面的任何元素都是一种对象\n",
    "\n",
    "对象=确定内存空间+存储在这块内存空间中的值。"
   ]
  },
  {
   "cell_type": "markdown",
   "metadata": {},
   "source": [
    "#### 值类型（不可变类型）和引用类型（可变类型）"
   ]
  },
  {
   "cell_type": "markdown",
   "metadata": {},
   "source": [
    "把可修改(mutable)的类型叫做值类型，不可修改(immutable)类型叫做引用类型。\n",
    "##### 值类型\n",
    "在Python中，数值（整型，浮点型），布尔型，字符串，元组属于值类型，本身不允许被修改（不可变类型），数值的修改实际上是让变量指向了一个新的对象（新创建的对象），所以不会发生共享内存问题。 这种方式同Java的不可变对象（String）实现方式相同。原始对象被Python的GC回收。"
   ]
  },
  {
   "cell_type": "code",
   "execution_count": null,
   "metadata": {},
   "outputs": [],
   "source": [
    "a = 1\n",
    "b = a\n",
    "a = 2\n",
    "print(b)  #输出的结果是1\n",
    "# 修改值类型的值，只是让它指向一个新的内存地址，并不会改变变量b的值"
   ]
  },
  {
   "cell_type": "markdown",
   "metadata": {},
   "source": [
    "##### 引用类型\n",
    "在Python中，列表，集合，字典是引用类型，本身允许修改（可变类型）。\n",
    "\n"
   ]
  },
  {
   "cell_type": "code",
   "execution_count": null,
   "metadata": {},
   "outputs": [],
   "source": [
    "list_a = [1,2]\n",
    "list_b = list_a\n",
    "print(id(list_a), id(list_b))\n",
    "list_a[0] = 3\n",
    "print(list_b)  #此时的输出结果是[3,2]\n",
    "# 修改引用类型的值，因为list_b的地址和list_a的一致，所以也会被修改\n",
    "# 一般只为了复制值，可以使用分片操作。还可以使用拷贝操作"
   ]
  },
  {
   "cell_type": "markdown",
   "metadata": {},
   "source": [
    "#####  深拷贝和浅拷贝\n",
    "\n",
    "\n",
    "为了避免可变对象指向同一个对象，必须创建一个新的拷贝，而不是引用。\n",
    "\n",
    "在python中可以对容器对象（例如lists和dictionaries）使用两种拷贝：浅拷贝和深拷贝。\n",
    "\n",
    "浅拷贝创建一个新的对象，但是使用原来对象的元素的引用（如果是不变类型，相当于是拷贝）来填充新对象。可以使用copy.copy()来实现浅拷贝。"
   ]
  },
  {
   "cell_type": "code",
   "execution_count": 112,
   "metadata": {
    "ExecuteTime": {
     "end_time": "2020-09-15T03:44:57.881019Z",
     "start_time": "2020-09-15T03:44:57.873530Z"
    }
   },
   "outputs": [
    {
     "name": "stdout",
     "output_type": "stream",
     "text": [
      "False\n",
      "[1, 2, [3, 4], 100]\n",
      "[1, 2, [3, 4]]\n",
      "[1, 2, [-100, 4], 100]\n",
      "[1, 2, [-100, 4]]\n"
     ]
    }
   ],
   "source": [
    "a = [ 1, 2, [3,4] ]\n",
    "b = list(a) # create a shallow copy of a\n",
    "print (b is a) #False\n",
    "b.append(100) #append element to b\n",
    "print (b)\n",
    "print (a) # a is unchanged\n",
    "b[2][0] = -100 # modify an element inside b\n",
    "print (b)\n",
    "print (a)  # a is changed\n",
    "# 在这个例子中，a和b共享相同的可变元素。所以修改其中一个list对象中的元素，另一个list对象也会被修改。"
   ]
  },
  {
   "cell_type": "markdown",
   "metadata": {},
   "source": [
    "深拷贝创建一个新的对象，同时递归地拷贝对象所包含的所有的元素。可以使用copy.deepcopy()来实现深拷贝。"
   ]
  },
  {
   "cell_type": "code",
   "execution_count": 113,
   "metadata": {
    "ExecuteTime": {
     "end_time": "2020-09-15T03:45:02.966373Z",
     "start_time": "2020-09-15T03:45:02.962148Z"
    }
   },
   "outputs": [
    {
     "name": "stdout",
     "output_type": "stream",
     "text": [
      "[1, 2, [-100, 4]]\n",
      "[1, 2, [3, 4]]\n"
     ]
    }
   ],
   "source": [
    "import copy\n",
    "a = [1, 2, [3, 4]]\n",
    "b = copy.deepcopy(a)\n",
    "b[2][0] = -100\n",
    "print (b)  # b is changed\n",
    "print (a)  # a is unchanged\n",
    "# 在这个例子中，a和b是对立的list对象，且他们的元素也相互独立。"
   ]
  },
  {
   "cell_type": "markdown",
   "metadata": {},
   "source": [
    "### 缓存介绍\n",
    "         为了增加程序的运行效率，Python3的解释器中实现了小数字和字符串缓存的机制，小数字的缓冲范围是[-5 ~ 256]，字符串的缓存位数默认是20位。在Python程序中每次初始化一个新的变量就会在内存中开辟一块空间来存储这个变量，当变量不用的时候再回收这块内存。当大量出现这种操作的时候CPU就会发热，工作效率下降。为了减轻CPU的这种负担，Python3的解释器便实现了小数字和字符串的缓存机制。"
   ]
  },
  {
   "cell_type": "code",
   "execution_count": 110,
   "metadata": {
    "ExecuteTime": {
     "end_time": "2020-09-15T02:57:04.755196Z",
     "start_time": "2020-09-15T02:57:04.749629Z"
    }
   },
   "outputs": [
    {
     "name": "stdout",
     "output_type": "stream",
     "text": [
      "94136277094240 94136277094240\n",
      "140271263369968 140271263369872\n"
     ]
    }
   ],
   "source": [
    "a = 10 * 10\n",
    "b = 100\n",
    "print(id(a),id(b))\n",
    "a = 10 * 10 * 10\n",
    "b = 1000\n",
    "print(id(a),id(b))"
   ]
  },
  {
   "cell_type": "code",
   "execution_count": 111,
   "metadata": {
    "ExecuteTime": {
     "end_time": "2020-09-15T02:57:27.925093Z",
     "start_time": "2020-09-15T02:57:27.919073Z"
    }
   },
   "outputs": [
    {
     "name": "stdout",
     "output_type": "stream",
     "text": [
      "140271832228592 140271832228592\n",
      "140271485715280 140271485716720\n"
     ]
    }
   ],
   "source": [
    "str1 = \"0123456789\"\n",
    "str2 = \"0123456789\"\n",
    "print(id(str1),id(str2))\n",
    " \n",
    "str3 = str1 + str2 + \"0123456789\"\n",
    "str4 = \"012345678901234567890123456789\"\n",
    "print(id(str3),id(str4))\n"
   ]
  },
  {
   "cell_type": "markdown",
   "metadata": {},
   "source": [
    "#### 为什么要设置缓冲池\n",
    "1. 降低'常用'对象频繁创建撤销频率\n",
    "\n",
    "2. 减少内存使用(i.e.降低内存占用)\n",
    "\n",
    "#### 对缓冲池实现的理解及哪些类型能使用缓冲池\n",
    "1. 对缓冲池实现的理解\n",
    "    - 缓冲池实际上就是当python解释器启动时所开辟内存空间中的一部分,用语存储高频使用的对象\n",
    "    \n",
    "2. 哪些类型能使用缓冲池\n",
    "    1. 可变对象肯定没戏,因为随时可能被修改,因而对其缓存是没有意义的\n",
    "        - list\n",
    "        - dict\n",
    "    2. 不可变对象\n",
    "        - 元组不适用于实现缓冲池机制(因为tuple是复合对象)\n",
    "            - 元组虽然是不可变对象,但是其元素可以是可变对象,即元组是不可变对象其元素不可变但其元素的元素可能变化\n",
    "        - 小整数对象池: [-5, 256]\n",
    "        - str 字符串的缓存位数默认是20位\n",
    "    3. 缓冲池大小受内存制约可定是有一定范围的(缓存范围)\n",
    "    4. 可以动态的进出池来实现对有限缓冲内存的有效合理利用"
   ]
  },
  {
   "cell_type": "markdown",
   "metadata": {},
   "source": [
    "### 引用计数和垃圾回收\n",
    "python中的所有的对象都是引用计数的，一个对象赋值或加入容器时，它的引用计数就会自增，当使用del时或变量赋值为其他值时，引用计数就会自减，当引用计数为0时，python的垃圾回收器就会回收该变量。"
   ]
  },
  {
   "cell_type": "code",
   "execution_count": 114,
   "metadata": {
    "ExecuteTime": {
     "end_time": "2020-09-15T06:08:28.266449Z",
     "start_time": "2020-09-15T06:08:28.258530Z"
    }
   },
   "outputs": [
    {
     "name": "stdout",
     "output_type": "stream",
     "text": [
      "1673\n",
      "1674\n",
      "1675\n",
      "1676\n",
      "1675\n",
      "1674\n",
      "1673\n"
     ]
    }
   ],
   "source": [
    "def TestGarbageCollection():\n",
    "    import sys\n",
    "    print(sys.getrefcount(37))\n",
    "    a = 37 # Creates an object with value 37\n",
    "    print(sys.getrefcount(37))\n",
    "    b = a # Increases reference count on 37\n",
    "    print(sys.getrefcount(37))\n",
    "    c = []\n",
    "    c.append(b) # Increases reference count on 37\n",
    "    print(sys.getrefcount(37))\n",
    "    del a # Decrease reference count of 37\n",
    "    print(sys.getrefcount(37))\n",
    "    b = 42 # Decrease reference count of 37\n",
    "    print(sys.getrefcount(37))\n",
    "    c[0] = 2.0 # Decrease reference count of 37\n",
    "    print(sys.getrefcount(37))\n",
    "\n",
    "TestGarbageCollection()"
   ]
  },
  {
   "cell_type": "markdown",
   "metadata": {},
   "source": [
    "# python性能优化的一些建议"
   ]
  },
  {
   "cell_type": "markdown",
   "metadata": {},
   "source": [
    "\n",
    "\n",
    "\n",
    "### 合理使用copy与deepcopy\n",
    "\n",
    "对于dict和list等数据结构的对象，直接赋值使用的是引用的方式。\n",
    "\n",
    "而有些情况下需要复制整个对象，这时可以使用copy包里的copy和deepcopy，这两个函数的不同之处在于后者是递归复制的。"
   ]
  },
  {
   "cell_type": "code",
   "execution_count": 1,
   "metadata": {
    "ExecuteTime": {
     "end_time": "2020-09-11T03:28:27.791942Z",
     "start_time": "2020-09-11T03:28:27.782966Z"
    }
   },
   "outputs": [
    {
     "name": "stdout",
     "output_type": "stream",
     "text": [
      "457 ns ± 191 ns per loop (mean ± std. dev. of 7 runs, 10 loops each)\n",
      "5.58 µs ± 928 ns per loop (mean ± std. dev. of 7 runs, 10 loops each)\n"
     ]
    }
   ],
   "source": [
    "import copy\n",
    "\n",
    "a = range(100000)\n",
    "\n",
    "%timeit -n 10 copy.copy(a) # 运行10次 copy.copy(a)\n",
    "\n",
    "%timeit -n 10 copy.deepcopy(a)"
   ]
  },
  {
   "cell_type": "markdown",
   "metadata": {},
   "source": [
    "**timeit后面的-n表示运行的次数，后两行对应的是两个timeit的输出。**"
   ]
  },
  {
   "cell_type": "markdown",
   "metadata": {},
   "source": [
    "### 优化包含多个判断表达式的顺序\n",
    "#### 对于and，应该把满足条件少的放在前面，对于or，把满足条件多的放在前面。\n"
   ]
  },
  {
   "cell_type": "code",
   "execution_count": 10,
   "metadata": {
    "ExecuteTime": {
     "end_time": "2020-09-11T03:51:24.648240Z",
     "start_time": "2020-09-11T03:51:24.252154Z"
    }
   },
   "outputs": [
    {
     "name": "stdout",
     "output_type": "stream",
     "text": [
      "192 µs ± 5.58 µs per loop (mean ± std. dev. of 7 runs, 100 loops each)\n",
      "145 µs ± 1.5 µs per loop (mean ± std. dev. of 7 runs, 100 loops each)\n",
      "131 µs ± 146 ns per loop (mean ± std. dev. of 7 runs, 100 loops each)\n",
      "74.5 µs ± 674 ns per loop (mean ± std. dev. of 7 runs, 100 loops each)\n"
     ]
    }
   ],
   "source": [
    "a = range(2000)\n",
    "\n",
    "%timeit -n 100 [i for i in a if 10 < i < 20 or 1000 < i < 2000]\n",
    "\n",
    "%timeit -n 100 [i for i in a if 1000 < i < 2000 or 100 < i < 20]\n",
    "\n",
    "%timeit -n 100 [i for i in a if i % 2 == 0 and i > 1900]\n",
    "\n",
    "%timeit -n 100 [i for i in a if i > 1900 and i % 2 == 0]"
   ]
  },
  {
   "cell_type": "markdown",
   "metadata": {},
   "source": [
    "#### 使用级联比较x < y < z"
   ]
  },
  {
   "cell_type": "code",
   "execution_count": 17,
   "metadata": {
    "ExecuteTime": {
     "end_time": "2020-09-15T08:23:08.287621Z",
     "start_time": "2020-09-15T08:23:07.322974Z"
    }
   },
   "outputs": [
    {
     "name": "stdout",
     "output_type": "stream",
     "text": [
      "65.9 ns ± 0.878 ns per loop (mean ± std. dev. of 7 runs, 1000000 loops each)\n",
      "70.7 ns ± 0.239 ns per loop (mean ± std. dev. of 7 runs, 1000000 loops each)\n"
     ]
    }
   ],
   "source": [
    "x, y, z = 1,2,3\n",
    "\n",
    "%timeit -n 1000000 if x < y < z:pass\n",
    "\n",
    "%timeit -n 1000000 if x < y and y < z:pass\n"
   ]
  },
  {
   "cell_type": "markdown",
   "metadata": {},
   "source": [
    "### 不借助中间变量交换两个变量的值\n"
   ]
  },
  {
   "cell_type": "code",
   "execution_count": 25,
   "metadata": {
    "ExecuteTime": {
     "end_time": "2020-09-11T05:50:31.971769Z",
     "start_time": "2020-09-11T05:50:31.958693Z"
    }
   },
   "outputs": [
    {
     "name": "stdout",
     "output_type": "stream",
     "text": [
      "68.2 ns ± 18.7 ns per loop (mean ± std. dev. of 7 runs, 10000 loops each)\n"
     ]
    }
   ],
   "source": [
    "%%timeit -n 10000\n",
    "a, b = 1, 2\n",
    "c = a\n",
    "a = b\n",
    "b = c"
   ]
  },
  {
   "cell_type": "code",
   "execution_count": 26,
   "metadata": {
    "ExecuteTime": {
     "end_time": "2020-09-11T05:50:34.441170Z",
     "start_time": "2020-09-11T05:50:34.430668Z"
    }
   },
   "outputs": [
    {
     "name": "stdout",
     "output_type": "stream",
     "text": [
      "78.5 ns ± 7.82 ns per loop (mean ± std. dev. of 7 runs, 10000 loops each)\n"
     ]
    }
   ],
   "source": [
    "%%timeit -n 10000\n",
    "a, b = 1, 2\n",
    "a, b = b, a"
   ]
  },
  {
   "cell_type": "markdown",
   "metadata": {},
   "source": [
    "使用a,b=b,a而不是c=a;a=b;b=c;来交换a,b的值，可以快1倍以上。"
   ]
  },
  {
   "cell_type": "markdown",
   "metadata": {},
   "source": [
    "### while 1 比 while True 更快"
   ]
  },
  {
   "cell_type": "code",
   "execution_count": 29,
   "metadata": {
    "ExecuteTime": {
     "end_time": "2020-09-11T06:04:12.664885Z",
     "start_time": "2020-09-11T06:03:59.635784Z"
    }
   },
   "outputs": [
    {
     "name": "stdout",
     "output_type": "stream",
     "text": [
      "9.36 ms ± 463 µs per loop (mean ± std. dev. of 7 runs, 100 loops each)\n",
      "9.23 ms ± 626 µs per loop (mean ± std. dev. of 7 runs, 100 loops each)\n"
     ]
    }
   ],
   "source": [
    "def while_1():\n",
    "    n = 100000\n",
    "    while 1:\n",
    "        n -= 1\n",
    "        if n <= 0: break\n",
    "\n",
    "def while_true():\n",
    "    n = 100000\n",
    "    while True:\n",
    "        n -= 1\n",
    "        if n <= 0: break\n",
    "\n",
    "%timeit -n 100 while_1()\n",
    "%timeit -n 100 while_true()"
   ]
  },
  {
   "cell_type": "markdown",
   "metadata": {},
   "source": [
    "while 1 比 while true快很多"
   ]
  },
  {
   "cell_type": "markdown",
   "metadata": {},
   "source": [
    "### 使用**而不是pow"
   ]
  },
  {
   "cell_type": "code",
   "execution_count": 30,
   "metadata": {
    "ExecuteTime": {
     "end_time": "2020-09-11T06:05:38.636831Z",
     "start_time": "2020-09-11T06:05:38.584942Z"
    }
   },
   "outputs": [
    {
     "name": "stdout",
     "output_type": "stream",
     "text": [
      "517 ns ± 66.6 ns per loop (mean ± std. dev. of 7 runs, 10000 loops each)\n",
      "20 ns ± 1.03 ns per loop (mean ± std. dev. of 7 runs, 10000 loops each)\n"
     ]
    }
   ],
   "source": [
    "%timeit -n 10000 c = pow(2,20)\n",
    "%timeit -n 10000 c = 2**20"
   ]
  },
  {
   "cell_type": "markdown",
   "metadata": {},
   "source": [
    "**就是快10倍以上！"
   ]
  },
  {
   "cell_type": "code",
   "execution_count": 37,
   "metadata": {
    "ExecuteTime": {
     "end_time": "2020-09-11T07:18:34.086831Z",
     "start_time": "2020-09-11T07:18:17.207133Z"
    }
   },
   "outputs": [
    {
     "name": "stdout",
     "output_type": "stream",
     "text": [
      "22 ms ± 1.45 ms per loop (mean ± std. dev. of 7 runs, 100 loops each)\n",
      "351 µs ± 17.2 µs per loop (mean ± std. dev. of 7 runs, 100 loops each)\n",
      "1.73 ms ± 151 µs per loop (mean ± std. dev. of 7 runs, 100 loops each)\n"
     ]
    }
   ],
   "source": [
    "import json\n",
    "import pickle\n",
    "\n",
    "a = list(range(10000))\n",
    "\n",
    "s1 = str(a)\n",
    "s2 = pickle.dumps(a)\n",
    "s3 = json.dumps(a)\n",
    "\n",
    "%timeit -n 100 x = eval(s1)\n",
    "%timeit -n 100 x = pickle.loads(s2)\n",
    "%timeit -n 100 x = json.loads(s3)"
   ]
  },
  {
   "cell_type": "markdown",
   "metadata": {},
   "source": [
    "### 在排序时使用键\n",
    "Python含有许多古老的排序规则，这些规则在你创建定制的排序方法时会占用很多时间，而这些排序方法运行时也会拖延程序实际的运行速度。最佳的排序方法其实是尽可能多地使用键和内置的sort()方法。譬如，拿下面的代码来说：\n"
   ]
  },
  {
   "cell_type": "code",
   "execution_count": 38,
   "metadata": {
    "ExecuteTime": {
     "end_time": "2020-09-11T07:22:09.792970Z",
     "start_time": "2020-09-11T07:22:09.781162Z"
    }
   },
   "outputs": [
    {
     "data": {
      "text/plain": [
       "[(1, 5, 8), (6, 2, 4), (9, 7, 5)]"
      ]
     },
     "execution_count": 38,
     "metadata": {},
     "output_type": "execute_result"
    }
   ],
   "source": [
    "import operator\n",
    "\n",
    "somelist = [(1, 5, 8), (6, 2, 4), (9, 7, 5)]\n",
    "somelist.sort(key=operator.itemgetter(0))\n",
    "somelist"
   ]
  },
  {
   "cell_type": "code",
   "execution_count": 39,
   "metadata": {
    "ExecuteTime": {
     "end_time": "2020-09-11T07:22:44.433947Z",
     "start_time": "2020-09-11T07:22:44.426535Z"
    }
   },
   "outputs": [
    {
     "data": {
      "text/plain": [
       "[(6, 2, 4), (1, 5, 8), (9, 7, 5)]"
      ]
     },
     "execution_count": 39,
     "metadata": {},
     "output_type": "execute_result"
    }
   ],
   "source": [
    "somelist.sort(key=operator.itemgetter(1))\n",
    "somelist"
   ]
  },
  {
   "cell_type": "code",
   "execution_count": 40,
   "metadata": {
    "ExecuteTime": {
     "end_time": "2020-09-11T07:22:59.827455Z",
     "start_time": "2020-09-11T07:22:59.820772Z"
    }
   },
   "outputs": [
    {
     "data": {
      "text/plain": [
       "[(6, 2, 4), (9, 7, 5), (1, 5, 8)]"
      ]
     },
     "execution_count": 40,
     "metadata": {},
     "output_type": "execute_result"
    }
   ],
   "source": [
    "somelist.sort(key=operator.itemgetter(2))\n",
    "somelist"
   ]
  },
  {
   "cell_type": "markdown",
   "metadata": {},
   "source": [
    "在每段例子里，list都是根据你选择的用作关键参数的索引进行排序的。这个方法不仅对数值类型有效，还同样适用于字符串类型。"
   ]
  },
  {
   "cell_type": "markdown",
   "metadata": {},
   "source": [
    "### 针对循环的优化\n",
    "每一种编程语言都强调最优化的循环方案。当使用Python时，你可以借助丰富的技巧让循环程序跑得更快。\n",
    "\n",
    "然而，开发者们经常遗忘的一个技巧是：尽量避免在循环中访问变量的属性。譬如，拿下面的代码来说：\n"
   ]
  },
  {
   "cell_type": "code",
   "execution_count": 41,
   "metadata": {
    "ExecuteTime": {
     "end_time": "2020-09-11T07:28:28.813849Z",
     "start_time": "2020-09-11T07:28:28.807089Z"
    }
   },
   "outputs": [
    {
     "name": "stdout",
     "output_type": "stream",
     "text": [
      "['THIS', 'IS', 'LOWERCASE']\n"
     ]
    }
   ],
   "source": [
    "lowerlist = ['this', 'is', 'lowercase']\n",
    "upper = str.upper\n",
    "upperlist = []\n",
    "append = upperlist.append\n",
    "\n",
    "for word in lowerlist:\n",
    "    append(upper(word))\n",
    "\n",
    "print(upperlist)"
   ]
  },
  {
   "cell_type": "code",
   "execution_count": 42,
   "metadata": {
    "ExecuteTime": {
     "end_time": "2020-09-11T07:29:19.437765Z",
     "start_time": "2020-09-11T07:29:19.433238Z"
    }
   },
   "outputs": [
    {
     "name": "stdout",
     "output_type": "stream",
     "text": [
      "['THIS', 'IS', 'LOWERCASE']\n"
     ]
    }
   ],
   "source": [
    "lowerlist = ['this', 'is', 'lowercase']\n",
    "print([i.upper() for i in lowerlist])"
   ]
  },
  {
   "cell_type": "markdown",
   "metadata": {},
   "source": [
    "\n",
    " \n",
    "每次你调用str.upper, Python都会计算这个式子的值。然而，如果你把这个求值赋值给一个变量，那么求值的结果就能提前知道，Python程序就能运行得更快。因此，关键就是尽可能减小Python在循环中的工作量。因为Python解释执行的特性，在上面的例子中会大大减慢它的速度。\n",
    "\n",
    "（注意：优化循环的方法还有很多，这只是其中之一。比如，很多程序员会认为，列表推导式是提高循环速度的最佳方法。关键在于，优化循环方案是提高应用程序运行速度的上佳选择。）\n"
   ]
  },
  {
   "cell_type": "markdown",
   "metadata": {},
   "source": [
    "对循环的优化所遵循的原则是尽量减少循环过程中的计算量，有多重循环的尽量将内层的计算提到上一层。 下面通过实例来对比循环优化后所带来的性能的提高。"
   ]
  },
  {
   "cell_type": "code",
   "execution_count": null,
   "metadata": {},
   "outputs": [],
   "source": [
    "# 循环之外能做的事不要放在循环内，比如下面的优化可以快一倍：\n",
    "a = range(10000对循环的优化所遵循的原则是尽量减少循环过程中的计算量，有多重循环的尽量将内层的计算提到上一层。 下面通过实例来对比循环优化后所带来的性能的提高。\n",
    "\n",
    "size_a = len(a)\n",
    "\n",
    "%timeit -n 1000 for i in a: k = len(a)\n",
    "\n",
    "%timeit -n 1000 for i in a: k = size_a"
   ]
  },
  {
   "cell_type": "code",
   "execution_count": null,
   "metadata": {},
   "outputs": [],
   "source": [
    "# 未进行循环优化前\n",
    "\n",
    "from time import time\n",
    "t = time()\n",
    "lista = [1,2,3,4,5,6,7,8,9,10]\n",
    "listb =[0.1,0.2,0.3,0.4,0.5,0.6,0.7,0.8,0.9,0.01]\n",
    "for i in range (1000000):\n",
    "    for a in range(len(lista)):\n",
    "        for b in range(len(listb)):\n",
    "            x=lista[a]+listb[b]\n"
   ]
  },
  {
   "cell_type": "markdown",
   "metadata": {},
   "source": [
    "现在进行如下优化，将长度计算提到循环外，range 用 xrange 代替，同时将第三层的计算 lista[a] 提到循环的第二层。"
   ]
  },
  {
   "cell_type": "code",
   "execution_count": null,
   "metadata": {},
   "outputs": [],
   "source": [
    "from time import time\n",
    "t = time()\n",
    "lista = [1,2,3,4,5,6,7,8,9,10]\n",
    "listb =[0.1,0.2,0.3,0.4,0.5,0.6,0.7,0.8,0.9,0.01]\n",
    "len1=len(lista)\n",
    "len2=len(listb)\n",
    "for i in range(1000000):\n",
    "    for a in range(len1):\n",
    "        temp=lista[a]\n",
    "        for b in range(len2):\n",
    "            x=temp+listb[b]\n",
    "print(f\"total run time:{time()-t}\")"
   ]
  },
  {
   "cell_type": "markdown",
   "metadata": {},
   "source": [
    "### 尝试多种编程方法\n",
    "每次创建应用时都使用同一种编码方法几乎无一例外会导致应用的运行效率不尽人意。可以在程序分析时尝试一些试验性的办法。譬如说，在处理字典中的数据项时，你既可以使用安全的方法，先确保数据项已经存在再进行更新，也可以直接对数据项进行更新，把不存在的数据项作为特例分开处理。请看下面第一段代码：\n",
    "\n"
   ]
  },
  {
   "cell_type": "code",
   "execution_count": 6,
   "metadata": {
    "ExecuteTime": {
     "end_time": "2020-09-15T07:38:58.080716Z",
     "start_time": "2020-09-15T07:38:58.075032Z"
    }
   },
   "outputs": [
    {
     "name": "stdout",
     "output_type": "stream",
     "text": [
      "{'a': 4, 'b': 4, 'c': 4, 'd': 4}\n"
     ]
    }
   ],
   "source": [
    "n = 16\n",
    "myDict = {}\n",
    "for i in range(0, n):\n",
    "    char = 'abcd'[i%4]\n",
    "    if char not in myDict:\n",
    "        myDict[char] = 0\n",
    "    myDict[char] += 1\n",
    "print(myDict)"
   ]
  },
  {
   "cell_type": "markdown",
   "metadata": {},
   "source": [
    "当一开始myDict为空时，这段代码会跑得比较快。然而，通常情况下，myDict填满了数据，至少填有大部分数据，这时换另一种方法会更有效率。\n"
   ]
  },
  {
   "cell_type": "code",
   "execution_count": 7,
   "metadata": {
    "ExecuteTime": {
     "end_time": "2020-09-15T07:39:13.652333Z",
     "start_time": "2020-09-15T07:39:13.647453Z"
    }
   },
   "outputs": [
    {
     "name": "stdout",
     "output_type": "stream",
     "text": [
      "{'a': 4, 'b': 4, 'c': 4, 'd': 4}\n"
     ]
    }
   ],
   "source": [
    "n = 16\n",
    "myDict = {}\n",
    "for i in range(0, n):\n",
    "    char = 'abcd'[i%4]\n",
    "    try:\n",
    "        myDict[char] += 1\n",
    "    except KeyError:\n",
    "        myDict[char] = 1\n",
    "print(myDict)"
   ]
  },
  {
   "cell_type": "markdown",
   "metadata": {},
   "source": [
    "在两种方法中输出结果都是一样的。区别在于输出是如何获得的。跳出常规的思维模式，创建新的编程技巧能使你的应用更有效率。"
   ]
  },
  {
   "cell_type": "markdown",
   "metadata": {},
   "source": [
    "### 使用生成器和列表解析\n",
    "\n",
    "\n",
    "一个普遍被忽略的内存优化是生成器的使用。\n",
    "\n",
    "一个很好地例子就是创建一个很大的列表并将它们拼合在一起。\n"
   ]
  },
  {
   "cell_type": "code",
   "execution_count": 9,
   "metadata": {
    "ExecuteTime": {
     "end_time": "2020-09-15T07:41:58.509587Z",
     "start_time": "2020-09-15T07:41:55.403209Z"
    }
   },
   "outputs": [
    {
     "name": "stdout",
     "output_type": "stream",
     "text": [
      "560 ns ± 9.25 ns per loop (mean ± std. dev. of 7 runs, 100 loops each)\n",
      "4.4 ms ± 275 µs per loop (mean ± std. dev. of 7 runs, 100 loops each)\n"
     ]
    }
   ],
   "source": [
    "%timeit -n 100 a = (i for i in range(100000))\n",
    "\n",
    "%timeit -n 100 b = [i for i in range(100000)]"
   ]
  },
  {
   "cell_type": "markdown",
   "metadata": {},
   "source": [
    "使用()得到的是一个generator对象，所需要的内存空间与列表的大小无关，所以效率会高一些。\n",
    "\n",
    "在具体应用上，比如set(i for i in range(100000))会比set([i for i in range(100000)])快。\n",
    "\n",
    "但是对于需要循环遍历的情况："
   ]
  },
  {
   "cell_type": "code",
   "execution_count": 10,
   "metadata": {
    "ExecuteTime": {
     "end_time": "2020-09-15T07:43:14.124788Z",
     "start_time": "2020-09-15T07:43:13.150594Z"
    }
   },
   "outputs": [
    {
     "name": "stdout",
     "output_type": "stream",
     "text": [
      "6.22 ms ± 939 µs per loop (mean ± std. dev. of 7 runs, 10 loops each)\n",
      "7.5 ms ± 1.12 ms per loop (mean ± std. dev. of 7 runs, 10 loops each)\n"
     ]
    }
   ],
   "source": [
    "%timeit -n 10 for x in (i for i in range(100000)): pass\n",
    "\n",
    "%timeit -n 10 for x in [i for i in range(100000)]: pass"
   ]
  },
  {
   "cell_type": "code",
   "execution_count": 11,
   "metadata": {
    "ExecuteTime": {
     "end_time": "2020-09-15T07:44:39.998431Z",
     "start_time": "2020-09-15T07:44:25.275278Z"
    }
   },
   "outputs": [
    {
     "name": "stdout",
     "output_type": "stream",
     "text": [
      "94.5 ms ± 7.14 ms per loop (mean ± std. dev. of 7 runs, 10 loops each)\n",
      "116 ms ± 3.98 ms per loop (mean ± std. dev. of 7 runs, 10 loops each)\n"
     ]
    }
   ],
   "source": [
    "def yield_func(ls):\n",
    "    for i in ls:\n",
    "        yield i+1\n",
    "\n",
    "\n",
    "def not_yield_func(ls):\n",
    "    return [i+1 for i in ls]\n",
    "\n",
    "\n",
    "ls = range(1000000)\n",
    "\n",
    "%timeit -n 10 for i in yield_func(ls): pass\n",
    "%timeit -n 10 for i in not_yield_func(ls): pass"
   ]
  },
  {
   "cell_type": "markdown",
   "metadata": {},
   "source": [
    "### 改进算法，选择合适的数据结构\n",
    "\n",
    "\n",
    "一个良好的算法能够对性能起到关键作用，因此性能改进的首要点是对算法的改进。在算法的时间复杂度排序上依次是：\n",
    "\n",
    "O(1) -> O(lg n) -> O(n lg n) -> O(n^2) -> O(n^3) -> O(n^k) -> O(k^n) -> O(n!)\n",
    "\n",
    "因此如果能够在时间复杂度上对算法进行一定的改进，对性能的提高不言而喻。但对具体算法的改进不属于本文讨论的范围，读者可以自行参考这方面资料。下面的内容将集中讨论数据结构的选择。\n"
   ]
  },
  {
   "cell_type": "markdown",
   "metadata": {},
   "source": [
    "#### 优化算法时间复杂度\n",
    "算法的时间复杂度对程序的执行效率影响最大，在Python中可以通过选择合适的数据结构来优化时间复杂度，\n",
    "\n",
    "如list和set查找某一个元素的时间复杂度分别是O(n)和O(1)。\n",
    "\n",
    "不同的场景有不同的优化方式，总得来说，一般有分治，分支界限，贪心，动态规划等思想。"
   ]
  },
  {
   "cell_type": "markdown",
   "metadata": {},
   "source": [
    "#### 使用dict或set查找元素\n",
    "python dict和set都是使用hash表来实现(类似c++11标准库中unordered_map)，查找元素的时间复杂度是O(1)"
   ]
  },
  {
   "cell_type": "code",
   "execution_count": 16,
   "metadata": {
    "ExecuteTime": {
     "end_time": "2020-09-15T07:59:51.998370Z",
     "start_time": "2020-09-15T07:59:51.894275Z"
    }
   },
   "outputs": [
    {
     "name": "stdout",
     "output_type": "stream",
     "text": [
      "39.7 ns ± 0.903 ns per loop (mean ± std. dev. of 7 runs, 10000 loops each)\n",
      "54.8 ns ± 0.54 ns per loop (mean ± std. dev. of 7 runs, 10000 loops each)\n",
      "1.23 µs ± 27.5 ns per loop (mean ± std. dev. of 7 runs, 10000 loops each)\n"
     ]
    }
   ],
   "source": [
    "a = range(1000)\n",
    "\n",
    "s = set(a)\n",
    "d = dict((i,1) for i in a)\n",
    "e = list(a)\n",
    "\n",
    "%timeit -n 10000 100 in d\n",
    "%timeit -n 10000 100 in s\n",
    "%timeit -n 10000 100 in e"
   ]
  },
  {
   "cell_type": "markdown",
   "metadata": {},
   "source": [
    "#### 字典 (dictionary) 与列表 (list)\n",
    "\n",
    "Python 字典中使用了hash table，因此查找操作的复杂度为 O(1)，而 list 实际是个数组，在 list 中，查找需要遍历整个 list，其复杂度为 O(n)，因此对成员的查找访问等操作字典要比 list 更快。\n"
   ]
  },
  {
   "cell_type": "code",
   "execution_count": 48,
   "metadata": {
    "ExecuteTime": {
     "end_time": "2020-09-11T07:49:49.388544Z",
     "start_time": "2020-09-11T07:49:48.211765Z"
    }
   },
   "outputs": [
    {
     "name": "stdout",
     "output_type": "stream",
     "text": [
      "{'a': True, 'b': True, 'is': True, 'python': True, 'jason': True, 'hello': True, 'hill': True, 'with': True, 'phone': True, 'test': True, 'dfdf': True, 'apple': True, 'pddf': True, 'ind': True, 'basic': True, 'none': True, 'baecr': True, 'var': True, 'bana': True, 'dd': True, 'wrd': True}\n",
      "total run time:\n",
      "1.1659998893737793\n"
     ]
    }
   ],
   "source": [
    "from time import time\n",
    "t = time()\n",
    "list1 = ['a','b','is','python','jason','hello','hill','with','phone','test',\n",
    "'dfdf','apple','pddf','ind','basic','none','baecr','var','bana','dd','wrd']\n",
    "list1 = dict.fromkeys(list,True)\n",
    "print(list1)\n",
    "filter = []\n",
    "for i in range (1000000):\n",
    "    for find in ['is','hat','new','list','old','.']:\n",
    "        if find not in list1:\n",
    "            filter.append(find)\n",
    "print(\"total run time:\")\n",
    "print(time()-t)"
   ]
  },
  {
   "cell_type": "code",
   "execution_count": 49,
   "metadata": {
    "ExecuteTime": {
     "end_time": "2020-09-11T07:49:56.160005Z",
     "start_time": "2020-09-11T07:49:52.662891Z"
    }
   },
   "outputs": [
    {
     "name": "stdout",
     "output_type": "stream",
     "text": [
      "['a', 'b', 'is', 'python', 'jason', 'hello', 'hill', 'with', 'phone', 'test', 'dfdf', 'apple', 'pddf', 'ind', 'basic', 'none', 'baecr', 'var', 'bana', 'dd', 'wrd']\n",
      "total run time:\n",
      "3.489276170730591\n"
     ]
    }
   ],
   "source": [
    "from time import time\n",
    "t = time()\n",
    "list1 = ['a','b','is','python','jason','hello','hill','with','phone','test',\n",
    "'dfdf','apple','pddf','ind','basic','none','baecr','var','bana','dd','wrd']\n",
    "#list = dict.fromkeys(list,True)\n",
    "print(list1)\n",
    "filter = []\n",
    "for i in range (1000000):\n",
    "    for find in ['is','hat','new','list','old','.']:\n",
    "        if find not in list1:\n",
    "            filter.append(find)\n",
    "print(\"total run time:\")\n",
    "print(time()-t)"
   ]
  },
  {
   "cell_type": "markdown",
   "metadata": {},
   "source": [
    "因此在需要多数据成员进行频繁的查找或者访问的时候，使用 dict 而不是 list 是一个较好的选择。\n"
   ]
  },
  {
   "cell_type": "markdown",
   "metadata": {},
   "source": [
    "#### 集合 (set) 与列表 (list)\n",
    "\n",
    "set 的 union， intersection，difference 操作要比 list 的迭代要快。因此如果涉及到求 list 交集，并集或者差的问题可以转换为 set 来操作。\n"
   ]
  },
  {
   "cell_type": "markdown",
   "metadata": {},
   "source": [
    "##### 求 list 的交集："
   ]
  },
  {
   "cell_type": "code",
   "execution_count": 50,
   "metadata": {
    "ExecuteTime": {
     "end_time": "2020-09-11T07:55:55.291629Z",
     "start_time": "2020-09-11T07:55:45.637589Z"
    }
   },
   "outputs": [
    {
     "name": "stdout",
     "output_type": "stream",
     "text": [
      "total run time:9.647937536239624\n"
     ]
    }
   ],
   "source": [
    "from time import time\n",
    "t = time()\n",
    "lista=[1,2,3,4,5,6,7,8,9,13,34,53,42,44]\n",
    "listb=[2,4,6,9,23]\n",
    "intersection=[]\n",
    "for i in range (1000000):\n",
    "    for a in lista:\n",
    "        for b in listb:\n",
    "            if a == b:\n",
    "                intersection.append(a)\n",
    "\n",
    "print(f\"total run time:{time()-t}\")"
   ]
  },
  {
   "cell_type": "code",
   "execution_count": 1,
   "metadata": {
    "ExecuteTime": {
     "end_time": "2020-09-11T07:58:53.245219Z",
     "start_time": "2020-09-11T07:58:51.277462Z"
    }
   },
   "outputs": [
    {
     "name": "stdout",
     "output_type": "stream",
     "text": [
      "total run time:1.9605114459991455\n"
     ]
    }
   ],
   "source": [
    "# 使用 set 求交集\n",
    "from time import time\n",
    "t = time()\n",
    "lista=[1,2,3,4,5,6,7,8,9,13,34,53,42,44]\n",
    "listb=[2,4,6,9,23]\n",
    "intersection=[]\n",
    "for i in range (1000000):\n",
    "    list(set(lista)&set(listb))\n",
    "print(f\"total run time:{time()-t}\")"
   ]
  },
  {
   "cell_type": "markdown",
   "metadata": {},
   "source": [
    "##### set 常见用法\n",
    "\n",
    "| 语法 |\t操作 |\t说明 |\n",
    "|:-----------------------|:-----------------------|:--|\n",
    "| set(list1) ｜ set(list2)| \tunion\t| 包含 list1 和 list2 所有数据的新集合| \n",
    "| set(list1) & set(list2)\t| intersection| \t包含 list1 和 list2 中共同元素的新集合| \n",
    "| set(list1) - set(list2)\t| difference\t| 在 list1 中出现但不在 list2 中出现的元素的集合| "
   ]
  },
  {
   "cell_type": "markdown",
   "metadata": {},
   "source": [
    "### 充分利用 Lazy if-evaluation 的特性\n",
    "\n",
    "\n",
    "python 中条件表达式是 lazy evaluation 的，也就是说如果存在条件表达式 if x and y，在 x 为 false 的情况下 y 表达式的值将不再计算。因此可以利用该特性在一定程度上提高程序效率。\n"
   ]
  },
  {
   "cell_type": "code",
   "execution_count": 6,
   "metadata": {
    "ExecuteTime": {
     "end_time": "2020-09-11T08:12:37.298557Z",
     "start_time": "2020-09-11T08:12:34.946714Z"
    }
   },
   "outputs": [
    {
     "name": "stdout",
     "output_type": "stream",
     "text": [
      "total run time:2.343848466873169\n"
     ]
    }
   ],
   "source": [
    "from time import time\n",
    "t = time()\n",
    "abbreviations = ['cf.', 'e.g.', 'ex.', 'etc.', 'fig.', 'i.e.', 'Mr.', 'vs.']\n",
    "for i in range (1000000):\n",
    "    for w in ('Mr.', 'Hat', 'is', 'chasing', 'the', 'black', 'cat', '.'):\n",
    "        if w in abbreviations:\n",
    "        #if w[-1] == '.' and w in abbreviations:\n",
    "            pass\n",
    "print(f\"total run time:{time()-t}\")"
   ]
  },
  {
   "cell_type": "code",
   "execution_count": 7,
   "metadata": {
    "ExecuteTime": {
     "end_time": "2020-09-11T08:12:41.058833Z",
     "start_time": "2020-09-11T08:12:39.494446Z"
    }
   },
   "outputs": [
    {
     "name": "stdout",
     "output_type": "stream",
     "text": [
      "total run time:1.5586574077606201\n"
     ]
    }
   ],
   "source": [
    "from time import time\n",
    "t = time()\n",
    "abbreviations = ['cf.', 'e.g.', 'ex.', 'etc.', 'fig.', 'i.e.', 'Mr.', 'vs.']\n",
    "for i in range (1000000):\n",
    "    for w in ('Mr.', 'Hat', 'is', 'chasing', 'the', 'black', 'cat', '.'):\n",
    "        if w[-1] == '.' and w in abbreviations:\n",
    "            pass\n",
    "print(f\"total run time:{time()-t}\")"
   ]
  },
  {
   "cell_type": "markdown",
   "metadata": {},
   "source": [
    "### 字符串的优化\n",
    "\n",
    "\n",
    "python 中的字符串对象是不可改变的，因此对任何字符串的操作如拼接，修改等都将产生一个新的字符串对象，而不是基于原字符串，因此这种持续的 copy 会在一定程度上影响 python 的性能。对字符串的优化也是改善性能的一个重要的方面，特别是在处理文本较多的情况下。字符串的优化主要集中在以下几个方面：\n",
    "\n"
   ]
  },
  {
   "cell_type": "markdown",
   "metadata": {},
   "source": [
    "#### 在字符串连接的使用尽量使用 join() 而不是 +：\n"
   ]
  },
  {
   "cell_type": "code",
   "execution_count": 8,
   "metadata": {
    "ExecuteTime": {
     "end_time": "2020-09-11T08:14:55.910537Z",
     "start_time": "2020-09-11T08:14:54.338008Z"
    }
   },
   "outputs": [
    {
     "name": "stdout",
     "output_type": "stream",
     "text": [
      "18.2 ms ± 6.27 ms per loop (mean ± std. dev. of 7 runs, 10 loops each)\n"
     ]
    }
   ],
   "source": [
    "%%timeit\n",
    "s = \"\"\n",
    "list = ['a','b','b','d','e','f','g','h','i','j','k','l','m','n']\n",
    "for i in range (10000):\n",
    "    for substr in list:\n",
    "        s+= substr"
   ]
  },
  {
   "cell_type": "code",
   "execution_count": 13,
   "metadata": {
    "ExecuteTime": {
     "end_time": "2020-09-15T07:53:28.591992Z",
     "start_time": "2020-09-15T07:53:26.336923Z"
    }
   },
   "outputs": [
    {
     "name": "stdout",
     "output_type": "stream",
     "text": [
      "277 ns ± 0.213 ns per loop (mean ± std. dev. of 7 runs, 1000000 loops each)\n"
     ]
    }
   ],
   "source": [
    "%%timeit\n",
    "s = \"\"\n",
    "list = ['a','b','b','d','e','f','g','h','i','j','k','l','m','n']\n",
    "s = \"\".join(list)"
   ]
  },
  {
   "cell_type": "markdown",
   "metadata": {},
   "source": [
    "##### 同时要避免：\n",
    "```Python\n",
    "s = \"\"\n",
    "for x in list: \n",
    "    s += func(x)\n",
    "```"
   ]
  },
  {
   "cell_type": "markdown",
   "metadata": {},
   "source": [
    "##### 而是要使用：\n",
    "```Python\n",
    "slist = [func(elt) for elt in somelist]\n",
    "s = \"\".join(slist)\n",
    "```"
   ]
  },
  {
   "cell_type": "markdown",
   "metadata": {},
   "source": [
    "#### 当对字符串可以使用正则表达式或者内置函数来处理的时候，选择内置函数。\n",
    "如 str.isalpha()，str.isdigit()，str.startswith((‘x’, ‘yz’))，str.endswith((‘x’, ‘yz’))\n"
   ]
  },
  {
   "cell_type": "markdown",
   "metadata": {},
   "source": [
    "#### f-string比format、格式化以及拼接速度快"
   ]
  },
  {
   "cell_type": "code",
   "execution_count": 14,
   "metadata": {
    "ExecuteTime": {
     "end_time": "2020-09-15T07:54:05.427388Z",
     "start_time": "2020-09-15T07:54:04.934414Z"
    }
   },
   "outputs": [
    {
     "name": "stdout",
     "output_type": "stream",
     "text": [
      "183 ns ± 4.99 ns per loop (mean ± std. dev. of 7 runs, 100000 loops each)\n",
      "316 ns ± 2.73 ns per loop (mean ± std. dev. of 7 runs, 100000 loops each)\n",
      "82.6 ns ± 1.53 ns per loop (mean ± std. dev. of 7 runs, 100000 loops each)\n",
      "103 ns ± 0.975 ns per loop (mean ± std. dev. of 7 runs, 100000 loops each)\n"
     ]
    }
   ],
   "source": [
    "s1, s2 = 'ax', 'bx'\n",
    "\n",
    "%timeit -n 100000 'abc%s%s' % (s1, s2)\n",
    "%timeit -n 100000 'abc{0}{1}'.format(s1, s2)\n",
    "%timeit -n 100000 f'abc{s1}{s2}'\n",
    "%timeit -n 100000 'abc' + s1 + s2"
   ]
  },
  {
   "cell_type": "markdown",
   "metadata": {},
   "source": [
    "### 使用局部变量，避免”global” 关键字。\n",
    "python 访问局部变量会比全局变量要快得多，因 此可以利用这一特性提升性能。"
   ]
  },
  {
   "cell_type": "markdown",
   "metadata": {},
   "source": [
    "### if done is not None 比语句 if done != None 更快"
   ]
  },
  {
   "cell_type": "code",
   "execution_count": 15,
   "metadata": {
    "ExecuteTime": {
     "end_time": "2020-09-15T07:55:49.226586Z",
     "start_time": "2020-09-15T07:55:48.759197Z"
    }
   },
   "outputs": [
    {
     "name": "stdout",
     "output_type": "stream",
     "text": [
      "382 µs ± 6.51 µs per loop (mean ± std. dev. of 7 runs, 100 loops each)\n",
      "273 µs ± 9.33 µs per loop (mean ± std. dev. of 7 runs, 100 loops each)\n"
     ]
    }
   ],
   "source": [
    "#使用if is\n",
    "a = range(10000)\n",
    "\n",
    "%timeit -n 100 [i for i in a if i == True]\n",
    "\n",
    "%timeit -n 100 [i for i in a if i is True]"
   ]
  }
 ],
 "metadata": {
  "kernelspec": {
   "display_name": "Python 3",
   "language": "python",
   "name": "python3"
  },
  "language_info": {
   "codemirror_mode": {
    "name": "ipython",
    "version": 3
   },
   "file_extension": ".py",
   "mimetype": "text/x-python",
   "name": "python",
   "nbconvert_exporter": "python",
   "pygments_lexer": "ipython3",
   "version": "3.7.4"
  }
 },
 "nbformat": 4,
 "nbformat_minor": 4
}
