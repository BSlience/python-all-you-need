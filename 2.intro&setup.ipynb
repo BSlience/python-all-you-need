{
 "cells": [
  {
   "cell_type": "markdown",
   "metadata": {},
   "source": [
    "## python初探"
   ]
  },
  {
   "cell_type": "markdown",
   "metadata": {},
   "source": [
    "### python简介"
   ]
  },
  {
   "cell_type": "markdown",
   "metadata": {},
   "source": [
    "#### python的历史\n",
    "1. 1989年圣诞节：Guido von Rossum开始写Python语言的编译器。\n",
    "2. 1991年2月：第一个Python编译器（同时也是解释器）诞生，它是用C语言实现的（后面又出现了Java和C#实现的版本Jython和IronPython，以及PyPy、Brython、Pyston等其他实现），可以调用C语言的库函数。在最早的版本中，Python已经提供了对“类”，“函数”，“异常处理”等构造块的支持，同时提供了“列表”和“字典”等核心数据类型，同时支持以模块为基础来构造应用程序。\n",
    "3. 1994年1月：Python 1.0正式发布。\n",
    "4. 2000年10月16日：Python 2.0发布，增加了实现完整的[垃圾回收](https://zh.wikipedia.org/wiki/%E5%9E%83%E5%9C%BE%E5%9B%9E%E6%94%B6_(%E8%A8%88%E7%AE%97%E6%A9%9F%E7%A7%91%E5%AD%B8))，提供了对[Unicode](https://zh.wikipedia.org/wiki/Unicode)的支持。与此同时，Python的整个开发过程更加透明，社区对开发进度的影响逐渐扩大，生态圈开始慢慢形成。\n",
    "5. 2008年12月3日：Python 3.0发布，它并不完全兼容之前的Python代码，不过因为目前还有不少公司在项目和运维中使用Python 2.x版本，所以Python 3.x的很多新特性后来也被移植到Python 2.6/2.7版本中。\n"
   ]
  },
  {
   "cell_type": "markdown",
   "metadata": {},
   "source": [
    "#### Python的优缺点"
   ]
  },
  {
   "cell_type": "markdown",
   "metadata": {},
   "source": [
    "##### Python的优点\n",
    "Python的优点很多，简单的可以总结为以下几点。\n",
    "\n",
    "1. 简单和明确，做一件事只有一种方法。\n",
    "2. 学习曲线低，跟其他很多语言相比，Python更容易上手。\n",
    "3. 开放源代码，拥有强大的社区和生态圈。\n",
    "4. 解释型语言，天生具有平台可移植性。\n",
    "5. 支持两种主流的编程范式（面向对象编程和函数式编程）都提供了支持。\n",
    "6. 可扩展性和可嵌入性，可以调用C/C++代码，也可以在C/C++中调用Python。\n",
    "7. 代码规范程度高，可读性强，适合有代码洁癖和强迫症的人群。"
   ]
  },
  {
   "cell_type": "markdown",
   "metadata": {},
   "source": [
    "##### Python的缺点\n",
    "Python的缺点主要集中在以下几点。\n",
    "\n",
    "1. 执行效率稍低，因此计算密集型任务可以由C/C++编写。\n",
    "2. 代码无法加密，但是现在很多公司都不销售卖软件而是销售服务，这个问题会被淡化。\n",
    "3. 在开发时可以选择的框架太多（如Web框架就有100多个），有选择的地方就有错误。\n"
   ]
  },
  {
   "cell_type": "markdown",
   "metadata": {},
   "source": [
    "#### Python的应用领域\n",
    "\n",
    "目前Python在Web应用开发、云基础设施、DevOps、网络爬虫开发、数据分析挖掘、机器学习等领域都有着广泛的应用，因此也产生了Web后端开发、数据接口开发、自动化运维、自动化测试、科学计算和可视化、数据分析、量化交易、机器人开发、图像识别和处理等一系列的职位。\n",
    "\n",
    "- Web应用开发\n",
    "    Python经常被用于Web开发。比如，通过mod_wsgi模块，Apache可以运行用Python编写的Web程序。Python定义了WSGI标准应用接口来协调Http服务器与基于Python的Web程序之间的通信。一些Web框架，如Django,TurboGears,web2py,Zope等，可以让程序员轻松地开发和管理复杂的Web程序。\n",
    "\n",
    "- 操作系统管理、服务器运维的自动化脚本\n",
    "    在很多操作系统里，Python是标准的系统组件。 大多数Linux发行版以及NetBSD、OpenBSD和Mac OS X都集成了Python，可以在终端下直接运行Python。有一些Linux发行版的安装器使用Python语言编写，比如Ubuntu的Ubiquity安装器,Red Hat Linux和Fedora的Anaconda安装器。Gentoo Linux使用Python来编写它的Portage包管理系统。Python标准库包含了多个调用操作系统功能的库。通过pywin32这个第三方软件 包，Python能够访问Windows的COM服务及其它Windows API。使用IronPython，Python程序能够直接调用.Net Framework。一般说来，Python编写的系统管理脚本在可读性、性能、代码重用度、扩展性几方面都优于普通的shell脚本。\n",
    "\n",
    "- 网络爬虫\n",
    "    Python有大量的HTTP请求处理库和HTML解析库，并且有成熟高效的爬虫框架Scrapy和分布式解决方案scrapy-redis，在爬虫的应用方面非常广泛。\n",
    "\n",
    "- 科学计算\n",
    "    NumPy、SciPy、Pandas、Matplotlib可以让Python程序员编写科学计算程序。\n",
    "\n",
    "- 桌面软件\n",
    "    PyQt、PySide、wxPython、PyGTK是Python快速开发桌面应用程序的利器。\n",
    "\n",
    "- 服务器软件（网络软件）\n",
    "    Python对于各种网络协议的支持很完善，因此经常被用于编写服务器软件、网络爬虫。第三方库Twisted支持异步网络编程和多数标准的网络协议(包含客户端和服务器)，并且提供了多种工具，被广泛用于编写高性能的服务器软件。\n",
    "\n",
    "- 游戏\n",
    "    很多游戏使用C++编写图形显示等高性能模块，而使用Python或者Lua编写游戏的逻辑、服务器。相较于Python，Lua的功能更简单、体积更小；而Python则支持更多的特性和数据类型。\n",
    "\n",
    "- 构思实现，产品早期原型和迭代\n",
    "    Google、NASA、Facebook都在内部大量地使用Python。\n"
   ]
  },
  {
   "cell_type": "markdown",
   "metadata": {},
   "source": [
    "### 搭建编程环境\n",
    "\n",
    "#### Windows环境\n",
    "可以在[Python官方网站](https://www.python.org)下载到Python的Windows安装程序（exe文件），需要注意的是如果在Windows 7环境下安装Python 3.x，需要先安装Service Pack 1补丁包（可以通过一些工具软件自动安装系统补丁的功能来安装），安装过程建议勾选“Add Python 3.x to PATH”（将Python 3.x添加到PATH环境变量）并选择自定义安装，在设置“Optional Features”界面最好将“pip”、“tcl/tk”、“Python test suite”等项全部勾选上。强烈建议选择自定义的安装路径并保证路径中没有中文。安装完成会看到“Setup was successful”的提示。如果稍后运行Python程序时，出现因为缺失一些动态链接库文件而导致Python解释器无法工作的问题，可以按照下面的方法加以解决。\n",
    "\n",
    "如果系统显示api-ms-win-crt\\*.dll文件缺失，可以参照[《api-ms-win-crt\\*.dll缺失原因分析和解决方法》](<https://zhuanlan.zhihu.com/p/32087135>)一文讲解的方法进行处理或者直接在[微软官网](https://www.microsoft.com/zh-cn/download/details.aspx?id=48145)下载Visual C++ Redistributable for Visual Studio 2015文件进行修复；如果是因为更新Windows的DirectX之后导致某些动态链接库文件缺失问题，可以下载一个[DirectX修复工具](<https://dl.pconline.com.cn/download/360074-1.html>)进行修复。\n"
   ]
  },
  {
   "cell_type": "markdown",
   "metadata": {},
   "source": [
    "#### Linux环境\n",
    "\n",
    "Linux环境自带了Python 2.x版本，但是如果要更新到3.x的版本，可以在[Python的官方网站](https://www.python.org)下载Python的源代码并通过源代码构建安装的方式进行安装，具体的步骤如下所示。\n",
    "\n",
    "安装依赖库（因为没有这些依赖库可能在源代码构件安装时因为缺失底层依赖库而失败）。\n",
    "\n",
    "```Shell\n",
    "yum -y install wget gcc zlib-devel bzip2-devel openssl-devel ncurses-devel sqlite-devel readline-devel tk-devel gdbm-devel db4-devel libpcap-devel xz-devel libffi-devel\n",
    "```\n",
    "\n",
    "下载Python源代码并解压缩到指定目录。\n",
    "\n",
    "```Shell\n",
    "wget https://www.python.org/ftp/python/3.7.3/Python-3.7.3.tgz\n",
    "xz -d Python-3.7.3.tar.xz\n",
    "tar -xvf Python-3.7.3.tar\n",
    "```\n",
    "\n",
    "切换至Python源代码目录并执行下面的命令进行配置和安装。\n",
    "\n",
    "```Shell\n",
    "cd Python-3.7.3\n",
    "./configure --prefix=/usr/local/python37 --enable-optimizations\n",
    "make && make install\n",
    "```\n",
    "\n",
    "修改用户主目录下名为.bash_profile的文件，配置PATH环境变量并使其生效。\n",
    "\n",
    "```Shell\n",
    "cd ~\n",
    "vim .bash_profile\n",
    "```\n",
    "\n",
    "```Shell\n",
    "# ... 此处省略上面的代码 ...\n",
    "\n",
    "export PATH=$PATH:/usr/local/python37/bin\n",
    "\n",
    "# ... 此处省略下面的代码 ...\n",
    "```\n",
    "\n",
    "激活环境变量。\n",
    "\n",
    "```Shell\n",
    "source .bash_profile\n",
    "```\n"
   ]
  },
  {
   "cell_type": "markdown",
   "metadata": {},
   "source": [
    "#### macOS环境\n",
    "\n",
    "macOS也自带了Python 2.x版本，可以通过[Python的官方网站](https://www.python.org)提供的安装文件（pkg文件）安装Python 3.x的版本。默认安装完成后，可以通过在终端执行python命令来启动2.x版本的Python解释器，可以通过执行python3命令来启动3.x版本的Python解释器。\n"
   ]
  },
  {
   "cell_type": "markdown",
   "metadata": {},
   "source": [
    "### 从终端运行Python程序\n"
   ]
  },
  {
   "cell_type": "markdown",
   "metadata": {},
   "source": [
    "\n",
    "#### 确认Python的版本\n",
    "\n",
    "可以Windows的命令行提示符中键入下面的命令。\n",
    "\n",
    "```Shell\n",
    "python --version\n",
    "```\n",
    "或者是在Linux或macOS系统的终端中键入下面的命令。\n",
    "\n",
    "```Shell\n",
    "python3 --version\n",
    "```\n",
    "\n",
    "当然也可以先输入python或python3进入交互式环境，再执行以下的代码检查Python的版本。\n",
    "\n",
    "```Python\n",
    "import sys\n",
    "\n",
    "print(sys.version_info)\n",
    "print(sys.version)\n",
    "```\n"
   ]
  },
  {
   "cell_type": "markdown",
   "metadata": {},
   "source": [
    "#### 编写Python源代码\n",
    "\n",
    "可以用文本编辑工具（推荐使用[Sublime](<https://www.sublimetext.com/>)、[Atom](<https://atom.io/>)、[Visual Studio Code](<https://code.visualstudio.com/>)等高级文本编辑工具）编写Python源代码并用py作为后缀名保存该文件，代码内容如下所示。\n",
    "\n",
    "```Python\n",
    "print('hello, world!')\n",
    "```\n"
   ]
  },
  {
   "cell_type": "markdown",
   "metadata": {},
   "source": [
    "#### 运行程序\n",
    "\n",
    "切换到源代码所在的目录并执行下面的命令，看看屏幕上是否输出了\"hello, world!\"。\n",
    "\n",
    "```Shell\n",
    "python hello.py\n",
    "```\n",
    "\n",
    "或\n",
    "\n",
    "```Shell\n",
    "python3 hello.py\n",
    "```"
   ]
  },
  {
   "cell_type": "markdown",
   "metadata": {},
   "source": [
    "### 代码中的注释\n",
    "\n",
    "注释是编程语言的一个重要组成部分，用于在源代码中解释代码的作用从而增强程序的可读性和可维护性，当然也可以将源代码中不需要参与运行的代码段通过注释来去掉，这一点在调试程序的时候经常用到。注释在随源代码进入预处理器或编译时会被移除，不会在目标代码中保留也不会影响程序的执行结果。\n",
    "\n",
    "1. 单行注释 - 以#和空格开头的部分\n",
    "2. 多行注释 - 三个引号开头，三个引号结尾\n",
    "\n",
    "```Python\n",
    "\"\"\"\n",
    "第一个Python程序 - hello, world!\n",
    "向伟大的Dennis M. Ritchie先生致敬\n",
    "\"\"\"\n",
    "print('hello, world!')\n",
    "# print(\"你好,世界！\")\n",
    "print('你好', '世界')\n",
    "print('hello', 'world', sep=', ', end='!')\n",
    "print('goodbye, world', end='!\\n')\n",
    "```"
   ]
  },
  {
   "cell_type": "markdown",
   "metadata": {},
   "source": [
    "### 其他工具介绍"
   ]
  },
  {
   "cell_type": "markdown",
   "metadata": {},
   "source": [
    "#### IDLE - 自带的集成开发工具\n",
    "\n",
    "IDLE是安装Python环境时自带的集成开发工具，如下图所示。但是由于IDLE的用户体验并不是那么好所以很少在实际开发中被采用。"
   ]
  },
  {
   "cell_type": "markdown",
   "metadata": {},
   "source": [
    "#### IPython - 更好的交互式编程工具\n",
    "\n",
    "IPython是一种基于Python的交互式解释器。相较于原生的Python交互式环境，IPython提供了更为强大的编辑和交互功能。可以通过Python的包管理工具pip安装IPython和Jupyter，具体的操作如下所示。\n",
    "\n",
    "```Shell\n",
    "pip install ipython\n",
    "```\n",
    "\n",
    "或\n",
    "\n",
    "```Shell\n",
    "pip3 install ipython\n",
    "```"
   ]
  },
  {
   "cell_type": "markdown",
   "metadata": {},
   "source": [
    "当然，我们也可以通过安装Jupyter工具并运行名为notebook的程序在浏览器窗口中进行交互式代码编写操作。\n",
    "\n",
    "```Shell\n",
    "pip install jupyter\n",
    "```\n",
    "\n",
    "或\n",
    "\n",
    "```Shell\n",
    "pip3 intall jupyter\n",
    "```\n",
    "\n",
    "然后执行下面的命令：\n",
    "\n",
    "```Shell\n",
    "jupyter notebook\n",
    "```"
   ]
  },
  {
   "cell_type": "markdown",
   "metadata": {},
   "source": [
    "#####  预备:Jupyter Notebook环境快速上手\n",
    "![](http://jupyter.org/assets/main-logo.svg)\n",
    "\n",
    "###### 推荐:正常安装及启动\n",
    "- [官网下载](https://www.anaconda.com)安装\n",
    "- [清华镜像下载](https://mirrors.tuna.tsinghua.edu.cn/anaconda/archive/)安装\n",
    "- 命令行启动`jupyter notebook`或点击快捷图标方式启动\n",
    "\n",
    "启动后可以看到文件的目录的特点和当前的用户目录一样：\n",
    "例如我自己的：打开Terminal--->pwd--->ls---》查看当前目录下的文件是否和notebook下的文件一样\n",
    "\n",
    "启动的方式2种：\n",
    "第一种：直接点击anaconda图标---》找到里面的jupyter notebook\n",
    "第二种：terminal--->输入：jupyter notebook\n"
   ]
  },
  {
   "cell_type": "markdown",
   "metadata": {},
   "source": [
    "##### 安装NBextensions的步骤\n",
    "###### windows\n",
    "- 1：确定是已经安装好anaconda\n",
    "- 2：要在anaconda prompt模式下运行（jupyter notebook打开）\n",
    "- 3：pip install jupyter_contrib_nbextensions（安装成功后，关掉jupyter notebook及相关网页，并重新打开，观察是否安装成功）\n",
    "- 4：如果发现依旧失败，则可进行此步骤，注意（jupyter notebook关闭）             \n",
    "       进行配置：jupyter contrib nbextension install --user --skip-running-check\n",
    "- 5：安装完成后，重新启动jupyter notebook，“Nbextensions”出现在导航栏中，勾选目录。 \n",
    "\n",
    "###### macos\n",
    "- 1：确定是已经安装好anaconda\n",
    "- 2：要在Mac终端下运行，如何找到终端（启动台-其他-终端）\n",
    "- 3：先安装nbextensions依次输入运行下面代码：\n",
    "   pip install jupyter_contrib_nbextensionsjupyter contrib nbextension install --user\n",
    "- 4：再安装nbextensions_configurator,依次输入运行以下代码：\n",
    "   pip install jupyter_nbextensions_configuratorjupyter nbextensions_configurator enable --user\n",
    "- 5：安装完成后，关终端，启动anaconda中的jupyter notebook,在主页中，可以看见Nbextensions标签页，选中Hinterland 就能使用代码补全了。\n",
    "\n",
    "###### 里面几个常用的插件\n",
    "- Table of Contents：更容易导航\n",
    "- Autopep8：轻轻一击就能获得简洁代码，相当于代码的格式化\n",
    "- variable inspector：跟踪你的工作空间\n",
    "- ExecuteTime：显示单元格的运行时间和耗时，后面在讲到magic里面有和他相似的内容功能"
   ]
  },
  {
   "cell_type": "markdown",
   "metadata": {},
   "source": [
    "#### Notebook使用\n",
    "- 目录\n",
    "- 文件新建及导入导出\n",
    "- 菜单\n",
    "- 快捷键 [esc+h]\n",
    "jupyter常用的快捷键：\n",
    "\t选中单元格情况下：M----->markdown，Y------>code\n",
    "    \n",
    "\tshift + Tab :查看方法中的参数\n",
    "    \n",
    "\t双击D，删除当前的单元格（删除之后，Crtl + Z还原无效）\n",
    "    \n",
    "\t插入一行：b（bellow），a（above）\n",
    "    \n",
    "\n",
    "\t执行单元：Ctrl + Enter(运行本单元，选中本单元)\n",
    "    \n",
    "    shift + Enter(运行本单元，选中下一个单元)\n",
    "    \n",
    "    Alt + Enter(运行本单元，向下插入一个单元)\n",
    "    \n",
    "\t更多魔法指令：%lsmagic查看"
   ]
  },
  {
   "cell_type": "markdown",
   "metadata": {},
   "source": [
    "##### Notebook中详解\n",
    "\n",
    "\n",
    "* Python CELL\n",
    "* Markdown CELL &* Latex in markdown cell\n",
    "* Magic\n",
    "\n",
    "shell这边分为两个部分，\n",
    "1.Python cell----写Python代码\n",
    "2.makedown cell\n",
    "3.latex cell---写数学公式"
   ]
  },
  {
   "cell_type": "markdown",
   "metadata": {},
   "source": [
    "#### Markdown CELL &* Latex in markdown cell\n",
    "LaTeX实现的原理类似于HTML，Notebook中的Markdown格式解释器中内置Latex渲染器，可以将由\\$与\\$包裹的内容进行渲染并产生最终效果。\n",
    "\n",
    "sum求和符号\n",
    "\n",
    "$$\\sum_{i =1}^{n}ab$$\n",
    "\n",
    "\n",
    "\n",
    "##### 希腊字母   \n",
    "|希腊字母小写/大写|LaTeX形式|希腊字母小写/大写|LaTeX形式|\n",
    "|:---|:---|:---|:---|\n",
    "|α A|\\alpha A\t|μ N|\t\\mu N|\n",
    "|β B|\\beta B|ξ Ξ|\\xi \\Xi|\n",
    "|γ Γ\t|\\gamma \\Gamma\t|o O|o O|\n",
    "|δ Δ\t|\\delta \\ Delta\t|π Π|\t\\pi \\Pi|\n",
    "|ϵ ε E\t|\\epsilon \\varepsilon E\t|ρ ϱ P\t|\\rho \\varrho P|\n",
    "|ζ Z\t|\\zeta Z\t|σ Σ|\t\\sigma \\Sigma|\n",
    "|η H\t|\\eta H\t|τ T\t|\\tau T|\n",
    "|θ ϑ Θ\t|\\theta \\vartheta \\Theta|\tυ Υ|\t\\upsilon \\Upsilon|\n",
    "|ι I\t|\\iota I\t|ϕ φ Φ|\t\\phi \\varphi \\Phi|\n",
    "|κ K\t|\\kappa K\t|χ X\t|\\chi X|\n",
    "|λ Λ\t|\\lambda \\Lambda\t|ψ Ψ|\t\\psi \\Psi|\n",
    "\n",
    "##### 不同字体\n",
    "mathbb:$\\mathbb{ABCDEFGHIJKLMNOPQRSTUVWXYZ,abcdefghijklmnopqrstuvwxyz}$   \n",
    "mathscr:$\\mathscr{ABCDEFGHIJKLMNOPQRSTUVWXYZ,abcdefghijklmnopqrstuvwxyz}$   \n",
    "mathcal:$\\mathcal{ABCDEFGHIJKLMNOPQRSTUVWXYZ,abcdefghijklmnopqrstuvwxyz}$   \n",
    "mathbf:$\\mathbf{ABCDEFGHIJKLMNOPQRSTUVWXYZ,abcdefghijklmnopqrstuvwxyz}$\n",
    "\n",
    "##### 取消默认斜体\n",
    "默认倾斜：$ x_{z}$   \n",
    "取消默认倾斜$\\rm x_{z}$\n",
    "##### 特殊符号\n",
    "$\\bigcap_{i=1}^{n} \\bigcup_{i=1}^n  \\binom{5}{3}$   \n",
    "$\\forall$- 全称量词,表示任意的，$\\exists$- 存在量词,表示存在/至少一个   \n",
    "$\\partial$ 偏导符号， $\\propto$ 正比符号，$\\mathop{\\lim}_{n \\to \\infty }f(x)$无穷符号及极限\n",
    "\n",
    "##### 简单公式\n",
    ">$y=x^2$\n",
    "\n",
    ">$e^{i\\pi} + 1 = 0$\n",
    "\n",
    ">$e^x=\\sum_{i=0}^\\infty \\frac{1}{i!}x^i$\n",
    "\n",
    ">独占一行：$$\\frac{n!}{k!(n-k)!} = {n \\choose k}$$\n",
    "\n",
    "##### 矩阵\n",
    "$A_{m,n} =\n",
    " \\begin{pmatrix}\n",
    "  a_{1,1} & a_{1,2} & \\cdots & a_{1,n} \\\\\n",
    "  a_{2,1} & a_{2,2} & \\cdots & a_{2,n} \\\\\n",
    "  \\vdots  & \\vdots  & \\ddots & \\vdots  \\\\\n",
    "  a_{m,1} & a_{m,2} & \\cdots & a_{m,n}\n",
    " \\end{pmatrix}$"
   ]
  },
  {
   "cell_type": "code",
   "execution_count": 26,
   "metadata": {
    "ExecuteTime": {
     "end_time": "2020-09-08T09:16:44.285547Z",
     "start_time": "2020-09-08T09:16:44.282438Z"
    }
   },
   "outputs": [],
   "source": [
    "import handcalcs.render\n",
    "from math import sqrt,asin,sin"
   ]
  },
  {
   "cell_type": "code",
   "execution_count": 24,
   "metadata": {
    "ExecuteTime": {
     "end_time": "2020-09-08T09:16:09.646515Z",
     "start_time": "2020-09-08T09:16:09.627976Z"
    }
   },
   "outputs": [
    {
     "data": {
      "text/latex": [
       "\\[\n",
       "\\begin{aligned}\n",
       "a &= 2\\;\n",
       "\\\\[10pt]\n",
       "b &= 3\\;\n",
       "\\\\[10pt]\n",
       "c &= 2 \\cdot a + \\frac{ b }{ 3 } = 2 \\cdot 2 + \\frac{ 3 }{ 3 } &= 5.0\n",
       "\\end{aligned}\n",
       "\\]"
      ],
      "text/plain": [
       "<IPython.core.display.Latex object>"
      ]
     },
     "metadata": {},
     "output_type": "display_data"
    }
   ],
   "source": [
    "%%render\n",
    "a = 2\n",
    "b = 3\n",
    "c = 2*a+b/3"
   ]
  },
  {
   "cell_type": "code",
   "execution_count": 25,
   "metadata": {
    "ExecuteTime": {
     "end_time": "2020-09-08T09:16:26.718835Z",
     "start_time": "2020-09-08T09:16:26.690710Z"
    }
   },
   "outputs": [
    {
     "data": {
      "text/latex": [
       "\\[\n",
       "\\begin{aligned}\n",
       "a &= 2 \\cdot \\frac{ x }{ y } = 2 \\cdot \\frac{ 1 }{ 1 } &= 2.0\n",
       "\\\\[10pt]\n",
       "b &= 3 \\cdot a = 3 \\cdot 2.0 &= 6.0\n",
       "\\\\[10pt]\n",
       "c &= \\frac{ a + b }{ z } = \\frac{ 2.0 + 6.0 }{ 1 } &= 8.0\n",
       "\\end{aligned}\n",
       "\\]"
      ],
      "text/plain": [
       "<IPython.core.display.Latex object>"
      ]
     },
     "metadata": {},
     "output_type": "display_data"
    },
    {
     "data": {
      "text/plain": [
       "{'x': 1, 'y': 1, 'z': 1, 'a': 2.0, 'b': 6.0, 'c': 8.0}"
      ]
     },
     "execution_count": 25,
     "metadata": {},
     "output_type": "execute_result"
    }
   ],
   "source": [
    "# 基础用法2——在方程中进行显示\n",
    "from handcalcs.decorator import handcalc\n",
    "@handcalc(left=\"\",right=\"\",jupyter_display=True)\n",
    "def my_calc(x,y,z):\n",
    "    a = 2*x/y\n",
    "    b = 3*a\n",
    "    c = (a+b)/z \n",
    "    return locals()\n",
    "my_calc(1,1,1)"
   ]
  },
  {
   "cell_type": "code",
   "execution_count": 27,
   "metadata": {
    "ExecuteTime": {
     "end_time": "2020-09-08T09:16:58.060637Z",
     "start_time": "2020-09-08T09:16:58.041035Z"
    }
   },
   "outputs": [
    {
     "data": {
      "text/latex": [
       "\\[\n",
       "\\begin{aligned}\n",
       "a &= 1\\;\n",
       "\\\\[10pt]\n",
       "b &= 4\\;\n",
       "\\\\[10pt]\n",
       "c &= 3\\;\n",
       "\\\\[10pt]\n",
       "x &= \\frac{ - b + \\sqrt{ \\left( \\left( b \\right) ^{ 2 } - 4 \\cdot a \\cdot c \\right) } }{ 2 \\cdot a }\\;\n",
       "\\end{aligned}\n",
       "\\]"
      ],
      "text/plain": [
       "<IPython.core.display.Latex object>"
      ]
     },
     "metadata": {},
     "output_type": "display_data"
    }
   ],
   "source": [
    "%%render\n",
    "#symbolic\n",
    "a = 1\n",
    "b = 4\n",
    "c = 3\n",
    "x = (-b+sqrt(b**2-4*a*c))/(2*a)"
   ]
  },
  {
   "cell_type": "code",
   "execution_count": 28,
   "metadata": {
    "ExecuteTime": {
     "end_time": "2020-09-08T09:17:13.517722Z",
     "start_time": "2020-09-08T09:17:13.495825Z"
    }
   },
   "outputs": [
    {
     "data": {
      "text/latex": [
       "\\[\n",
       "\\begin{aligned}\n",
       "f &= \\frac{ c }{ a } + b\\;\\;\\textrm{(Comment)}\n",
       "\\\\[10pt]\n",
       "g &= c \\cdot \\frac{ f }{ a }\\;\\;\\textrm{(Comment)}\n",
       "\\\\[10pt]\n",
       "d &= \\sqrt{ \\frac{ a }{ b } } + \\arcsin{ \\left( \\sin{ \\left( \\frac{ b }{ c } \\right) } \\right) } + \\left( \\frac{ a }{ b } \\right) ^{ \\left( 0.5 \\right) } + \\sqrt{ \\frac{ a \\cdot b + b \\cdot c }{ \\left( b \\right) ^{ 2 } } } + \\sin{ \\left( \\frac{ a }{ b } \\right) }\\;\\;\\textrm{(Comment)}\n",
       "\\end{aligned}\n",
       "\\]"
      ],
      "text/plain": [
       "<IPython.core.display.Latex object>"
      ]
     },
     "metadata": {},
     "output_type": "display_data"
    }
   ],
   "source": [
    "%%render\n",
    "#symbolic\n",
    "f = c/a + b #Comment\n",
    "g = c*f / a # Comment\n",
    "d = sqrt(a / b) + asin(sin(b / c)) + (a/b)**(0.5) + sqrt((a*b + b*c)/(b**2)) + sin(a/b) #Comment"
   ]
  },
  {
   "cell_type": "code",
   "execution_count": 29,
   "metadata": {
    "ExecuteTime": {
     "end_time": "2020-09-08T09:17:26.084281Z",
     "start_time": "2020-09-08T09:17:26.068791Z"
    }
   },
   "outputs": [
    {
     "data": {
      "text/latex": [
       "\\[\n",
       "\\begin{aligned}\n",
       "Mag_{1} &= 100\\;\n",
       "\\\\[10pt]\n",
       "if Mag_{1< 10000:Mag} &= Mag_{1} + 100\\;\n",
       "\\\\[10pt]\n",
       "else:Mag &= Mag_{1} - 10000\\;\n",
       "\\end{aligned}\n",
       "\\]"
      ],
      "text/plain": [
       "<IPython.core.display.Latex object>"
      ]
     },
     "metadata": {},
     "output_type": "display_data"
    }
   ],
   "source": [
    "%%render\n",
    "#Symbolic\n",
    "Mag_1 = 100\n",
    "if Mag_1< 10000:Mag = Mag_1+100\n",
    "else:Mag = Mag_1-10000"
   ]
  },
  {
   "cell_type": "code",
   "execution_count": 30,
   "metadata": {
    "ExecuteTime": {
     "end_time": "2020-09-08T09:17:39.994804Z",
     "start_time": "2020-09-08T09:17:39.977544Z"
    }
   },
   "outputs": [
    {
     "name": "stdout",
     "output_type": "stream",
     "text": [
      "\\[\n",
      "\\begin{aligned}\n",
      "a &= 2\\;\n",
      "\\\\[10pt]\n",
      "b &= 3\\;\n",
      "\\\\[10pt]\n",
      "c &= 2 \\cdot a + \\frac{ b }{ 3 } = 2 \\cdot 2 + \\frac{ 3 }{ 3 } &= 5.0\n",
      "\\end{aligned}\n",
      "\\]\n"
     ]
    }
   ],
   "source": [
    "%%tex\n",
    "a = 2\n",
    "b = 3\n",
    "c = 2*a + b/3"
   ]
  },
  {
   "cell_type": "markdown",
   "metadata": {},
   "source": [
    "\\[\n",
    "\\begin{aligned}\n",
    "a &= 2\\;\n",
    "\\\\[10pt]\n",
    "b &= 3\\;\n",
    "\\\\[10pt]\n",
    "c &= 2 \\cdot a + \\frac{ b }{ 3 } = 2 \\cdot 2 + \\frac{ 3 }{ 3 } &= 5.0\n",
    "\\end{aligned}\n",
    "\\]"
   ]
  },
  {
   "cell_type": "markdown",
   "metadata": {},
   "source": [
    "#### Notebook中的Magic开关\n",
    "在jupyter的Code模式下，除了一般的python代码编辑外，jupyter还支持一些其他的编程语言，如R，Julia，bash等，不过需要使用magic单元。\n",
    "- 为实现一些快捷操作，提升效率。Notebook中提供了Magic开关，能极大得优化我们使用Notebook的体验。\n",
    "- Magic 开关分为两大类：%line magic(%表示magic只在本行有效) & %%cell magic(%%表示magic在整个cell单元有效)"
   ]
  },
  {
   "cell_type": "markdown",
   "metadata": {},
   "source": [
    "#### Sublime / Visual Studio Code - 高级文本编辑器"
   ]
  },
  {
   "cell_type": "markdown",
   "metadata": {},
   "source": [
    "- 首先可以通过[官方网站](https://www.sublimetext.com/)下载安装程序安装Sublime 3或Sublime 2。\n",
    "\n",
    "- 安装包管理工具。\n",
    "  1. 通过快捷键Ctrl+`或者在View菜单中选择Show Console打开控制台，输入下面的代码。\n",
    "\n",
    "  - Sublime 3\n",
    "\n",
    "  ```Python\n",
    "  import  urllib.request,os;pf='Package Control.sublime-package';ipp=sublime.installed_packages_path();urllib.request.install_opener(urllib.request.build_opener(urllib.request.ProxyHandler()));open(os.path.join(ipp,pf),'wb').write(urllib.request.urlopen('http://sublime.wbond.net/'+pf.replace(' ','%20')).read())\n",
    "  ```\n",
    "  - Sublime 2\n",
    "\n",
    "  ```Python\n",
    "  import  urllib2,os;pf='Package Control.sublime-package';ipp=sublime.installed_packages_path();os.makedirs(ipp)ifnotos.path.exists(ipp)elseNone;urllib2.install_opener(urllib2.build_opener(urllib2.ProxyHandler()));open(os.path.join(ipp,pf),'wb').write(urllib2.urlopen('http://sublime.wbond.net/'+pf.replace(' ','%20')).read());print('Please restart Sublime Text to finish installation')\n",
    "  ```\n",
    "  2. 手动安装浏览器输入  https://sublime.wbond.net/Package%20Control.sublime-package 下载这个文件\n",
    "  下载好以后，打开sublime text，选择菜单Preferences->Browse Packages... 打开安装目录\n",
    "  此时会进入到一个叫做Packages的目录下，点击进入上一层目录Sublime Text3，在此目录下有一个文件夹叫做Installed Packages，把刚才下载的文件放到这里就可以了。然后重启sublime text3，观察Preferences菜单最下边是否有Package Settings 和Package Control两个选项，如果有，则代表安装成功了。\n",
    "\n",
    "\n",
    "- 安装插件。通过Preference菜单的Package Control或快捷键Ctrl+Shift+P打开命令面板，在面板中输入Install Package就可以找到安装插件的工具，然后再查找需要的插件。我们推荐大家安装以下几个插件：\n",
    "\n",
    "  - SublimeCodeIntel - 代码自动补全工具插件。\n",
    "  - Emmet - 前端开发代码模板插件。\n",
    "  - Git - 版本控制工具插件。\n",
    "  - Python PEP8 Autoformat - PEP8规范自动格式化插件。\n",
    "  - ConvertToUTF8 - 将本地编码转换为UTF-8。\n",
    "\n",
    "> 说明：事实上Visual Studio Code可能是更好的选择，它不用花钱并提供了更为完整和强大的功能，有兴趣的同学可以自行研究。\n"
   ]
  },
  {
   "cell_type": "markdown",
   "metadata": {},
   "source": [
    "#### PyCharm - Python开发神器\n",
    "\n",
    "PyCharm是由JetBrains公司开发的提供给Python专业的开发者的一个集成开发环境，它最大的优点是能够大大提升Python开发者的工作效率，为开发者集成了很多用起来非常顺手的功能，包括代码调试、高亮语法、代码跳转、智能提示、自动补全、单元测试、版本控制等等。此外，PyCharm还提供了对一些高级功能的支持，包括支持基于Django框架的Web开发。\n",
    "\n",
    "##### PyCharm的安装--科学上网，搜索安装方法，给自己的电脑配置pycharm\n",
    "\n",
    "可以在[JetBrains公司的官方网站]()找到PyCharm的[下载链接](https://www.jetbrains.com/pycharm/download/)，有两个可供下载的版本一个是社区版一个是专业版，社区版在[Apache许可证](https://zh.wikipedia.org/wiki/Apache%E8%AE%B8%E5%8F%AF%E8%AF%81)下发布，专业版在专用许可证下发布（需要购买授权下载后可试用30天），其拥有许多额外功能。安装PyCharm需要有JRE（Java运行时环境）的支持，如果没有可以在安装过程中选择在线下载安装。\n",
    "\n",
    "> 说明：如果你是一名学生，希望购买PyCharm来使用，可以看看[教育优惠官方申请指南](https://sales.jetbrains.com/hc/zh-cn/articles/207154369)。"
   ]
  },
  {
   "cell_type": "markdown",
   "metadata": {},
   "source": [
    "#### 实训平台\n",
    "- notebook环境\n",
    "- 链接地址：https://train.kaikeba.com"
   ]
  },
  {
   "cell_type": "code",
   "execution_count": 7,
   "metadata": {
    "ExecuteTime": {
     "end_time": "2020-09-08T06:46:48.092129Z",
     "start_time": "2020-09-08T06:46:48.077948Z"
    }
   },
   "outputs": [
    {
     "data": {
      "text/plain": [
       "2"
      ]
     },
     "execution_count": 7,
     "metadata": {},
     "output_type": "execute_result"
    },
    {
     "data": {
      "text/plain": [
       "4"
      ]
     },
     "execution_count": 7,
     "metadata": {},
     "output_type": "execute_result"
    },
    {
     "data": {
      "text/plain": [
       "5"
      ]
     },
     "execution_count": 7,
     "metadata": {},
     "output_type": "execute_result"
    }
   ],
   "source": [
    "#表示一个可以修改内核选项ast_node_interactivity,使得jupyter对独占一行的所有变量都自动显示\n",
    "%config ZMQInteractiveShell.ast_node_interactivity='all'\n",
    "a = 2\n",
    "n = 4\n",
    "c = 5\n",
    "a\n",
    "n\n",
    "c"
   ]
  }
 ],
 "metadata": {
  "kernelspec": {
   "display_name": "Python 3",
   "language": "python",
   "name": "python3"
  },
  "language_info": {
   "codemirror_mode": {
    "name": "ipython",
    "version": 3
   },
   "file_extension": ".py",
   "mimetype": "text/x-python",
   "name": "python",
   "nbconvert_exporter": "python",
   "pygments_lexer": "ipython3",
   "version": "3.7.4"
  }
 },
 "nbformat": 4,
 "nbformat_minor": 4
}
