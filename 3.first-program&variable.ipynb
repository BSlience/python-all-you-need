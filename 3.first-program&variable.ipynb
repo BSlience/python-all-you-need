{
 "cells": [
  {
   "cell_type": "markdown",
   "metadata": {},
   "source": [
    "## Python基础语法\n",
    "\n",
    "### 第一个Python程序\n",
    "\n",
    "​\tPython语言简单，像其他语言一样，我们可以在本地的文本编辑中书写以下代码：\n",
    "\n",
    "```python\n",
    "my_name = input('please input your name:\\n')\n",
    "print(my_name)\n",
    "```\n",
    "\n",
    "​\t保存文档后重命名为`hello.py`，在文档所在目录下打开终端，并输入命令行`python hello.py`即可运行该python代码。就是这么方便。不过笔者建议做python项目开发时可以使用Pycharm这样类似的工具，更方便，详见Python软件基础那一章，[具体使用方法点击链接](https://www.cnblogs.com/muziyunxuan/p/7985265.html)。\n",
    "\n",
    "​\t以上代码中，`input`函数一般用于在运行过程中，让用户输入，是python基础中经常用到的命令，括号中的字符串为显示在终端上的提示信息；`print`函数一般用于打印显示信息，括号内的变量等即为要显示的内容。\n",
    "\n",
    "### Python交互方式\n",
    "\n",
    "#### 文本模式\n",
    "\n",
    "- Python代码保存在文件中，解释器对文件逐行解释执行\n",
    "- 在终端中输入`python 要执行的文件名`，就像前文的hello name例子那样。\n",
    "\n",
    "#### 交互模式\n",
    "\n",
    "- 直接在终端中运行解释器\n",
    "- 在交互模式中边输入边执行Python代码，会立即看到程序执行结果\n",
    "- 常用Python解释器和IPython解释器\n",
    "\n",
    "##### Python解释器\n",
    "\n",
    "###### 优点\n",
    "\n",
    "- 适合于学习/验证Python语法或者局部代码\n",
    "\n",
    "###### 缺点\n",
    "\n",
    "- 代码不能保存\n",
    "- 不适合运行太大的程序\n",
    "\n",
    "##### 使用方法\n",
    "\n",
    "- 在终端中输入python即可进入python解释器环境\n",
    "- 在python解释器环境中输入`exit()`即可退出解释器\n",
    "\n",
    "##### IPython解释器\n",
    "\n",
    "##### 特点\n",
    "\n",
    "- 支持自动补全\n",
    "\n",
    "\n",
    "- 自动缩进\n",
    "- 支持`bash shell`命令\n",
    "- 内置一些功能和函数\n",
    "- 需要额外安装，命令`pip install ipython`\n",
    "\n",
    "##### 使用方法\n",
    "\n",
    "\n",
    "- 如图所示，在终端中输入ipython即可进入python解释器环境\n",
    "- 在python解释器环境中输入`exit`即可退出解释器\n",
    "\n"
   ]
  },
  {
   "cell_type": "markdown",
   "metadata": {},
   "source": [
    "### 缩进\n",
    "\n",
    "​\t学习 Python 与其他语言最大的区别就是，Python 的代码块不使用大括号 {} 来控制类，函数以及其他逻辑判断。python 最具特色的就是用缩进来写模块。\n",
    "\n",
    "​\t缩进的空白数量是可变的，但是所有代码块语句必须包含相同的缩进空白数量，这个必须严格执行。\n",
    "\n",
    "例如如下代码缩进一致，运行则不会出错:\n",
    "\n",
    "```python\n",
    "if True:\n",
    "    print(\"True\")\n",
    "else:\n",
    "  \tprint(\"False\")\n",
    "```\n",
    "\n",
    "如下代码，缩进不一致，运行则会出错：\n",
    "\n",
    "```python\n",
    "if True:\n",
    "    print(\"True\")\n",
    "else:\n",
    " print(\"False\")\n",
    "```\n"
   ]
  },
  {
   "cell_type": "markdown",
   "metadata": {},
   "source": [
    "\n",
    "### 多行语句\n",
    "\n",
    "Python语句中一般以新行作为语句的结束符。但是我们可以使用斜杠（ \\）将一行的语句分为多行显示，如下所示：\n",
    "\n",
    "```python\n",
    "total = item_one + \\\n",
    "        item_two + \\\n",
    "        item_three\n",
    "```\n",
    "\n",
    "语句中包含 [], {} 或 () 括号就不需要使用多行连接符。如下实例：\n",
    "\n",
    "```python\n",
    "days = ['Monday', 'Tuesday', 'Wednesday',\n",
    "        'Thursday', 'Friday']\n",
    "```\n",
    "\n",
    "### Python引号\n",
    "\n",
    "Python 可以使用引号( **'** )、双引号( **\"** )、三引号( **'''** 或 **\"\"\"** ) 来表示字符串，引号的开始与结束必须的相同类型的。其中三引号可以由多行组成，编写多行文本的快捷语法，常用于文档字符串，在文件的特定地点，被当做注释。但是一段字符串只能有一种类型的引号来表示整个字符串，在字符串中间若需要引号，必须和起始结束的字符串不同。如：\n",
    "\n",
    "```python\n",
    "# 正确语法\n",
    "string1 = '他说：\"他想学Python\"'\n",
    "\n",
    "# 错误语法\n",
    "string1 = '他说：'他想学Python''\n",
    "```\n"
   ]
  },
  {
   "cell_type": "markdown",
   "metadata": {},
   "source": [
    "\n",
    "### Python注释\n",
    "\n",
    "#### 单行注释\n",
    "\n",
    "python中单行注释以及行末注释采用 # 开头。\n",
    "\n",
    "```python\n",
    "# 第一个注释\n",
    "print(\"Hello, Python!\");  # 第二个注释,代码与“#”号相隔两个空格\n",
    "```\n",
    "\n",
    "#### 多行注释\n",
    "\n",
    "python 中多行注释使用三个单引号(''')或三个双引号(\"\"\")。\n",
    "\n",
    "```python\n",
    "'''\n",
    "这是多行注释，使用单引号。\n",
    "这是多行注释，使用单引号。\n",
    "这是多行注释，使用单引号。\n",
    "'''\n",
    "\n",
    "\"\"\"\n",
    "这是多行注释，使用双引号。\n",
    "这是多行注释，使用双引号。\n",
    "这是多行注释，使用双引号。\n",
    "\"\"\"\n",
    "```\n",
    "\n"
   ]
  },
  {
   "cell_type": "markdown",
   "metadata": {},
   "source": [
    "### Python空行\n",
    "\n",
    "​\t函数之间或类的方法之间用空行分隔，表示一段新的代码的开始。类和函数入口之间也用一行空行分隔，以突出函数入口的开始。\n",
    "\n",
    "​\t空行与代码缩进不同，空行并不是Python语法的一部分。书写时不插入空行，Python解释器运行也不会出错。但是空行的作用在于分隔两段不同功能或含义的代码，便于日后代码的维护或重构。\n",
    "\n",
    "<font color=red>注意</font>：空行也是程序代码的一部分。\n",
    "\n",
    "### 命令行参数\n",
    "\n",
    "```Python\n",
    "$ python test.py arg1 arg2 arg3\n",
    "```\n",
    "\n",
    "Python 中可以所用 **sys** 的 **sys.argv** 来获取命令行参数：\n",
    "\n",
    "- sys.argv 是命令行参数列表。\n",
    "- len(sys.argv) 是命令行参数个数。\n",
    "- sys.argv[0] 表示脚本名。\n",
    "\n",
    "实例`test.py`文件：\n",
    "\n",
    "```python\n",
    "import sys\n",
    "\n",
    "\n",
    "print('参数个数为:', len(sys.argv), '个参数。')\n",
    "print('参数列表:', str(sys.argv))\n",
    "```\n",
    "\n",
    "在终端命令中运行时输入`python test.py 1 2 3 4`,结果为：\n",
    "\n",
    "```\n",
    "$ python test.py 1 2 3 4\n",
    "参数个数为: 5 个参数。\n",
    "参数列表: ['test.py', '1', '2', '3', '4']\n",
    "```\n"
   ]
  },
  {
   "cell_type": "markdown",
   "metadata": {},
   "source": [
    "## 语言元素\n",
    "\n",
    "### 指令和程序\n",
    "\n",
    "计算机的硬件系统通常由五大部件构成，包括：运算器、控制器、存储器、输入设备和输出设备。其中，运算器和控制器放在一起就是我们通常所说的中央处理器，它的功能是执行各种运算和控制指令以及处理计算机软件中的数据。我们通常所说的程序实际上就是指令的集合，我们程序就是将一系列的指令按照某种方式组织到一起，然后通过这些指令去控制计算机做我们想让它做的事情。今天我们大多数时候使用的计算机，虽然它们的元器件做工越来越精密，处理能力越来越强大，但究其本质来说仍然属于[“冯·诺依曼结构”](https://zh.wikipedia.org/wiki/%E5%86%AF%C2%B7%E8%AF%BA%E4%BC%8A%E6%9B%BC%E7%BB%93%E6%9E%84)的计算机。“冯·诺依曼结构”有两个关键点，一是指出要将存储设备与中央处理器分开，二是提出了将数据以二进制方式编码。二进制是一种“逢二进一”的计数法，跟我们人类使用的“逢十进一”的计数法没有实质性的区别，人类因为有十根手指所以使用了十进制（因为在数数时十根手指用完之后就只能进位了，当然凡事都有例外，玛雅人可能是因为长年光着脚的原因把脚趾头也算上了，于是他们使用了二十进制的计数法，在这种计数法的指导下玛雅人的历法就与我们平常使用的历法不一样，而按照玛雅人的历法，2012年是上一个所谓的“太阳纪”的最后一年，而2013年则是新的“太阳纪”的开始，后来这件事情被以讹传讹的方式误传为”2012年是玛雅人预言的世界末日“这种荒诞的说法，今天我们可以大胆的猜测，玛雅文明之所以发展缓慢估计也与使用了二十进制有关）。对于计算机来说，二进制在物理器件上来说是最容易实现的（高电压表示1，低电压表示0），于是在“冯·诺依曼结构”的计算机都使用了二进制。虽然我们并不需要每个程序员都能够使用二进制的思维方式来工作，但是了解二进制以及它与我们生活中的十进制之间的转换关系，以及二进制与八进制和十六进制的转换关系还是有必要的。如果你对这一点不熟悉，可以自行使用[维基百科](https://zh.wikipedia.org/wiki/%E4%BA%8C%E8%BF%9B%E5%88%B6)或者[百度百科](https://baike.baidu.com)科普一下。\n",
    "\n",
    "> 提示：近期关于**量子计算机**的研究已经被推倒了风口浪尖，量子计算机基于量子力学进行运算，使用量子瞬移的方式来传递信息。2018年6月，Intel宣布开发出新款量子芯片并通过了在接近绝对零度环境下的测试；2019年1月，IBM向全世界发布了首款商业化量子计算机；2020年6月18日，中国科学院宣布，中国科学技术大学潘建伟、苑震生等在超冷原子量子计算和模拟研究中取得重要进展——在理论上提出并实验实现原子深度冷却新机制的基础上，在光晶格中首次实现了1250对原子高保真度纠缠态的同步制备，为基于超冷原子光晶格的规模化量子计算与模拟奠定了基础。这一成果19日在线发表于学术期刊《科学》上 。\n"
   ]
  },
  {
   "cell_type": "markdown",
   "metadata": {},
   "source": [
    "### 变量和类型\n",
    "\n",
    "在程序设计中，变量是一种存储数据的载体。计算机中的变量是实际存在的数据或者说是存储器中存储数据的一块内存空间，变量的值可以被读取和修改，这是所有计算和控制的基础。计算机能处理的数据有很多种类型，除了数值之外还可以处理文本、图形、音频、视频等各种各样的数据，那么不同的数据就需要定义不同的存储类型。Python中的数据类型很多，而且也允许我们自定义新的数据类型（这一点在后面会讲到），我们先介绍几种常用的数据类型。\n",
    "\n",
    "- 整型：Python中可以处理任意大小的整数（Python 2.x中有int和long两种类型的整数，但这种区分对Python来说意义不大，因此在Python 3.x中整数只有int这一种了），而且支持二进制（如`0b100`，换算成十进制是4）、八进制（如`0o100`，换算成十进制是64）、十进制（`100`）和十六进制（`0x100`，换算成十进制是256）的表示法。\n",
    "- 浮点型：浮点数也就是小数，之所以称为浮点数，是因为按照科学记数法表示时，一个浮点数的小数点位置是可变的，浮点数除了数学写法（如`123.456`）之外还支持科学计数法（如`1.23456e2`）。\n",
    "- 字符串型：字符串是以单引号或双引号括起来的任意文本，比如`'hello'`和`\"hello\"`,字符串还有原始字符串表示法、字节字符串表示法、Unicode字符串表示法，而且可以书写成多行的形式（用三个单引号或三个双引号开头，三个单引号或三个双引号结尾）。\n",
    "- 布尔型：布尔值只有`True`、`False`两种值，要么是`True`，要么是`False`，在Python中，可以直接用`True`、`False`表示布尔值（请注意大小写），也可以通过布尔运算计算出来（例如`3 < 5`会产生布尔值`True`，而`2 == 1`会产生布尔值`False`）。\n",
    "- 复数型：形如`3+5j`，跟数学上的复数表示一样，唯一不同的是虚部的`i`换成了`j`。\n"
   ]
  },
  {
   "cell_type": "markdown",
   "metadata": {},
   "source": [
    "#### 变量命名\n",
    "\n",
    "对于每个变量我们需要给它取一个名字，就如同我们每个人都有属于自己的响亮的名字一样。在Python中，变量命名需要遵循以下这些必须遵守硬性规则和强烈建议遵守的非硬性规则。\n",
    "\n",
    "- 硬性规则：\n",
    "  - 变量名由字母（广义的Unicode字符，不包括特殊字符）、数字和下划线构成，数字不能开头。\n",
    "  - 大小写敏感（大写的`a`和小写的`A`是两个不同的变量）。\n",
    "  - 不要跟关键字（有特殊含义的单词，后面会讲到）和系统保留字（如函数、模块等的名字）冲突。\n",
    "- PEP 8要求：\n",
    "  - 用小写字母拼写，多个单词用下划线连接。\n",
    "  - 受保护的实例属性用单个下划线开头（后面会讲到）。\n",
    "  - 私有的实例属性用两个下划线开头（后面会讲到）。\n",
    "\n",
    "当然，作为一个专业的程序员，给变量（事实上应该是所有的标识符）命名时做到见名知意也是非常重要的。\n"
   ]
  },
  {
   "cell_type": "markdown",
   "metadata": {},
   "source": [
    "#### 命名规则\n",
    "- 固定规则\n",
    "\n",
    "标示符由字母、下划线和数字组成，且数字不能开头\n",
    "\n",
    "思考：下面的标示符哪些是正确的，哪些不正确为什么\n",
    "fromNo12，from#12，my_Boolean，my-Boolean，Obj2，2ndObj\n",
    "myInt，test1，Mike2jack，My_tExt，_test，test!32，haha(da)tt\n",
    "int，jack_rose，jack&rose，GUI，G.U.I\n",
    "\n",
    "注意：\n",
    "python中的标识符是区分大小写的\n",
    "\n",
    "- 行业内规则\n",
    "\n",
    "1.见名知意\n",
    "\n",
    "    起一个有意义的名字，尽量做到看一眼就知道是什么意思(提高代码可 读性) 比如: 名字 就定义为 name , 定义学生 用 student\n",
    "    \n",
    "2.驼峰命名法\n",
    "\n",
    "       2.1 小驼峰式命名法（lower camel case）： 第一个单词以小写字母开始；第二个单词的首字母大写，例如：myName、aDog\n",
    "   \n",
    "       2.2 大驼峰式命名法（upper camel case）： 每一个单字的首字母都采用大写字母，例如：FirstName、LastName\n",
    "   \n",
    "3.下划线连接法\n",
    "\n",
    "   不过在程序员中还有一种命名法比较流行，就是用下划线“_”来连接所有的单词，比如send_buf"
   ]
  },
  {
   "cell_type": "markdown",
   "metadata": {},
   "source": [
    "#### 关键字\n",
    "\n",
    "##### 定义：\n",
    "    python一些具有特殊功能的标示符，这就是所谓的关键字\n",
    "    \n",
    "关键字，是python已经使用的了，所以不允许开发者自己定义和关键字相同的名字的标示符\n",
    "\n",
    "##### 如何查看关键字？\n",
    "\n",
    "- 方式1：\n",
    "\n",
    "进入终端----》Python---》import keyword---》keyword.kwlist\n",
    "\n",
    "关键字的学习以及使用，咱们会在后面的课程中依依进行学习\n",
    "\n",
    "- 方式2：\n",
    "\n",
    "import keyword\n",
    "\n",
    "print(keyword.kwlist)"
   ]
  },
  {
   "cell_type": "code",
   "execution_count": 31,
   "metadata": {
    "ExecuteTime": {
     "end_time": "2020-09-08T09:57:36.045816Z",
     "start_time": "2020-09-08T09:57:36.041904Z"
    }
   },
   "outputs": [
    {
     "name": "stdout",
     "output_type": "stream",
     "text": [
      "['False', 'None', 'True', 'and', 'as', 'assert', 'async', 'await', 'break', 'class', 'continue', 'def', 'del', 'elif', 'else', 'except', 'finally', 'for', 'from', 'global', 'if', 'import', 'in', 'is', 'lambda', 'nonlocal', 'not', 'or', 'pass', 'raise', 'return', 'try', 'while', 'with', 'yield']\n"
     ]
    }
   ],
   "source": [
    "import keyword\n",
    "print(keyword.kwlist)"
   ]
  },
  {
   "cell_type": "markdown",
   "metadata": {},
   "source": [
    "#### 变量的使用\n",
    "\n",
    "下面通过几个例子来说明变量的类型和变量使用。"
   ]
  },
  {
   "cell_type": "markdown",
   "metadata": {},
   "source": [
    "```Python\n",
    "\"\"\"\n",
    "使用变量保存数据并进行算术运算\n",
    "\"\"\"\n",
    "\n",
    "a = 321\n",
    "b = 123\n",
    "print(a + b)\n",
    "print(a - b)\n",
    "print(a * b)\n",
    "print(a / b)\n",
    "print(a // b)\n",
    "print(a % b)\n",
    "print(a ** b)\n",
    "```\n",
    "\n",
    "```Python\n",
    "\"\"\"\n",
    "使用input()函数获取键盘输入\n",
    "使用int()进行类型转换\n",
    "用占位符格式化输出的字符串\n",
    "\"\"\"\n",
    "\n",
    "a = int(input('a = '))\n",
    "b = int(input('b = '))\n",
    "print('%d + %d = %d' % (a, b, a + b))\n",
    "print('%d - %d = %d' % (a, b, a - b))\n",
    "print('%d * %d = %d' % (a, b, a * b))\n",
    "print('%d / %d = %f' % (a, b, a / b))\n",
    "print('%d // %d = %d' % (a, b, a // b))\n",
    "print('%d %% %d = %d' % (a, b, a % b))\n",
    "print('%d ** %d = %d' % (a, b, a ** b))\n",
    "```\n",
    "\n",
    "```Python\n",
    "\"\"\"\n",
    "使用type()检查变量的类型\n",
    "\"\"\"\n",
    "\n",
    "a = 100\n",
    "b = 12.345\n",
    "c = 1 + 5j\n",
    "d = 'hello, world'\n",
    "e = True\n",
    "print(type(a))\n",
    "print(type(b))\n",
    "print(type(c))\n",
    "print(type(d))\n",
    "print(type(e))\n",
    "```\n",
    "\n",
    "在对变量类型进行转换时可以使用Python的内置函数（准确的说下面列出的并不是真正意义上的函数，而是后面我们要讲到的创建对象的构造方法）。\n",
    "\n",
    "- `int()`：将一个数值或字符串转换成整数，可以指定进制。\n",
    "- `float()`：将一个字符串转换成浮点数。\n",
    "- `str()`：将指定的对象转换成字符串形式，可以指定编码。\n",
    "- `chr()`：将整数转换成该编码对应的字符串（一个字符）。\n",
    "- `ord()`：将字符串（一个字符）转换成对应的编码（整数）。\n"
   ]
  },
  {
   "cell_type": "markdown",
   "metadata": {},
   "source": [
    "**程序就是用来处理数据的，而变量就是用来存储数据的**"
   ]
  },
  {
   "cell_type": "markdown",
   "metadata": {},
   "source": [
    "## 常用数据结构\n",
    "\n",
    "### 使用字符串str"
   ]
  },
  {
   "cell_type": "markdown",
   "metadata": {},
   "source": [
    "#### python中字符串的格式\n",
    "如下定义的变量a，存储的是数字类型的值\n",
    "> a = 100\n",
    "\n",
    "如下定义的变量b，存储的是字符串类型的值\n",
    "\n",
    "    b = \"hello kaikeba.com\"\n",
    "    或者\n",
    "    b = 'hello kaikeba.com'\n",
    "    \n",
    "小总结：\n",
    "\n",
    "> 双引号或者单引号中的数据，就是字符串"
   ]
  },
  {
   "cell_type": "markdown",
   "metadata": {},
   "source": [
    "##### Python 三引号\n",
    "Python 中三引号可以将复杂的字符串进行赋值。\n",
    "\n",
    "Python 三引号允许一个字符串跨多行，字符串中可以包含换行符、制表符以及其他特殊字符。\n",
    "\n",
    "三引号的语法是一对连续的单引号或者双引号（通常都是成对的用）。"
   ]
  },
  {
   "cell_type": "markdown",
   "metadata": {},
   "source": [
    "#### Python 转义字符\n",
    "在需要在字符中使用特殊字符时，python 用反斜杠 \\ 转义字符。如下表："
   ]
  },
  {
   "cell_type": "markdown",
   "metadata": {},
   "source": [
    "<style> table th:first-of-type { width: 50%; } </style>\n",
    "\n",
    "|转义字符 |\t描述 |\n",
    "| :---------------------------: | :----------------------------------------- |\n",
    "|\\\\(在行尾时) |\t续行符 |\n",
    "|\\\\\\ |\t反斜杠符号 |\n",
    "|\\\\' |\t单引号 |\n",
    "|\\\\\" |\t双引号 |\n",
    "|\\a |\t响铃 |\n",
    "|\\b |\t退格(Backspace) |\n",
    "|\\e |\t转义 |\n",
    "|\\000 |\t空 |\n",
    "|\\n |\t换行 |\n",
    "|\\v |\t纵向制表符 |\n",
    "|\\t |\t横向制表符 |\n",
    "|\\r |\t回车 |\n",
    "|\\f |\t换页 |\n",
    "|\\oyy |\t八进制数，yy代表的字符，例如：\\o12代表换行 |\n",
    "|\\xyy |\t十六进制数，yy代表的字符，例如：\\x0a代表换行 |\n",
    "|\\other |\t其它的字符以普通格式输出 |"
   ]
  },
  {
   "cell_type": "code",
   "execution_count": 43,
   "metadata": {
    "ExecuteTime": {
     "end_time": "2020-09-09T06:20:22.312774Z",
     "start_time": "2020-09-09T06:20:22.307983Z"
    }
   },
   "outputs": [
    {
     "name": "stdout",
     "output_type": "stream",
     "text": [
      "网站\t\t域名\t\t\t年龄\t\t价值\n",
      "C语言中文网\tc.biancheng.net\t\t8\t\t500W\n",
      "百度\t\twww.baidu.com\t\t20\t\t500000W\n",
      "--------------------\n",
      "Python教程：http://c.biancheng.net/python/\n",
      "C++教程：http://c.biancheng.net/cplus/\n",
      "Linux教程：http://c.biancheng.net/linux_tutorial/\n"
     ]
    }
   ],
   "source": [
    "#使用\\t排版\n",
    "str1 = '网站\\t\\t域名\\t\\t\\t年龄\\t\\t价值'\n",
    "str2 = 'C语言中文网\\tc.biancheng.net\\t\\t8\\t\\t500W'\n",
    "str3 = '百度\\t\\twww.baidu.com\\t\\t20\\t\\t500000W'\n",
    "print(str1)\n",
    "print(str2)\n",
    "print(str3)\n",
    "print(\"--------------------\")\n",
    "# \\n在输出时换行，\\在书写字符串时换行\n",
    "info = \"Python教程：http://c.biancheng.net/python/\\n\\\n",
    "C++教程：http://c.biancheng.net/cplus/\\n\\\n",
    "Linux教程：http://c.biancheng.net/linux_tutorial/\"\n",
    "print(info)"
   ]
  },
  {
   "cell_type": "code",
   "execution_count": 50,
   "metadata": {
    "ExecuteTime": {
     "end_time": "2020-09-09T06:22:50.959147Z",
     "start_time": "2020-09-09T06:22:50.954558Z"
    }
   },
   "outputs": [
    {
     "data": {
      "text/plain": [
       "'\\t'"
      ]
     },
     "execution_count": 50,
     "metadata": {},
     "output_type": "execute_result"
    }
   ],
   "source": [
    "s = 'sj\\t'\n",
    "s[-1]"
   ]
  },
  {
   "cell_type": "code",
   "execution_count": 36,
   "metadata": {
    "ExecuteTime": {
     "end_time": "2020-09-09T02:59:03.748816Z",
     "start_time": "2020-09-09T02:59:03.745116Z"
    }
   },
   "outputs": [
    {
     "name": "stdout",
     "output_type": "stream",
     "text": [
      "甲：吃饭去吗？\n",
      "乙: 走，吃饭去！\n"
     ]
    }
   ],
   "source": [
    "print('甲：吃饭去吗？\\n乙: 走，吃饭去！')"
   ]
  },
  {
   "cell_type": "code",
   "execution_count": 37,
   "metadata": {
    "ExecuteTime": {
     "end_time": "2020-09-09T02:59:05.498009Z",
     "start_time": "2020-09-09T02:59:05.493329Z"
    }
   },
   "outputs": [
    {
     "name": "stdout",
     "output_type": "stream",
     "text": [
      "甲：吃饭去吗？\n",
      "乙: 走，吃饭去！\n"
     ]
    }
   ],
   "source": [
    "string = '''甲：吃饭去吗？\n",
    "乙: 走，吃饭去！'''\n",
    "print(string)"
   ]
  },
  {
   "cell_type": "code",
   "execution_count": 38,
   "metadata": {
    "ExecuteTime": {
     "end_time": "2020-09-09T02:59:16.114603Z",
     "start_time": "2020-09-09T02:59:16.110740Z"
    }
   },
   "outputs": [
    {
     "name": "stdout",
     "output_type": "stream",
     "text": [
      "\n",
      "　　 へ　　　　　／|\n",
      "　　/＼7　　　 ∠＿/\n",
      "　 /　│　　 ／　／\n",
      "　│　Z ＿,＜　／　　  /`ヽ\n",
      "　│　　　　　ヽ　　  /　　〉\n",
      "　 Y　　　　　`　  /　　/\n",
      "　ｲ●　､　●　⊂⊃  〈　　/\n",
      "　() へ　　 　|　  ＼〈\n",
      "　　>ｰ ､_　 ィ　│  ／／\n",
      "　 / へ　　 /　ﾉ＜| ＼＼\n",
      "　 ヽ_ﾉ　　(_／　│ ／／\n",
      "　　7　　　　　　|／\n",
      "　　＞―r￣￣`ｰ―＿\n"
     ]
    }
   ],
   "source": [
    "pikachu = '''\n",
    "　　 へ　　　　　／|\n",
    "　　/＼7　　　 ∠＿/\n",
    "　 /　│　　 ／　／\n",
    "　│　Z ＿,＜　／　　  /`ヽ\n",
    "　│　　　　　ヽ　　  /　　〉\n",
    "　 Y　　　　　`　  /　　/\n",
    "　ｲ●　､　●　⊂⊃  〈　　/\n",
    "　() へ　　 　|　  ＼〈\n",
    "　　>ｰ ､_　 ィ　│  ／／\n",
    "　 / へ　　 /　ﾉ＜| ＼＼\n",
    "　 ヽ_ﾉ　　(_／　│ ／／\n",
    "　　7　　　　　　|／\n",
    "　　＞―r￣￣`ｰ―＿'''\n",
    "print(pikachu)"
   ]
  },
  {
   "cell_type": "markdown",
   "metadata": {},
   "source": [
    "#### 字符串输出"
   ]
  },
  {
   "cell_type": "code",
   "execution_count": 32,
   "metadata": {
    "ExecuteTime": {
     "end_time": "2020-09-08T11:31:32.837066Z",
     "start_time": "2020-09-08T11:31:32.831906Z"
    }
   },
   "outputs": [
    {
     "name": "stdout",
     "output_type": "stream",
     "text": [
      "--------------------------------------------------\n",
      "姓名：张三\n",
      "职位：工程师\n",
      "公司地址：北京市海淀区\n",
      "--------------------------------------------------\n"
     ]
    }
   ],
   "source": [
    "name = '张三'\n",
    "position = '工程师'\n",
    "address = '北京市海淀区'\n",
    "\n",
    "print('--------------------------------------------------')\n",
    "print(\"姓名：%s\" % name)\n",
    "print(\"职位：%s\" % position)\n",
    "print(\"公司地址：%s\" % address)\n",
    "print('--------------------------------------------------')"
   ]
  },
  {
   "cell_type": "markdown",
   "metadata": {},
   "source": [
    "##### 格式化输出\n",
    "常用的格式符号\n",
    "下面是完整的，它可以与％符号使用列表:\n",
    "```\n",
    "格式符号\t转换\n",
    "%c\t字符\n",
    "%s\t字符串\n",
    "%d\t有符号十进制整数\n",
    "%u\t无符号十进制整数\n",
    "%o\t八进制整数\n",
    "%x\t十六进制整数（小写字母0x）\n",
    "%X\t十六进制整数（大写字母0X）\n",
    "%f\t浮点数\n",
    "%e\t科学计数法（小写'e'）\n",
    "%E\t科学计数法（大写“E”）\n",
    "%g\t％f和％e 的简写\n",
    "%G\t％f和％E的简写\n",
    "```"
   ]
  },
  {
   "cell_type": "code",
   "execution_count": null,
   "metadata": {},
   "outputs": [],
   "source": [
    "# Python2.6 开始，新增了一种格式化字符串的函数 str.format()，它增强了字符串格式化的功能。\n",
    "name = '张三'\n",
    "position = '工程师'\n",
    "address = '北京市海淀区'\n",
    "\n",
    "print('--------------------------------------------------')\n",
    "print(\"姓名：{}\".format(name))\n",
    "print(\"职位：{}\".format(position))\n",
    "print(\"公司地址：{}\".format(address))\n",
    "print('--------------------------------------------------')"
   ]
  },
  {
   "cell_type": "markdown",
   "metadata": {},
   "source": [
    "##### Python 字符串的格式化，从 %格式到 format再到 f-string，格式化的方式是越来越直观，同时 f-string 的效率似乎也比前两个高。"
   ]
  },
  {
   "cell_type": "code",
   "execution_count": 35,
   "metadata": {
    "ExecuteTime": {
     "end_time": "2020-09-08T11:39:10.408321Z",
     "start_time": "2020-09-08T11:39:10.403635Z"
    }
   },
   "outputs": [
    {
     "name": "stdout",
     "output_type": "stream",
     "text": [
      "--------------------------------------------------\n",
      "姓名：张三\n",
      "职位：工程师\n",
      "公司地址：北京市海淀区\n",
      "--------------------------------------------------\n"
     ]
    }
   ],
   "source": [
    "# f-string 的功能在 Python 3.6 及以后版本适用。\n",
    "name = '张三'\n",
    "position = '工程师'\n",
    "address = '北京市海淀区'\n",
    "\n",
    "print('--------------------------------------------------')\n",
    "print(f\"姓名：{name}\")\n",
    "print(f\"职位：{position}\")\n",
    "print(f\"公司地址：{address}\")\n",
    "print('--------------------------------------------------')"
   ]
  },
  {
   "cell_type": "code",
   "execution_count": 40,
   "metadata": {
    "ExecuteTime": {
     "end_time": "2020-09-09T03:11:29.016676Z",
     "start_time": "2020-09-09T03:11:29.011528Z"
    }
   },
   "outputs": [
    {
     "data": {
      "text/plain": [
       "'Hi 张三. You are a 工程师. You were in 北京市海淀区.'"
      ]
     },
     "execution_count": 40,
     "metadata": {},
     "output_type": "execute_result"
    }
   ],
   "source": [
    "message = (f\"Hi {name}. \"\n",
    "        f\"You are a {position}. \"\n",
    "        f\"You were in {address}.\")\n",
    "message"
   ]
  },
  {
   "cell_type": "markdown",
   "metadata": {},
   "source": [
    "#### 字符串输入\n",
    "\n",
    "注意：input获取的数据，都以字符串的方式进行保存，即使输入的是数字，那么也是以字符串方式保存"
   ]
  },
  {
   "cell_type": "code",
   "execution_count": null,
   "metadata": {},
   "outputs": [],
   "source": [
    "username = input('请输入用户名:')\n",
    "print(\"用户名为：%s\" % userName)\n",
    "\n",
    "password = input('请输入密码:')\n",
    "print(\"密码为：%s\" % password)"
   ]
  },
  {
   "cell_type": "markdown",
   "metadata": {},
   "source": [
    "#### 下标与切片\n",
    "##### 字符串中\"下标\"的使用\n",
    "\n",
    "列表与元组支持下标索引好理解，字符串实际上就是字符的数组，所以也支持下标索引。\n"
   ]
  },
  {
   "cell_type": "code",
   "execution_count": null,
   "metadata": {},
   "outputs": [],
   "source": [
    "name = 'abcdef'\n",
    "\n",
    "print(name[0])\n",
    "print(name[1])\n",
    "print(name[2])"
   ]
  },
  {
   "cell_type": "markdown",
   "metadata": {},
   "source": [
    "##### 切片\n",
    "切片是指对操作的对象截取其中一部分的操作。字符串、列表、元组都支持切片操作。\n",
    "\n",
    "切片的语法：[起始:结束:步长]\n",
    "- 注意：选取的区间从\"起始\"位开始，到\"结束\"位的前一位结束（不包含结束位本身)，步长表示选取间隔。\n",
    "- 注意是左闭右开的区间，即包含左边界，但是不包含右边界\n",
    "- 其中：步长可以省略，默认为1。步长即每次截取一个元素，到下一次截取元素距离几个元素（默认为1，即紧挨着截取）\n",
    "\n",
    "- 特别注意:\n",
    "    - 冒号：的左右两侧都可以不写，其中左侧默认为0，即str第一个数据，右侧默认为数据个数+1，即list的最后一个数据\n",
    "    - 左边界和右边界也可以超出str的范围，最长只能截取到str的范围内\n",
    "    - 一般情况下，左边界<=右边界。若左边界>右边界，则要设置步长为负数，否则输出为空（此情况也就是从右向左截取）\n",
    "\n",
    "我们以字符串为例讲解。\n",
    "\n",
    "如果取出一部分，则可以在中括号[]中，使用:\n",
    "\n",
    "\n",
    "     name = 'abcdef'\n",
    "\n",
    "     print(name[0:3]) # 取 下标0~2 的字符"
   ]
  },
  {
   "cell_type": "markdown",
   "metadata": {},
   "source": [
    "#### 字符串连接\n",
    "用+号实现连接"
   ]
  },
  {
   "cell_type": "code",
   "execution_count": 51,
   "metadata": {
    "ExecuteTime": {
     "end_time": "2020-09-09T06:36:27.828835Z",
     "start_time": "2020-09-09T06:36:27.824359Z"
    }
   },
   "outputs": [
    {
     "data": {
      "text/plain": [
       "'你好kaikeba'"
      ]
     },
     "execution_count": 51,
     "metadata": {},
     "output_type": "execute_result"
    }
   ],
   "source": [
    "a = '你好'\n",
    "b = 'kaikeba'\n",
    "a+b"
   ]
  },
  {
   "cell_type": "code",
   "execution_count": 52,
   "metadata": {
    "ExecuteTime": {
     "end_time": "2020-09-09T06:36:48.165435Z",
     "start_time": "2020-09-09T06:36:48.156504Z"
    }
   },
   "outputs": [
    {
     "ename": "TypeError",
     "evalue": "can only concatenate str (not \"int\") to str",
     "output_type": "error",
     "traceback": [
      "\u001b[0;31m---------------------------------------------------------------------------\u001b[0m",
      "\u001b[0;31mTypeError\u001b[0m                                 Traceback (most recent call last)",
      "\u001b[0;32m<ipython-input-52-3d843124bde2>\u001b[0m in \u001b[0;36m<module>\u001b[0;34m\u001b[0m\n\u001b[0;32m----> 1\u001b[0;31m \u001b[0;34m'你好'\u001b[0m \u001b[0;34m+\u001b[0m \u001b[0;36m1\u001b[0m\u001b[0;34m\u001b[0m\u001b[0;34m\u001b[0m\u001b[0m\n\u001b[0m",
      "\u001b[0;31mTypeError\u001b[0m: can only concatenate str (not \"int\") to str"
     ]
    }
   ],
   "source": [
    "'你好' + 1"
   ]
  },
  {
   "cell_type": "markdown",
   "metadata": {},
   "source": [
    "#### 字符串常见操作\n",
    "如有字符串mystr = 'hello world'，以下是常见的操作\n",
    "\n",
    "<1> find\n",
    "\n",
    "检测 str 是否包含在 mystr中，如果是返回开始的索引值，否则返回-1\n",
    "\n",
    "mystr.find(str, start=0, end=len(mystr))\n",
    "\n",
    "<2>index\n",
    "\n",
    "跟find()方法一样，只不过如果str不在 mystr中会报一个异常.\n",
    "\n",
    "mystr.index(str, start=0, end=len(mystr)) \n",
    "\n",
    "<3>count\n",
    "\n",
    "返回 str在start和end之间 在 mystr里面出现的次数\n",
    "\n",
    "mystr.count(str, start=0, end=len(mystr))\n",
    "\n",
    "\n",
    "<4>replace\n",
    "\n",
    "把 mystr 中的 str1 替换成 str2,如果 count 指定，则替换不超过 count 次.\n",
    "\n",
    "mystr.replace(str1, str2,  mystr.count(str1))\n",
    "\n",
    "\n",
    "<5>split\n",
    "\n",
    "以 str 为分隔符切片 mystr，如果 maxsplit有指定值，则仅分隔 maxsplit 个子字符串\n",
    "\n",
    "mystr.split(str=\" \", 2)    \n",
    "\n",
    "\n",
    "<6>capitalize\n",
    "\n",
    "把字符串的第一个字符大写\n",
    "\n",
    "mystr.capitalize()\n",
    "\n",
    "\n",
    "<7>title\n",
    "\n",
    "把字符串的每个单词首字母大写\n",
    "```Python\n",
    "a = \"hello world\"\n",
    "a.title()\n",
    "'Hello World'\n",
    "```\n",
    "\n",
    "<8>startswith\n",
    "\n",
    "检查字符串是否是以 hello 开头, 是则返回 True，否则返回 False\n",
    "\n",
    "mystr.startswith('hello')\n",
    "\n",
    "\n",
    "<9>endswith\n",
    "\n",
    "检查字符串是否以obj结束，如果是返回True,否则返回 False.\n",
    "\n",
    "mystr.endswith(obj)\n",
    "\n",
    "\n",
    "<10>lower\n",
    "\n",
    "转换 mystr 中所有大写字符为小写\n",
    "\n",
    "mystr.lower()        \n",
    "\n",
    "\n",
    "<11>upper\n",
    "\n",
    "转换 mystr 中的小写字母为大写\n",
    "\n",
    "mystr.upper()    \n",
    "\n",
    "\n",
    "<12>ljust\n",
    "\n",
    "返回一个原字符串左对齐,并使用空格填充至长度 width 的新字符串\n",
    "\n",
    "mystr.ljust(width) \n",
    "\n",
    "\n",
    "<13>rjust\n",
    "\n",
    "返回一个原字符串右对齐,并使用空格填充至长度 width 的新字符串\n",
    "\n",
    "mystr.rjust(width)    \n",
    "\n",
    "\n",
    "<14>center\n",
    "\n",
    "返回一个原字符串居中,并使用空格填充至长度 width 的新字符串\n",
    "\n",
    "mystr.center(width)   \n",
    "\n",
    "\n",
    "<15>lstrip\n",
    "\n",
    "删除 mystr 左边的空白字符\n",
    "\n",
    "mystr.lstrip()\n",
    "\n",
    "\n",
    "<16>rstrip\n",
    "\n",
    "删除 mystr 字符串末尾的空白字符\n",
    "\n",
    "mystr.rstrip()    \n",
    "\n",
    "\n",
    "<17>strip\n",
    "\n",
    "删除mystr字符串两端的空白字符\n",
    "\n",
    "<18>rfind\n",
    "\n",
    "类似于 find()函数，不过是从右边开始查找.\n",
    "\n",
    "mystr.rfind(str, start=0,end=len(mystr) )\n",
    "\n",
    "\n",
    "<19>rindex\n",
    "\n",
    "类似于 index()，不过是从右边开始.\n",
    "\n",
    "mystr.rindex( str, start=0,end=len(mystr))\n",
    "\n",
    "\n",
    "<20>partition\n",
    "\n",
    "把mystr以str分割成三部分,str前，str和str后\n",
    "\n",
    "mystr.partition(str)\n",
    "\n",
    "\n",
    "<21>rpartition\n",
    "\n",
    "类似于 partition()函数,不过是从右边开始.\n",
    "\n",
    "mystr.rpartition(str)\n",
    "\n",
    "\n",
    "<22>splitlines\n",
    "\n",
    "按照行分隔，返回一个包含各行作为元素的列表\n",
    "\n",
    "mystr.splitlines()  \n",
    "\n",
    "\n",
    "<23>isalpha\n",
    "\n",
    "如果 mystr 所有字符都是字母 则返回 True,否则返回 False\n",
    "\n",
    "mystr.isalpha()  \n",
    "\n",
    "\n",
    "<24>isdigit\n",
    "\n",
    "如果 mystr 只包含数字则返回 True 否则返回 False.\n",
    "\n",
    "mystr.isdigit() \n",
    "\n",
    "\n",
    "<25>isalnum\n",
    "\n",
    "如果 mystr 所有字符都是字母或数字则返回 True,否则返回 False\n",
    "\n",
    "mystr.isalnum()  \n",
    "\n",
    "\n",
    "<26>isspace\n",
    "\n",
    "如果 mystr 中只包含空格，则返回 True，否则返回 False.\n",
    "\n",
    "mystr.isspace()   \n",
    "\n",
    "\n",
    "<27>join\n",
    "\n",
    "mystr 中每个元素后面插入str,构造出一个新的字符串\n",
    "\n",
    "mystr.join(str)\n",
    "\n",
    "\n",
    "想一想\n",
    "（面试题）给定一个字符串aStr，返回使用空格或者'\\t'分割后的倒数第二个子串\n"
   ]
  },
  {
   "cell_type": "markdown",
   "metadata": {},
   "source": [
    "#### 字符串相关练习\n",
    "\n",
    "第二次世界大战促使了现代电子计算机的诞生，最初的目的用计算机来快速的完成导弹弹道的计算，因此在计算机刚刚诞生的那个年代，计算机处理的信息基本上都是数值型的信息，而世界上的第一台电子计算机ENIAC每秒钟能够完成约5000次浮点运算。随着时间的推移，虽然数值运算仍然是计算机日常工作中最为重要的事情之一，但是今天的计算机更多的时间需要处理的数据可能都是以文本的方式存在的，如果我们希望通过Python程序操作本这些文本信息，就必须要先了解字符串类型以及与它相关的知识。\n",
    "\n",
    "所谓**字符串**，就是由零个或多个字符组成的有限序列，一般记为$${\\displaystyle s=a_{1}a_{2}\\dots a_{n}(0\\leq n \\leq \\infty)}$$\n",
    "\n",
    "我们可以通过下面的代码来了解字符串的使用。\n",
    "\n",
    "```Python\n",
    "def main():\n",
    "    str1 = 'hello, world!'\n",
    "    # 通过len函数计算字符串的长度\n",
    "    print(len(str1))  # 13\n",
    "    # 获得字符串首字母大写的拷贝\n",
    "    print(str1.capitalize())  # Hello, world!\n",
    "    # 获得字符串变大写后的拷贝\n",
    "    print(str1.upper())  # HELLO, WORLD!\n",
    "    # 从字符串中查找子串所在位置\n",
    "    print(str1.find('or'))  # 8\n",
    "    print(str1.find('shit'))  # -1\n",
    "    # 与find类似但找不到子串时会引发异常\n",
    "    # print(str1.index('or'))\n",
    "    # print(str1.index('shit'))\n",
    "    # 检查字符串是否以指定的字符串开头\n",
    "    print(str1.startswith('He'))  # False\n",
    "    print(str1.startswith('hel'))  # True\n",
    "    # 检查字符串是否以指定的字符串结尾\n",
    "    print(str1.endswith('!'))  # True\n",
    "    # 将字符串以指定的宽度居中并在两侧填充指定的字符\n",
    "    print(str1.center(50, '*'))\n",
    "    # 将字符串以指定的宽度靠右放置左侧填充指定的字符\n",
    "    print(str1.rjust(50, ' '))\n",
    "    str2 = 'abc123456'\n",
    "    # 从字符串中取出指定位置的字符(下标运算)\n",
    "    print(str2[2])  # c\n",
    "    # 字符串切片(从指定的开始索引到指定的结束索引)\n",
    "    print(str2[2:5])  # c12\n",
    "    print(str2[2:])  # c123456\n",
    "    print(str2[2::2])  # c246\n",
    "    print(str2[::2])  # ac246\n",
    "    print(str2[::-1])  # 654321cba\n",
    "    print(str2[-3:-1])  # 45\n",
    "    # 检查字符串是否由数字构成\n",
    "    print(str2.isdigit())  # False\n",
    "    # 检查字符串是否以字母构成\n",
    "    print(str2.isalpha())  # False\n",
    "    # 检查字符串是否以数字和字母构成\n",
    "    print(str2.isalnum())  # True\n",
    "    str3 = '  hello@163.com '\n",
    "    print(str3)\n",
    "    # 获得字符串修剪左右两侧空格的拷贝\n",
    "    print(str3.strip())\n",
    "\n",
    "\n",
    "if __name__ == '__main__':\n",
    "    main()\n",
    "```\n"
   ]
  },
  {
   "cell_type": "markdown",
   "metadata": {},
   "source": [
    "### 使用列表list"
   ]
  },
  {
   "cell_type": "markdown",
   "metadata": {},
   "source": [
    "list作为Python中最常用的数据结构之一，与其他编程语言的数组有相似的特点，但是它具有着更为强大的功能，接下来将详细地为大家介绍一下list的所有操作。\n",
    "\n",
    "（注：tuple元组类型与list类似，但是tuple的元素不能修改；set集合与list也类似，但是集合中的元素是无序的，且会自动除去重复元素）"
   ]
  },
  {
   "cell_type": "markdown",
   "metadata": {},
   "source": [
    "#### 列表的格式\n",
    "\n",
    "想一想：\n",
    "\n",
    "    前面学习的字符串可以用来存储一串信息，那么想一想，怎样存储咱们班所有同学的名字呢？\n",
    "\n",
    "    定义100个变量，每个变量存放一个学生的姓名可行吗？有更好的办法吗？\n",
    "\n",
    "答：\n",
    "    列表\n",
    " \n",
    "格式：列表名 = [列表选项1, 列表选项2, ……, 列表选项n]\n",
    "\n",
    "例如：\n",
    "\n",
    "    namesList = ['zhangsan','李四','王五']\n",
    "\n",
    "比C语言的数组强大的地方在于列表中的元素可以是不同类型的\n",
    "\n",
    "    testList = [1, 'a']   "
   ]
  },
  {
   "cell_type": "markdown",
   "metadata": {},
   "source": [
    "#### 列表的常见操作"
   ]
  },
  {
   "cell_type": "markdown",
   "metadata": {},
   "source": [
    "##### 1.list列表的创建\n",
    "- 创建一个列表（不赋初值）:\n",
    "```\n",
    "a = []\n",
    "a = list()\n",
    "```"
   ]
  },
  {
   "cell_type": "markdown",
   "metadata": {},
   "source": [
    "- 创建一个列表，并对其赋初值\n",
    "```\n",
    "a = [1,2,3]\n",
    "```"
   ]
  },
  {
   "cell_type": "markdown",
   "metadata": {},
   "source": [
    "- 列表更高级的创建方法——用表达式创建\n",
    "```\n",
    "a = [i for i in range(1, 11)]\n",
    "#创建一个元素分别为1,2，...10的列表\n",
    "a = [i for i in range(1, 11) if i % 2 == 0]\n",
    "#创建一个1-10，且元素为偶数的列表\n",
    "```"
   ]
  },
  {
   "cell_type": "markdown",
   "metadata": {},
   "source": [
    "- 用list（）函数将其他（可迭代）数据转换为列表\n",
    "```\n",
    "list('ab c')   #列表为['a', 'b', ' ', 'c']\n",
    "```"
   ]
  },
  {
   "cell_type": "markdown",
   "metadata": {},
   "source": [
    "##### 2. 列表的索引\n",
    "\n",
    "- 直接用中括号[ ]索引其下标即可，或用for循环遍历所有的值\n",
    "- 注意，当下标为负数时则代表从后往前所以（或理解为长度+负下标），即-1代表最后一个元素，-2代表倒数第2个元素"
   ]
  },
  {
   "cell_type": "code",
   "execution_count": null,
   "metadata": {},
   "outputs": [],
   "source": [
    "a = [1, 2, 3]\n",
    "print(a[1])  # 输出2,因为一个list列表的下标从0开始，按照0, 1, 2,...的顺序排列\n",
    "print(a[-1])  # 输出3\n",
    "for i in a:\n",
    "    print(i)  # 输出1 2 3"
   ]
  },
  {
   "cell_type": "markdown",
   "metadata": {},
   "source": [
    "- 注意，字典dict中可以用.keys()和.values()分别遍历dict的键和值\n",
    "\n",
    "- 字典dict中.get()函数可以返回指定键的值，相比于dict[“key”]访问的好处是如果字典中没有指定的key则返回None，而不会直接报错"
   ]
  },
  {
   "cell_type": "code",
   "execution_count": null,
   "metadata": {},
   "outputs": [],
   "source": [
    "a = {\"one\": 1, \"two\": 2}\n",
    "for i in a.values():\n",
    "    print(i)  # 输出1 2\n",
    "a.get(key, default)  # default_value不设置的话默认为None，设置的话即如果找不到则返回default设定的值"
   ]
  },
  {
   "cell_type": "markdown",
   "metadata": {},
   "source": [
    "##### 3. 列表的分片操作（slice）\n",
    "\n",
    "- 用[左边界下标：右边界下标：步长]截取list中特定的一段，注意是左闭右开的区间，即包含左边界，但是不包含右边界\n",
    "\n",
    "- 其中：步长可以省略，默认为1。步长即每次截取一个元素，到下一次截取元素距离几个元素（默认为1，即紧挨着截取）\n",
    "\n",
    "- 特别注意，冒号：的左右两侧都可以不写，其中左侧默认为0，即list第一个数据，右侧默认为数据个数+1，即list的最后一个数据\n",
    "- 左边界和右边界也可以超出list的范围，最长只能截取到list的范围内\n",
    "- 一般情况下，左边界<=右边界。若左边界>右边界，则要设置步长为负数，否则输出为空（此情况也就是从右向左截取）\n"
   ]
  },
  {
   "cell_type": "code",
   "execution_count": null,
   "metadata": {},
   "outputs": [],
   "source": [
    "a = [1, 2, 3, 4, 5]\n",
    "print(a[1:3])  # 输出[2,3]\n",
    "print(a[:4])  # 输出[1,2,3,4]\n",
    "print(a[2:])  # 输出[3,4,5]\n",
    "print(a[2:10]  # 输出[3,4,5]\n",
    "print(a[0:3:2])  # 输出[1,3]\n",
    "print(a[2:0:-1])  # 输出[3,2]"
   ]
  },
  {
   "cell_type": "markdown",
   "metadata": {},
   "source": [
    "##### 4. 列表删除元素\n",
    "1. 用del函数删除列表指定位置的元素\n",
    "> del(list1[index]) #删除list1中index位置的元素（index也可以表示一个范围，如[1, 3]）\n",
    "2. 用pop函数剔除队尾元素，并将其返回\n",
    "> a = list1.pop(index) #将list1中index位置元素剔除并赋值给a，默认删除最后一个元素\n",
    "3. 用remove函数删除列表中值为指定值的元素\n",
    "> list1.remove(value) #删除list中值为value的元素\n",
    "4. 用clear函数彻底清空列表全部内容\n",
    "> list1.clear() #清空list1的全部内容\n",
    "5. 用分片赋值空列表的办法删除元素\n",
    "> list1 = [1, 2, 3, 4, 5]   list1[2:] = []   list1  # 输出[1, 2]\n",
    "\n",
    "**注意：集合中只有remove和discard，其中discard删除不存在的元素不会报错，但是remove与list中一样，会报错**"
   ]
  },
  {
   "cell_type": "markdown",
   "metadata": {},
   "source": [
    "##### 5. 列表的拼接\n",
    "\n",
    "- 可以简单的用 + 将两个列表连接起来\n",
    "```\n",
    "a = [1, 2]\n",
    "b = [3]\n",
    "c = a + b\n",
    "```\n",
    "那么c = [1, 2, 3]\n",
    "\n",
    "- 用extend函数拼接两个列表\n",
    "```\n",
    "list1.extend(list2) #在list1后面接上list2\n",
    "```"
   ]
  },
  {
   "cell_type": "markdown",
   "metadata": {},
   "source": [
    "##### 6. 列表的重复\n",
    "\n",
    "- 可以将一个列表直接乘一个数字n获得n倍重复后的列表，相当于n个这样的列表连接起来\n",
    "```\n",
    "a = [0]\n",
    "b = a * 5\n",
    "```\n",
    "那么b = [0, 0, 0, 0, 0]"
   ]
  },
  {
   "cell_type": "markdown",
   "metadata": {},
   "source": [
    "##### 7. 元素成员判断（判断一个元素是否存在一个列表中）\n",
    "```Python\n",
    "a = [1, 2, 3, 4, 5]\n",
    "b = 2\n",
    "print(b in a)\n",
    "# 输出True\n",
    "\n",
    "print(b not in a)\n",
    "# 输出False\n",
    "```\n",
    "**若in前面的元素在列表中则运算值为真；否则为假 not in与in刚好相反**\n"
   ]
  },
  {
   "cell_type": "markdown",
   "metadata": {},
   "source": [
    "##### 8. 求列表的长度\n",
    "\n",
    "> len([1, 2, 3])   #列表的长度为3"
   ]
  },
  {
   "cell_type": "markdown",
   "metadata": {},
   "source": [
    "##### 9. 求列表的最大、最小值\n",
    "\n",
    "> max([1, 2, 3])   #最大值为3"
   ]
  },
  {
   "cell_type": "markdown",
   "metadata": {},
   "source": [
    "##### 10. 在列表中插入元素\n",
    "\n",
    "- append函数在队尾插入元素\n",
    "> list1.append(5)  #在list1的最后插入元素5\n",
    "- insert函数在任意位置插入元素\n",
    "> list1.insert(index, data) #在指定位置（index处）插入元素data\n",
    "- extend()函数在尾部扩展一个新列表\n",
    "```\n",
    "list1 = [1]\n",
    "list1.extend([2, 3])  # list1为[1, 2, 3]\n",
    "```\n",
    "**注意，集合set中没有append和insert，取代的是add（）**\n",
    "> set1.add(2) #向集合中加入元素2"
   ]
  },
  {
   "cell_type": "markdown",
   "metadata": {},
   "source": [
    "##### 11. 反转一个列表\n",
    "\n",
    "> list1.reverse() #翻转整个列表，即第一个与最后一个互换，第二个与倒数第二个互换...."
   ]
  },
  {
   "cell_type": "markdown",
   "metadata": {},
   "source": [
    "##### 12. 计算列表中指定元素x的个数\n",
    "\n",
    "> times = list.count(x)"
   ]
  },
  {
   "cell_type": "markdown",
   "metadata": {},
   "source": [
    "##### 13. 查找列表中指定元素的位置\n",
    "\n",
    "- 语法：index(X) 查找list中元素X的位置（若重复出现，则以第一次出现的为准）\n",
    "```\n",
    "a = [1, 2, 3, 4, 5] \n",
    "a.index(2) #结果为1\n",
    "```"
   ]
  },
  {
   "cell_type": "markdown",
   "metadata": {},
   "source": [
    "##### 14.（浅）复制一个list\n",
    "```\n",
    "list2 = list1.copy() #将list1的内容复制给list2\n",
    "#注意这里与list2 = list1是有区别的，python中列表的直接赋值是一个传址操作，即改变list2的值也会同时影响list1的值\n",
    "#但是copy函数进行的是一个传值操作，即改变list2的值对list1无影响\n",
    "#浅复制的意思是若列表中嵌套一个列表，则对内部的列表仍然是传址复制\n",
    "```"
   ]
  },
  {
   "cell_type": "markdown",
   "metadata": {},
   "source": [
    "##### 15. 列表的排序：sort方法与sorted（）函数\n",
    "\n",
    "- sort方法\n",
    "    - 参数：\n",
    "        - key:主要是用来进行比较的元素，只有一个参数，具体的函数的参数就是取自于可迭代对象中，指定可迭代对象中的一个元素来进行排序。(https://www.runoob.com/python/att-list-sort.html)\n",
    "        - reverse：是否降序(True为降序，不指定该参数为升序)\n",
    "    ```\n",
    "    list1 = [(1,6),(3,4),(2,5)]\n",
    "    list1.sort(key=lambda x:x[1], reverse=True)  # 根据第二个元素，降序排列\n",
    "    # 输出:[(1, 6), (2, 5), (3, 4)]\n",
    "    ```\n",
    "- sorted()函数：\n",
    "    - 与sort方法功能类似，但是sorted()函数有返回值，返回的是排序后的结果。"
   ]
  },
  {
   "cell_type": "markdown",
   "metadata": {},
   "source": [
    "#### 列表相关练习"
   ]
  },
  {
   "cell_type": "markdown",
   "metadata": {},
   "source": [
    "下面的代码演示了如何定义列表、使用下标访问列表元素以及添加和删除元素的操作。\n",
    "\n",
    "```Python\n",
    "def main():\n",
    "    list1 = [1, 3, 5, 7, 100]\n",
    "    print(list1)\n",
    "    list2 = ['hello'] * 5\n",
    "    print(list2)\n",
    "    # 计算列表长度(元素个数)\n",
    "    print(len(list1))\n",
    "    # 下标(索引)运算\n",
    "    print(list1[0])\n",
    "    print(list1[4])\n",
    "    # print(list1[5])  # IndexError: list index out of range\n",
    "    print(list1[-1])\n",
    "    print(list1[-3])\n",
    "    list1[2] = 300\n",
    "    print(list1)\n",
    "    # 添加元素\n",
    "    list1.append(200)\n",
    "    list1.insert(1, 400)\n",
    "    list1 += [1000, 2000]\n",
    "    print(list1)\n",
    "    print(len(list1))\n",
    "    # 删除元素\n",
    "    list1.remove(3)\n",
    "    if 1234 in list1:\n",
    "        list1.remove(1234)\n",
    "    del list1[0]\n",
    "    print(list1)\n",
    "    # 清空列表元素\n",
    "    list1.clear()\n",
    "    print(list1)\n",
    "\n",
    "\n",
    "if __name__ == '__main__':\n",
    "    main()\n",
    "```\n",
    "\n",
    "和字符串一样，列表也可以做切片操作，通过切片操作我们可以实现对列表的复制或者将列表中的一部分取出来创建出新的列表，代码如下所示。\n",
    "\n",
    "```Python\n",
    "def main():\n",
    "    fruits = ['grape', 'apple', 'strawberry', 'waxberry']\n",
    "    fruits += ['pitaya', 'pear', 'mango']\n",
    "    # 循环遍历列表元素\n",
    "    for fruit in fruits:\n",
    "        print(fruit.title(), end=' ')\n",
    "    print()\n",
    "    # 列表切片\n",
    "    fruits2 = fruits[1:4]\n",
    "    print(fruits2)\n",
    "    # fruit3 = fruits  # 没有复制列表只创建了新的引用\n",
    "    # 可以通过完整切片操作来复制列表\n",
    "    fruits3 = fruits[:]\n",
    "    print(fruits3)\n",
    "    fruits4 = fruits[-3:-1]\n",
    "    print(fruits4)\n",
    "    # 可以通过反向切片操作来获得倒转后的列表的拷贝\n",
    "    fruits5 = fruits[::-1]\n",
    "    print(fruits5)\n",
    "\n",
    "\n",
    "if __name__ == '__main__':\n",
    "    main()\n",
    "```\n",
    "\n",
    "下面的代码实现了对列表的排序操作。\n",
    "\n",
    "```Python\n",
    "def main():\n",
    "    list1 = ['orange', 'apple', 'zoo', 'internationalization', 'blueberry']\n",
    "    list2 = sorted(list1)\n",
    "    # sorted函数返回列表排序后的拷贝不会修改传入的列表\n",
    "    # 函数的设计就应该像sorted函数一样尽可能不产生副作用\n",
    "    list3 = sorted(list1, reverse=True)\n",
    "    # 通过key关键字参数指定根据字符串长度进行排序而不是默认的字母表顺序\n",
    "    list4 = sorted(list1, key=len)\n",
    "    print(list1)\n",
    "    print(list2)\n",
    "    print(list3)\n",
    "    print(list4)\n",
    "    # 给列表对象发出排序消息直接在列表对象上进行排序\n",
    "    list1.sort(reverse=True)\n",
    "    print(list1)\n",
    "\n",
    "\n",
    "if __name__ == '__main__':\n",
    "    main()\n",
    "```\n",
    "\n",
    "我们还可以使用列表的生成式语法来创建列表，代码如下所示。\n",
    "\n",
    "```Python\n",
    "import sys\n",
    "\n",
    "\n",
    "def main():\n",
    "    f = [x for x in range(1, 10)]\n",
    "    print(f)\n",
    "    f = [x + y for x in 'ABCDE' for y in '1234567']\n",
    "    print(f)\n",
    "    # 用列表的生成表达式语法创建列表容器\n",
    "    # 用这种语法创建列表之后元素已经准备就绪所以需要耗费较多的内存空间\n",
    "    f = [x ** 2 for x in range(1, 1000)]\n",
    "    print(sys.getsizeof(f))  # 查看对象占用内存的字节数\n",
    "    print(f)\n",
    "    # 请注意下面的代码创建的不是一个列表而是一个生成器对象\n",
    "    # 通过生成器可以获取到数据但它不占用额外的空间存储数据\n",
    "    # 每次需要数据的时候就通过内部的运算得到数据(需要花费额外的时间)\n",
    "    f = (x ** 2 for x in range(1, 1000))\n",
    "    print(sys.getsizeof(f))  # 相比生成式生成器不占用存储数据的空间\n",
    "    print(f)\n",
    "    for val in f:\n",
    "        print(val)\n",
    "\n",
    "\n",
    "if __name__ == '__main__':\n",
    "    main()\n",
    "```\n",
    "\n",
    "除了上面提到的生成器语法，Python中还有另外一种定义生成器的方式，就是通过`yield`关键字将一个普通函数改造成生成器函数。下面的代码演示了如何实现一个生成[斐波拉切数列](https://zh.wikipedia.org/wiki/%E6%96%90%E6%B3%A2%E9%82%A3%E5%A5%91%E6%95%B0%E5%88%97)的生成器。所谓斐波拉切数列可以通过下面[递归](https://zh.wikipedia.org/wiki/%E9%80%92%E5%BD%92)的方法来进行定义：\n",
    "\n",
    "$${\\displaystyle F_{0}=0}$$\n",
    "\n",
    "$${\\displaystyle F_{1}=1}$$\n",
    "\n",
    "$${\\displaystyle F_{n}=F_{n-1}+F_{n-2}}({n}\\geq{2})$$\n",
    "\n",
    "![](./img/fbnq.png)\n",
    "\n",
    "```Python\n",
    "def fib(n):\n",
    "    a, b = 0, 1\n",
    "    for _ in range(n):\n",
    "        a, b = b, a + b\n",
    "        yield a\n",
    "\n",
    "\n",
    "def main():\n",
    "    for val in fib(20):\n",
    "        print(val)\n",
    "\n",
    "\n",
    "if __name__ == '__main__':\n",
    "    main()\n",
    "```\n"
   ]
  },
  {
   "cell_type": "markdown",
   "metadata": {},
   "source": [
    "### 使用元组tuple"
   ]
  },
  {
   "cell_type": "markdown",
   "metadata": {},
   "source": [
    "元组类似于列表，是一个基于位置的有序对象集合，但是元组一旦创建之后就不能更改，因此列表中修改元素的操作对于元组都不适用。\n",
    "- 为什么要使用元组？\n",
    "    - 元组和其他不可变量类似于其他语言中“常量”的声明，它的不可变性提供了某种一致性，这样可以确保元组在程序中不会被另一个引用修改。\n",
    "    - Mark Lutz——《Learning Python》中文版"
   ]
  },
  {
   "cell_type": "markdown",
   "metadata": {},
   "source": [
    "#### 元组的创建"
   ]
  },
  {
   "cell_type": "code",
   "execution_count": null,
   "metadata": {},
   "outputs": [],
   "source": [
    "t = (1, 2, 3)\n",
    "t = tuple([1, 2])\n",
    "\n",
    "# 特别说明，当元组中仅有一个元素时，要以逗号结尾。这是因为小括号同样可以把表达式括起来，为了与此区分开来，因此在单一对象元组是要在括号内加一个,用以区分。\n",
    "\n",
    "t = (1)  # 表达式 \n",
    "t = (1,)  # 元组"
   ]
  },
  {
   "cell_type": "markdown",
   "metadata": {},
   "source": [
    "#### 元组的方法\n",
    "\n",
    "由于元组并不能够像列表一样修改，因此元组并没有特别多的方法\n",
    "\n",
    "> t = (1, 2, 3, 1, 2)\n",
    "\n",
    "##### 1. index方法：根据元素找到其位置\n",
    "> t.index(1, 2)  # 寻找第2个元素1的位置\n",
    "\n",
    "结果为3\n",
    "\n",
    "##### 2. count方法：返回元素的个数\n",
    "> t.count(2)\n",
    "\n",
    "结果为2"
   ]
  },
  {
   "cell_type": "markdown",
   "metadata": {},
   "source": [
    "##### 3. namedtuple -有名元组\n",
    "\n",
    "python标准库的collections模块提供了namedtuple有名元组，实现了同时支持使用序号和属性名访问。有名元组的属性来自类，因此并不与字典的键完全一样，但他们方便记忆："
   ]
  },
  {
   "cell_type": "code",
   "execution_count": 10,
   "metadata": {
    "ExecuteTime": {
     "end_time": "2020-09-08T08:30:55.212398Z",
     "start_time": "2020-09-08T08:30:55.207151Z"
    }
   },
   "outputs": [
    {
     "data": {
      "text/plain": [
       "tt(a='d', b='e', c='f')"
      ]
     },
     "execution_count": 10,
     "metadata": {},
     "output_type": "execute_result"
    }
   ],
   "source": [
    "from collections import namedtuple\n",
    "A = namedtuple('tt', ['a','b','c'])\n",
    "bon = A('d','e','f')\n",
    "bon"
   ]
  },
  {
   "cell_type": "code",
   "execution_count": 12,
   "metadata": {
    "ExecuteTime": {
     "end_time": "2020-09-08T08:34:16.559201Z",
     "start_time": "2020-09-08T08:34:16.553931Z"
    }
   },
   "outputs": [
    {
     "data": {
      "text/plain": [
       "'d'"
      ]
     },
     "execution_count": 12,
     "metadata": {},
     "output_type": "execute_result"
    }
   ],
   "source": [
    "# namedtuple的访问：\n",
    "A = namedtuple('tt', ['a','b','c'])\n",
    "bon = A('d','e','f')\n",
    "bon.a"
   ]
  },
  {
   "cell_type": "code",
   "execution_count": 16,
   "metadata": {
    "ExecuteTime": {
     "end_time": "2020-09-08T08:37:17.443567Z",
     "start_time": "2020-09-08T08:37:17.439353Z"
    }
   },
   "outputs": [
    {
     "data": {
      "text/plain": [
       "'d'"
      ]
     },
     "execution_count": 16,
     "metadata": {},
     "output_type": "execute_result"
    }
   ],
   "source": [
    "bon[0]"
   ]
  },
  {
   "cell_type": "code",
   "execution_count": 15,
   "metadata": {
    "ExecuteTime": {
     "end_time": "2020-09-08T08:36:59.035330Z",
     "start_time": "2020-09-08T08:36:59.030788Z"
    }
   },
   "outputs": [
    {
     "data": {
      "text/plain": [
       "OrderedDict([('a', 'd'), ('b', 'e'), ('c', 'f')])"
      ]
     },
     "execution_count": 15,
     "metadata": {},
     "output_type": "execute_result"
    }
   ],
   "source": [
    "bon._asdict()"
   ]
  },
  {
   "cell_type": "markdown",
   "metadata": {},
   "source": [
    "- Namedtuple比普通tuple具有更好的可读性，可以使代码更易于维护。同时与字典相比，又更加的轻量和高效。但是有一点需要注意，就是namedtuple中的属性都是不可变的。任何尝试改变其属性值的操作都是非法的。\n",
    "- Namedtuple还有一个非常好的一点是，它与tuple是完全兼容的。也就是说，我们依然可以用索引去访问一个namedtuple。"
   ]
  },
  {
   "cell_type": "markdown",
   "metadata": {},
   "source": [
    "#### 元组相关练习\n",
    "Python 的元组与列表类似，不同之处在于元组的元素不能修改，在前面的代码中我们已经不止一次使用过元组了。顾名思义，我们把多个元素组合到一起就形成了一个元组，所以它和列表一样可以保存多条数据。下面的代码演示了如何定义和使用元组。\n",
    "\n",
    "```Python\n",
    "def main():\n",
    "    # 定义元组\n",
    "    t = ('大飞', 38, True, '北京')\n",
    "    print(t)\n",
    "    # 获取元组中的元素\n",
    "    print(t[0])\n",
    "    print(t[3])\n",
    "    # 遍历元组中的值\n",
    "    for member in t:\n",
    "        print(member)\n",
    "    # 重新给元组赋值\n",
    "    # t[0] = '王大锤'  # TypeError\n",
    "    # 变量t重新引用了新的元组原来的元组将被垃圾回收\n",
    "    t = ('王大锤', 20, True, '云南昆明')\n",
    "    print(t)\n",
    "    # 将元组转换成列表\n",
    "    person = list(t)\n",
    "    print(person)\n",
    "    # 列表是可以修改它的元素的\n",
    "    person[0] = '李小龙'\n",
    "    person[1] = 25\n",
    "    print(person)\n",
    "    # 将列表转换成元组\n",
    "    fruits_list = ['apple', 'banana', 'orange']\n",
    "    fruits_tuple = tuple(fruits_list)\n",
    "    print(fruits_tuple)\n",
    "\n",
    "\n",
    "if __name__ == '__main__':\n",
    "    main()\n",
    "```"
   ]
  },
  {
   "cell_type": "markdown",
   "metadata": {
    "ExecuteTime": {
     "end_time": "2020-09-08T08:38:38.223893Z",
     "start_time": "2020-09-08T08:38:38.216009Z"
    }
   },
   "source": [
    "这里有一个非常值得探讨的问题，我们已经有了列表这种数据结构，为什么还需要元组这样的类型呢？\n",
    "\n",
    "1. 元组中的元素是无法修改的，事实上我们在项目中尤其是[多线程](https://zh.wikipedia.org/zh-hans/%E5%A4%9A%E7%BA%BF%E7%A8%8B)环境（后面会讲到）中可能更喜欢使用的是那些不变对象（一方面因为对象状态不能修改，所以可以避免由此引起的不必要的程序错误，简单的说就是一个不变的对象要比可变的对象更加容易维护；另一方面因为没有任何一个线程能够修改不变对象的内部状态，一个不变对象自动就是线程安全的，这样就可以省掉处理同步化的开销。一个不变对象可以方便的被共享访问）。所以结论就是：如果不需要对元素进行添加、删除、修改的时候，可以考虑使用元组，当然如果一个方法要返回多个值，使用元组也是不错的选择。\n",
    "2. 元组在创建时间和占用的空间上面都优于列表。我们可以使用sys模块的getsizeof函数来检查存储同样的元素的元组和列表各自占用了多少内存空间，这个很容易做到。我们也可以在ipython中使用魔法指令%timeit来分析创建同样内容的元组和列表所花费的时间。"
   ]
  },
  {
   "cell_type": "code",
   "execution_count": 20,
   "metadata": {
    "ExecuteTime": {
     "end_time": "2020-09-08T08:41:25.030540Z",
     "start_time": "2020-09-08T08:41:20.523768Z"
    }
   },
   "outputs": [
    {
     "name": "stdout",
     "output_type": "stream",
     "text": [
      "55.3 ns ± 0.0667 ns per loop (mean ± std. dev. of 7 runs, 10000000 loops each)\n"
     ]
    }
   ],
   "source": [
    "%timeit [1,2,3,4,5,6]"
   ]
  },
  {
   "cell_type": "code",
   "execution_count": 21,
   "metadata": {
    "ExecuteTime": {
     "end_time": "2020-09-08T08:41:31.421297Z",
     "start_time": "2020-09-08T08:41:25.032464Z"
    }
   },
   "outputs": [
    {
     "name": "stdout",
     "output_type": "stream",
     "text": [
      "7.87 ns ± 0.00348 ns per loop (mean ± std. dev. of 7 runs, 100000000 loops each)\n"
     ]
    }
   ],
   "source": [
    "%timeit (1,2,3,4,5,6)"
   ]
  },
  {
   "cell_type": "markdown",
   "metadata": {},
   "source": [
    "### 使用字典dict"
   ]
  },
  {
   "cell_type": "markdown",
   "metadata": {},
   "source": [
    "字典与列表最大的区别就是字典强调的是“键值对”，key与value一一对应，字典中的存放顺序并不重要，重要的是“键”和“值的对应关系”"
   ]
  },
  {
   "cell_type": "markdown",
   "metadata": {},
   "source": [
    "#### 字典的创建(字典中每一对数据都是“键”和“值”相对应的)"
   ]
  },
  {
   "cell_type": "markdown",
   "metadata": {},
   "source": [
    "##### 第一种\n",
    "> a = {key1:value1, key2:value2}\n",
    "##### 第二种\n",
    "> a = dict(key1=value1, key2=value2)  # 注意此种情况下键必须为字符串\n",
    "##### 第三种\n",
    "```\n",
    "a = {}\n",
    "a[key1] = value1  \n",
    "a[key2] = value2 \n",
    "```\n",
    "##### 第四种\n",
    "> a = dict([(key1, value1), (key2, value2)])\n",
    "\n",
    "> a = dict(zip([key1, key2], [value1, value2]))  # 衍生，使用zip函数把键列表和值列表打包成键值对一一对应的元组\n",
    "##### 第五种\n",
    "> a = dict.fromkeys([key1, key2], value)  # 这种情况适用于多个键对应相同值的情况\n",
    "##### 第六种\n",
    "> a = {x: x**2 for x in [1, 2, 3]}  # 字典推导表达式"
   ]
  },
  {
   "cell_type": "markdown",
   "metadata": {},
   "source": [
    "#### 字典的索引\n",
    "```\n",
    "dict1[key] \n",
    "#key是字典的键，返回的是对应的值value\n",
    "\n",
    "dict1.get(key)\n",
    "#get方法获取键的值，若键不存在，则返回设定的默认值default（默认为None）--与`[key]`获取值的区别是，get方法遇到键不存在的时候会返回设定值，而直接索引遇到键不存在时会报错“missing-key”\n",
    "```"
   ]
  },
  {
   "cell_type": "markdown",
   "metadata": {},
   "source": [
    "#### 字典的遍历\n",
    "```\n",
    "for i in dict1.keys():\n",
    "    print(i, dict1[keys])  # 遍历字典中所有的键，并输出键值对\n",
    "\n",
    "for i in dict1:  # 该方法与上述方法等价\n",
    "    ...\n",
    "\n",
    "for keys, values in dict1.items():  # 遍历字典中所有的键值对\n",
    "    ...\n",
    "```"
   ]
  },
  {
   "cell_type": "markdown",
   "metadata": {},
   "source": [
    "#### 字典的排序\n",
    "\n",
    "##### 对字典的排序有两种方法：\n",
    "\n",
    "1. 借助.keys()方法和list()函数将键提取成list，对list排序后输出\n"
   ]
  },
  {
   "cell_type": "code",
   "execution_count": null,
   "metadata": {},
   "outputs": [],
   "source": [
    "\n",
    "D = {'a':1, 'c':3, 'b':2}\n",
    "D1 = list(D.keys())\n",
    "D1.sort()\n",
    "for i in D1: \n",
    "    print(i, D[i])\n",
    "\n",
    "# 输出：\n",
    "# a 1\n",
    "# b 2\n",
    "# c 3\n"
   ]
  },
  {
   "cell_type": "markdown",
   "metadata": {},
   "source": [
    "\n",
    "2. 借助内置的sorted()函数可对任意对象类型排序，返回排序后的结果\n",
    "\n",
    "    - tips:对于sorted（字典）来说，返回的是排序好的keys（以list的形式）\n"
   ]
  },
  {
   "cell_type": "code",
   "execution_count": 73,
   "metadata": {
    "ExecuteTime": {
     "end_time": "2020-09-10T08:02:21.825901Z",
     "start_time": "2020-09-10T08:02:21.820776Z"
    }
   },
   "outputs": [
    {
     "name": "stdout",
     "output_type": "stream",
     "text": [
      "a 1\n",
      "b 2\n",
      "c 3\n"
     ]
    }
   ],
   "source": [
    "D = {'a':1, 'c':3, 'b':2}\n",
    "for i in sorted(D):\n",
    "    print(i, D[i])"
   ]
  },
  {
   "cell_type": "code",
   "execution_count": 75,
   "metadata": {
    "ExecuteTime": {
     "end_time": "2020-09-10T08:04:40.307183Z",
     "start_time": "2020-09-10T08:04:40.302760Z"
    }
   },
   "outputs": [
    {
     "data": {
      "text/plain": [
       "dict_items([('a', 1), ('c', 3), ('b', 2)])"
      ]
     },
     "execution_count": 75,
     "metadata": {},
     "output_type": "execute_result"
    }
   ],
   "source": [
    "D.items()"
   ]
  },
  {
   "cell_type": "code",
   "execution_count": 76,
   "metadata": {
    "ExecuteTime": {
     "end_time": "2020-09-10T08:05:32.925485Z",
     "start_time": "2020-09-10T08:05:32.920712Z"
    }
   },
   "outputs": [
    {
     "data": {
      "text/plain": [
       "[('a', 1), ('b', 2), ('c', 3)]"
      ]
     },
     "execution_count": 76,
     "metadata": {},
     "output_type": "execute_result"
    }
   ],
   "source": [
    "sorted(D.items(), key= lambda x:x[0])"
   ]
  },
  {
   "cell_type": "markdown",
   "metadata": {},
   "source": [
    "里面三个参数\n",
    "\n",
    "dict.items() #可迭代元素。\n",
    "\n",
    "key= lambda d:d[0]#d[0]表示按键，d[1]表示按值。\n",
    "\n",
    "reverse#默认是False，升序排列。当值为True时是降序排列。\n",
    "\n",
    "返回的是一个列表，列表中是排列后的元组。"
   ]
  },
  {
   "cell_type": "code",
   "execution_count": 72,
   "metadata": {
    "ExecuteTime": {
     "end_time": "2020-09-10T08:00:49.514319Z",
     "start_time": "2020-09-10T08:00:49.510263Z"
    }
   },
   "outputs": [
    {
     "name": "stdout",
     "output_type": "stream",
     "text": [
      "['a', 'Andrew', 'from', 'is', 'string', 'test', 'This']\n"
     ]
    }
   ],
   "source": [
    "print(sorted(\"This is a test string from Andrew\".split(), key=str.lower))"
   ]
  },
  {
   "cell_type": "markdown",
   "metadata": {},
   "source": [
    "sorted(字典.items(), key=lambda x:x[0])\t# 按照字典的k进行排序，返回由(k,v)构成的列表\t# sorted(字典.items()) 默认就是按照字典的k进行排序\t# key=lambda x:x[0] 表示按照x[0]进行排序\t# x是sorted第一个参数返回的可迭代对象的每一个(k,v)\t# x[0]就是元祖中的第一个值，也就是字典的k\n",
    "\n",
    "1、基础的序列升序排序直接调用sorted()方法即可\n",
    "需要注意：sort()方法仅定义在list中，而sorted()方法对所有的可迭代序列都有效\n",
    "\n",
    "2、使用cmp函数排序，cmp是带两个参数的比较函数\n",
    "list1 = [('david', 90), ('mary',90), ('sara',80),('lily',95)]\n",
    "\n",
    "print(sorted(list1,cmp =lambdax,y: cmp(x[0],y[0])))#按照第一个位置的字母序排序\n",
    "\n",
    "print(sorted(list1,cmp =lambdax,y: cmp(x[1],y[1])))#按照第二个位置的数字序排序\n",
    "\n",
    "3、添加key参数，key 是带一个参数的函数\n",
    "list.sort()和sorted()函数使用key参数来指定一个函数，此函数将在每个元素比较前被调用。\n",
    "\n",
    "例如通过key指定的函数来忽略字符串的大小写\n",
    "\n",
    "print(sorted(\"This is a test string from Andrew\".split(), key=str.lower))\n",
    "\n",
    " 4、用reverse排序\n",
    "\n",
    "print(sorted(list1,reverse = True))#逆转\n",
    "\n",
    "5、argsort()函数，是numpy库中的函数\n",
    "\n",
    "argsort函数\n",
    "\n",
    "argsort函数返回的是数组值从小到大的索引值\n"
   ]
  },
  {
   "cell_type": "markdown",
   "metadata": {},
   "source": [
    "#### 字典的常用操作\n",
    "\n",
    "| 操作 | 解释 | \n",
    "| :--------------------- | :------------------------------------------------------------ | \n",
    "| .keys() | （方法）获取所有键 | \n",
    "| .values() | （方法）获取所有值 | \n",
    "| .items() | （方法）获取所有“键+值”元组 | \n",
    "| len() | 获取键值对的数量 | \n",
    "| .get(key, default) | （方法）获取键的值，若键不存在，则返回设定的默认值default（默认为None）--与[key]获取值的区别是，get方法遇到键不存在的时候会返回设定值，而直接索引遇到键不存在时会报错“missing-key” | \n",
    "| dict1.update(dict2) | （方法）合并两个字典 |"
   ]
  },
  {
   "cell_type": "markdown",
   "metadata": {},
   "source": [
    "#### 字典相关练习\n",
    "字典是另一种可变容器模型，类似于我们生活中使用的字典，它可以存储任意类型对象，与列表、集合不同的是，字典的每个元素都是由一个键和一个值组成的“键值对”，键和值通过冒号分开。下面的代码演示了如何定义和使用字典。\n",
    "\n",
    "```Python\n",
    "def main():\n",
    "    scores = {'骆昊': 95, '白元芳': 78, '狄仁杰': 82}\n",
    "    # 通过键可以获取字典中对应的值\n",
    "    print(scores['骆昊'])\n",
    "    print(scores['狄仁杰'])\n",
    "    # 对字典进行遍历(遍历的其实是键再通过键取对应的值)\n",
    "    for elem in scores:\n",
    "        print('%s\\t--->\\t%d' % (elem, scores[elem]))\n",
    "    # 更新字典中的元素\n",
    "    scores['白元芳'] = 65\n",
    "    scores['诸葛王朗'] = 71\n",
    "    scores.update(冷面=67, 方启鹤=85)\n",
    "    print(scores)\n",
    "    if '武则天' in scores:\n",
    "        print(scores['武则天'])\n",
    "    print(scores.get('武则天'))\n",
    "    # get方法也是通过键获取对应的值但是可以设置默认值\n",
    "    print(scores.get('武则天', 60))\n",
    "    # 删除字典中的元素\n",
    "    print(scores.popitem())\n",
    "    print(scores.popitem())\n",
    "    print(scores.pop('骆昊', 100))\n",
    "    # 清空字典\n",
    "    scores.clear()\n",
    "    print(scores)\n",
    "\n",
    "\n",
    "if __name__ == '__main__':\n",
    "    main()\n",
    "```"
   ]
  },
  {
   "cell_type": "markdown",
   "metadata": {},
   "source": [
    "### 使用集合set\n",
    "\n",
    "Python中的集合类似于数学中的集合概念，它是一组无序、不可重复数据的组合。集合用{ ...}创建，某种程度上可以把集合看作是没有值的字典。\n"
   ]
  },
  {
   "cell_type": "markdown",
   "metadata": {},
   "source": [
    "#### 集合的创建\n",
    "```\n",
    "s = {'s', 'e', 't'}\n",
    "s = set(['a, b, c, d, e'])\n",
    "\n",
    "#注意，python中{}为空字典类型，并非空集合。空集合需要用set()函数创建\n",
    "s = set()  #创建一个空集合\n",
    "\n",
    "#集合也可以用表达式（推导）的方式创建\n",
    "{x * 2 for x in 'abc'}  #{'aa', 'bb', 'cc} \n",
    "{x **2 for x in range(1,5)}   #{1, 4, 9, 16}\n",
    "```"
   ]
  },
  {
   "cell_type": "markdown",
   "metadata": {},
   "source": [
    "#### 集合的常用操作\n",
    "```\n",
    "set1 `&` set2 #交运算\n",
    "set1 `|` set2 #并运算\n",
    "set1 `-` set2 #差运算，set1减去set1 `&` set2部分\n",
    "```"
   ]
  },
  {
   "cell_type": "markdown",
   "metadata": {},
   "source": [
    "#### 集合的常用方法\n",
    "```\n",
    "set1.add('x')  #添加元素。注意：集合中只能包含可哈希的对象，即list，dict都不能嵌入到集合中\n",
    "set1.union(...)  #取并集，效果等同于 | ,但是括号里可以是list，tuple，其他dict甚至是dict\n",
    "set1.intersection(...)  #取交集，同上\n",
    "set1.issubset(set2)  #判断set1是否是set2的子集\n",
    "```"
   ]
  },
  {
   "cell_type": "markdown",
   "metadata": {},
   "source": [
    "#### 集合的不可变性与frozenset\n",
    "\n",
    "注意：集合只能包含不可变的（可哈希化的）对象类型。因此，列表和字典甚至另一个集合都不能作为集合的元素，但是元组可以（因为元组是不可变的）。\n",
    "\n",
    "由于集合本身是可变的，因此，要想在一个集合中嵌入另一个集合，需要用frozenset创建一个不可变的集合。\n",
    "```\n",
    "a = frozenset([1, 2, 3])\n",
    "b = set([1, 2, a])    #b为{frozenset({1, 2, 3}), 1, 2}\n",
    "```"
   ]
  },
  {
   "cell_type": "markdown",
   "metadata": {},
   "source": [
    "#### 为什么使用集合？\n",
    "\n",
    "- 由于集合内元素是不重复的，因此可以将list或其他类型的数据转换成集合，从而过滤掉其中的重复元素\n",
    "- 通过集合的交并补等操作，可以比较列表、字符串以及其他可迭代对象的差异。"
   ]
  },
  {
   "cell_type": "markdown",
   "metadata": {},
   "source": [
    "#### 集合相关练习\n",
    "Python中的集合跟数学上的集合是一致的，不允许有重复元素，而且可以进行交集、并集、差集等运算。\n",
    "\n",
    "![](./img/set.png)\n",
    "\n",
    "```Python\n",
    "def main():\n",
    "    set1 = {1, 2, 3, 3, 3, 2}\n",
    "    print(set1)\n",
    "    print('Length =', len(set1))\n",
    "    set2 = set(range(1, 10))\n",
    "    print(set2)\n",
    "    set1.add(4)\n",
    "    set1.add(5)\n",
    "    set2.update([11, 12])\n",
    "    print(set1)\n",
    "    print(set2)\n",
    "    set2.discard(5)\n",
    "    # remove的元素如果不存在会引发KeyError\n",
    "    if 4 in set2:\n",
    "        set2.remove(4)\n",
    "    print(set2)\n",
    "    # 遍历集合容器\n",
    "    for elem in set2:\n",
    "        print(elem ** 2, end=' ')\n",
    "    print()\n",
    "    # 将元组转换成集合\n",
    "    set3 = set((1, 2, 3, 3, 2, 1))\n",
    "    print(set3.pop())\n",
    "    print(set3)\n",
    "    # 集合的交集、并集、差集、对称差运算\n",
    "    print(set1 & set2)\n",
    "    # print(set1.intersection(set2))\n",
    "    print(set1 | set2)\n",
    "    # print(set1.union(set2))\n",
    "    print(set1 - set2)\n",
    "    # print(set1.difference(set2))\n",
    "    print(set1 ^ set2)\n",
    "    # print(set1.symmetric_difference(set2))\n",
    "    # 判断子集和超集\n",
    "    print(set2 <= set1)\n",
    "    # print(set2.issubset(set1))\n",
    "    print(set3 <= set1)\n",
    "    # print(set3.issubset(set1))\n",
    "    print(set1 >= set2)\n",
    "    # print(set1.issuperset(set2))\n",
    "    print(set1 >= set3)\n",
    "    # print(set1.issuperset(set3))\n",
    "\n",
    "\n",
    "if __name__ == '__main__':\n",
    "    main()\n",
    "```\n",
    "\n",
    "> **说明：** Python中允许通过一些特殊的方法来为某种类型或数据结构自定义运算符（后面的章节中会讲到），上面的代码中我们对集合进行运算的时候可以调用集合对象的方法，也可以直接使用对应的运算符，例如`&`运算符跟intersection方法的作用就是一样的，但是使用运算符让代码更加直观。"
   ]
  },
  {
   "cell_type": "markdown",
   "metadata": {},
   "source": [
    "### 数据类型转换"
   ]
  },
  {
   "cell_type": "markdown",
   "metadata": {},
   "source": [
    "#### list转str\n",
    "假设有一个名为test_list的list，转换后的str名为test_str\n",
    "\n",
    "则转换方法：\n",
    "\n",
    "test_str = \"\".join(test_list)"
   ]
  },
  {
   "cell_type": "code",
   "execution_count": 55,
   "metadata": {
    "ExecuteTime": {
     "end_time": "2020-09-09T06:46:06.970192Z",
     "start_time": "2020-09-09T06:46:06.964448Z"
    }
   },
   "outputs": [
    {
     "data": {
      "text/plain": [
       "'中国-北京-海淀'"
      ]
     },
     "execution_count": 55,
     "metadata": {},
     "output_type": "execute_result"
    }
   ],
   "source": [
    "test_list = ['中国', '北京', '海淀']\n",
    "test_str = \"-\".join(test_list)\n",
    "test_str"
   ]
  },
  {
   "cell_type": "code",
   "execution_count": 58,
   "metadata": {
    "ExecuteTime": {
     "end_time": "2020-09-09T06:47:41.471553Z",
     "start_time": "2020-09-09T06:47:41.466401Z"
    }
   },
   "outputs": [
    {
     "data": {
      "text/plain": [
       "'123'"
      ]
     },
     "execution_count": 58,
     "metadata": {},
     "output_type": "execute_result"
    }
   ],
   "source": [
    "#需要注意的是该方法需要list中的元素为字符型，若是整型，则需要先转换为字符型后再转为str类型。\n",
    "test_list = [1,2,3]\n",
    "test_str = ''.join([str(i) for i in test_list])\n",
    "test_str"
   ]
  },
  {
   "cell_type": "markdown",
   "metadata": {},
   "source": [
    "#### str转list\n",
    "\n",
    "假设有一个名为test_str的str，转换后的list名为test_list\n",
    "\n",
    "则转换方法：\n",
    "\n",
    "test_list=list(test_str)"
   ]
  },
  {
   "cell_type": "code",
   "execution_count": 59,
   "metadata": {
    "ExecuteTime": {
     "end_time": "2020-09-09T06:50:40.138730Z",
     "start_time": "2020-09-09T06:50:40.134572Z"
    }
   },
   "outputs": [
    {
     "data": {
      "text/plain": [
       "['1', '2', '3']"
      ]
     },
     "execution_count": 59,
     "metadata": {},
     "output_type": "execute_result"
    }
   ],
   "source": [
    "test_str = '123'\n",
    "list(test_str)"
   ]
  },
  {
   "cell_type": "markdown",
   "metadata": {},
   "source": [
    "#### 其他数据类型之间的转换\n",
    "##### 这些函数返回一个新的对象，表示转换的值。\n",
    "| 函数 | \t描述 |\n",
    "| :-------: | :-------|\n",
    "| int(x [,base]) | 将x转换为一个整数 | \n",
    "| float(x) | 将x转换到一个浮点数 | \n",
    "| complex(real [,imag]) | 创建一个复数 | \n",
    "| str(x) | 将对象 x 转换为字符串 | \n",
    "| repr(x) | 将对象 x 转换为表达式字符串 | \n",
    "| eval(str) | 用来计算在字符串中的有效Python表达式,并返回一个对象 | \n",
    "| tuple(s) | 将序列 s 转换为一个元组 | \n",
    "| list(s) | 将序列 s 转换为一个列表 | \n",
    "| set(s) | 转换为可变集合 | \n",
    "| dict(d) | 创建一个字典。d 必须是一个序列 (key,value)元组。 | \n",
    "| frozenset(s) | 转换为不可变集合 | \n",
    "| chr(x) | 将一个整数转换为一个字符 | \n",
    "| unichr(x) | 将一个整数转换为Unicode字符 | \n",
    "| ord(x) | 将一个字符转换为它的整数值 | \n",
    "| hex(x) | 将一个整数转换为一个十六进制字符串 | \n",
    "| oct(x) | 将一个整数转换为一个八进制字符串 | "
   ]
  },
  {
   "cell_type": "markdown",
   "metadata": {},
   "source": [
    "##### 基本数据类型\n",
    "- 虽然python中的变量不需要声明，但使用时必须赋值\n",
    "    1. 整形变量\n",
    "    2. 浮点型变量\n",
    "    3. 字符型\n",
    "- 可以一个给多个变量赋值，也可以多个给多个变量赋值\n",
    "- python3中有6个标准数据类型\n",
    "    - Number(数字)\n",
    "        - True=1\n",
    "        - False=0\n",
    "        - 数值的除法（/）总是返回一个浮点数，要获取整数使用//操作符\n",
    "        - 在混合计算时，python会把整形转换为浮点数\n",
    "    - String(字符串)\n",
    "        - 字符串用'或\"括起来，同时使用\\转义特殊字符串\n",
    "        - 如果不想让反斜杠发生转义，可以在字符串前面加个r表示原始字符串\n",
    "        - 索引值以0为开始，-1为末尾的开始位置\n",
    "        - 加号+是字符串的连接符，星号*表示复制当前的字符串，紧跟的数字为复制的次数\n",
    "    - List(列表)\n",
    "        - list写在方括号之间，元素用逗号隔开\n",
    "        - 和字符串一样，list可以被索引和切片\n",
    "        - list可以使用+操作符进行连接\n",
    "        - list中的元素可以改变的\n",
    "    - Tuple(元组)\n",
    "        - 元组与列表类似，不同之处在于元组的元素不能修改，元组写在小括号里。元素之间用逗号隔开\n",
    "        - 元组也可以被索引和切片，方法一样\n",
    "        - 注意构造包含0或1个元素的元组的特殊语法规则\n",
    "        - 元组也可以用+操作符进行拼接\n",
    "    - Sets(集合)\n",
    "        - set是一个无需不重复的序列，基本功能是进行成员关系的测试和删除重复元素\n",
    "    - Dictionary(字典)\n",
    "        - 字典是一种映射类型，字典用{}标识，它是一个无序的建(key):值(value)对集合\n",
    "        - 建(key)必须使用不可变类型。在同一个字典中建(key)必须是唯一的\n",
    "        - 创建空字典使用{}\n",
    "- 类型之间的转换\n",
    "    - int(x,base=10)x字符串或数字，base进制数，默认十进制 浮点转为整数\n",
    "    - float 整数转换为浮点型\n",
    "    - complex(1,2) 转换为复数\n",
    "    - str(10)将对象转换为字符串\n",
    "    - repe()将对象转换为表达式字符串\n",
    "    - repr(dict)将对象转换为表达式字符串\n",
    "    - eval(str)用来计算在字符串中有效的python表达式，返回一个对象\n",
    "    - tuple(listi)将列表转化为元组\n",
    "    - list()将元组转换为列表\n",
    "    - set转换集合\n"
   ]
  },
  {
   "cell_type": "markdown",
   "metadata": {},
   "source": [
    "### 练习\n",
    "\n",
    "#### 练习1：在屏幕上显示跑马灯文字\n",
    "\n",
    "```Python\n",
    "import os\n",
    "import time\n",
    "\n",
    "\n",
    "def main():\n",
    "    content = '北京欢迎你为你开天辟地…………'\n",
    "    while True:\n",
    "        # 清理屏幕上的输出\n",
    "        os.system('cls')  # os.system('clear')\n",
    "        print(content)\n",
    "        # 休眠200毫秒\n",
    "        time.sleep(0.2)\n",
    "        content = content[1:] + content[0]\n",
    "\n",
    "\n",
    "if __name__ == '__main__':\n",
    "    main()\n",
    "```\n",
    "\n",
    "#### 练习2：设计一个函数产生指定长度的验证码，验证码由大小写字母和数字构成。\n",
    "\n",
    "```Python\n",
    "import random\n",
    "\n",
    "\n",
    "def generate_code(code_len=4):\n",
    "    \"\"\"\n",
    "    生成指定长度的验证码\n",
    "\n",
    "    :param code_len: 验证码的长度(默认4个字符)\n",
    "\n",
    "    :return: 由大小写英文字母和数字构成的随机验证码\n",
    "    \"\"\"\n",
    "    all_chars = '0123456789abcdefghijklmnopqrstuvwxyzABCDEFGHIJKLMNOPQRSTUVWXYZ'\n",
    "    last_pos = len(all_chars) - 1\n",
    "    code = ''\n",
    "    for _ in range(code_len):\n",
    "        index = random.randint(0, last_pos)\n",
    "        code += all_chars[index]\n",
    "    return code\n",
    "```\n",
    "\n",
    "#### 练习3：设计一个函数返回给定文件名的后缀名。\n",
    "\n",
    "```Python\n",
    "def get_suffix(filename, has_dot=False):\n",
    "    \"\"\"\n",
    "    获取文件名的后缀名\n",
    "\n",
    "    :param filename: 文件名\n",
    "    :param has_dot: 返回的后缀名是否需要带点\n",
    "    :return: 文件的后缀名\n",
    "    \"\"\"\n",
    "    pos = filename.rfind('.')\n",
    "    if 0 < pos < len(filename) - 1:\n",
    "        index = pos if has_dot else pos + 1\n",
    "        return filename[index:]\n",
    "    else:\n",
    "        return ''\n",
    "```\n",
    "\n",
    "#### 练习4：设计一个函数返回传入的列表中最大和第二大的元素的值。\n",
    "\n",
    "```Python\n",
    "def max2(x):\n",
    "    m1, m2 = (x[0], x[1]) if x[0] > x[1] else (x[1], x[0])\n",
    "    for index in range(2, len(x)):\n",
    "        if x[index] > m1:\n",
    "            m2 = m1\n",
    "            m1 = x[index]\n",
    "        elif x[index] > m2:\n",
    "            m2 = x[index]\n",
    "    return m1, m2\n",
    "```\n",
    "\n",
    "#### 练习5：计算指定的年月日是这一年的第几天\n",
    "\n",
    "```Python\n",
    "def is_leap_year(year):\n",
    "    \"\"\"\n",
    "    判断指定的年份是不是闰年\n",
    "\n",
    "    :param year: 年份\n",
    "    :return: 闰年返回True平年返回False\n",
    "    \"\"\"\n",
    "    return year % 4 == 0 and year % 100 != 0 or year % 400 == 0\n",
    "\n",
    "\n",
    "def which_day(year, month, date):\n",
    "    \"\"\"\n",
    "    计算传入的日期是这一年的第几天\n",
    "\n",
    "    :param year: 年\n",
    "    :param month: 月\n",
    "    :param date: 日\n",
    "    :return: 第几天\n",
    "    \"\"\"\n",
    "    days_of_month = [\n",
    "        [31, 28, 31, 30, 31, 30, 31, 31, 30, 31, 30, 31],\n",
    "        [31, 29, 31, 30, 31, 30, 31, 31, 30, 31, 30, 31]\n",
    "    ][is_leap_year(year)]\n",
    "    total = 0\n",
    "    for index in range(month - 1):\n",
    "        total += days_of_month[index]\n",
    "    return total + date\n",
    "\n",
    "\n",
    "def main():\n",
    "    print(which_day(1980, 11, 28))\n",
    "    print(which_day(1981, 12, 31))\n",
    "    print(which_day(2018, 1, 1))\n",
    "    print(which_day(2016, 3, 1))\n",
    "\n",
    "\n",
    "if __name__ == '__main__':\n",
    "    main()\n",
    "```\n",
    "\n",
    "#### 练习6：打印[杨辉三角](https://zh.wikipedia.org/wiki/%E6%9D%A8%E8%BE%89%E4%B8%89%E8%A7%92%E5%BD%A2)。\n",
    "\n",
    "```Python\n",
    "def main():\n",
    "    num = int(input('Number of rows: '))\n",
    "    yh = [[]] * num\n",
    "    for row in range(len(yh)):\n",
    "        yh[row] = [None] * (row + 1)\n",
    "        for col in range(len(yh[row])):\n",
    "            if col == 0 or col == row:\n",
    "                yh[row][col] = 1\n",
    "            else:\n",
    "                yh[row][col] = yh[row - 1][col] + yh[row - 1][col - 1]\n",
    "            print(yh[row][col], end='\\t')\n",
    "        print()\n",
    "\n",
    "\n",
    "if __name__ == '__main__':\n",
    "    main()\n",
    "```\n",
    "\n",
    "### 综合案例\n",
    "\n",
    "#### 案例1：双色球选号\n",
    "\n",
    "```Python\n",
    "from random import randrange, randint, sample\n",
    "\n",
    "\n",
    "def display(balls):\n",
    "    \"\"\"\n",
    "    输出列表中的双色球号码\n",
    "    \"\"\"\n",
    "    for index, ball in enumerate(balls):\n",
    "        if index == len(balls) - 1:\n",
    "            print('|', end=' ')\n",
    "        print('%02d' % ball, end=' ')\n",
    "    print()\n",
    "\n",
    "\n",
    "def random_select():\n",
    "    \"\"\"\n",
    "    随机选择一组号码\n",
    "    \"\"\"\n",
    "    red_balls = [x for x in range(1, 34)]\n",
    "    selected_balls = []\n",
    "    selected_balls = sample(red_balls, 6)\n",
    "    selected_balls.sort()\n",
    "    selected_balls.append(randint(1, 16))\n",
    "    return selected_balls\n",
    "\n",
    "\n",
    "def main():\n",
    "    n = int(input('机选几注: '))\n",
    "    for _ in range(n):\n",
    "        display(random_select())\n",
    "\n",
    "\n",
    "if __name__ == '__main__':\n",
    "    main()\n",
    "```\n",
    "\n",
    "> **说明：** 上面使用random模块的sample函数来实现从列表中选择不重复的n个元素。\n",
    "\n",
    "#### 综合案例2：[约瑟夫环问题](https://zh.wikipedia.org/wiki/%E7%BA%A6%E7%91%9F%E5%A4%AB%E6%96%AF%E9%97%AE%E9%A2%98)\n",
    "\n",
    "```Python\n",
    "\"\"\"\n",
    "《幸运的基督徒》\n",
    "有15个基督徒和15个非基督徒在海上遇险，为了能让一部分人活下来不得不将其中15个人扔到海里面去，有个人想了个办法就是大家围成一个圈，由某个人开始从1报数，报到9的人就扔到海里面，他后面的人接着从1开始报数，报到9的人继续扔到海里面，直到扔掉15个人。由于上帝的保佑，15个基督徒都幸免于难，问这些人最开始是怎么站的，哪些位置是基督徒哪些位置是非基督徒。\n",
    "\"\"\"\n",
    "\n",
    "\n",
    "def main():\n",
    "    persons = [True] * 30\n",
    "    counter, index, number = 0, 0, 0\n",
    "    while counter < 15:\n",
    "        if persons[index]:\n",
    "            number += 1\n",
    "            if number == 9:\n",
    "                persons[index] = False\n",
    "                counter += 1\n",
    "                number = 0\n",
    "        index += 1\n",
    "        index %= 30\n",
    "    for person in persons:\n",
    "        print('基' if person else '非', end='')\n",
    "\n",
    "\n",
    "if __name__ == '__main__':\n",
    "    main()\n",
    "\n",
    "```\n",
    "\n",
    "#### 综合案例3：[井字棋](https://zh.wikipedia.org/wiki/%E4%BA%95%E5%AD%97%E6%A3%8B)游戏\n",
    "\n",
    "```Python\n",
    "import os\n",
    "\n",
    "\n",
    "def print_board(board):\n",
    "    print(board['TL'] + '|' + board['TM'] + '|' + board['TR'])\n",
    "    print('-+-+-')\n",
    "    print(board['ML'] + '|' + board['MM'] + '|' + board['MR'])\n",
    "    print('-+-+-')\n",
    "    print(board['BL'] + '|' + board['BM'] + '|' + board['BR'])\n",
    "\n",
    "\n",
    "def main():\n",
    "    init_board = {\n",
    "        'TL': ' ', 'TM': ' ', 'TR': ' ',\n",
    "        'ML': ' ', 'MM': ' ', 'MR': ' ',\n",
    "        'BL': ' ', 'BM': ' ', 'BR': ' '\n",
    "    }\n",
    "    begin = True\n",
    "    while begin:\n",
    "        curr_board = init_board.copy()\n",
    "        begin = False\n",
    "        turn = 'x'\n",
    "        counter = 0\n",
    "        os.system('clear')\n",
    "        print_board(curr_board)\n",
    "        while counter < 9:\n",
    "            move = input('轮到%s走棋, 请输入位置: ' % turn)\n",
    "            if curr_board[move] == ' ':\n",
    "                counter += 1\n",
    "                curr_board[move] = turn\n",
    "                if turn == 'x':\n",
    "                    turn = 'o'\n",
    "                else:\n",
    "                    turn = 'x'\n",
    "            os.system('clear')\n",
    "            print_board(curr_board)\n",
    "        choice = input('再玩一局?(yes|no)')\n",
    "        begin = choice == 'yes'\n",
    "\n",
    "\n",
    "if __name__ == '__main__':\n",
    "    main()\n",
    "```\n",
    "\n",
    ">**说明：** 最后这个案例来自[《Python编程快速上手:让繁琐工作自动化》](https://item.jd.com/11943853.html)一书（这本书对有编程基础想迅速使用Python将日常工作自动化的人来说还是不错的选择），对代码做了一点点的调整。"
   ]
  },
  {
   "cell_type": "markdown",
   "metadata": {},
   "source": [
    "Python 解释器内置了很多函数和类型，您可以在任何时候使用它们。\n",
    "内置函数https://docs.python.org/zh-cn/3.8/library/functions.html"
   ]
  }
 ],
 "metadata": {
  "kernelspec": {
   "display_name": "Python 3",
   "language": "python",
   "name": "python3"
  },
  "language_info": {
   "codemirror_mode": {
    "name": "ipython",
    "version": 3
   },
   "file_extension": ".py",
   "mimetype": "text/x-python",
   "name": "python",
   "nbconvert_exporter": "python",
   "pygments_lexer": "ipython3",
   "version": "3.7.4"
  }
 },
 "nbformat": 4,
 "nbformat_minor": 4
}
